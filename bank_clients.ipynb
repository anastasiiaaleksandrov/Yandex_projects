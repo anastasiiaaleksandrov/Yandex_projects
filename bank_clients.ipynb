{
 "cells": [
  {
   "cell_type": "markdown",
   "metadata": {},
   "source": [
    "# Исследование надёжности заёмщиков\n",
    "\n",
    "Заказчик — кредитный отдел банка. Нужно разобраться, влияет ли семейное положение и количество детей клиента на факт погашения кредита в срок. Входные данные от банка — статистика о платёжеспособности клиентов.\n",
    "\n",
    "Результаты исследования будут учтены при построении модели **кредитного скоринга** — специальной системы, которая оценивает способность потенциального заёмщика вернуть кредит банку."
   ]
  },
  {
   "cell_type": "markdown",
   "metadata": {},
   "source": [
    "## Шаг 1. Откройте файл с данными и изучите общую информацию"
   ]
  },
  {
   "cell_type": "code",
   "execution_count": 85,
   "metadata": {},
   "outputs": [],
   "source": [
    "#импорт библиотек\n",
    "import pandas as pd\n",
    "from pymystem3 import Mystem\n",
    "from collections import Counter"
   ]
  },
  {
   "cell_type": "code",
   "execution_count": 86,
   "metadata": {},
   "outputs": [],
   "source": [
    "df = pd.read_csv('C:\\\\Users\\\\User\\\\Downloads\\\\Yandex_projects\\\\data.csv') # чтение файла"
   ]
  },
  {
   "cell_type": "code",
   "execution_count": 87,
   "metadata": {},
   "outputs": [
    {
     "data": {
      "text/html": [
       "<div>\n",
       "<style scoped>\n",
       "    .dataframe tbody tr th:only-of-type {\n",
       "        vertical-align: middle;\n",
       "    }\n",
       "\n",
       "    .dataframe tbody tr th {\n",
       "        vertical-align: top;\n",
       "    }\n",
       "\n",
       "    .dataframe thead th {\n",
       "        text-align: right;\n",
       "    }\n",
       "</style>\n",
       "<table border=\"1\" class=\"dataframe\">\n",
       "  <thead>\n",
       "    <tr style=\"text-align: right;\">\n",
       "      <th></th>\n",
       "      <th>children</th>\n",
       "      <th>days_employed</th>\n",
       "      <th>dob_years</th>\n",
       "      <th>education</th>\n",
       "      <th>education_id</th>\n",
       "      <th>family_status</th>\n",
       "      <th>family_status_id</th>\n",
       "      <th>gender</th>\n",
       "      <th>income_type</th>\n",
       "      <th>debt</th>\n",
       "      <th>total_income</th>\n",
       "      <th>purpose</th>\n",
       "    </tr>\n",
       "  </thead>\n",
       "  <tbody>\n",
       "    <tr>\n",
       "      <th>0</th>\n",
       "      <td>1</td>\n",
       "      <td>-8437.673028</td>\n",
       "      <td>42</td>\n",
       "      <td>высшее</td>\n",
       "      <td>0</td>\n",
       "      <td>женат / замужем</td>\n",
       "      <td>0</td>\n",
       "      <td>F</td>\n",
       "      <td>сотрудник</td>\n",
       "      <td>0</td>\n",
       "      <td>253875.639453</td>\n",
       "      <td>покупка жилья</td>\n",
       "    </tr>\n",
       "    <tr>\n",
       "      <th>1</th>\n",
       "      <td>1</td>\n",
       "      <td>-4024.803754</td>\n",
       "      <td>36</td>\n",
       "      <td>среднее</td>\n",
       "      <td>1</td>\n",
       "      <td>женат / замужем</td>\n",
       "      <td>0</td>\n",
       "      <td>F</td>\n",
       "      <td>сотрудник</td>\n",
       "      <td>0</td>\n",
       "      <td>112080.014102</td>\n",
       "      <td>приобретение автомобиля</td>\n",
       "    </tr>\n",
       "    <tr>\n",
       "      <th>2</th>\n",
       "      <td>0</td>\n",
       "      <td>-5623.422610</td>\n",
       "      <td>33</td>\n",
       "      <td>Среднее</td>\n",
       "      <td>1</td>\n",
       "      <td>женат / замужем</td>\n",
       "      <td>0</td>\n",
       "      <td>M</td>\n",
       "      <td>сотрудник</td>\n",
       "      <td>0</td>\n",
       "      <td>145885.952297</td>\n",
       "      <td>покупка жилья</td>\n",
       "    </tr>\n",
       "    <tr>\n",
       "      <th>3</th>\n",
       "      <td>3</td>\n",
       "      <td>-4124.747207</td>\n",
       "      <td>32</td>\n",
       "      <td>среднее</td>\n",
       "      <td>1</td>\n",
       "      <td>женат / замужем</td>\n",
       "      <td>0</td>\n",
       "      <td>M</td>\n",
       "      <td>сотрудник</td>\n",
       "      <td>0</td>\n",
       "      <td>267628.550329</td>\n",
       "      <td>дополнительное образование</td>\n",
       "    </tr>\n",
       "    <tr>\n",
       "      <th>4</th>\n",
       "      <td>0</td>\n",
       "      <td>340266.072047</td>\n",
       "      <td>53</td>\n",
       "      <td>среднее</td>\n",
       "      <td>1</td>\n",
       "      <td>гражданский брак</td>\n",
       "      <td>1</td>\n",
       "      <td>F</td>\n",
       "      <td>пенсионер</td>\n",
       "      <td>0</td>\n",
       "      <td>158616.077870</td>\n",
       "      <td>сыграть свадьбу</td>\n",
       "    </tr>\n",
       "    <tr>\n",
       "      <th>5</th>\n",
       "      <td>0</td>\n",
       "      <td>-926.185831</td>\n",
       "      <td>27</td>\n",
       "      <td>высшее</td>\n",
       "      <td>0</td>\n",
       "      <td>гражданский брак</td>\n",
       "      <td>1</td>\n",
       "      <td>M</td>\n",
       "      <td>компаньон</td>\n",
       "      <td>0</td>\n",
       "      <td>255763.565419</td>\n",
       "      <td>покупка жилья</td>\n",
       "    </tr>\n",
       "    <tr>\n",
       "      <th>6</th>\n",
       "      <td>0</td>\n",
       "      <td>-2879.202052</td>\n",
       "      <td>43</td>\n",
       "      <td>высшее</td>\n",
       "      <td>0</td>\n",
       "      <td>женат / замужем</td>\n",
       "      <td>0</td>\n",
       "      <td>F</td>\n",
       "      <td>компаньон</td>\n",
       "      <td>0</td>\n",
       "      <td>240525.971920</td>\n",
       "      <td>операции с жильем</td>\n",
       "    </tr>\n",
       "    <tr>\n",
       "      <th>7</th>\n",
       "      <td>0</td>\n",
       "      <td>-152.779569</td>\n",
       "      <td>50</td>\n",
       "      <td>СРЕДНЕЕ</td>\n",
       "      <td>1</td>\n",
       "      <td>женат / замужем</td>\n",
       "      <td>0</td>\n",
       "      <td>M</td>\n",
       "      <td>сотрудник</td>\n",
       "      <td>0</td>\n",
       "      <td>135823.934197</td>\n",
       "      <td>образование</td>\n",
       "    </tr>\n",
       "    <tr>\n",
       "      <th>8</th>\n",
       "      <td>2</td>\n",
       "      <td>-6929.865299</td>\n",
       "      <td>35</td>\n",
       "      <td>ВЫСШЕЕ</td>\n",
       "      <td>0</td>\n",
       "      <td>гражданский брак</td>\n",
       "      <td>1</td>\n",
       "      <td>F</td>\n",
       "      <td>сотрудник</td>\n",
       "      <td>0</td>\n",
       "      <td>95856.832424</td>\n",
       "      <td>на проведение свадьбы</td>\n",
       "    </tr>\n",
       "    <tr>\n",
       "      <th>9</th>\n",
       "      <td>0</td>\n",
       "      <td>-2188.756445</td>\n",
       "      <td>41</td>\n",
       "      <td>среднее</td>\n",
       "      <td>1</td>\n",
       "      <td>женат / замужем</td>\n",
       "      <td>0</td>\n",
       "      <td>M</td>\n",
       "      <td>сотрудник</td>\n",
       "      <td>0</td>\n",
       "      <td>144425.938277</td>\n",
       "      <td>покупка жилья для семьи</td>\n",
       "    </tr>\n",
       "  </tbody>\n",
       "</table>\n",
       "</div>"
      ],
      "text/plain": [
       "   children  days_employed  dob_years education  education_id  \\\n",
       "0         1   -8437.673028         42    высшее             0   \n",
       "1         1   -4024.803754         36   среднее             1   \n",
       "2         0   -5623.422610         33   Среднее             1   \n",
       "3         3   -4124.747207         32   среднее             1   \n",
       "4         0  340266.072047         53   среднее             1   \n",
       "5         0    -926.185831         27    высшее             0   \n",
       "6         0   -2879.202052         43    высшее             0   \n",
       "7         0    -152.779569         50   СРЕДНЕЕ             1   \n",
       "8         2   -6929.865299         35    ВЫСШЕЕ             0   \n",
       "9         0   -2188.756445         41   среднее             1   \n",
       "\n",
       "      family_status  family_status_id gender income_type  debt   total_income  \\\n",
       "0   женат / замужем                 0      F   сотрудник     0  253875.639453   \n",
       "1   женат / замужем                 0      F   сотрудник     0  112080.014102   \n",
       "2   женат / замужем                 0      M   сотрудник     0  145885.952297   \n",
       "3   женат / замужем                 0      M   сотрудник     0  267628.550329   \n",
       "4  гражданский брак                 1      F   пенсионер     0  158616.077870   \n",
       "5  гражданский брак                 1      M   компаньон     0  255763.565419   \n",
       "6   женат / замужем                 0      F   компаньон     0  240525.971920   \n",
       "7   женат / замужем                 0      M   сотрудник     0  135823.934197   \n",
       "8  гражданский брак                 1      F   сотрудник     0   95856.832424   \n",
       "9   женат / замужем                 0      M   сотрудник     0  144425.938277   \n",
       "\n",
       "                      purpose  \n",
       "0               покупка жилья  \n",
       "1     приобретение автомобиля  \n",
       "2               покупка жилья  \n",
       "3  дополнительное образование  \n",
       "4             сыграть свадьбу  \n",
       "5               покупка жилья  \n",
       "6           операции с жильем  \n",
       "7                 образование  \n",
       "8       на проведение свадьбы  \n",
       "9     покупка жилья для семьи  "
      ]
     },
     "execution_count": 87,
     "metadata": {},
     "output_type": "execute_result"
    }
   ],
   "source": [
    "df.head(10) # вывод первых 10 строк табоицы"
   ]
  },
  {
   "cell_type": "code",
   "execution_count": 88,
   "metadata": {
    "scrolled": true
   },
   "outputs": [
    {
     "name": "stdout",
     "output_type": "stream",
     "text": [
      "<class 'pandas.core.frame.DataFrame'>\n",
      "RangeIndex: 21525 entries, 0 to 21524\n",
      "Data columns (total 12 columns):\n",
      " #   Column            Non-Null Count  Dtype  \n",
      "---  ------            --------------  -----  \n",
      " 0   children          21525 non-null  int64  \n",
      " 1   days_employed     19351 non-null  float64\n",
      " 2   dob_years         21525 non-null  int64  \n",
      " 3   education         21525 non-null  object \n",
      " 4   education_id      21525 non-null  int64  \n",
      " 5   family_status     21525 non-null  object \n",
      " 6   family_status_id  21525 non-null  int64  \n",
      " 7   gender            21525 non-null  object \n",
      " 8   income_type       21525 non-null  object \n",
      " 9   debt              21525 non-null  int64  \n",
      " 10  total_income      19351 non-null  float64\n",
      " 11  purpose           21525 non-null  object \n",
      "dtypes: float64(2), int64(5), object(5)\n",
      "memory usage: 2.0+ MB\n"
     ]
    }
   ],
   "source": [
    "df.info() # общие сведения о таблице"
   ]
  },
  {
   "cell_type": "code",
   "execution_count": 89,
   "metadata": {},
   "outputs": [
    {
     "data": {
      "text/html": [
       "<div>\n",
       "<style scoped>\n",
       "    .dataframe tbody tr th:only-of-type {\n",
       "        vertical-align: middle;\n",
       "    }\n",
       "\n",
       "    .dataframe tbody tr th {\n",
       "        vertical-align: top;\n",
       "    }\n",
       "\n",
       "    .dataframe thead th {\n",
       "        text-align: right;\n",
       "    }\n",
       "</style>\n",
       "<table border=\"1\" class=\"dataframe\">\n",
       "  <thead>\n",
       "    <tr style=\"text-align: right;\">\n",
       "      <th></th>\n",
       "      <th>children</th>\n",
       "      <th>days_employed</th>\n",
       "      <th>dob_years</th>\n",
       "      <th>education_id</th>\n",
       "      <th>family_status_id</th>\n",
       "      <th>debt</th>\n",
       "      <th>total_income</th>\n",
       "    </tr>\n",
       "  </thead>\n",
       "  <tbody>\n",
       "    <tr>\n",
       "      <th>count</th>\n",
       "      <td>21525.000000</td>\n",
       "      <td>19351.000000</td>\n",
       "      <td>21525.000000</td>\n",
       "      <td>21525.000000</td>\n",
       "      <td>21525.000000</td>\n",
       "      <td>21525.000000</td>\n",
       "      <td>1.935100e+04</td>\n",
       "    </tr>\n",
       "    <tr>\n",
       "      <th>mean</th>\n",
       "      <td>0.538908</td>\n",
       "      <td>63046.497661</td>\n",
       "      <td>43.293380</td>\n",
       "      <td>0.817236</td>\n",
       "      <td>0.972544</td>\n",
       "      <td>0.080883</td>\n",
       "      <td>1.674223e+05</td>\n",
       "    </tr>\n",
       "    <tr>\n",
       "      <th>std</th>\n",
       "      <td>1.381587</td>\n",
       "      <td>140827.311974</td>\n",
       "      <td>12.574584</td>\n",
       "      <td>0.548138</td>\n",
       "      <td>1.420324</td>\n",
       "      <td>0.272661</td>\n",
       "      <td>1.029716e+05</td>\n",
       "    </tr>\n",
       "    <tr>\n",
       "      <th>min</th>\n",
       "      <td>-1.000000</td>\n",
       "      <td>-18388.949901</td>\n",
       "      <td>0.000000</td>\n",
       "      <td>0.000000</td>\n",
       "      <td>0.000000</td>\n",
       "      <td>0.000000</td>\n",
       "      <td>2.066726e+04</td>\n",
       "    </tr>\n",
       "    <tr>\n",
       "      <th>25%</th>\n",
       "      <td>0.000000</td>\n",
       "      <td>-2747.423625</td>\n",
       "      <td>33.000000</td>\n",
       "      <td>1.000000</td>\n",
       "      <td>0.000000</td>\n",
       "      <td>0.000000</td>\n",
       "      <td>1.030532e+05</td>\n",
       "    </tr>\n",
       "    <tr>\n",
       "      <th>50%</th>\n",
       "      <td>0.000000</td>\n",
       "      <td>-1203.369529</td>\n",
       "      <td>42.000000</td>\n",
       "      <td>1.000000</td>\n",
       "      <td>0.000000</td>\n",
       "      <td>0.000000</td>\n",
       "      <td>1.450179e+05</td>\n",
       "    </tr>\n",
       "    <tr>\n",
       "      <th>75%</th>\n",
       "      <td>1.000000</td>\n",
       "      <td>-291.095954</td>\n",
       "      <td>53.000000</td>\n",
       "      <td>1.000000</td>\n",
       "      <td>1.000000</td>\n",
       "      <td>0.000000</td>\n",
       "      <td>2.034351e+05</td>\n",
       "    </tr>\n",
       "    <tr>\n",
       "      <th>max</th>\n",
       "      <td>20.000000</td>\n",
       "      <td>401755.400475</td>\n",
       "      <td>75.000000</td>\n",
       "      <td>4.000000</td>\n",
       "      <td>4.000000</td>\n",
       "      <td>1.000000</td>\n",
       "      <td>2.265604e+06</td>\n",
       "    </tr>\n",
       "  </tbody>\n",
       "</table>\n",
       "</div>"
      ],
      "text/plain": [
       "           children  days_employed     dob_years  education_id  \\\n",
       "count  21525.000000   19351.000000  21525.000000  21525.000000   \n",
       "mean       0.538908   63046.497661     43.293380      0.817236   \n",
       "std        1.381587  140827.311974     12.574584      0.548138   \n",
       "min       -1.000000  -18388.949901      0.000000      0.000000   \n",
       "25%        0.000000   -2747.423625     33.000000      1.000000   \n",
       "50%        0.000000   -1203.369529     42.000000      1.000000   \n",
       "75%        1.000000    -291.095954     53.000000      1.000000   \n",
       "max       20.000000  401755.400475     75.000000      4.000000   \n",
       "\n",
       "       family_status_id          debt  total_income  \n",
       "count      21525.000000  21525.000000  1.935100e+04  \n",
       "mean           0.972544      0.080883  1.674223e+05  \n",
       "std            1.420324      0.272661  1.029716e+05  \n",
       "min            0.000000      0.000000  2.066726e+04  \n",
       "25%            0.000000      0.000000  1.030532e+05  \n",
       "50%            0.000000      0.000000  1.450179e+05  \n",
       "75%            1.000000      0.000000  2.034351e+05  \n",
       "max            4.000000      1.000000  2.265604e+06  "
      ]
     },
     "execution_count": 89,
     "metadata": {},
     "output_type": "execute_result"
    }
   ],
   "source": [
    "df.describe() # данные о среднем арифметическом, стандартном отклонении, минимальном занчении, первом, втором и третьем процентилях\n",
    "# и максимальном значении в каждом из столбцов "
   ]
  },
  {
   "cell_type": "markdown",
   "metadata": {},
   "source": [
    "**Вывод**"
   ]
  },
  {
   "cell_type": "markdown",
   "metadata": {},
   "source": [
    "В датасете имеются странные значения (например, отрицательные значения в столбце с общим трудовым стажем в днях), которые при необходимости надо обработать, также как минимум в столбце education есть неявные повторы (например, \"среднее\", \"Среднее\" и \"СРЕДНЕЕ\" по смыслу одинкаовы, но будут воприниматься pandas как различные значения). По выводы df.info() можно сказать, что в таблице имеются пропуски, потому что не во всех столбцах совпадает количество непустых значений."
   ]
  },
  {
   "cell_type": "markdown",
   "metadata": {},
   "source": [
    "## Шаг 2. Предобработка данных"
   ]
  },
  {
   "cell_type": "markdown",
   "metadata": {},
   "source": [
    "### Обработка пропусков"
   ]
  },
  {
   "cell_type": "code",
   "execution_count": 90,
   "metadata": {},
   "outputs": [
    {
     "name": "stdout",
     "output_type": "stream",
     "text": [
      "children               0\n",
      "days_employed       2174\n",
      "dob_years              0\n",
      "education              0\n",
      "education_id           0\n",
      "family_status          0\n",
      "family_status_id       0\n",
      "gender                 0\n",
      "income_type            0\n",
      "debt                   0\n",
      "total_income        2174\n",
      "purpose                0\n",
      "dtype: int64\n",
      "\n",
      "\n",
      "children            0\n",
      "days_employed       0\n",
      "dob_years           0\n",
      "education           0\n",
      "education_id        0\n",
      "family_status       0\n",
      "family_status_id    0\n",
      "gender              0\n",
      "income_type         0\n",
      "debt                0\n",
      "total_income        0\n",
      "purpose             0\n",
      "dtype: int64\n"
     ]
    }
   ],
   "source": [
    "print(df.isna().sum()) # поиск количества пропусков в каждой колонке\n",
    "print()\n",
    "# пропуски располагаются в столбцах days_employed и total_income\n",
    "df['days_employed'] = df['days_employed'].fillna(value=0) #заполнение пропусков в столбце days_employed нулями\n",
    "median_income = df.groupby('income_type')['total_income'].median() # медианный доход по какой группе типа занятости\n",
    "# заполнение пропусков в столбце total_income медианным значением в соответствии с типом занятости\n",
    "for inc_type in median_income.index:\n",
    "    df.loc[df['income_type'] == inc_type, 'total_income'] = df.loc[df['income_type'] == inc_type, 'total_income'].fillna(median_income[inc_type])\n",
    "print()\n",
    "print(df.isna().sum()) # проверка заполнения пропусков"
   ]
  },
  {
   "cell_type": "code",
   "execution_count": 91,
   "metadata": {},
   "outputs": [
    {
     "data": {
      "text/plain": [
       "array([42, 36, 33, 32, 53, 27, 43, 50, 35, 41, 40, 65, 54, 56, 26, 48, 24,\n",
       "       21, 57, 67, 28, 63, 62, 47, 34, 68, 25, 31, 30, 20, 49, 37, 45, 61,\n",
       "       64, 44, 52, 46, 23, 38, 39, 51,  0, 59, 29, 60, 55, 58, 71, 22, 73,\n",
       "       66, 69, 19, 72, 70, 74, 75], dtype=int64)"
      ]
     },
     "execution_count": 91,
     "metadata": {},
     "output_type": "execute_result"
    }
   ],
   "source": [
    "df['dob_years'].unique() # уникальные значения столбца dob_years\n",
    "# обнаружены заемщики со значением возраста равным нулю, что означает пропущенные значения возраста\n",
    "# обнако этот столбец в дальшем не понадобится, поэтому оставим столбец без изменений"
   ]
  },
  {
   "cell_type": "code",
   "execution_count": 92,
   "metadata": {},
   "outputs": [
    {
     "data": {
      "text/plain": [
       "array(['F', 'M', 'XNA'], dtype=object)"
      ]
     },
     "execution_count": 92,
     "metadata": {},
     "output_type": "execute_result"
    }
   ],
   "source": [
    "df['gender'].unique() # уникальные значения стобца gender \n",
    "# обнаружено странное значение пола XNA (пол неизвестен)\n",
    "# этот столбец также не понадобится, поэтому оставим значение с неизвестным полом как есть"
   ]
  },
  {
   "cell_type": "code",
   "execution_count": 93,
   "metadata": {},
   "outputs": [
    {
     "data": {
      "text/plain": [
       "array([ 1,  0,  3,  2, -1,  4, 20,  5], dtype=int64)"
      ]
     },
     "execution_count": 93,
     "metadata": {},
     "output_type": "execute_result"
    }
   ],
   "source": [
    "df['children'].unique() # уникальные значения столбца children\n",
    "# обнаружены подозрительные значения -1 и 20 "
   ]
  },
  {
   "cell_type": "code",
   "execution_count": 94,
   "metadata": {},
   "outputs": [
    {
     "data": {
      "text/plain": [
       "array([1, 0, 3, 2, 4, 5], dtype=int64)"
      ]
     },
     "execution_count": 94,
     "metadata": {},
     "output_type": "execute_result"
    }
   ],
   "source": [
    "# замена значений\n",
    "df.loc[df['children'] == -1, 'children'] = 1 # замена количества детей равного -1 на 1\n",
    "df.loc[df['children'] == 20, 'children'] = 2 # замена количества детей равного 20 на 2\n",
    "df['children'].unique() # проверка замены значений"
   ]
  },
  {
   "cell_type": "markdown",
   "metadata": {},
   "source": [
    "**Вывод**"
   ]
  },
  {
   "cell_type": "markdown",
   "metadata": {},
   "source": [
    "Пропуски распологаются в столбцах days_employed и total_income. Количество пропусков в столбце days_employed равно количетсву пропусков в столбце total_income: если в строке встречатся пропуск в столбце days_employed, то встретится пропуск и в столбце total_income. Вероятно, это связано с тем, что банк может выдавать кредит без справок о доходах.\n",
    "Пропущенные значения в столбце days_employed были заполнены нулями, так как значения из этого столбца в дальнейшем не понадобятся. Пропущенные значения в столбце total_income были заменены на медианные значения доходов для каждой категории занятости. В столбце dob_years есть ячейки со значением 0. Этот столбец в дальнейшем не понабодится, поэтому он был оставлен без изменений."
   ]
  },
  {
   "cell_type": "markdown",
   "metadata": {},
   "source": [
    "### Замена типа данных"
   ]
  },
  {
   "cell_type": "code",
   "execution_count": 95,
   "metadata": {
    "scrolled": true
   },
   "outputs": [
    {
     "name": "stdout",
     "output_type": "stream",
     "text": [
      "<class 'pandas.core.frame.DataFrame'>\n",
      "RangeIndex: 21525 entries, 0 to 21524\n",
      "Data columns (total 12 columns):\n",
      " #   Column            Non-Null Count  Dtype \n",
      "---  ------            --------------  ----- \n",
      " 0   children          21525 non-null  int64 \n",
      " 1   days_employed     21525 non-null  int32 \n",
      " 2   dob_years         21525 non-null  int64 \n",
      " 3   education         21525 non-null  object\n",
      " 4   education_id      21525 non-null  int64 \n",
      " 5   family_status     21525 non-null  object\n",
      " 6   family_status_id  21525 non-null  int64 \n",
      " 7   gender            21525 non-null  object\n",
      " 8   income_type       21525 non-null  object\n",
      " 9   debt              21525 non-null  int64 \n",
      " 10  total_income      21525 non-null  int32 \n",
      " 11  purpose           21525 non-null  object\n",
      "dtypes: int32(2), int64(5), object(5)\n",
      "memory usage: 1.8+ MB\n"
     ]
    }
   ],
   "source": [
    "# замена вещественного типа данных на целочисленный в колонках days_employed и total_income с помощью метода astype()\n",
    "df['days_employed'] = df['days_employed'].astype('int')\n",
    "df['total_income'] = df['total_income'].astype('int')\n",
    "df.info() # проверка замены типа данных"
   ]
  },
  {
   "cell_type": "markdown",
   "metadata": {},
   "source": [
    "**Вывод**"
   ]
  },
  {
   "cell_type": "markdown",
   "metadata": {},
   "source": [
    "Для замены вещественного типа данных на целочисленный использовался метод astype(). Этот метод был выбран, так как метод astype() работает со всеми форматами данными."
   ]
  },
  {
   "cell_type": "markdown",
   "metadata": {},
   "source": [
    "### Обработка дубликатов"
   ]
  },
  {
   "cell_type": "code",
   "execution_count": 96,
   "metadata": {
    "scrolled": true
   },
   "outputs": [
    {
     "data": {
      "text/plain": [
       "среднее                13750\n",
       "высшее                  4718\n",
       "СРЕДНЕЕ                  772\n",
       "Среднее                  711\n",
       "неоконченное высшее      668\n",
       "ВЫСШЕЕ                   274\n",
       "Высшее                   268\n",
       "начальное                250\n",
       "Неоконченное высшее       47\n",
       "НЕОКОНЧЕННОЕ ВЫСШЕЕ       29\n",
       "НАЧАЛЬНОЕ                 17\n",
       "Начальное                 15\n",
       "ученая степень             4\n",
       "Ученая степень             1\n",
       "УЧЕНАЯ СТЕПЕНЬ             1\n",
       "Name: education, dtype: int64"
      ]
     },
     "execution_count": 96,
     "metadata": {},
     "output_type": "execute_result"
    }
   ],
   "source": [
    "# нахождение уникальных значение в столбцах с типом данных object\n",
    "df['education'].value_counts() #уникальные значения столбца education\n",
    "# в столбце education пристуствуют значения одинаковые по смыслу, но записанные в разных регистрах\n"
   ]
  },
  {
   "cell_type": "code",
   "execution_count": 97,
   "metadata": {},
   "outputs": [
    {
     "data": {
      "text/plain": [
       "женат / замужем          12380\n",
       "гражданский брак          4177\n",
       "Не женат / не замужем     2813\n",
       "в разводе                 1195\n",
       "вдовец / вдова             960\n",
       "Name: family_status, dtype: int64"
      ]
     },
     "execution_count": 97,
     "metadata": {},
     "output_type": "execute_result"
    }
   ],
   "source": [
    "df['family_status'].value_counts() #уникальные значения столбца family_status\n",
    "# аналогичная ситуация в столбце family_status"
   ]
  },
  {
   "cell_type": "code",
   "execution_count": 98,
   "metadata": {},
   "outputs": [
    {
     "data": {
      "text/plain": [
       "сотрудник          11119\n",
       "компаньон           5085\n",
       "пенсионер           3856\n",
       "госслужащий         1459\n",
       "безработный            2\n",
       "предприниматель        2\n",
       "студент                1\n",
       "в декрете              1\n",
       "Name: income_type, dtype: int64"
      ]
     },
     "execution_count": 98,
     "metadata": {},
     "output_type": "execute_result"
    }
   ],
   "source": [
    "df['income_type'].value_counts() #уникальные значения столбца income_type\n",
    "# все значения в столбце income_type в одном регистре"
   ]
  },
  {
   "cell_type": "code",
   "execution_count": 99,
   "metadata": {},
   "outputs": [
    {
     "data": {
      "text/plain": [
       "свадьба                                   797\n",
       "на проведение свадьбы                     777\n",
       "сыграть свадьбу                           774\n",
       "операции с недвижимостью                  676\n",
       "покупка коммерческой недвижимости         664\n",
       "операции с жильем                         653\n",
       "покупка жилья для сдачи                   653\n",
       "операции с коммерческой недвижимостью     651\n",
       "покупка жилья                             647\n",
       "жилье                                     647\n",
       "покупка жилья для семьи                   641\n",
       "строительство собственной недвижимости    635\n",
       "недвижимость                              634\n",
       "операции со своей недвижимостью           630\n",
       "строительство жилой недвижимости          626\n",
       "покупка недвижимости                      624\n",
       "покупка своего жилья                      620\n",
       "строительство недвижимости                620\n",
       "ремонт жилью                              612\n",
       "покупка жилой недвижимости                607\n",
       "на покупку своего автомобиля              505\n",
       "заняться высшим образованием              496\n",
       "автомобиль                                495\n",
       "сделка с подержанным автомобилем          489\n",
       "свой автомобиль                           480\n",
       "на покупку подержанного автомобиля        479\n",
       "автомобили                                478\n",
       "на покупку автомобиля                     472\n",
       "дополнительное образование                462\n",
       "приобретение автомобиля                   462\n",
       "сделка с автомобилем                      455\n",
       "высшее образование                        453\n",
       "образование                               447\n",
       "получение дополнительного образования     447\n",
       "получение образования                     443\n",
       "профильное образование                    436\n",
       "получение высшего образования             426\n",
       "заняться образованием                     412\n",
       "Name: purpose, dtype: int64"
      ]
     },
     "execution_count": 99,
     "metadata": {},
     "output_type": "execute_result"
    }
   ],
   "source": [
    "df['purpose'].value_counts() #уникальные значения столбца purpose\n",
    "# в столбце value_counts все значения так же в одном регистре"
   ]
  },
  {
   "cell_type": "code",
   "execution_count": 100,
   "metadata": {},
   "outputs": [
    {
     "name": "stdout",
     "output_type": "stream",
     "text": [
      "Уникальные значения столбца education без учета регистра\n",
      "среднее                15233\n",
      "высшее                  5260\n",
      "неоконченное высшее      744\n",
      "начальное                282\n",
      "ученая степень             6\n",
      "Name: education, dtype: int64\n",
      "\n",
      "Уникальные значения столбца family_status без учета регистра\n"
     ]
    },
    {
     "data": {
      "text/plain": [
       "женат / замужем          12380\n",
       "гражданский брак          4177\n",
       "не женат / не замужем     2813\n",
       "в разводе                 1195\n",
       "вдовец / вдова             960\n",
       "Name: family_status, dtype: int64"
      ]
     },
     "execution_count": 100,
     "metadata": {},
     "output_type": "execute_result"
    }
   ],
   "source": [
    "# так как в столбцах education и family_status есть одинаковые значение в разном регистре, то необходимо перевести эти значения в нижний регистр с помощью метода str.lower()\n",
    "df['education'] = df['education'].str.lower()\n",
    "df['family_status'] = df['family_status'].str.lower()\n",
    "#проверка замены регистра\n",
    "\n",
    "print('Уникальные значения столбца education без учета регистра')\n",
    "print(df['education'].value_counts())\n",
    "print()\n",
    "print('Уникальные значения столбца family_status без учета регистра')\n",
    "df['family_status'].value_counts()\n"
   ]
  },
  {
   "cell_type": "code",
   "execution_count": 101,
   "metadata": {},
   "outputs": [
    {
     "name": "stdout",
     "output_type": "stream",
     "text": [
      "Количество дубликатов до их удаления: 71\n",
      "Проверка удаления дубликатов: 0\n"
     ]
    }
   ],
   "source": [
    "print('Количество дубликатов до их удаления:', df.duplicated().sum()) # подсчет дубликатов в обновленной таблице\n",
    "df = df.drop_duplicates().reset_index(drop=True) # удаление дубликатов с помощью метода drop_duplicates()\n",
    "print('Проверка удаления дубликатов:', df.duplicated().sum()) # проверка успешного удаления дубликатов"
   ]
  },
  {
   "cell_type": "code",
   "execution_count": 102,
   "metadata": {
    "scrolled": true
   },
   "outputs": [
    {
     "data": {
      "text/plain": [
       "женат / замужем          12339\n",
       "гражданский брак          4151\n",
       "не женат / не замужем     2810\n",
       "в разводе                 1195\n",
       "вдовец / вдова             959\n",
       "Name: family_status, dtype: int64"
      ]
     },
     "execution_count": 102,
     "metadata": {},
     "output_type": "execute_result"
    }
   ],
   "source": [
    "df['family_status'].value_counts()"
   ]
  },
  {
   "cell_type": "markdown",
   "metadata": {},
   "source": [
    "**Вывод**"
   ]
  },
  {
   "cell_type": "markdown",
   "metadata": {},
   "source": [
    "Чтобы правильно удалить все дубликаты, сначала необходимо привести к одному регистру ячейки с одинаковыми значениями. В противном случае такие ячейки будут восприниматься pandas как разные значения, что приведет к неполному удаления дубликатов. Уникальные значения в каждом столбце с типом данных object выводятся с помощью метода value_counts(). Из пяти таких столбцов было обнаружено два столбца (education и family_status), где присутствуют буквы в верхнем регистре (например, \"среднее\", \"Среднее\" и \"СРЕДНЕЕ\" стали \"среднее\"). Для приведения всех текстовых ячеек в этих столбцах в нижний регистр был использован метод str.lower(). После того, как все текстовые ячейки были переведы в нижний регистр, дубликаты были удалены с помощью метода drop_duplicates(). Также совместно с drop_duplicates() был вызван метод reset_index с аргументом drop=True, чтобы не создавать столбец со старыми индексами.\n",
    "\n",
    "Дубликаты могли появиться из-за того, что некоторые люди могли оставлять заявку на кредит в банке больше одного раза.\n"
   ]
  },
  {
   "cell_type": "markdown",
   "metadata": {},
   "source": [
    "### Лемматизация"
   ]
  },
  {
   "cell_type": "code",
   "execution_count": 103,
   "metadata": {},
   "outputs": [],
   "source": [
    "m = Mystem()\n",
    "\n",
    "text_lemmas = '' # текстовая строка, куда будут записываться значения ячеек из столбца purpose\n",
    "for i in range(len(df)):\n",
    "    text_lemmas += df.loc[i, 'purpose'] + ' '"
   ]
  },
  {
   "cell_type": "code",
   "execution_count": 104,
   "metadata": {},
   "outputs": [
    {
     "name": "stdout",
     "output_type": "stream",
     "text": [
      "Counter({' ': 55023, 'недвижимость': 6351, 'покупка': 5897, 'жилье': 4460, 'автомобиль': 4306, 'образование': 4013, 'с': 2918, 'операция': 2604, 'свадьба': 2324, 'свой': 2230, 'на': 2222, 'строительство': 1878, 'высокий': 1374, 'получение': 1314, 'коммерческий': 1311, 'для': 1289, 'жилой': 1230, 'сделка': 941, 'дополнительный': 906, 'заниматься': 904, 'подержать': 853, 'проведение': 768, 'сыграть': 765, 'сдача': 651, 'семья': 638, 'собственный': 635, 'со': 627, 'ремонт': 607, 'приобретение': 461, 'профильный': 436, 'подержанный': 111, ' \\n': 1})\n"
     ]
    }
   ],
   "source": [
    "lemmas = m.lemmatize(text_lemmas) # лемматизация строки text_lemmas\n",
    "print(Counter(lemmas))"
   ]
  },
  {
   "cell_type": "code",
   "execution_count": 105,
   "metadata": {},
   "outputs": [
    {
     "ename": "KeyboardInterrupt",
     "evalue": "",
     "output_type": "error",
     "traceback": [
      "\u001b[1;31m---------------------------------------------------------------------------\u001b[0m",
      "\u001b[1;31mKeyboardInterrupt\u001b[0m                         Traceback (most recent call last)",
      "\u001b[1;32m<ipython-input-105-89edad067b8c>\u001b[0m in \u001b[0;36m<module>\u001b[1;34m\u001b[0m\n\u001b[0;32m      1\u001b[0m \u001b[0mpurpose_lem\u001b[0m \u001b[1;33m=\u001b[0m \u001b[1;33m[\u001b[0m\u001b[1;33m]\u001b[0m\u001b[1;33m\u001b[0m\u001b[1;33m\u001b[0m\u001b[0m\n\u001b[0;32m      2\u001b[0m \u001b[1;32mfor\u001b[0m \u001b[0mi\u001b[0m \u001b[1;32min\u001b[0m \u001b[0mdf\u001b[0m\u001b[1;33m[\u001b[0m\u001b[1;34m'purpose'\u001b[0m\u001b[1;33m]\u001b[0m\u001b[1;33m:\u001b[0m\u001b[1;33m\u001b[0m\u001b[1;33m\u001b[0m\u001b[0m\n\u001b[1;32m----> 3\u001b[1;33m     \u001b[0mresult\u001b[0m \u001b[1;33m=\u001b[0m \u001b[1;34m''\u001b[0m\u001b[1;33m.\u001b[0m\u001b[0mjoin\u001b[0m\u001b[1;33m(\u001b[0m\u001b[0mm\u001b[0m\u001b[1;33m.\u001b[0m\u001b[0mlemmatize\u001b[0m\u001b[1;33m(\u001b[0m\u001b[0mi\u001b[0m\u001b[1;33m)\u001b[0m\u001b[1;33m)\u001b[0m\u001b[1;33m.\u001b[0m\u001b[0mstrip\u001b[0m\u001b[1;33m(\u001b[0m\u001b[1;33m)\u001b[0m\u001b[1;33m\u001b[0m\u001b[1;33m\u001b[0m\u001b[0m\n\u001b[0m\u001b[0;32m      4\u001b[0m     \u001b[0mpurpose_lem\u001b[0m\u001b[1;33m.\u001b[0m\u001b[0mappend\u001b[0m\u001b[1;33m(\u001b[0m\u001b[0mresult\u001b[0m\u001b[1;33m)\u001b[0m\u001b[1;33m\u001b[0m\u001b[1;33m\u001b[0m\u001b[0m\n\u001b[0;32m      5\u001b[0m \u001b[0mdf\u001b[0m\u001b[1;33m[\u001b[0m\u001b[1;34m'purpose_lem'\u001b[0m\u001b[1;33m]\u001b[0m \u001b[1;33m=\u001b[0m \u001b[0mpurpose_lem\u001b[0m\u001b[1;33m\u001b[0m\u001b[1;33m\u001b[0m\u001b[0m\n",
      "\u001b[1;32mC:\\anaconda3\\lib\\site-packages\\pymystem3\\mystem.py\u001b[0m in \u001b[0;36mlemmatize\u001b[1;34m(self, text)\u001b[0m\n\u001b[0;32m    263\u001b[0m         \u001b[0mneed_encode\u001b[0m \u001b[1;33m=\u001b[0m \u001b[1;33m(\u001b[0m\u001b[0msys\u001b[0m\u001b[1;33m.\u001b[0m\u001b[0mversion_info\u001b[0m\u001b[1;33m[\u001b[0m\u001b[1;36m0\u001b[0m\u001b[1;33m]\u001b[0m \u001b[1;33m<\u001b[0m \u001b[1;36m3\u001b[0m \u001b[1;32mand\u001b[0m \u001b[0misinstance\u001b[0m\u001b[1;33m(\u001b[0m\u001b[0mtext\u001b[0m\u001b[1;33m,\u001b[0m \u001b[0mstr\u001b[0m\u001b[1;33m)\u001b[0m\u001b[1;33m)\u001b[0m\u001b[1;33m\u001b[0m\u001b[1;33m\u001b[0m\u001b[0m\n\u001b[0;32m    264\u001b[0m \u001b[1;33m\u001b[0m\u001b[0m\n\u001b[1;32m--> 265\u001b[1;33m         \u001b[0minfos\u001b[0m \u001b[1;33m=\u001b[0m \u001b[0mself\u001b[0m\u001b[1;33m.\u001b[0m\u001b[0manalyze\u001b[0m\u001b[1;33m(\u001b[0m\u001b[0mtext\u001b[0m\u001b[1;33m)\u001b[0m\u001b[1;33m\u001b[0m\u001b[1;33m\u001b[0m\u001b[0m\n\u001b[0m\u001b[0;32m    266\u001b[0m         \u001b[0mlemmas\u001b[0m \u001b[1;33m=\u001b[0m \u001b[0mlist\u001b[0m\u001b[1;33m(\u001b[0m\u001b[0mfilter\u001b[0m\u001b[1;33m(\u001b[0m\u001b[1;32mNone\u001b[0m\u001b[1;33m,\u001b[0m \u001b[0mmap\u001b[0m\u001b[1;33m(\u001b[0m\u001b[0mself\u001b[0m\u001b[1;33m.\u001b[0m\u001b[0m_get_lemma\u001b[0m\u001b[1;33m,\u001b[0m \u001b[0minfos\u001b[0m\u001b[1;33m)\u001b[0m\u001b[1;33m)\u001b[0m\u001b[1;33m)\u001b[0m\u001b[1;33m\u001b[0m\u001b[1;33m\u001b[0m\u001b[0m\n\u001b[0;32m    267\u001b[0m \u001b[1;33m\u001b[0m\u001b[0m\n",
      "\u001b[1;32mC:\\anaconda3\\lib\\site-packages\\pymystem3\\mystem.py\u001b[0m in \u001b[0;36manalyze\u001b[1;34m(self, text)\u001b[0m\n\u001b[0;32m    248\u001b[0m         \u001b[0mresult\u001b[0m \u001b[1;33m=\u001b[0m \u001b[1;33m[\u001b[0m\u001b[1;33m]\u001b[0m\u001b[1;33m\u001b[0m\u001b[1;33m\u001b[0m\u001b[0m\n\u001b[0;32m    249\u001b[0m         \u001b[1;32mfor\u001b[0m \u001b[0mline\u001b[0m \u001b[1;32min\u001b[0m \u001b[0mtext\u001b[0m\u001b[1;33m.\u001b[0m\u001b[0msplitlines\u001b[0m\u001b[1;33m(\u001b[0m\u001b[1;33m)\u001b[0m\u001b[1;33m:\u001b[0m\u001b[1;33m\u001b[0m\u001b[1;33m\u001b[0m\u001b[0m\n\u001b[1;32m--> 250\u001b[1;33m             \u001b[0mresult\u001b[0m\u001b[1;33m.\u001b[0m\u001b[0mextend\u001b[0m\u001b[1;33m(\u001b[0m\u001b[0mself\u001b[0m\u001b[1;33m.\u001b[0m\u001b[0m_analyze_impl\u001b[0m\u001b[1;33m(\u001b[0m\u001b[0mline\u001b[0m\u001b[1;33m)\u001b[0m\u001b[1;33m)\u001b[0m\u001b[1;33m\u001b[0m\u001b[1;33m\u001b[0m\u001b[0m\n\u001b[0m\u001b[0;32m    251\u001b[0m         \u001b[1;32mreturn\u001b[0m \u001b[0mresult\u001b[0m\u001b[1;33m\u001b[0m\u001b[1;33m\u001b[0m\u001b[0m\n\u001b[0;32m    252\u001b[0m \u001b[1;33m\u001b[0m\u001b[0m\n",
      "\u001b[1;32mC:\\anaconda3\\lib\\site-packages\\pymystem3\\mystem.py\u001b[0m in \u001b[0;36m_analyze_impl\u001b[1;34m(self, text)\u001b[0m\n\u001b[0;32m    311\u001b[0m             \u001b[0mself\u001b[0m\u001b[1;33m.\u001b[0m\u001b[0m_procin\u001b[0m\u001b[1;33m.\u001b[0m\u001b[0mwrite\u001b[0m\u001b[1;33m(\u001b[0m\u001b[0m_NL\u001b[0m\u001b[1;33m)\u001b[0m\u001b[1;33m\u001b[0m\u001b[1;33m\u001b[0m\u001b[0m\n\u001b[0;32m    312\u001b[0m \u001b[1;33m\u001b[0m\u001b[0m\n\u001b[1;32m--> 313\u001b[1;33m             \u001b[0mout\u001b[0m\u001b[1;33m,\u001b[0m \u001b[0m_\u001b[0m \u001b[1;33m=\u001b[0m \u001b[0mself\u001b[0m\u001b[1;33m.\u001b[0m\u001b[0m_proc\u001b[0m\u001b[1;33m.\u001b[0m\u001b[0mcommunicate\u001b[0m\u001b[1;33m(\u001b[0m\u001b[1;33m)\u001b[0m\u001b[1;33m\u001b[0m\u001b[1;33m\u001b[0m\u001b[0m\n\u001b[0m\u001b[0;32m    314\u001b[0m             \u001b[0mself\u001b[0m\u001b[1;33m.\u001b[0m\u001b[0m_proc\u001b[0m \u001b[1;33m=\u001b[0m \u001b[1;32mNone\u001b[0m\u001b[1;33m\u001b[0m\u001b[1;33m\u001b[0m\u001b[0m\n\u001b[0;32m    315\u001b[0m             \u001b[1;32mtry\u001b[0m\u001b[1;33m:\u001b[0m\u001b[1;33m\u001b[0m\u001b[1;33m\u001b[0m\u001b[0m\n",
      "\u001b[1;32mC:\\anaconda3\\lib\\subprocess.py\u001b[0m in \u001b[0;36mcommunicate\u001b[1;34m(self, input, timeout)\u001b[0m\n\u001b[0;32m   1026\u001b[0m \u001b[1;33m\u001b[0m\u001b[0m\n\u001b[0;32m   1027\u001b[0m             \u001b[1;32mtry\u001b[0m\u001b[1;33m:\u001b[0m\u001b[1;33m\u001b[0m\u001b[1;33m\u001b[0m\u001b[0m\n\u001b[1;32m-> 1028\u001b[1;33m                 \u001b[0mstdout\u001b[0m\u001b[1;33m,\u001b[0m \u001b[0mstderr\u001b[0m \u001b[1;33m=\u001b[0m \u001b[0mself\u001b[0m\u001b[1;33m.\u001b[0m\u001b[0m_communicate\u001b[0m\u001b[1;33m(\u001b[0m\u001b[0minput\u001b[0m\u001b[1;33m,\u001b[0m \u001b[0mendtime\u001b[0m\u001b[1;33m,\u001b[0m \u001b[0mtimeout\u001b[0m\u001b[1;33m)\u001b[0m\u001b[1;33m\u001b[0m\u001b[1;33m\u001b[0m\u001b[0m\n\u001b[0m\u001b[0;32m   1029\u001b[0m             \u001b[1;32mexcept\u001b[0m \u001b[0mKeyboardInterrupt\u001b[0m\u001b[1;33m:\u001b[0m\u001b[1;33m\u001b[0m\u001b[1;33m\u001b[0m\u001b[0m\n\u001b[0;32m   1030\u001b[0m                 \u001b[1;31m# https://bugs.python.org/issue25942\u001b[0m\u001b[1;33m\u001b[0m\u001b[1;33m\u001b[0m\u001b[1;33m\u001b[0m\u001b[0m\n",
      "\u001b[1;32mC:\\anaconda3\\lib\\subprocess.py\u001b[0m in \u001b[0;36m_communicate\u001b[1;34m(self, input, endtime, orig_timeout)\u001b[0m\n\u001b[0;32m   1397\u001b[0m             \u001b[1;31m# calls communicate again.\u001b[0m\u001b[1;33m\u001b[0m\u001b[1;33m\u001b[0m\u001b[1;33m\u001b[0m\u001b[0m\n\u001b[0;32m   1398\u001b[0m             \u001b[1;32mif\u001b[0m \u001b[0mself\u001b[0m\u001b[1;33m.\u001b[0m\u001b[0mstdout\u001b[0m \u001b[1;32mis\u001b[0m \u001b[1;32mnot\u001b[0m \u001b[1;32mNone\u001b[0m\u001b[1;33m:\u001b[0m\u001b[1;33m\u001b[0m\u001b[1;33m\u001b[0m\u001b[0m\n\u001b[1;32m-> 1399\u001b[1;33m                 \u001b[0mself\u001b[0m\u001b[1;33m.\u001b[0m\u001b[0mstdout_thread\u001b[0m\u001b[1;33m.\u001b[0m\u001b[0mjoin\u001b[0m\u001b[1;33m(\u001b[0m\u001b[0mself\u001b[0m\u001b[1;33m.\u001b[0m\u001b[0m_remaining_time\u001b[0m\u001b[1;33m(\u001b[0m\u001b[0mendtime\u001b[0m\u001b[1;33m)\u001b[0m\u001b[1;33m)\u001b[0m\u001b[1;33m\u001b[0m\u001b[1;33m\u001b[0m\u001b[0m\n\u001b[0m\u001b[0;32m   1400\u001b[0m                 \u001b[1;32mif\u001b[0m \u001b[0mself\u001b[0m\u001b[1;33m.\u001b[0m\u001b[0mstdout_thread\u001b[0m\u001b[1;33m.\u001b[0m\u001b[0mis_alive\u001b[0m\u001b[1;33m(\u001b[0m\u001b[1;33m)\u001b[0m\u001b[1;33m:\u001b[0m\u001b[1;33m\u001b[0m\u001b[1;33m\u001b[0m\u001b[0m\n\u001b[0;32m   1401\u001b[0m                     \u001b[1;32mraise\u001b[0m \u001b[0mTimeoutExpired\u001b[0m\u001b[1;33m(\u001b[0m\u001b[0mself\u001b[0m\u001b[1;33m.\u001b[0m\u001b[0margs\u001b[0m\u001b[1;33m,\u001b[0m \u001b[0morig_timeout\u001b[0m\u001b[1;33m)\u001b[0m\u001b[1;33m\u001b[0m\u001b[1;33m\u001b[0m\u001b[0m\n",
      "\u001b[1;32mC:\\anaconda3\\lib\\threading.py\u001b[0m in \u001b[0;36mjoin\u001b[1;34m(self, timeout)\u001b[0m\n\u001b[0;32m   1009\u001b[0m \u001b[1;33m\u001b[0m\u001b[0m\n\u001b[0;32m   1010\u001b[0m         \u001b[1;32mif\u001b[0m \u001b[0mtimeout\u001b[0m \u001b[1;32mis\u001b[0m \u001b[1;32mNone\u001b[0m\u001b[1;33m:\u001b[0m\u001b[1;33m\u001b[0m\u001b[1;33m\u001b[0m\u001b[0m\n\u001b[1;32m-> 1011\u001b[1;33m             \u001b[0mself\u001b[0m\u001b[1;33m.\u001b[0m\u001b[0m_wait_for_tstate_lock\u001b[0m\u001b[1;33m(\u001b[0m\u001b[1;33m)\u001b[0m\u001b[1;33m\u001b[0m\u001b[1;33m\u001b[0m\u001b[0m\n\u001b[0m\u001b[0;32m   1012\u001b[0m         \u001b[1;32melse\u001b[0m\u001b[1;33m:\u001b[0m\u001b[1;33m\u001b[0m\u001b[1;33m\u001b[0m\u001b[0m\n\u001b[0;32m   1013\u001b[0m             \u001b[1;31m# the behavior of a negative timeout isn't documented, but\u001b[0m\u001b[1;33m\u001b[0m\u001b[1;33m\u001b[0m\u001b[1;33m\u001b[0m\u001b[0m\n",
      "\u001b[1;32mC:\\anaconda3\\lib\\threading.py\u001b[0m in \u001b[0;36m_wait_for_tstate_lock\u001b[1;34m(self, block, timeout)\u001b[0m\n\u001b[0;32m   1025\u001b[0m         \u001b[1;32mif\u001b[0m \u001b[0mlock\u001b[0m \u001b[1;32mis\u001b[0m \u001b[1;32mNone\u001b[0m\u001b[1;33m:\u001b[0m  \u001b[1;31m# already determined that the C code is done\u001b[0m\u001b[1;33m\u001b[0m\u001b[1;33m\u001b[0m\u001b[0m\n\u001b[0;32m   1026\u001b[0m             \u001b[1;32massert\u001b[0m \u001b[0mself\u001b[0m\u001b[1;33m.\u001b[0m\u001b[0m_is_stopped\u001b[0m\u001b[1;33m\u001b[0m\u001b[1;33m\u001b[0m\u001b[0m\n\u001b[1;32m-> 1027\u001b[1;33m         \u001b[1;32melif\u001b[0m \u001b[0mlock\u001b[0m\u001b[1;33m.\u001b[0m\u001b[0macquire\u001b[0m\u001b[1;33m(\u001b[0m\u001b[0mblock\u001b[0m\u001b[1;33m,\u001b[0m \u001b[0mtimeout\u001b[0m\u001b[1;33m)\u001b[0m\u001b[1;33m:\u001b[0m\u001b[1;33m\u001b[0m\u001b[1;33m\u001b[0m\u001b[0m\n\u001b[0m\u001b[0;32m   1028\u001b[0m             \u001b[0mlock\u001b[0m\u001b[1;33m.\u001b[0m\u001b[0mrelease\u001b[0m\u001b[1;33m(\u001b[0m\u001b[1;33m)\u001b[0m\u001b[1;33m\u001b[0m\u001b[1;33m\u001b[0m\u001b[0m\n\u001b[0;32m   1029\u001b[0m             \u001b[0mself\u001b[0m\u001b[1;33m.\u001b[0m\u001b[0m_stop\u001b[0m\u001b[1;33m(\u001b[0m\u001b[1;33m)\u001b[0m\u001b[1;33m\u001b[0m\u001b[1;33m\u001b[0m\u001b[0m\n",
      "\u001b[1;31mKeyboardInterrupt\u001b[0m: "
     ]
    }
   ],
   "source": [
    "purpose_lem = []\n",
    "for i in df['purpose']:\n",
    "    result = ''.join(m.lemmatize(i)).strip()\n",
    "    purpose_lem.append(result)\n",
    "df['purpose_lem'] = purpose_lem\n",
    "df"
   ]
  },
  {
   "cell_type": "code",
   "execution_count": 82,
   "metadata": {},
   "outputs": [
    {
     "ename": "KeyboardInterrupt",
     "evalue": "",
     "output_type": "error",
     "traceback": [
      "\u001b[1;31m---------------------------------------------------------------------------\u001b[0m",
      "\u001b[1;31mKeyboardInterrupt\u001b[0m                         Traceback (most recent call last)",
      "\u001b[1;32m<ipython-input-82-ddfb3ac0c630>\u001b[0m in \u001b[0;36m<module>\u001b[1;34m\u001b[0m\n\u001b[0;32m      2\u001b[0m \u001b[1;33m\u001b[0m\u001b[0m\n\u001b[0;32m      3\u001b[0m \u001b[1;31m# создание столбца purpose_lemma, где будут храниться лемматизированные значения ячеек из столбца purpose\u001b[0m\u001b[1;33m\u001b[0m\u001b[1;33m\u001b[0m\u001b[1;33m\u001b[0m\u001b[0m\n\u001b[1;32m----> 4\u001b[1;33m \u001b[0mdf\u001b[0m\u001b[1;33m[\u001b[0m\u001b[1;34m'purpose_lemma'\u001b[0m\u001b[1;33m]\u001b[0m \u001b[1;33m=\u001b[0m \u001b[0mdf\u001b[0m\u001b[1;33m[\u001b[0m\u001b[1;34m'purpose'\u001b[0m\u001b[1;33m]\u001b[0m\u001b[1;33m.\u001b[0m\u001b[0mapply\u001b[0m\u001b[1;33m(\u001b[0m\u001b[0mm\u001b[0m\u001b[1;33m.\u001b[0m\u001b[0mlemmatize\u001b[0m\u001b[1;33m)\u001b[0m\u001b[1;33m\u001b[0m\u001b[1;33m\u001b[0m\u001b[0m\n\u001b[0m\u001b[0;32m      5\u001b[0m \u001b[0mprint\u001b[0m\u001b[1;33m(\u001b[0m\u001b[0mdf\u001b[0m\u001b[1;33m)\u001b[0m\u001b[1;33m\u001b[0m\u001b[1;33m\u001b[0m\u001b[0m\n",
      "\u001b[1;32mC:\\anaconda3\\lib\\site-packages\\pandas\\core\\series.py\u001b[0m in \u001b[0;36mapply\u001b[1;34m(self, func, convert_dtype, args, **kwds)\u001b[0m\n\u001b[0;32m   4136\u001b[0m             \u001b[1;32melse\u001b[0m\u001b[1;33m:\u001b[0m\u001b[1;33m\u001b[0m\u001b[1;33m\u001b[0m\u001b[0m\n\u001b[0;32m   4137\u001b[0m                 \u001b[0mvalues\u001b[0m \u001b[1;33m=\u001b[0m \u001b[0mself\u001b[0m\u001b[1;33m.\u001b[0m\u001b[0mastype\u001b[0m\u001b[1;33m(\u001b[0m\u001b[0mobject\u001b[0m\u001b[1;33m)\u001b[0m\u001b[1;33m.\u001b[0m\u001b[0m_values\u001b[0m\u001b[1;33m\u001b[0m\u001b[1;33m\u001b[0m\u001b[0m\n\u001b[1;32m-> 4138\u001b[1;33m                 \u001b[0mmapped\u001b[0m \u001b[1;33m=\u001b[0m \u001b[0mlib\u001b[0m\u001b[1;33m.\u001b[0m\u001b[0mmap_infer\u001b[0m\u001b[1;33m(\u001b[0m\u001b[0mvalues\u001b[0m\u001b[1;33m,\u001b[0m \u001b[0mf\u001b[0m\u001b[1;33m,\u001b[0m \u001b[0mconvert\u001b[0m\u001b[1;33m=\u001b[0m\u001b[0mconvert_dtype\u001b[0m\u001b[1;33m)\u001b[0m\u001b[1;33m\u001b[0m\u001b[1;33m\u001b[0m\u001b[0m\n\u001b[0m\u001b[0;32m   4139\u001b[0m \u001b[1;33m\u001b[0m\u001b[0m\n\u001b[0;32m   4140\u001b[0m         \u001b[1;32mif\u001b[0m \u001b[0mlen\u001b[0m\u001b[1;33m(\u001b[0m\u001b[0mmapped\u001b[0m\u001b[1;33m)\u001b[0m \u001b[1;32mand\u001b[0m \u001b[0misinstance\u001b[0m\u001b[1;33m(\u001b[0m\u001b[0mmapped\u001b[0m\u001b[1;33m[\u001b[0m\u001b[1;36m0\u001b[0m\u001b[1;33m]\u001b[0m\u001b[1;33m,\u001b[0m \u001b[0mSeries\u001b[0m\u001b[1;33m)\u001b[0m\u001b[1;33m:\u001b[0m\u001b[1;33m\u001b[0m\u001b[1;33m\u001b[0m\u001b[0m\n",
      "\u001b[1;32mpandas\\_libs\\lib.pyx\u001b[0m in \u001b[0;36mpandas._libs.lib.map_infer\u001b[1;34m()\u001b[0m\n",
      "\u001b[1;32mC:\\anaconda3\\lib\\site-packages\\pymystem3\\mystem.py\u001b[0m in \u001b[0;36mlemmatize\u001b[1;34m(self, text)\u001b[0m\n\u001b[0;32m    263\u001b[0m         \u001b[0mneed_encode\u001b[0m \u001b[1;33m=\u001b[0m \u001b[1;33m(\u001b[0m\u001b[0msys\u001b[0m\u001b[1;33m.\u001b[0m\u001b[0mversion_info\u001b[0m\u001b[1;33m[\u001b[0m\u001b[1;36m0\u001b[0m\u001b[1;33m]\u001b[0m \u001b[1;33m<\u001b[0m \u001b[1;36m3\u001b[0m \u001b[1;32mand\u001b[0m \u001b[0misinstance\u001b[0m\u001b[1;33m(\u001b[0m\u001b[0mtext\u001b[0m\u001b[1;33m,\u001b[0m \u001b[0mstr\u001b[0m\u001b[1;33m)\u001b[0m\u001b[1;33m)\u001b[0m\u001b[1;33m\u001b[0m\u001b[1;33m\u001b[0m\u001b[0m\n\u001b[0;32m    264\u001b[0m \u001b[1;33m\u001b[0m\u001b[0m\n\u001b[1;32m--> 265\u001b[1;33m         \u001b[0minfos\u001b[0m \u001b[1;33m=\u001b[0m \u001b[0mself\u001b[0m\u001b[1;33m.\u001b[0m\u001b[0manalyze\u001b[0m\u001b[1;33m(\u001b[0m\u001b[0mtext\u001b[0m\u001b[1;33m)\u001b[0m\u001b[1;33m\u001b[0m\u001b[1;33m\u001b[0m\u001b[0m\n\u001b[0m\u001b[0;32m    266\u001b[0m         \u001b[0mlemmas\u001b[0m \u001b[1;33m=\u001b[0m \u001b[0mlist\u001b[0m\u001b[1;33m(\u001b[0m\u001b[0mfilter\u001b[0m\u001b[1;33m(\u001b[0m\u001b[1;32mNone\u001b[0m\u001b[1;33m,\u001b[0m \u001b[0mmap\u001b[0m\u001b[1;33m(\u001b[0m\u001b[0mself\u001b[0m\u001b[1;33m.\u001b[0m\u001b[0m_get_lemma\u001b[0m\u001b[1;33m,\u001b[0m \u001b[0minfos\u001b[0m\u001b[1;33m)\u001b[0m\u001b[1;33m)\u001b[0m\u001b[1;33m)\u001b[0m\u001b[1;33m\u001b[0m\u001b[1;33m\u001b[0m\u001b[0m\n\u001b[0;32m    267\u001b[0m \u001b[1;33m\u001b[0m\u001b[0m\n",
      "\u001b[1;32mC:\\anaconda3\\lib\\site-packages\\pymystem3\\mystem.py\u001b[0m in \u001b[0;36manalyze\u001b[1;34m(self, text)\u001b[0m\n\u001b[0;32m    248\u001b[0m         \u001b[0mresult\u001b[0m \u001b[1;33m=\u001b[0m \u001b[1;33m[\u001b[0m\u001b[1;33m]\u001b[0m\u001b[1;33m\u001b[0m\u001b[1;33m\u001b[0m\u001b[0m\n\u001b[0;32m    249\u001b[0m         \u001b[1;32mfor\u001b[0m \u001b[0mline\u001b[0m \u001b[1;32min\u001b[0m \u001b[0mtext\u001b[0m\u001b[1;33m.\u001b[0m\u001b[0msplitlines\u001b[0m\u001b[1;33m(\u001b[0m\u001b[1;33m)\u001b[0m\u001b[1;33m:\u001b[0m\u001b[1;33m\u001b[0m\u001b[1;33m\u001b[0m\u001b[0m\n\u001b[1;32m--> 250\u001b[1;33m             \u001b[0mresult\u001b[0m\u001b[1;33m.\u001b[0m\u001b[0mextend\u001b[0m\u001b[1;33m(\u001b[0m\u001b[0mself\u001b[0m\u001b[1;33m.\u001b[0m\u001b[0m_analyze_impl\u001b[0m\u001b[1;33m(\u001b[0m\u001b[0mline\u001b[0m\u001b[1;33m)\u001b[0m\u001b[1;33m)\u001b[0m\u001b[1;33m\u001b[0m\u001b[1;33m\u001b[0m\u001b[0m\n\u001b[0m\u001b[0;32m    251\u001b[0m         \u001b[1;32mreturn\u001b[0m \u001b[0mresult\u001b[0m\u001b[1;33m\u001b[0m\u001b[1;33m\u001b[0m\u001b[0m\n\u001b[0;32m    252\u001b[0m \u001b[1;33m\u001b[0m\u001b[0m\n",
      "\u001b[1;32mC:\\anaconda3\\lib\\site-packages\\pymystem3\\mystem.py\u001b[0m in \u001b[0;36m_analyze_impl\u001b[1;34m(self, text)\u001b[0m\n\u001b[0;32m    311\u001b[0m             \u001b[0mself\u001b[0m\u001b[1;33m.\u001b[0m\u001b[0m_procin\u001b[0m\u001b[1;33m.\u001b[0m\u001b[0mwrite\u001b[0m\u001b[1;33m(\u001b[0m\u001b[0m_NL\u001b[0m\u001b[1;33m)\u001b[0m\u001b[1;33m\u001b[0m\u001b[1;33m\u001b[0m\u001b[0m\n\u001b[0;32m    312\u001b[0m \u001b[1;33m\u001b[0m\u001b[0m\n\u001b[1;32m--> 313\u001b[1;33m             \u001b[0mout\u001b[0m\u001b[1;33m,\u001b[0m \u001b[0m_\u001b[0m \u001b[1;33m=\u001b[0m \u001b[0mself\u001b[0m\u001b[1;33m.\u001b[0m\u001b[0m_proc\u001b[0m\u001b[1;33m.\u001b[0m\u001b[0mcommunicate\u001b[0m\u001b[1;33m(\u001b[0m\u001b[1;33m)\u001b[0m\u001b[1;33m\u001b[0m\u001b[1;33m\u001b[0m\u001b[0m\n\u001b[0m\u001b[0;32m    314\u001b[0m             \u001b[0mself\u001b[0m\u001b[1;33m.\u001b[0m\u001b[0m_proc\u001b[0m \u001b[1;33m=\u001b[0m \u001b[1;32mNone\u001b[0m\u001b[1;33m\u001b[0m\u001b[1;33m\u001b[0m\u001b[0m\n\u001b[0;32m    315\u001b[0m             \u001b[1;32mtry\u001b[0m\u001b[1;33m:\u001b[0m\u001b[1;33m\u001b[0m\u001b[1;33m\u001b[0m\u001b[0m\n",
      "\u001b[1;32mC:\\anaconda3\\lib\\subprocess.py\u001b[0m in \u001b[0;36mcommunicate\u001b[1;34m(self, input, timeout)\u001b[0m\n\u001b[0;32m   1026\u001b[0m \u001b[1;33m\u001b[0m\u001b[0m\n\u001b[0;32m   1027\u001b[0m             \u001b[1;32mtry\u001b[0m\u001b[1;33m:\u001b[0m\u001b[1;33m\u001b[0m\u001b[1;33m\u001b[0m\u001b[0m\n\u001b[1;32m-> 1028\u001b[1;33m                 \u001b[0mstdout\u001b[0m\u001b[1;33m,\u001b[0m \u001b[0mstderr\u001b[0m \u001b[1;33m=\u001b[0m \u001b[0mself\u001b[0m\u001b[1;33m.\u001b[0m\u001b[0m_communicate\u001b[0m\u001b[1;33m(\u001b[0m\u001b[0minput\u001b[0m\u001b[1;33m,\u001b[0m \u001b[0mendtime\u001b[0m\u001b[1;33m,\u001b[0m \u001b[0mtimeout\u001b[0m\u001b[1;33m)\u001b[0m\u001b[1;33m\u001b[0m\u001b[1;33m\u001b[0m\u001b[0m\n\u001b[0m\u001b[0;32m   1029\u001b[0m             \u001b[1;32mexcept\u001b[0m \u001b[0mKeyboardInterrupt\u001b[0m\u001b[1;33m:\u001b[0m\u001b[1;33m\u001b[0m\u001b[1;33m\u001b[0m\u001b[0m\n\u001b[0;32m   1030\u001b[0m                 \u001b[1;31m# https://bugs.python.org/issue25942\u001b[0m\u001b[1;33m\u001b[0m\u001b[1;33m\u001b[0m\u001b[1;33m\u001b[0m\u001b[0m\n",
      "\u001b[1;32mC:\\anaconda3\\lib\\subprocess.py\u001b[0m in \u001b[0;36m_communicate\u001b[1;34m(self, input, endtime, orig_timeout)\u001b[0m\n\u001b[0;32m   1397\u001b[0m             \u001b[1;31m# calls communicate again.\u001b[0m\u001b[1;33m\u001b[0m\u001b[1;33m\u001b[0m\u001b[1;33m\u001b[0m\u001b[0m\n\u001b[0;32m   1398\u001b[0m             \u001b[1;32mif\u001b[0m \u001b[0mself\u001b[0m\u001b[1;33m.\u001b[0m\u001b[0mstdout\u001b[0m \u001b[1;32mis\u001b[0m \u001b[1;32mnot\u001b[0m \u001b[1;32mNone\u001b[0m\u001b[1;33m:\u001b[0m\u001b[1;33m\u001b[0m\u001b[1;33m\u001b[0m\u001b[0m\n\u001b[1;32m-> 1399\u001b[1;33m                 \u001b[0mself\u001b[0m\u001b[1;33m.\u001b[0m\u001b[0mstdout_thread\u001b[0m\u001b[1;33m.\u001b[0m\u001b[0mjoin\u001b[0m\u001b[1;33m(\u001b[0m\u001b[0mself\u001b[0m\u001b[1;33m.\u001b[0m\u001b[0m_remaining_time\u001b[0m\u001b[1;33m(\u001b[0m\u001b[0mendtime\u001b[0m\u001b[1;33m)\u001b[0m\u001b[1;33m)\u001b[0m\u001b[1;33m\u001b[0m\u001b[1;33m\u001b[0m\u001b[0m\n\u001b[0m\u001b[0;32m   1400\u001b[0m                 \u001b[1;32mif\u001b[0m \u001b[0mself\u001b[0m\u001b[1;33m.\u001b[0m\u001b[0mstdout_thread\u001b[0m\u001b[1;33m.\u001b[0m\u001b[0mis_alive\u001b[0m\u001b[1;33m(\u001b[0m\u001b[1;33m)\u001b[0m\u001b[1;33m:\u001b[0m\u001b[1;33m\u001b[0m\u001b[1;33m\u001b[0m\u001b[0m\n\u001b[0;32m   1401\u001b[0m                     \u001b[1;32mraise\u001b[0m \u001b[0mTimeoutExpired\u001b[0m\u001b[1;33m(\u001b[0m\u001b[0mself\u001b[0m\u001b[1;33m.\u001b[0m\u001b[0margs\u001b[0m\u001b[1;33m,\u001b[0m \u001b[0morig_timeout\u001b[0m\u001b[1;33m)\u001b[0m\u001b[1;33m\u001b[0m\u001b[1;33m\u001b[0m\u001b[0m\n",
      "\u001b[1;32mC:\\anaconda3\\lib\\threading.py\u001b[0m in \u001b[0;36mjoin\u001b[1;34m(self, timeout)\u001b[0m\n\u001b[0;32m   1009\u001b[0m \u001b[1;33m\u001b[0m\u001b[0m\n\u001b[0;32m   1010\u001b[0m         \u001b[1;32mif\u001b[0m \u001b[0mtimeout\u001b[0m \u001b[1;32mis\u001b[0m \u001b[1;32mNone\u001b[0m\u001b[1;33m:\u001b[0m\u001b[1;33m\u001b[0m\u001b[1;33m\u001b[0m\u001b[0m\n\u001b[1;32m-> 1011\u001b[1;33m             \u001b[0mself\u001b[0m\u001b[1;33m.\u001b[0m\u001b[0m_wait_for_tstate_lock\u001b[0m\u001b[1;33m(\u001b[0m\u001b[1;33m)\u001b[0m\u001b[1;33m\u001b[0m\u001b[1;33m\u001b[0m\u001b[0m\n\u001b[0m\u001b[0;32m   1012\u001b[0m         \u001b[1;32melse\u001b[0m\u001b[1;33m:\u001b[0m\u001b[1;33m\u001b[0m\u001b[1;33m\u001b[0m\u001b[0m\n\u001b[0;32m   1013\u001b[0m             \u001b[1;31m# the behavior of a negative timeout isn't documented, but\u001b[0m\u001b[1;33m\u001b[0m\u001b[1;33m\u001b[0m\u001b[1;33m\u001b[0m\u001b[0m\n",
      "\u001b[1;32mC:\\anaconda3\\lib\\threading.py\u001b[0m in \u001b[0;36m_wait_for_tstate_lock\u001b[1;34m(self, block, timeout)\u001b[0m\n\u001b[0;32m   1025\u001b[0m         \u001b[1;32mif\u001b[0m \u001b[0mlock\u001b[0m \u001b[1;32mis\u001b[0m \u001b[1;32mNone\u001b[0m\u001b[1;33m:\u001b[0m  \u001b[1;31m# already determined that the C code is done\u001b[0m\u001b[1;33m\u001b[0m\u001b[1;33m\u001b[0m\u001b[0m\n\u001b[0;32m   1026\u001b[0m             \u001b[1;32massert\u001b[0m \u001b[0mself\u001b[0m\u001b[1;33m.\u001b[0m\u001b[0m_is_stopped\u001b[0m\u001b[1;33m\u001b[0m\u001b[1;33m\u001b[0m\u001b[0m\n\u001b[1;32m-> 1027\u001b[1;33m         \u001b[1;32melif\u001b[0m \u001b[0mlock\u001b[0m\u001b[1;33m.\u001b[0m\u001b[0macquire\u001b[0m\u001b[1;33m(\u001b[0m\u001b[0mblock\u001b[0m\u001b[1;33m,\u001b[0m \u001b[0mtimeout\u001b[0m\u001b[1;33m)\u001b[0m\u001b[1;33m:\u001b[0m\u001b[1;33m\u001b[0m\u001b[1;33m\u001b[0m\u001b[0m\n\u001b[0m\u001b[0;32m   1028\u001b[0m             \u001b[0mlock\u001b[0m\u001b[1;33m.\u001b[0m\u001b[0mrelease\u001b[0m\u001b[1;33m(\u001b[0m\u001b[1;33m)\u001b[0m\u001b[1;33m\u001b[0m\u001b[1;33m\u001b[0m\u001b[0m\n\u001b[0;32m   1029\u001b[0m             \u001b[0mself\u001b[0m\u001b[1;33m.\u001b[0m\u001b[0m_stop\u001b[0m\u001b[1;33m(\u001b[0m\u001b[1;33m)\u001b[0m\u001b[1;33m\u001b[0m\u001b[1;33m\u001b[0m\u001b[0m\n",
      "\u001b[1;31mKeyboardInterrupt\u001b[0m: "
     ]
    }
   ],
   "source": [
    "lemmas_general = ['свадьба', 'автомобиль', 'образование', 'недвижимость'] # более общие цели кредита\n",
    "\n",
    "# создание столбца purpose_lemma, где будут храниться лемматизированные значения ячеек из столбца purpose\n",
    "df['purpose_lemma'] = df['purpose'].apply(m.lemmatize)\n",
    "print(df)"
   ]
  },
  {
   "cell_type": "code",
   "execution_count": 61,
   "metadata": {},
   "outputs": [
    {
     "ename": "KeyboardInterrupt",
     "evalue": "",
     "output_type": "error",
     "traceback": [
      "\u001b[1;31m---------------------------------------------------------------------------\u001b[0m",
      "\u001b[1;31mKeyboardInterrupt\u001b[0m                         Traceback (most recent call last)",
      "\u001b[1;32m<ipython-input-61-e815d5f7f56d>\u001b[0m in \u001b[0;36m<module>\u001b[1;34m\u001b[0m\n\u001b[0;32m     14\u001b[0m \u001b[1;33m\u001b[0m\u001b[0m\n\u001b[0;32m     15\u001b[0m \u001b[1;31m# создание столбца purpose_lemma, где будут храниться лемматизированные значения ячеек из столбца purpose\u001b[0m\u001b[1;33m\u001b[0m\u001b[1;33m\u001b[0m\u001b[1;33m\u001b[0m\u001b[0m\n\u001b[1;32m---> 16\u001b[1;33m \u001b[0mdf\u001b[0m\u001b[1;33m[\u001b[0m\u001b[1;34m'purpose_lemma'\u001b[0m\u001b[1;33m]\u001b[0m \u001b[1;33m=\u001b[0m \u001b[0mdf\u001b[0m\u001b[1;33m[\u001b[0m\u001b[1;34m'purpose'\u001b[0m\u001b[1;33m]\u001b[0m\u001b[1;33m.\u001b[0m\u001b[0mapply\u001b[0m\u001b[1;33m(\u001b[0m\u001b[0mm\u001b[0m\u001b[1;33m.\u001b[0m\u001b[0mlemmatize\u001b[0m\u001b[1;33m)\u001b[0m\u001b[1;33m\u001b[0m\u001b[1;33m\u001b[0m\u001b[0m\n\u001b[0m\u001b[0;32m     17\u001b[0m \u001b[1;31m#print(df)\u001b[0m\u001b[1;33m\u001b[0m\u001b[1;33m\u001b[0m\u001b[1;33m\u001b[0m\u001b[0m\n\u001b[0;32m     18\u001b[0m \u001b[1;33m\u001b[0m\u001b[0m\n",
      "\u001b[1;32mC:\\anaconda3\\lib\\site-packages\\pandas\\core\\series.py\u001b[0m in \u001b[0;36mapply\u001b[1;34m(self, func, convert_dtype, args, **kwds)\u001b[0m\n\u001b[0;32m   4136\u001b[0m             \u001b[1;32melse\u001b[0m\u001b[1;33m:\u001b[0m\u001b[1;33m\u001b[0m\u001b[1;33m\u001b[0m\u001b[0m\n\u001b[0;32m   4137\u001b[0m                 \u001b[0mvalues\u001b[0m \u001b[1;33m=\u001b[0m \u001b[0mself\u001b[0m\u001b[1;33m.\u001b[0m\u001b[0mastype\u001b[0m\u001b[1;33m(\u001b[0m\u001b[0mobject\u001b[0m\u001b[1;33m)\u001b[0m\u001b[1;33m.\u001b[0m\u001b[0m_values\u001b[0m\u001b[1;33m\u001b[0m\u001b[1;33m\u001b[0m\u001b[0m\n\u001b[1;32m-> 4138\u001b[1;33m                 \u001b[0mmapped\u001b[0m \u001b[1;33m=\u001b[0m \u001b[0mlib\u001b[0m\u001b[1;33m.\u001b[0m\u001b[0mmap_infer\u001b[0m\u001b[1;33m(\u001b[0m\u001b[0mvalues\u001b[0m\u001b[1;33m,\u001b[0m \u001b[0mf\u001b[0m\u001b[1;33m,\u001b[0m \u001b[0mconvert\u001b[0m\u001b[1;33m=\u001b[0m\u001b[0mconvert_dtype\u001b[0m\u001b[1;33m)\u001b[0m\u001b[1;33m\u001b[0m\u001b[1;33m\u001b[0m\u001b[0m\n\u001b[0m\u001b[0;32m   4139\u001b[0m \u001b[1;33m\u001b[0m\u001b[0m\n\u001b[0;32m   4140\u001b[0m         \u001b[1;32mif\u001b[0m \u001b[0mlen\u001b[0m\u001b[1;33m(\u001b[0m\u001b[0mmapped\u001b[0m\u001b[1;33m)\u001b[0m \u001b[1;32mand\u001b[0m \u001b[0misinstance\u001b[0m\u001b[1;33m(\u001b[0m\u001b[0mmapped\u001b[0m\u001b[1;33m[\u001b[0m\u001b[1;36m0\u001b[0m\u001b[1;33m]\u001b[0m\u001b[1;33m,\u001b[0m \u001b[0mSeries\u001b[0m\u001b[1;33m)\u001b[0m\u001b[1;33m:\u001b[0m\u001b[1;33m\u001b[0m\u001b[1;33m\u001b[0m\u001b[0m\n",
      "\u001b[1;32mpandas\\_libs\\lib.pyx\u001b[0m in \u001b[0;36mpandas._libs.lib.map_infer\u001b[1;34m()\u001b[0m\n",
      "\u001b[1;32mC:\\anaconda3\\lib\\site-packages\\pymystem3\\mystem.py\u001b[0m in \u001b[0;36mlemmatize\u001b[1;34m(self, text)\u001b[0m\n\u001b[0;32m    263\u001b[0m         \u001b[0mneed_encode\u001b[0m \u001b[1;33m=\u001b[0m \u001b[1;33m(\u001b[0m\u001b[0msys\u001b[0m\u001b[1;33m.\u001b[0m\u001b[0mversion_info\u001b[0m\u001b[1;33m[\u001b[0m\u001b[1;36m0\u001b[0m\u001b[1;33m]\u001b[0m \u001b[1;33m<\u001b[0m \u001b[1;36m3\u001b[0m \u001b[1;32mand\u001b[0m \u001b[0misinstance\u001b[0m\u001b[1;33m(\u001b[0m\u001b[0mtext\u001b[0m\u001b[1;33m,\u001b[0m \u001b[0mstr\u001b[0m\u001b[1;33m)\u001b[0m\u001b[1;33m)\u001b[0m\u001b[1;33m\u001b[0m\u001b[1;33m\u001b[0m\u001b[0m\n\u001b[0;32m    264\u001b[0m \u001b[1;33m\u001b[0m\u001b[0m\n\u001b[1;32m--> 265\u001b[1;33m         \u001b[0minfos\u001b[0m \u001b[1;33m=\u001b[0m \u001b[0mself\u001b[0m\u001b[1;33m.\u001b[0m\u001b[0manalyze\u001b[0m\u001b[1;33m(\u001b[0m\u001b[0mtext\u001b[0m\u001b[1;33m)\u001b[0m\u001b[1;33m\u001b[0m\u001b[1;33m\u001b[0m\u001b[0m\n\u001b[0m\u001b[0;32m    266\u001b[0m         \u001b[0mlemmas\u001b[0m \u001b[1;33m=\u001b[0m \u001b[0mlist\u001b[0m\u001b[1;33m(\u001b[0m\u001b[0mfilter\u001b[0m\u001b[1;33m(\u001b[0m\u001b[1;32mNone\u001b[0m\u001b[1;33m,\u001b[0m \u001b[0mmap\u001b[0m\u001b[1;33m(\u001b[0m\u001b[0mself\u001b[0m\u001b[1;33m.\u001b[0m\u001b[0m_get_lemma\u001b[0m\u001b[1;33m,\u001b[0m \u001b[0minfos\u001b[0m\u001b[1;33m)\u001b[0m\u001b[1;33m)\u001b[0m\u001b[1;33m)\u001b[0m\u001b[1;33m\u001b[0m\u001b[1;33m\u001b[0m\u001b[0m\n\u001b[0;32m    267\u001b[0m \u001b[1;33m\u001b[0m\u001b[0m\n",
      "\u001b[1;32mC:\\anaconda3\\lib\\site-packages\\pymystem3\\mystem.py\u001b[0m in \u001b[0;36manalyze\u001b[1;34m(self, text)\u001b[0m\n\u001b[0;32m    248\u001b[0m         \u001b[0mresult\u001b[0m \u001b[1;33m=\u001b[0m \u001b[1;33m[\u001b[0m\u001b[1;33m]\u001b[0m\u001b[1;33m\u001b[0m\u001b[1;33m\u001b[0m\u001b[0m\n\u001b[0;32m    249\u001b[0m         \u001b[1;32mfor\u001b[0m \u001b[0mline\u001b[0m \u001b[1;32min\u001b[0m \u001b[0mtext\u001b[0m\u001b[1;33m.\u001b[0m\u001b[0msplitlines\u001b[0m\u001b[1;33m(\u001b[0m\u001b[1;33m)\u001b[0m\u001b[1;33m:\u001b[0m\u001b[1;33m\u001b[0m\u001b[1;33m\u001b[0m\u001b[0m\n\u001b[1;32m--> 250\u001b[1;33m             \u001b[0mresult\u001b[0m\u001b[1;33m.\u001b[0m\u001b[0mextend\u001b[0m\u001b[1;33m(\u001b[0m\u001b[0mself\u001b[0m\u001b[1;33m.\u001b[0m\u001b[0m_analyze_impl\u001b[0m\u001b[1;33m(\u001b[0m\u001b[0mline\u001b[0m\u001b[1;33m)\u001b[0m\u001b[1;33m)\u001b[0m\u001b[1;33m\u001b[0m\u001b[1;33m\u001b[0m\u001b[0m\n\u001b[0m\u001b[0;32m    251\u001b[0m         \u001b[1;32mreturn\u001b[0m \u001b[0mresult\u001b[0m\u001b[1;33m\u001b[0m\u001b[1;33m\u001b[0m\u001b[0m\n\u001b[0;32m    252\u001b[0m \u001b[1;33m\u001b[0m\u001b[0m\n",
      "\u001b[1;32mC:\\anaconda3\\lib\\site-packages\\pymystem3\\mystem.py\u001b[0m in \u001b[0;36m_analyze_impl\u001b[1;34m(self, text)\u001b[0m\n\u001b[0;32m    311\u001b[0m             \u001b[0mself\u001b[0m\u001b[1;33m.\u001b[0m\u001b[0m_procin\u001b[0m\u001b[1;33m.\u001b[0m\u001b[0mwrite\u001b[0m\u001b[1;33m(\u001b[0m\u001b[0m_NL\u001b[0m\u001b[1;33m)\u001b[0m\u001b[1;33m\u001b[0m\u001b[1;33m\u001b[0m\u001b[0m\n\u001b[0;32m    312\u001b[0m \u001b[1;33m\u001b[0m\u001b[0m\n\u001b[1;32m--> 313\u001b[1;33m             \u001b[0mout\u001b[0m\u001b[1;33m,\u001b[0m \u001b[0m_\u001b[0m \u001b[1;33m=\u001b[0m \u001b[0mself\u001b[0m\u001b[1;33m.\u001b[0m\u001b[0m_proc\u001b[0m\u001b[1;33m.\u001b[0m\u001b[0mcommunicate\u001b[0m\u001b[1;33m(\u001b[0m\u001b[1;33m)\u001b[0m\u001b[1;33m\u001b[0m\u001b[1;33m\u001b[0m\u001b[0m\n\u001b[0m\u001b[0;32m    314\u001b[0m             \u001b[0mself\u001b[0m\u001b[1;33m.\u001b[0m\u001b[0m_proc\u001b[0m \u001b[1;33m=\u001b[0m \u001b[1;32mNone\u001b[0m\u001b[1;33m\u001b[0m\u001b[1;33m\u001b[0m\u001b[0m\n\u001b[0;32m    315\u001b[0m             \u001b[1;32mtry\u001b[0m\u001b[1;33m:\u001b[0m\u001b[1;33m\u001b[0m\u001b[1;33m\u001b[0m\u001b[0m\n",
      "\u001b[1;32mC:\\anaconda3\\lib\\subprocess.py\u001b[0m in \u001b[0;36mcommunicate\u001b[1;34m(self, input, timeout)\u001b[0m\n\u001b[0;32m   1026\u001b[0m \u001b[1;33m\u001b[0m\u001b[0m\n\u001b[0;32m   1027\u001b[0m             \u001b[1;32mtry\u001b[0m\u001b[1;33m:\u001b[0m\u001b[1;33m\u001b[0m\u001b[1;33m\u001b[0m\u001b[0m\n\u001b[1;32m-> 1028\u001b[1;33m                 \u001b[0mstdout\u001b[0m\u001b[1;33m,\u001b[0m \u001b[0mstderr\u001b[0m \u001b[1;33m=\u001b[0m \u001b[0mself\u001b[0m\u001b[1;33m.\u001b[0m\u001b[0m_communicate\u001b[0m\u001b[1;33m(\u001b[0m\u001b[0minput\u001b[0m\u001b[1;33m,\u001b[0m \u001b[0mendtime\u001b[0m\u001b[1;33m,\u001b[0m \u001b[0mtimeout\u001b[0m\u001b[1;33m)\u001b[0m\u001b[1;33m\u001b[0m\u001b[1;33m\u001b[0m\u001b[0m\n\u001b[0m\u001b[0;32m   1029\u001b[0m             \u001b[1;32mexcept\u001b[0m \u001b[0mKeyboardInterrupt\u001b[0m\u001b[1;33m:\u001b[0m\u001b[1;33m\u001b[0m\u001b[1;33m\u001b[0m\u001b[0m\n\u001b[0;32m   1030\u001b[0m                 \u001b[1;31m# https://bugs.python.org/issue25942\u001b[0m\u001b[1;33m\u001b[0m\u001b[1;33m\u001b[0m\u001b[1;33m\u001b[0m\u001b[0m\n",
      "\u001b[1;32mC:\\anaconda3\\lib\\subprocess.py\u001b[0m in \u001b[0;36m_communicate\u001b[1;34m(self, input, endtime, orig_timeout)\u001b[0m\n\u001b[0;32m   1397\u001b[0m             \u001b[1;31m# calls communicate again.\u001b[0m\u001b[1;33m\u001b[0m\u001b[1;33m\u001b[0m\u001b[1;33m\u001b[0m\u001b[0m\n\u001b[0;32m   1398\u001b[0m             \u001b[1;32mif\u001b[0m \u001b[0mself\u001b[0m\u001b[1;33m.\u001b[0m\u001b[0mstdout\u001b[0m \u001b[1;32mis\u001b[0m \u001b[1;32mnot\u001b[0m \u001b[1;32mNone\u001b[0m\u001b[1;33m:\u001b[0m\u001b[1;33m\u001b[0m\u001b[1;33m\u001b[0m\u001b[0m\n\u001b[1;32m-> 1399\u001b[1;33m                 \u001b[0mself\u001b[0m\u001b[1;33m.\u001b[0m\u001b[0mstdout_thread\u001b[0m\u001b[1;33m.\u001b[0m\u001b[0mjoin\u001b[0m\u001b[1;33m(\u001b[0m\u001b[0mself\u001b[0m\u001b[1;33m.\u001b[0m\u001b[0m_remaining_time\u001b[0m\u001b[1;33m(\u001b[0m\u001b[0mendtime\u001b[0m\u001b[1;33m)\u001b[0m\u001b[1;33m)\u001b[0m\u001b[1;33m\u001b[0m\u001b[1;33m\u001b[0m\u001b[0m\n\u001b[0m\u001b[0;32m   1400\u001b[0m                 \u001b[1;32mif\u001b[0m \u001b[0mself\u001b[0m\u001b[1;33m.\u001b[0m\u001b[0mstdout_thread\u001b[0m\u001b[1;33m.\u001b[0m\u001b[0mis_alive\u001b[0m\u001b[1;33m(\u001b[0m\u001b[1;33m)\u001b[0m\u001b[1;33m:\u001b[0m\u001b[1;33m\u001b[0m\u001b[1;33m\u001b[0m\u001b[0m\n\u001b[0;32m   1401\u001b[0m                     \u001b[1;32mraise\u001b[0m \u001b[0mTimeoutExpired\u001b[0m\u001b[1;33m(\u001b[0m\u001b[0mself\u001b[0m\u001b[1;33m.\u001b[0m\u001b[0margs\u001b[0m\u001b[1;33m,\u001b[0m \u001b[0morig_timeout\u001b[0m\u001b[1;33m)\u001b[0m\u001b[1;33m\u001b[0m\u001b[1;33m\u001b[0m\u001b[0m\n",
      "\u001b[1;32mC:\\anaconda3\\lib\\threading.py\u001b[0m in \u001b[0;36mjoin\u001b[1;34m(self, timeout)\u001b[0m\n\u001b[0;32m   1009\u001b[0m \u001b[1;33m\u001b[0m\u001b[0m\n\u001b[0;32m   1010\u001b[0m         \u001b[1;32mif\u001b[0m \u001b[0mtimeout\u001b[0m \u001b[1;32mis\u001b[0m \u001b[1;32mNone\u001b[0m\u001b[1;33m:\u001b[0m\u001b[1;33m\u001b[0m\u001b[1;33m\u001b[0m\u001b[0m\n\u001b[1;32m-> 1011\u001b[1;33m             \u001b[0mself\u001b[0m\u001b[1;33m.\u001b[0m\u001b[0m_wait_for_tstate_lock\u001b[0m\u001b[1;33m(\u001b[0m\u001b[1;33m)\u001b[0m\u001b[1;33m\u001b[0m\u001b[1;33m\u001b[0m\u001b[0m\n\u001b[0m\u001b[0;32m   1012\u001b[0m         \u001b[1;32melse\u001b[0m\u001b[1;33m:\u001b[0m\u001b[1;33m\u001b[0m\u001b[1;33m\u001b[0m\u001b[0m\n\u001b[0;32m   1013\u001b[0m             \u001b[1;31m# the behavior of a negative timeout isn't documented, but\u001b[0m\u001b[1;33m\u001b[0m\u001b[1;33m\u001b[0m\u001b[1;33m\u001b[0m\u001b[0m\n",
      "\u001b[1;32mC:\\anaconda3\\lib\\threading.py\u001b[0m in \u001b[0;36m_wait_for_tstate_lock\u001b[1;34m(self, block, timeout)\u001b[0m\n\u001b[0;32m   1025\u001b[0m         \u001b[1;32mif\u001b[0m \u001b[0mlock\u001b[0m \u001b[1;32mis\u001b[0m \u001b[1;32mNone\u001b[0m\u001b[1;33m:\u001b[0m  \u001b[1;31m# already determined that the C code is done\u001b[0m\u001b[1;33m\u001b[0m\u001b[1;33m\u001b[0m\u001b[0m\n\u001b[0;32m   1026\u001b[0m             \u001b[1;32massert\u001b[0m \u001b[0mself\u001b[0m\u001b[1;33m.\u001b[0m\u001b[0m_is_stopped\u001b[0m\u001b[1;33m\u001b[0m\u001b[1;33m\u001b[0m\u001b[0m\n\u001b[1;32m-> 1027\u001b[1;33m         \u001b[1;32melif\u001b[0m \u001b[0mlock\u001b[0m\u001b[1;33m.\u001b[0m\u001b[0macquire\u001b[0m\u001b[1;33m(\u001b[0m\u001b[0mblock\u001b[0m\u001b[1;33m,\u001b[0m \u001b[0mtimeout\u001b[0m\u001b[1;33m)\u001b[0m\u001b[1;33m:\u001b[0m\u001b[1;33m\u001b[0m\u001b[1;33m\u001b[0m\u001b[0m\n\u001b[0m\u001b[0;32m   1028\u001b[0m             \u001b[0mlock\u001b[0m\u001b[1;33m.\u001b[0m\u001b[0mrelease\u001b[0m\u001b[1;33m(\u001b[0m\u001b[1;33m)\u001b[0m\u001b[1;33m\u001b[0m\u001b[1;33m\u001b[0m\u001b[0m\n\u001b[0;32m   1029\u001b[0m             \u001b[0mself\u001b[0m\u001b[1;33m.\u001b[0m\u001b[0m_stop\u001b[0m\u001b[1;33m(\u001b[0m\u001b[1;33m)\u001b[0m\u001b[1;33m\u001b[0m\u001b[1;33m\u001b[0m\u001b[0m\n",
      "\u001b[1;31mKeyboardInterrupt\u001b[0m: "
     ]
    }
   ],
   "source": [
    "# импорт библиотеки pymystem3 \n",
    "#from pymystem3 import Mystem\n",
    "# m = Mystem()\n",
    "\n",
    "# text_lemmas = '' # текстовая строка, куда будут записываться значения ячеек из столбца purpose\n",
    "# for i in range(len(df)):\n",
    "#     text_lemmas += df.loc[i, 'purpose'] + ' '\n",
    "# lemmas = m.lemmatize(text_lemmas) # лемматизация строки text_lemmas\n",
    "# # подсчет количества раз, которое встречается каждая лемма\n",
    "# #from collections import Counter\n",
    "# #print(Counter(lemmas))\n",
    "\n",
    "# lemmas_general = ['свадьба', 'автомобиль', 'образование', 'недвижимость'] # более общие цели кредита\n",
    "\n",
    "# # создание столбца purpose_lemma, где будут храниться лемматизированные значения ячеек из столбца purpose\n",
    "# df['purpose_lemma'] = df['purpose'].apply(m.lemmatize)\n",
    "# #print(df)\n",
    "\n",
    "# def general_purpose(purpose_lemma): #функция general_purpose находит пересечение списка lemmas_general и списка, находящегося в каждой ячейке столбца purpose_lemma\n",
    "#     for i in lemmas_general:\n",
    "#         intersection = ''\n",
    "#         if i in purpose_lemma:\n",
    "#             intersection = i\n",
    "#             return intersection\n",
    "# df['purpose_general'] = df['purpose_lemma'].apply(general_purpose) # создание столбца purpose_general, в котором будут храниться общие название для целей кредита\n",
    "# df.loc[df['purpose_general'] == 'None', 'purpose_general'] = 'недвижимость'\n",
    "# print(df)"
   ]
  },
  {
   "cell_type": "markdown",
   "metadata": {},
   "source": [
    "**Вывод**"
   ]
  },
  {
   "cell_type": "markdown",
   "metadata": {},
   "source": [
    "Чтобы провести лемматизацию целей кредита, сначала все значения столбца purpose были добавлены в строку text_lemmas, так как метод lemmatize() принимает аргументы в формате строки. Затем аргумент text_lemmas был лемматизирован при момощи метода lemmatize(). С помощью Counter была подсчитана частота встречаемости лемматизированных слов. Из результата работы Counter (список lemmas_general) можно выделить пять общих групп для всех целей кредитов: жилье, свадьба, автомобиль, образование, недвижимость. \n",
    "Затем был создан столбец purpose_lemma, в который были записаны списки из лемматизированных целей кредита. Далее необходимо сопоставить значения purpose_lemma значениям из списка lemmas_general. \n",
    "Функция general_purpose ищет пересение ячеек purpose_lemma со значениями из lemmas_general. Результат работы функции записывается в столбец purpose_general."
   ]
  },
  {
   "cell_type": "code",
   "execution_count": 20,
   "metadata": {},
   "outputs": [
    {
     "ename": "KeyError",
     "evalue": "'purpose_general'",
     "output_type": "error",
     "traceback": [
      "\u001b[1;31m---------------------------------------------------------------------------\u001b[0m",
      "\u001b[1;31mKeyError\u001b[0m                                  Traceback (most recent call last)",
      "\u001b[1;32m~\\anaconda3\\lib\\site-packages\\pandas\\core\\indexes\\base.py\u001b[0m in \u001b[0;36mget_loc\u001b[1;34m(self, key, method, tolerance)\u001b[0m\n\u001b[0;32m   3079\u001b[0m             \u001b[1;32mtry\u001b[0m\u001b[1;33m:\u001b[0m\u001b[1;33m\u001b[0m\u001b[1;33m\u001b[0m\u001b[0m\n\u001b[1;32m-> 3080\u001b[1;33m                 \u001b[1;32mreturn\u001b[0m \u001b[0mself\u001b[0m\u001b[1;33m.\u001b[0m\u001b[0m_engine\u001b[0m\u001b[1;33m.\u001b[0m\u001b[0mget_loc\u001b[0m\u001b[1;33m(\u001b[0m\u001b[0mcasted_key\u001b[0m\u001b[1;33m)\u001b[0m\u001b[1;33m\u001b[0m\u001b[1;33m\u001b[0m\u001b[0m\n\u001b[0m\u001b[0;32m   3081\u001b[0m             \u001b[1;32mexcept\u001b[0m \u001b[0mKeyError\u001b[0m \u001b[1;32mas\u001b[0m \u001b[0merr\u001b[0m\u001b[1;33m:\u001b[0m\u001b[1;33m\u001b[0m\u001b[1;33m\u001b[0m\u001b[0m\n",
      "\u001b[1;32mpandas\\_libs\\index.pyx\u001b[0m in \u001b[0;36mpandas._libs.index.IndexEngine.get_loc\u001b[1;34m()\u001b[0m\n",
      "\u001b[1;32mpandas\\_libs\\index.pyx\u001b[0m in \u001b[0;36mpandas._libs.index.IndexEngine.get_loc\u001b[1;34m()\u001b[0m\n",
      "\u001b[1;32mpandas\\_libs\\hashtable_class_helper.pxi\u001b[0m in \u001b[0;36mpandas._libs.hashtable.PyObjectHashTable.get_item\u001b[1;34m()\u001b[0m\n",
      "\u001b[1;32mpandas\\_libs\\hashtable_class_helper.pxi\u001b[0m in \u001b[0;36mpandas._libs.hashtable.PyObjectHashTable.get_item\u001b[1;34m()\u001b[0m\n",
      "\u001b[1;31mKeyError\u001b[0m: 'purpose_general'",
      "\nThe above exception was the direct cause of the following exception:\n",
      "\u001b[1;31mKeyError\u001b[0m                                  Traceback (most recent call last)",
      "\u001b[1;32m<ipython-input-20-5c0fcf54081d>\u001b[0m in \u001b[0;36m<module>\u001b[1;34m\u001b[0m\n\u001b[1;32m----> 1\u001b[1;33m \u001b[0mdf\u001b[0m\u001b[1;33m[\u001b[0m\u001b[1;34m'purpose_general'\u001b[0m\u001b[1;33m]\u001b[0m \u001b[1;33m=\u001b[0m \u001b[0mdf\u001b[0m\u001b[1;33m[\u001b[0m\u001b[1;34m'purpose_general'\u001b[0m\u001b[1;33m]\u001b[0m\u001b[1;33m.\u001b[0m\u001b[0mfillna\u001b[0m\u001b[1;33m(\u001b[0m\u001b[1;34m'недвижимость'\u001b[0m\u001b[1;33m)\u001b[0m\u001b[1;33m\u001b[0m\u001b[1;33m\u001b[0m\u001b[0m\n\u001b[0m\u001b[0;32m      2\u001b[0m \u001b[0mdf\u001b[0m\u001b[1;33m\u001b[0m\u001b[1;33m\u001b[0m\u001b[0m\n",
      "\u001b[1;32m~\\anaconda3\\lib\\site-packages\\pandas\\core\\frame.py\u001b[0m in \u001b[0;36m__getitem__\u001b[1;34m(self, key)\u001b[0m\n\u001b[0;32m   3022\u001b[0m             \u001b[1;32mif\u001b[0m \u001b[0mself\u001b[0m\u001b[1;33m.\u001b[0m\u001b[0mcolumns\u001b[0m\u001b[1;33m.\u001b[0m\u001b[0mnlevels\u001b[0m \u001b[1;33m>\u001b[0m \u001b[1;36m1\u001b[0m\u001b[1;33m:\u001b[0m\u001b[1;33m\u001b[0m\u001b[1;33m\u001b[0m\u001b[0m\n\u001b[0;32m   3023\u001b[0m                 \u001b[1;32mreturn\u001b[0m \u001b[0mself\u001b[0m\u001b[1;33m.\u001b[0m\u001b[0m_getitem_multilevel\u001b[0m\u001b[1;33m(\u001b[0m\u001b[0mkey\u001b[0m\u001b[1;33m)\u001b[0m\u001b[1;33m\u001b[0m\u001b[1;33m\u001b[0m\u001b[0m\n\u001b[1;32m-> 3024\u001b[1;33m             \u001b[0mindexer\u001b[0m \u001b[1;33m=\u001b[0m \u001b[0mself\u001b[0m\u001b[1;33m.\u001b[0m\u001b[0mcolumns\u001b[0m\u001b[1;33m.\u001b[0m\u001b[0mget_loc\u001b[0m\u001b[1;33m(\u001b[0m\u001b[0mkey\u001b[0m\u001b[1;33m)\u001b[0m\u001b[1;33m\u001b[0m\u001b[1;33m\u001b[0m\u001b[0m\n\u001b[0m\u001b[0;32m   3025\u001b[0m             \u001b[1;32mif\u001b[0m \u001b[0mis_integer\u001b[0m\u001b[1;33m(\u001b[0m\u001b[0mindexer\u001b[0m\u001b[1;33m)\u001b[0m\u001b[1;33m:\u001b[0m\u001b[1;33m\u001b[0m\u001b[1;33m\u001b[0m\u001b[0m\n\u001b[0;32m   3026\u001b[0m                 \u001b[0mindexer\u001b[0m \u001b[1;33m=\u001b[0m \u001b[1;33m[\u001b[0m\u001b[0mindexer\u001b[0m\u001b[1;33m]\u001b[0m\u001b[1;33m\u001b[0m\u001b[1;33m\u001b[0m\u001b[0m\n",
      "\u001b[1;32m~\\anaconda3\\lib\\site-packages\\pandas\\core\\indexes\\base.py\u001b[0m in \u001b[0;36mget_loc\u001b[1;34m(self, key, method, tolerance)\u001b[0m\n\u001b[0;32m   3080\u001b[0m                 \u001b[1;32mreturn\u001b[0m \u001b[0mself\u001b[0m\u001b[1;33m.\u001b[0m\u001b[0m_engine\u001b[0m\u001b[1;33m.\u001b[0m\u001b[0mget_loc\u001b[0m\u001b[1;33m(\u001b[0m\u001b[0mcasted_key\u001b[0m\u001b[1;33m)\u001b[0m\u001b[1;33m\u001b[0m\u001b[1;33m\u001b[0m\u001b[0m\n\u001b[0;32m   3081\u001b[0m             \u001b[1;32mexcept\u001b[0m \u001b[0mKeyError\u001b[0m \u001b[1;32mas\u001b[0m \u001b[0merr\u001b[0m\u001b[1;33m:\u001b[0m\u001b[1;33m\u001b[0m\u001b[1;33m\u001b[0m\u001b[0m\n\u001b[1;32m-> 3082\u001b[1;33m                 \u001b[1;32mraise\u001b[0m \u001b[0mKeyError\u001b[0m\u001b[1;33m(\u001b[0m\u001b[0mkey\u001b[0m\u001b[1;33m)\u001b[0m \u001b[1;32mfrom\u001b[0m \u001b[0merr\u001b[0m\u001b[1;33m\u001b[0m\u001b[1;33m\u001b[0m\u001b[0m\n\u001b[0m\u001b[0;32m   3083\u001b[0m \u001b[1;33m\u001b[0m\u001b[0m\n\u001b[0;32m   3084\u001b[0m         \u001b[1;32mif\u001b[0m \u001b[0mtolerance\u001b[0m \u001b[1;32mis\u001b[0m \u001b[1;32mnot\u001b[0m \u001b[1;32mNone\u001b[0m\u001b[1;33m:\u001b[0m\u001b[1;33m\u001b[0m\u001b[1;33m\u001b[0m\u001b[0m\n",
      "\u001b[1;31mKeyError\u001b[0m: 'purpose_general'"
     ]
    }
   ],
   "source": [
    "df['purpose_general'] = df['purpose_general'].fillna('недвижимость')\n",
    "df"
   ]
  },
  {
   "cell_type": "markdown",
   "metadata": {},
   "source": [
    "### Категоризация данных"
   ]
  },
  {
   "cell_type": "code",
   "execution_count": null,
   "metadata": {},
   "outputs": [],
   "source": [
    "# создание словаря уровней образования: ключи - цифровое обозначение уровня образования, значения - словесное обозначение уровня образования\n",
    "education_dict = df[['education_id', 'education']]\n",
    "education_dict = education_dict.drop_duplicates().reset_index(drop=True)\n",
    "print('Словарь для уровня образования')\n",
    "education_dict"
   ]
  },
  {
   "cell_type": "code",
   "execution_count": 22,
   "metadata": {},
   "outputs": [
    {
     "name": "stdout",
     "output_type": "stream",
     "text": [
      "Словарь для семейного положения\n"
     ]
    },
    {
     "data": {
      "text/html": [
       "<div>\n",
       "<style scoped>\n",
       "    .dataframe tbody tr th:only-of-type {\n",
       "        vertical-align: middle;\n",
       "    }\n",
       "\n",
       "    .dataframe tbody tr th {\n",
       "        vertical-align: top;\n",
       "    }\n",
       "\n",
       "    .dataframe thead th {\n",
       "        text-align: right;\n",
       "    }\n",
       "</style>\n",
       "<table border=\"1\" class=\"dataframe\">\n",
       "  <thead>\n",
       "    <tr style=\"text-align: right;\">\n",
       "      <th></th>\n",
       "      <th>family_status_id</th>\n",
       "      <th>family_status</th>\n",
       "    </tr>\n",
       "  </thead>\n",
       "  <tbody>\n",
       "    <tr>\n",
       "      <td>0</td>\n",
       "      <td>0</td>\n",
       "      <td>женат / замужем</td>\n",
       "    </tr>\n",
       "    <tr>\n",
       "      <td>1</td>\n",
       "      <td>1</td>\n",
       "      <td>гражданский брак</td>\n",
       "    </tr>\n",
       "    <tr>\n",
       "      <td>2</td>\n",
       "      <td>2</td>\n",
       "      <td>вдовец / вдова</td>\n",
       "    </tr>\n",
       "    <tr>\n",
       "      <td>3</td>\n",
       "      <td>3</td>\n",
       "      <td>в разводе</td>\n",
       "    </tr>\n",
       "    <tr>\n",
       "      <td>4</td>\n",
       "      <td>4</td>\n",
       "      <td>не женат / не замужем</td>\n",
       "    </tr>\n",
       "  </tbody>\n",
       "</table>\n",
       "</div>"
      ],
      "text/plain": [
       "   family_status_id          family_status\n",
       "0                 0        женат / замужем\n",
       "1                 1       гражданский брак\n",
       "2                 2         вдовец / вдова\n",
       "3                 3              в разводе\n",
       "4                 4  не женат / не замужем"
      ]
     },
     "execution_count": 22,
     "metadata": {},
     "output_type": "execute_result"
    }
   ],
   "source": [
    "# создание словаря семейных положений: ключи - цифровое обозначение семейного положения, значения - словесное обозначение семейного положения\n",
    "family_status_dict = df[['family_status_id', 'family_status']]\n",
    "family_status_dict = family_status_dict.drop_duplicates().reset_index(drop=True)\n",
    "print('Словарь для семейного положения')\n",
    "family_status_dict"
   ]
  },
  {
   "cell_type": "code",
   "execution_count": 22,
   "metadata": {
    "scrolled": true
   },
   "outputs": [
    {
     "name": "stdout",
     "output_type": "stream",
     "text": [
      "Словарь категорий доходов\n"
     ]
    },
    {
     "data": {
      "text/html": [
       "<div>\n",
       "<style scoped>\n",
       "    .dataframe tbody tr th:only-of-type {\n",
       "        vertical-align: middle;\n",
       "    }\n",
       "\n",
       "    .dataframe tbody tr th {\n",
       "        vertical-align: top;\n",
       "    }\n",
       "\n",
       "    .dataframe thead th {\n",
       "        text-align: right;\n",
       "    }\n",
       "</style>\n",
       "<table border=\"1\" class=\"dataframe\">\n",
       "  <thead>\n",
       "    <tr style=\"text-align: right;\">\n",
       "      <th></th>\n",
       "      <th>income_category</th>\n",
       "      <th>total_income</th>\n",
       "    </tr>\n",
       "  </thead>\n",
       "  <tbody>\n",
       "    <tr>\n",
       "      <td>0</td>\n",
       "      <td>high</td>\n",
       "      <td>253875</td>\n",
       "    </tr>\n",
       "    <tr>\n",
       "      <td>1</td>\n",
       "      <td>medium</td>\n",
       "      <td>112080</td>\n",
       "    </tr>\n",
       "    <tr>\n",
       "      <td>2</td>\n",
       "      <td>medium</td>\n",
       "      <td>145885</td>\n",
       "    </tr>\n",
       "    <tr>\n",
       "      <td>3</td>\n",
       "      <td>high</td>\n",
       "      <td>267628</td>\n",
       "    </tr>\n",
       "    <tr>\n",
       "      <td>4</td>\n",
       "      <td>medium</td>\n",
       "      <td>158616</td>\n",
       "    </tr>\n",
       "    <tr>\n",
       "      <td>...</td>\n",
       "      <td>...</td>\n",
       "      <td>...</td>\n",
       "    </tr>\n",
       "    <tr>\n",
       "      <td>18603</td>\n",
       "      <td>high</td>\n",
       "      <td>224791</td>\n",
       "    </tr>\n",
       "    <tr>\n",
       "      <td>18604</td>\n",
       "      <td>medium</td>\n",
       "      <td>155999</td>\n",
       "    </tr>\n",
       "    <tr>\n",
       "      <td>18605</td>\n",
       "      <td>low</td>\n",
       "      <td>89672</td>\n",
       "    </tr>\n",
       "    <tr>\n",
       "      <td>18606</td>\n",
       "      <td>high</td>\n",
       "      <td>244093</td>\n",
       "    </tr>\n",
       "    <tr>\n",
       "      <td>18607</td>\n",
       "      <td>low</td>\n",
       "      <td>82047</td>\n",
       "    </tr>\n",
       "  </tbody>\n",
       "</table>\n",
       "<p>18608 rows × 2 columns</p>\n",
       "</div>"
      ],
      "text/plain": [
       "      income_category  total_income\n",
       "0                high        253875\n",
       "1              medium        112080\n",
       "2              medium        145885\n",
       "3                high        267628\n",
       "4              medium        158616\n",
       "...               ...           ...\n",
       "18603            high        224791\n",
       "18604          medium        155999\n",
       "18605             low         89672\n",
       "18606            high        244093\n",
       "18607             low         82047\n",
       "\n",
       "[18608 rows x 2 columns]"
      ]
     },
     "execution_count": 22,
     "metadata": {},
     "output_type": "execute_result"
    }
   ],
   "source": [
    "print('Словарь категорий доходов')\n",
    "df['income_category']= pd.cut(df['total_income'], bins = [0, 100000, 200000, 500000], labels=['low', 'medium', 'high']) # разделение клиентов на три группы доход: 'low' - до 100 тысяч, 'medium' - от 100 до 200 тысяч, 'high' - больше 200 тысяч\n",
    "income_dict = df[['income_category', 'total_income']] # формирование словаря категорий доходов\n",
    "income_dict = income_dict.drop_duplicates().reset_index(drop=True)\n",
    "income_dict"
   ]
  },
  {
   "cell_type": "markdown",
   "metadata": {},
   "source": [
    "***Я переделала словарь для категорий доходов: с помощью метода cut разбила доходы на категории 'low', 'medium' и'high'***"
   ]
  },
  {
   "cell_type": "markdown",
   "metadata": {},
   "source": [
    "**Вывод**"
   ]
  },
  {
   "cell_type": "markdown",
   "metadata": {},
   "source": [
    "Было выделено три словаря: словарь уровня образования, словарь семейного положения и словарь медиан по категориям доходов. Словарь уровня образования и словарь семейного положения были сгруппированы, так как в исходном датафрейме есть и численное, и словесное описание уровня образования и семейного положения соответственно. В словаре медиан по категориям доходов в столбце income_type были выделены уникальные значения типов занятости, и по каждому типу занятости были посчитаны медианные значения зарплаты методом median()."
   ]
  },
  {
   "cell_type": "markdown",
   "metadata": {},
   "source": [
    "## Шаг 3. Ответьте на вопросы"
   ]
  },
  {
   "cell_type": "markdown",
   "metadata": {},
   "source": [
    "- Есть ли зависимость между наличием детей и возвратом кредита в срок?"
   ]
  },
  {
   "cell_type": "code",
   "execution_count": 23,
   "metadata": {},
   "outputs": [
    {
     "name": "stdout",
     "output_type": "stream",
     "text": [
      "debt            0       1 debt_percent\n",
      "children                              \n",
      "0         13028.0  1063.0        7.54%\n",
      "1          4410.0   445.0        9.17%\n",
      "2          1926.0   202.0        9.49%\n",
      "3           303.0    27.0        8.18%\n",
      "4            37.0     4.0        9.76%\n",
      "5             9.0     0.0         0.0%\n"
     ]
    }
   ],
   "source": [
    "df_children_debt = df.pivot_table(index=['children'], columns='debt', values='dob_years', aggfunc='count') # формирование сводной таблицы по столбцам children и debt\n",
    "#print(df_children_debt) #проверка получившейся сводной таблицы\n",
    "df_children_debt[1] = df_children_debt[1].fillna(value=0) # замена NaN в столбце 1 на 0\n",
    "def percent_debt(row): # функция, которая считает процент должников от общего количества заемщиков по каждой строке\n",
    "    no_debt = row[0]\n",
    "    yes_debt = row[1]\n",
    "    percent_int = 100*yes_debt/(yes_debt+no_debt)\n",
    "    percent = str(round(percent_int, 2)) + \"%\"\n",
    "    return percent\n",
    "df_children_debt['debt_percent'] = df_children_debt.apply(percent_debt, axis=1) # добавление столбца с процентами должников в таблицу df_children_debt\n",
    "print(df_children_debt)"
   ]
  },
  {
   "cell_type": "code",
   "execution_count": 24,
   "metadata": {},
   "outputs": [
    {
     "data": {
      "text/html": [
       "<style  type=\"text/css\" >\n",
       "</style><table id=\"T_d8dcf8f4_22fb_11ec_9a6a_02420a391711\" ><thead>    <tr>        <th class=\"blank level0\" ></th>        <th class=\"col_heading level0 col0\" >children</th>        <th class=\"col_heading level0 col1\" >Кол-во пользователей</th>        <th class=\"col_heading level0 col2\" >Кол-во должников</th>        <th class=\"col_heading level0 col3\" >% должников</th>        <th class=\"col_heading level0 col4\" >% НЕдолжников</th>    </tr></thead><tbody>\n",
       "                <tr>\n",
       "                        <th id=\"T_d8dcf8f4_22fb_11ec_9a6a_02420a391711level0_row0\" class=\"row_heading level0 row0\" >0</th>\n",
       "                        <td id=\"T_d8dcf8f4_22fb_11ec_9a6a_02420a391711row0_col0\" class=\"data row0 col0\" >0</td>\n",
       "                        <td id=\"T_d8dcf8f4_22fb_11ec_9a6a_02420a391711row0_col1\" class=\"data row0 col1\" >14091</td>\n",
       "                        <td id=\"T_d8dcf8f4_22fb_11ec_9a6a_02420a391711row0_col2\" class=\"data row0 col2\" >1063</td>\n",
       "                        <td id=\"T_d8dcf8f4_22fb_11ec_9a6a_02420a391711row0_col3\" class=\"data row0 col3\" >7.54%</td>\n",
       "                        <td id=\"T_d8dcf8f4_22fb_11ec_9a6a_02420a391711row0_col4\" class=\"data row0 col4\" >92.46%</td>\n",
       "            </tr>\n",
       "            <tr>\n",
       "                        <th id=\"T_d8dcf8f4_22fb_11ec_9a6a_02420a391711level0_row1\" class=\"row_heading level0 row1\" >1</th>\n",
       "                        <td id=\"T_d8dcf8f4_22fb_11ec_9a6a_02420a391711row1_col0\" class=\"data row1 col0\" >1</td>\n",
       "                        <td id=\"T_d8dcf8f4_22fb_11ec_9a6a_02420a391711row1_col1\" class=\"data row1 col1\" >4855</td>\n",
       "                        <td id=\"T_d8dcf8f4_22fb_11ec_9a6a_02420a391711row1_col2\" class=\"data row1 col2\" >445</td>\n",
       "                        <td id=\"T_d8dcf8f4_22fb_11ec_9a6a_02420a391711row1_col3\" class=\"data row1 col3\" >9.17%</td>\n",
       "                        <td id=\"T_d8dcf8f4_22fb_11ec_9a6a_02420a391711row1_col4\" class=\"data row1 col4\" >90.83%</td>\n",
       "            </tr>\n",
       "            <tr>\n",
       "                        <th id=\"T_d8dcf8f4_22fb_11ec_9a6a_02420a391711level0_row2\" class=\"row_heading level0 row2\" >2</th>\n",
       "                        <td id=\"T_d8dcf8f4_22fb_11ec_9a6a_02420a391711row2_col0\" class=\"data row2 col0\" >2</td>\n",
       "                        <td id=\"T_d8dcf8f4_22fb_11ec_9a6a_02420a391711row2_col1\" class=\"data row2 col1\" >2128</td>\n",
       "                        <td id=\"T_d8dcf8f4_22fb_11ec_9a6a_02420a391711row2_col2\" class=\"data row2 col2\" >202</td>\n",
       "                        <td id=\"T_d8dcf8f4_22fb_11ec_9a6a_02420a391711row2_col3\" class=\"data row2 col3\" >9.49%</td>\n",
       "                        <td id=\"T_d8dcf8f4_22fb_11ec_9a6a_02420a391711row2_col4\" class=\"data row2 col4\" >90.51%</td>\n",
       "            </tr>\n",
       "            <tr>\n",
       "                        <th id=\"T_d8dcf8f4_22fb_11ec_9a6a_02420a391711level0_row3\" class=\"row_heading level0 row3\" >3</th>\n",
       "                        <td id=\"T_d8dcf8f4_22fb_11ec_9a6a_02420a391711row3_col0\" class=\"data row3 col0\" >3</td>\n",
       "                        <td id=\"T_d8dcf8f4_22fb_11ec_9a6a_02420a391711row3_col1\" class=\"data row3 col1\" >330</td>\n",
       "                        <td id=\"T_d8dcf8f4_22fb_11ec_9a6a_02420a391711row3_col2\" class=\"data row3 col2\" >27</td>\n",
       "                        <td id=\"T_d8dcf8f4_22fb_11ec_9a6a_02420a391711row3_col3\" class=\"data row3 col3\" >8.18%</td>\n",
       "                        <td id=\"T_d8dcf8f4_22fb_11ec_9a6a_02420a391711row3_col4\" class=\"data row3 col4\" >91.82%</td>\n",
       "            </tr>\n",
       "            <tr>\n",
       "                        <th id=\"T_d8dcf8f4_22fb_11ec_9a6a_02420a391711level0_row4\" class=\"row_heading level0 row4\" >4</th>\n",
       "                        <td id=\"T_d8dcf8f4_22fb_11ec_9a6a_02420a391711row4_col0\" class=\"data row4 col0\" >4</td>\n",
       "                        <td id=\"T_d8dcf8f4_22fb_11ec_9a6a_02420a391711row4_col1\" class=\"data row4 col1\" >41</td>\n",
       "                        <td id=\"T_d8dcf8f4_22fb_11ec_9a6a_02420a391711row4_col2\" class=\"data row4 col2\" >4</td>\n",
       "                        <td id=\"T_d8dcf8f4_22fb_11ec_9a6a_02420a391711row4_col3\" class=\"data row4 col3\" >9.76%</td>\n",
       "                        <td id=\"T_d8dcf8f4_22fb_11ec_9a6a_02420a391711row4_col4\" class=\"data row4 col4\" >90.24%</td>\n",
       "            </tr>\n",
       "            <tr>\n",
       "                        <th id=\"T_d8dcf8f4_22fb_11ec_9a6a_02420a391711level0_row5\" class=\"row_heading level0 row5\" >5</th>\n",
       "                        <td id=\"T_d8dcf8f4_22fb_11ec_9a6a_02420a391711row5_col0\" class=\"data row5 col0\" >5</td>\n",
       "                        <td id=\"T_d8dcf8f4_22fb_11ec_9a6a_02420a391711row5_col1\" class=\"data row5 col1\" >9</td>\n",
       "                        <td id=\"T_d8dcf8f4_22fb_11ec_9a6a_02420a391711row5_col2\" class=\"data row5 col2\" >0</td>\n",
       "                        <td id=\"T_d8dcf8f4_22fb_11ec_9a6a_02420a391711row5_col3\" class=\"data row5 col3\" >0.00%</td>\n",
       "                        <td id=\"T_d8dcf8f4_22fb_11ec_9a6a_02420a391711row5_col4\" class=\"data row5 col4\" >100.00%</td>\n",
       "            </tr>\n",
       "    </tbody></table>"
      ],
      "text/plain": [
       "<pandas.io.formats.style.Styler at 0x7fad3d181a50>"
      ]
     },
     "execution_count": 24,
     "metadata": {},
     "output_type": "execute_result"
    }
   ],
   "source": [
    "df_example = df.groupby('children')['debt'].agg(['count', 'sum', 'mean', lambda x: 1 - x.mean()])\n",
    "df_example.columns = ['Кол-во пользователей', 'Кол-во должников', '% должников', '% НЕдолжников']\n",
    "df_example.reset_index().style.format({'% должников': '{:.2%}', '% НЕдолжников': '{:.2%}'})"
   ]
  },
  {
   "cell_type": "code",
   "execution_count": 25,
   "metadata": {},
   "outputs": [
    {
     "data": {
      "text/html": [
       "<div>\n",
       "<style scoped>\n",
       "    .dataframe tbody tr th:only-of-type {\n",
       "        vertical-align: middle;\n",
       "    }\n",
       "\n",
       "    .dataframe tbody tr th {\n",
       "        vertical-align: top;\n",
       "    }\n",
       "\n",
       "    .dataframe thead th {\n",
       "        text-align: right;\n",
       "    }\n",
       "</style>\n",
       "<table border=\"1\" class=\"dataframe\">\n",
       "  <thead>\n",
       "    <tr style=\"text-align: right;\">\n",
       "      <th></th>\n",
       "      <th>children</th>\n",
       "      <th>days_employed</th>\n",
       "      <th>dob_years</th>\n",
       "      <th>education</th>\n",
       "      <th>education_id</th>\n",
       "      <th>family_status</th>\n",
       "      <th>family_status_id</th>\n",
       "      <th>gender</th>\n",
       "      <th>income_type</th>\n",
       "      <th>debt</th>\n",
       "      <th>total_income</th>\n",
       "      <th>purpose</th>\n",
       "      <th>purpose_lemma</th>\n",
       "      <th>purpose_general</th>\n",
       "    </tr>\n",
       "  </thead>\n",
       "  <tbody>\n",
       "    <tr>\n",
       "      <td>0</td>\n",
       "      <td>1</td>\n",
       "      <td>-8437</td>\n",
       "      <td>42</td>\n",
       "      <td>высшее</td>\n",
       "      <td>0</td>\n",
       "      <td>женат / замужем</td>\n",
       "      <td>0</td>\n",
       "      <td>F</td>\n",
       "      <td>сотрудник</td>\n",
       "      <td>0</td>\n",
       "      <td>253875</td>\n",
       "      <td>покупка жилья</td>\n",
       "      <td>[покупка,  , жилье, \\n]</td>\n",
       "      <td>недвижимость</td>\n",
       "    </tr>\n",
       "    <tr>\n",
       "      <td>1</td>\n",
       "      <td>1</td>\n",
       "      <td>-4024</td>\n",
       "      <td>36</td>\n",
       "      <td>среднее</td>\n",
       "      <td>1</td>\n",
       "      <td>женат / замужем</td>\n",
       "      <td>0</td>\n",
       "      <td>F</td>\n",
       "      <td>сотрудник</td>\n",
       "      <td>0</td>\n",
       "      <td>112080</td>\n",
       "      <td>приобретение автомобиля</td>\n",
       "      <td>[приобретение,  , автомобиль, \\n]</td>\n",
       "      <td>автомобиль</td>\n",
       "    </tr>\n",
       "    <tr>\n",
       "      <td>2</td>\n",
       "      <td>0</td>\n",
       "      <td>-5623</td>\n",
       "      <td>33</td>\n",
       "      <td>среднее</td>\n",
       "      <td>1</td>\n",
       "      <td>женат / замужем</td>\n",
       "      <td>0</td>\n",
       "      <td>M</td>\n",
       "      <td>сотрудник</td>\n",
       "      <td>0</td>\n",
       "      <td>145885</td>\n",
       "      <td>покупка жилья</td>\n",
       "      <td>[покупка,  , жилье, \\n]</td>\n",
       "      <td>недвижимость</td>\n",
       "    </tr>\n",
       "    <tr>\n",
       "      <td>3</td>\n",
       "      <td>3</td>\n",
       "      <td>-4124</td>\n",
       "      <td>32</td>\n",
       "      <td>среднее</td>\n",
       "      <td>1</td>\n",
       "      <td>женат / замужем</td>\n",
       "      <td>0</td>\n",
       "      <td>M</td>\n",
       "      <td>сотрудник</td>\n",
       "      <td>0</td>\n",
       "      <td>267628</td>\n",
       "      <td>дополнительное образование</td>\n",
       "      <td>[дополнительный,  , образование, \\n]</td>\n",
       "      <td>образование</td>\n",
       "    </tr>\n",
       "    <tr>\n",
       "      <td>4</td>\n",
       "      <td>0</td>\n",
       "      <td>340266</td>\n",
       "      <td>53</td>\n",
       "      <td>среднее</td>\n",
       "      <td>1</td>\n",
       "      <td>гражданский брак</td>\n",
       "      <td>1</td>\n",
       "      <td>F</td>\n",
       "      <td>пенсионер</td>\n",
       "      <td>0</td>\n",
       "      <td>158616</td>\n",
       "      <td>сыграть свадьбу</td>\n",
       "      <td>[сыграть,  , свадьба, \\n]</td>\n",
       "      <td>свадьба</td>\n",
       "    </tr>\n",
       "  </tbody>\n",
       "</table>\n",
       "</div>"
      ],
      "text/plain": [
       "   children  days_employed  dob_years education  education_id  \\\n",
       "0         1          -8437         42    высшее             0   \n",
       "1         1          -4024         36   среднее             1   \n",
       "2         0          -5623         33   среднее             1   \n",
       "3         3          -4124         32   среднее             1   \n",
       "4         0         340266         53   среднее             1   \n",
       "\n",
       "      family_status  family_status_id gender income_type  debt  total_income  \\\n",
       "0   женат / замужем                 0      F   сотрудник     0        253875   \n",
       "1   женат / замужем                 0      F   сотрудник     0        112080   \n",
       "2   женат / замужем                 0      M   сотрудник     0        145885   \n",
       "3   женат / замужем                 0      M   сотрудник     0        267628   \n",
       "4  гражданский брак                 1      F   пенсионер     0        158616   \n",
       "\n",
       "                      purpose                         purpose_lemma  \\\n",
       "0               покупка жилья               [покупка,  , жилье, \\n]   \n",
       "1     приобретение автомобиля     [приобретение,  , автомобиль, \\n]   \n",
       "2               покупка жилья               [покупка,  , жилье, \\n]   \n",
       "3  дополнительное образование  [дополнительный,  , образование, \\n]   \n",
       "4             сыграть свадьбу             [сыграть,  , свадьба, \\n]   \n",
       "\n",
       "  purpose_general  \n",
       "0    недвижимость  \n",
       "1      автомобиль  \n",
       "2    недвижимость  \n",
       "3     образование  \n",
       "4         свадьба  "
      ]
     },
     "execution_count": 25,
     "metadata": {},
     "output_type": "execute_result"
    }
   ],
   "source": [
    "df.head()"
   ]
  },
  {
   "cell_type": "code",
   "execution_count": 37,
   "metadata": {
    "scrolled": true
   },
   "outputs": [
    {
     "data": {
      "text/html": [
       "<div>\n",
       "<style scoped>\n",
       "    .dataframe tbody tr th:only-of-type {\n",
       "        vertical-align: middle;\n",
       "    }\n",
       "\n",
       "    .dataframe tbody tr th {\n",
       "        vertical-align: top;\n",
       "    }\n",
       "\n",
       "    .dataframe thead th {\n",
       "        text-align: right;\n",
       "    }\n",
       "</style>\n",
       "<table border=\"1\" class=\"dataframe\">\n",
       "  <thead>\n",
       "    <tr style=\"text-align: right;\">\n",
       "      <th>children</th>\n",
       "      <th>0</th>\n",
       "      <th>1</th>\n",
       "      <th>2</th>\n",
       "      <th>3</th>\n",
       "      <th>4</th>\n",
       "      <th>5</th>\n",
       "      <th>median_income</th>\n",
       "    </tr>\n",
       "    <tr>\n",
       "      <th>income_type</th>\n",
       "      <th></th>\n",
       "      <th></th>\n",
       "      <th></th>\n",
       "      <th></th>\n",
       "      <th></th>\n",
       "      <th></th>\n",
       "      <th></th>\n",
       "    </tr>\n",
       "  </thead>\n",
       "  <tbody>\n",
       "    <tr>\n",
       "      <td>безработный</td>\n",
       "      <td>1</td>\n",
       "      <td>1</td>\n",
       "      <td>-</td>\n",
       "      <td>-</td>\n",
       "      <td>-</td>\n",
       "      <td>-</td>\n",
       "      <td>131339</td>\n",
       "    </tr>\n",
       "    <tr>\n",
       "      <td>в декрете</td>\n",
       "      <td>-</td>\n",
       "      <td>-</td>\n",
       "      <td>1</td>\n",
       "      <td>-</td>\n",
       "      <td>-</td>\n",
       "      <td>-</td>\n",
       "      <td>53829</td>\n",
       "    </tr>\n",
       "    <tr>\n",
       "      <td>госслужащий</td>\n",
       "      <td>866</td>\n",
       "      <td>358</td>\n",
       "      <td>189</td>\n",
       "      <td>36</td>\n",
       "      <td>7</td>\n",
       "      <td>1</td>\n",
       "      <td>150447</td>\n",
       "    </tr>\n",
       "    <tr>\n",
       "      <td>компаньон</td>\n",
       "      <td>3137</td>\n",
       "      <td>1307</td>\n",
       "      <td>551</td>\n",
       "      <td>79</td>\n",
       "      <td>2</td>\n",
       "      <td>2</td>\n",
       "      <td>172357</td>\n",
       "    </tr>\n",
       "    <tr>\n",
       "      <td>пенсионер</td>\n",
       "      <td>3510</td>\n",
       "      <td>283</td>\n",
       "      <td>29</td>\n",
       "      <td>6</td>\n",
       "      <td>1</td>\n",
       "      <td>-</td>\n",
       "      <td>118514</td>\n",
       "    </tr>\n",
       "    <tr>\n",
       "      <td>предприниматель</td>\n",
       "      <td>2</td>\n",
       "      <td>-</td>\n",
       "      <td>-</td>\n",
       "      <td>-</td>\n",
       "      <td>-</td>\n",
       "      <td>-</td>\n",
       "      <td>499163</td>\n",
       "    </tr>\n",
       "    <tr>\n",
       "      <td>сотрудник</td>\n",
       "      <td>6574</td>\n",
       "      <td>2906</td>\n",
       "      <td>1358</td>\n",
       "      <td>209</td>\n",
       "      <td>31</td>\n",
       "      <td>6</td>\n",
       "      <td>142594</td>\n",
       "    </tr>\n",
       "    <tr>\n",
       "      <td>студент</td>\n",
       "      <td>1</td>\n",
       "      <td>-</td>\n",
       "      <td>-</td>\n",
       "      <td>-</td>\n",
       "      <td>-</td>\n",
       "      <td>-</td>\n",
       "      <td>98201</td>\n",
       "    </tr>\n",
       "  </tbody>\n",
       "</table>\n",
       "</div>"
      ],
      "text/plain": [
       "children            0     1     2    3   4  5  median_income\n",
       "income_type                                                 \n",
       "безработный         1     1     -    -   -  -         131339\n",
       "в декрете           -     -     1    -   -  -          53829\n",
       "госслужащий       866   358   189   36   7  1         150447\n",
       "компаньон        3137  1307   551   79   2  2         172357\n",
       "пенсионер        3510   283    29    6   1  -         118514\n",
       "предприниматель     2     -     -    -   -  -         499163\n",
       "сотрудник        6574  2906  1358  209  31  6         142594\n",
       "студент             1     -     -    -   -  -          98201"
      ]
     },
     "execution_count": 37,
     "metadata": {},
     "output_type": "execute_result"
    }
   ],
   "source": [
    "df_children_income = df.pivot_table(index=['income_type'], columns='children', values='dob_years', aggfunc='count')\n",
    "df_children_income = df_children_income.fillna(value='-')\n",
    "df_children_income['median_income'] = df.groupby('income_type')['total_income'].median()\n",
    "df_children_income"
   ]
  },
  {
   "cell_type": "markdown",
   "metadata": {},
   "source": [
    "**Вывод**"
   ]
  },
  {
   "cell_type": "markdown",
   "metadata": {},
   "source": [
    "Количество должников в процентном соотношении увеличивается с увеличением количества детей, при том, что люди с одним ребенок, как и люди с пятью детьми нередко находятся в одной категории доходов (в категории 'medium'). Возможно, это связано с тем, что с увеличением количества детей возрастают расходы, и у заемщиков становится меньше средств на возраст долга."
   ]
  },
  {
   "cell_type": "markdown",
   "metadata": {},
   "source": [
    "- Есть ли зависимость между семейным положением и возвратом кредита в срок?"
   ]
  },
  {
   "cell_type": "code",
   "execution_count": 27,
   "metadata": {},
   "outputs": [
    {
     "name": "stdout",
     "output_type": "stream",
     "text": [
      "debt                       0    1 debt_percent\n",
      "family_status                                 \n",
      "в разводе               1110   85        7.11%\n",
      "вдовец / вдова           896   63        6.57%\n",
      "гражданский брак        3763  388        9.35%\n",
      "женат / замужем        11408  931        7.55%\n",
      "не женат / не замужем   2536  274        9.75%\n"
     ]
    }
   ],
   "source": [
    "df_family_debt = df.pivot_table(index=['family_status'], columns='debt', values='dob_years', aggfunc='count') # создание сводной таблицы по семейному положению и количеству должников в зависимости от семейного положения\n",
    "df_family_debt['debt_percent'] = df_family_debt.apply(percent_debt, axis=1) # создание столбца с процентом должников от общего числа заемщиков по каждой категории семейного положения \n",
    "print(df_family_debt)\n"
   ]
  },
  {
   "cell_type": "code",
   "execution_count": 28,
   "metadata": {},
   "outputs": [
    {
     "data": {
      "text/html": [
       "<style  type=\"text/css\" >\n",
       "</style><table id=\"T_1566c910_229a_11ec_b740_02420a3910fe\" ><thead>    <tr>        <th class=\"blank level0\" ></th>        <th class=\"col_heading level0 col0\" >family_status</th>        <th class=\"col_heading level0 col1\" >Кол-во пользователей</th>        <th class=\"col_heading level0 col2\" >Кол-во должников</th>        <th class=\"col_heading level0 col3\" >% должников</th>        <th class=\"col_heading level0 col4\" >% НЕдолжников</th>    </tr></thead><tbody>\n",
       "                <tr>\n",
       "                        <th id=\"T_1566c910_229a_11ec_b740_02420a3910felevel0_row0\" class=\"row_heading level0 row0\" >0</th>\n",
       "                        <td id=\"T_1566c910_229a_11ec_b740_02420a3910ferow0_col0\" class=\"data row0 col0\" >в разводе</td>\n",
       "                        <td id=\"T_1566c910_229a_11ec_b740_02420a3910ferow0_col1\" class=\"data row0 col1\" >1195</td>\n",
       "                        <td id=\"T_1566c910_229a_11ec_b740_02420a3910ferow0_col2\" class=\"data row0 col2\" >85</td>\n",
       "                        <td id=\"T_1566c910_229a_11ec_b740_02420a3910ferow0_col3\" class=\"data row0 col3\" >7.11%</td>\n",
       "                        <td id=\"T_1566c910_229a_11ec_b740_02420a3910ferow0_col4\" class=\"data row0 col4\" >92.89%</td>\n",
       "            </tr>\n",
       "            <tr>\n",
       "                        <th id=\"T_1566c910_229a_11ec_b740_02420a3910felevel0_row1\" class=\"row_heading level0 row1\" >1</th>\n",
       "                        <td id=\"T_1566c910_229a_11ec_b740_02420a3910ferow1_col0\" class=\"data row1 col0\" >вдовец / вдова</td>\n",
       "                        <td id=\"T_1566c910_229a_11ec_b740_02420a3910ferow1_col1\" class=\"data row1 col1\" >959</td>\n",
       "                        <td id=\"T_1566c910_229a_11ec_b740_02420a3910ferow1_col2\" class=\"data row1 col2\" >63</td>\n",
       "                        <td id=\"T_1566c910_229a_11ec_b740_02420a3910ferow1_col3\" class=\"data row1 col3\" >6.57%</td>\n",
       "                        <td id=\"T_1566c910_229a_11ec_b740_02420a3910ferow1_col4\" class=\"data row1 col4\" >93.43%</td>\n",
       "            </tr>\n",
       "            <tr>\n",
       "                        <th id=\"T_1566c910_229a_11ec_b740_02420a3910felevel0_row2\" class=\"row_heading level0 row2\" >2</th>\n",
       "                        <td id=\"T_1566c910_229a_11ec_b740_02420a3910ferow2_col0\" class=\"data row2 col0\" >гражданский брак</td>\n",
       "                        <td id=\"T_1566c910_229a_11ec_b740_02420a3910ferow2_col1\" class=\"data row2 col1\" >4151</td>\n",
       "                        <td id=\"T_1566c910_229a_11ec_b740_02420a3910ferow2_col2\" class=\"data row2 col2\" >388</td>\n",
       "                        <td id=\"T_1566c910_229a_11ec_b740_02420a3910ferow2_col3\" class=\"data row2 col3\" >9.35%</td>\n",
       "                        <td id=\"T_1566c910_229a_11ec_b740_02420a3910ferow2_col4\" class=\"data row2 col4\" >90.65%</td>\n",
       "            </tr>\n",
       "            <tr>\n",
       "                        <th id=\"T_1566c910_229a_11ec_b740_02420a3910felevel0_row3\" class=\"row_heading level0 row3\" >3</th>\n",
       "                        <td id=\"T_1566c910_229a_11ec_b740_02420a3910ferow3_col0\" class=\"data row3 col0\" >женат / замужем</td>\n",
       "                        <td id=\"T_1566c910_229a_11ec_b740_02420a3910ferow3_col1\" class=\"data row3 col1\" >12339</td>\n",
       "                        <td id=\"T_1566c910_229a_11ec_b740_02420a3910ferow3_col2\" class=\"data row3 col2\" >931</td>\n",
       "                        <td id=\"T_1566c910_229a_11ec_b740_02420a3910ferow3_col3\" class=\"data row3 col3\" >7.55%</td>\n",
       "                        <td id=\"T_1566c910_229a_11ec_b740_02420a3910ferow3_col4\" class=\"data row3 col4\" >92.45%</td>\n",
       "            </tr>\n",
       "            <tr>\n",
       "                        <th id=\"T_1566c910_229a_11ec_b740_02420a3910felevel0_row4\" class=\"row_heading level0 row4\" >4</th>\n",
       "                        <td id=\"T_1566c910_229a_11ec_b740_02420a3910ferow4_col0\" class=\"data row4 col0\" >не женат / не замужем</td>\n",
       "                        <td id=\"T_1566c910_229a_11ec_b740_02420a3910ferow4_col1\" class=\"data row4 col1\" >2810</td>\n",
       "                        <td id=\"T_1566c910_229a_11ec_b740_02420a3910ferow4_col2\" class=\"data row4 col2\" >274</td>\n",
       "                        <td id=\"T_1566c910_229a_11ec_b740_02420a3910ferow4_col3\" class=\"data row4 col3\" >9.75%</td>\n",
       "                        <td id=\"T_1566c910_229a_11ec_b740_02420a3910ferow4_col4\" class=\"data row4 col4\" >90.25%</td>\n",
       "            </tr>\n",
       "    </tbody></table>"
      ],
      "text/plain": [
       "<pandas.io.formats.style.Styler at 0x7f4c34dccdd0>"
      ]
     },
     "execution_count": 28,
     "metadata": {},
     "output_type": "execute_result"
    }
   ],
   "source": [
    "df_family_and_debt = df.groupby('family_status')['debt'].agg(['count', 'sum', 'mean', lambda x: 1 - x.mean()])\n",
    "df_family_and_debt.columns = ['Кол-во пользователей', 'Кол-во должников', '% должников', '% НЕдолжников']\n",
    "df_family_and_debt.reset_index().style.format({'% должников': '{:.2%}', '% НЕдолжников': '{:.2%}'})"
   ]
  },
  {
   "cell_type": "code",
   "execution_count": 29,
   "metadata": {},
   "outputs": [
    {
     "name": "stdout",
     "output_type": "stream",
     "text": [
      "purpose_general        автомобиль  недвижимость  образование свадьба\n",
      "family_status                                                       \n",
      "в разводе                   281.0         676.0        238.0       -\n",
      "вдовец / вдова              218.0         542.0        199.0       -\n",
      "гражданский брак            434.0         989.0        404.0    2324\n",
      "женат / замужем            2736.0        7008.0       2595.0       -\n",
      "не женат / не замужем       637.0        1596.0        577.0       -\n"
     ]
    }
   ],
   "source": [
    "# связаны ли цели кредита с семейным статусом?\n",
    "df_family_purpose = df.pivot_table(index=['family_status',], columns='purpose_general', values='dob_years', aggfunc='count') # создание сводной таблицы, где каждому семейному положению соответствует количесвто кредитов по каждой цели \n",
    "df_family_purpose = df_family_purpose.fillna(value='-') # замена пропущенных значений на \"-\"\n",
    "print(df_family_purpose)"
   ]
  },
  {
   "cell_type": "markdown",
   "metadata": {},
   "source": [
    "**Вывод**"
   ]
  },
  {
   "cell_type": "markdown",
   "metadata": {},
   "source": [
    "Факт того, состоит или нет человек в отношениях, не сильно влияет на вероятность того, что он не отдаст кредит (как люди в гражданском браке, так и люди, которые не женаты/не замужен, в примерно 9% случаях являются должниками. но при этом люди в разводе и женатые/замужние люди являются долдниками примерно в 7% случаев). Меньше всего кредитов берут вдовы или вдовцы, скорее всего из-за меньшей финансовой поддержки, но при этом лучше всего отдают кредиты. Больше всего кредитов берут люди в браке, так как в браке появляется больше материальных потребностей (покупка машины, ипотека), но часто являются должниками."
   ]
  },
  {
   "cell_type": "markdown",
   "metadata": {},
   "source": [
    "- Есть ли зависимость между уровнем дохода и возвратом кредита в срок?"
   ]
  },
  {
   "cell_type": "code",
   "execution_count": 35,
   "metadata": {},
   "outputs": [
    {
     "name": "stdout",
     "output_type": "stream",
     "text": [
      "\n"
     ]
    }
   ],
   "source": [
    "df_income_debt = df.pivot_table(index=['income_type'], columns='debt', values='dob_years', aggfunc='count') # \n",
    "df_income_debt[0] = df_income_debt[0].fillna(value=0) # заполнение NaN в столбце 0 нулями\n",
    "df_income_debt[1] = df_income_debt[1].fillna(value=0) # заполнение NaN в столбце 1 нулями\n",
    "df_income_debt['debt_percent'] = df_income_debt.apply(percent_debt, axis=1)"
   ]
  },
  {
   "cell_type": "code",
   "execution_count": 39,
   "metadata": {},
   "outputs": [
    {
     "name": "stdout",
     "output_type": "stream",
     "text": [
      "purpose_general автомобиль недвижимость образование свадьба  median_income\n",
      "income_type                                                               \n",
      "безработный              -            2           -       -         131339\n",
      "в декрете                1            -           -       -          53829\n",
      "госслужащий            286          754         258     159         150447\n",
      "компаньон             1052         2547         954     525         172357\n",
      "пенсионер              795         1891         721     422         118514\n",
      "предприниматель          -            1           -       1         499163\n",
      "сотрудник             2172         5615        2080    1217         142594\n",
      "студент                  -            1           -       -          98201\n"
     ]
    }
   ],
   "source": [
    "# сотрудники и госслужащие получают примерно одинаковую зарплату, но среди сотрудников почти в 2 раза больше должников. Почему?\n",
    "# связан ли долг по кредиту с целями кредита по разным категориям дохода? Берут ли сотрудники более дорогие кредиты по сравнению с госслужащими?\n",
    "df_income_purpose = df.pivot_table(index=['income_type'], columns='purpose_general', values='dob_years', aggfunc='count') # сводная таблица по категориям дохода и целям кредита\n",
    "df_income_purpose = df_income_purpose.fillna(value='-') # замена пустых значений на прочерк\n",
    "df_income_purpose['median_income'] = df.groupby('income_type')['total_income'].median()\n",
    "print(df_income_purpose)\n",
    "# распределение целей кредитов примерно одинаковое во всем категориям примерно одинаковое "
   ]
  },
  {
   "cell_type": "markdown",
   "metadata": {},
   "source": [
    "**Вывод**"
   ]
  },
  {
   "cell_type": "markdown",
   "metadata": {},
   "source": [
    "Количество предпринимателей, студентов, людей в декрете и безработных слишком мало, поэтому при анализе зависимости между уровнем дохода и возвратом кредита в срок эти строки в таблице df_income_debt можно не учитывать. Все оставшиеся категории находятся в средней категории по уровню дохода. Среди этих групп по распределение по целям кредита примерно одинаковое (то есть группы с высоким процентом должников не берут более дорогие кредиты по сравнению с группами, с низким процентом должников). Ниже всего процент должников среди пенсионеров и госслужащихБ больше всего - среди сотрудников. Несмотря на то, что компаньоны и сотрудники получают примерно одинаковую зарплату, сотрудники почти в два раза чаще являются должниками. Возможно, банк предлагает сотрудникам плохие кредитные условия. Госслужащим и пенсионерам банк может выдавать кредит по льготным условия, в результате чего в этих категориях низкий процент должников."
   ]
  },
  {
   "cell_type": "markdown",
   "metadata": {},
   "source": [
    "- Как разные цели кредита влияют на его возврат в срок?"
   ]
  },
  {
   "cell_type": "code",
   "execution_count": 31,
   "metadata": {},
   "outputs": [
    {
     "name": "stdout",
     "output_type": "stream",
     "text": [
      "debt                 0    1 debt_percent\n",
      "purpose_general                         \n",
      "автомобиль        3903  403        9.36%\n",
      "недвижимость     10029  782        7.23%\n",
      "образование       3643  370        9.22%\n",
      "свадьба           2138  186         8.0%\n"
     ]
    }
   ],
   "source": [
    "df_purpose_debt = df.pivot_table(index=['purpose_general'], columns='debt', values='dob_years', aggfunc='count')\n",
    "df_purpose_debt['debt_percent'] = df_purpose_debt.apply(percent_debt, axis=1)\n",
    "print(df_purpose_debt)"
   ]
  },
  {
   "cell_type": "markdown",
   "metadata": {},
   "source": [
    "**Вывод**"
   ]
  },
  {
   "cell_type": "markdown",
   "metadata": {},
   "source": [
    "Больше всего процентов должников по автокредитам и по кредитам на образование. Возможно, у банка очень невыгодные условия для автокредитов (например, большие проценты) из-за чего заемщику тяжело отдавать такой кредит, поэтому имеет смысл пересмотреть условия автокредита. Высокий процент должников по кредиту за образование может быть связан с тем, что банки выдают кредит на образование без справки о доходах или с тем, что заемщики не могут найти работу после обучения, соответственно, им нечем выплачивать кредит. Необходимо требовать документы о доходах от людей, желающих взять кредит на образрвание."
   ]
  },
  {
   "cell_type": "markdown",
   "metadata": {},
   "source": [
    "## Шаг 4. Общий вывод"
   ]
  },
  {
   "cell_type": "markdown",
   "metadata": {},
   "source": [
    "Надежнее всего давать кредиты бездетным людям, так как с увеличением количества детей увеличивается шанс того, что заемщик не отдаст кредит.\n",
    "Между семейным положением и возравратом кредита в срок нет зависимости.\n",
    "Недостаточно информации по людям с дохом ниже 100 тысяч и выше 200 тысяч. Среди сотрудников почти в два раза больше должников по сравнению с другими категориями заработка. Возможно стоит пересмотреть условия кредитования для людей из этой категории.\n",
    "В процентном соотношении меньше всего задолжденностей по кредитам на жилье. Вероятно, это связано с тем, что можно получить кредит на жилье на льготных условиях. Так как больше всего должников по автокредитам и кредитам на образование, то стоит пересмотреть условия этих кредитов и просить у клиентов, собирающихся брать эти кредиты, справки о доходах."
   ]
  }
 ],
 "metadata": {
  "ExecuteTimeLog": [
   {
    "duration": 575,
    "start_time": "2021-09-26T03:58:03.967Z"
   },
   {
    "duration": 52,
    "start_time": "2021-09-26T03:58:19.953Z"
   },
   {
    "duration": 8,
    "start_time": "2021-09-26T04:00:18.650Z"
   },
   {
    "duration": 237,
    "start_time": "2021-09-26T04:42:50.736Z"
   },
   {
    "duration": 5,
    "start_time": "2021-09-26T04:44:30.811Z"
   },
   {
    "duration": 5,
    "start_time": "2021-09-26T04:44:47.082Z"
   },
   {
    "duration": 6,
    "start_time": "2021-09-26T04:45:01.602Z"
   },
   {
    "duration": 6,
    "start_time": "2021-09-26T04:45:15.958Z"
   },
   {
    "duration": 14,
    "start_time": "2021-09-26T04:48:27.085Z"
   },
   {
    "duration": 9,
    "start_time": "2021-09-26T04:48:34.348Z"
   },
   {
    "duration": 63,
    "start_time": "2021-09-26T05:13:23.029Z"
   },
   {
    "duration": 71,
    "start_time": "2021-09-26T05:14:17.078Z"
   },
   {
    "duration": 12,
    "start_time": "2021-09-26T05:14:35.097Z"
   },
   {
    "duration": 17,
    "start_time": "2021-09-26T05:16:32.411Z"
   },
   {
    "duration": 12,
    "start_time": "2021-09-26T05:16:53.095Z"
   },
   {
    "duration": 11,
    "start_time": "2021-09-26T05:17:08.316Z"
   },
   {
    "duration": 12,
    "start_time": "2021-09-26T05:18:15.885Z"
   },
   {
    "duration": 18,
    "start_time": "2021-09-26T05:41:57.023Z"
   },
   {
    "duration": 17,
    "start_time": "2021-09-26T05:42:59.147Z"
   },
   {
    "duration": 18,
    "start_time": "2021-09-26T05:43:15.988Z"
   },
   {
    "duration": 11,
    "start_time": "2021-09-26T05:43:23.733Z"
   },
   {
    "duration": 14,
    "start_time": "2021-09-26T06:09:19.391Z"
   },
   {
    "duration": 15,
    "start_time": "2021-09-26T06:09:31.010Z"
   },
   {
    "duration": 14,
    "start_time": "2021-09-26T06:09:46.315Z"
   },
   {
    "duration": 5,
    "start_time": "2021-09-26T06:16:38.800Z"
   },
   {
    "duration": 18,
    "start_time": "2021-09-26T06:28:32.295Z"
   },
   {
    "duration": 19,
    "start_time": "2021-09-26T06:29:46.791Z"
   },
   {
    "duration": 18,
    "start_time": "2021-09-26T06:29:56.761Z"
   },
   {
    "duration": 19,
    "start_time": "2021-09-26T06:30:45.884Z"
   },
   {
    "duration": 19,
    "start_time": "2021-09-26T06:32:50.318Z"
   },
   {
    "duration": 20,
    "start_time": "2021-09-26T06:33:38.811Z"
   },
   {
    "duration": 28,
    "start_time": "2021-09-26T07:08:22.946Z"
   },
   {
    "duration": 24,
    "start_time": "2021-09-26T07:08:38.857Z"
   },
   {
    "duration": 25,
    "start_time": "2021-09-26T07:08:58.739Z"
   },
   {
    "duration": 26,
    "start_time": "2021-09-26T07:09:14.335Z"
   },
   {
    "duration": 33,
    "start_time": "2021-09-26T07:09:20.204Z"
   },
   {
    "duration": 36,
    "start_time": "2021-09-26T07:10:05.861Z"
   },
   {
    "duration": 31,
    "start_time": "2021-09-26T07:10:19.640Z"
   },
   {
    "duration": 43,
    "start_time": "2021-09-26T07:13:44.349Z"
   },
   {
    "duration": 64,
    "start_time": "2021-09-26T07:15:43.654Z"
   },
   {
    "duration": 66,
    "start_time": "2021-09-26T07:16:17.838Z"
   },
   {
    "duration": 74,
    "start_time": "2021-09-26T07:16:45.701Z"
   },
   {
    "duration": 70,
    "start_time": "2021-09-26T07:16:56.486Z"
   },
   {
    "duration": 72,
    "start_time": "2021-09-26T07:17:09.110Z"
   },
   {
    "duration": 60,
    "start_time": "2021-09-26T07:19:15.592Z"
   },
   {
    "duration": 60,
    "start_time": "2021-09-26T07:20:27.106Z"
   },
   {
    "duration": 3,
    "start_time": "2021-09-26T07:38:19.809Z"
   },
   {
    "duration": 216,
    "start_time": "2021-09-26T07:54:36.234Z"
   },
   {
    "duration": 6,
    "start_time": "2021-09-26T07:54:49.628Z"
   },
   {
    "duration": 339,
    "start_time": "2021-09-26T07:55:45.482Z"
   },
   {
    "duration": 5,
    "start_time": "2021-09-26T07:56:04.862Z"
   },
   {
    "duration": 4,
    "start_time": "2021-09-26T07:57:27.685Z"
   },
   {
    "duration": 186,
    "start_time": "2021-09-26T07:57:40.652Z"
   },
   {
    "duration": 18,
    "start_time": "2021-09-26T08:08:33.877Z"
   },
   {
    "duration": 239,
    "start_time": "2021-09-26T08:11:35.416Z"
   },
   {
    "duration": 5,
    "start_time": "2021-09-26T08:28:11.657Z"
   },
   {
    "duration": 18,
    "start_time": "2021-09-26T08:28:21.794Z"
   },
   {
    "duration": 13,
    "start_time": "2021-09-26T08:29:43.015Z"
   },
   {
    "duration": 2348,
    "start_time": "2021-09-26T08:30:49.259Z"
   },
   {
    "duration": 8,
    "start_time": "2021-09-26T08:38:55.924Z"
   },
   {
    "duration": 11,
    "start_time": "2021-09-26T08:39:57.585Z"
   },
   {
    "duration": 18,
    "start_time": "2021-09-26T08:46:25.007Z"
   },
   {
    "duration": 18,
    "start_time": "2021-09-26T08:47:05.550Z"
   },
   {
    "duration": 17,
    "start_time": "2021-09-26T08:47:43.857Z"
   },
   {
    "duration": 18,
    "start_time": "2021-09-26T08:47:51.554Z"
   },
   {
    "duration": 70,
    "start_time": "2021-09-26T08:49:37.983Z"
   },
   {
    "duration": 65,
    "start_time": "2021-09-26T08:49:53.747Z"
   },
   {
    "duration": 18,
    "start_time": "2021-09-26T08:56:45.260Z"
   },
   {
    "duration": 14,
    "start_time": "2021-09-26T09:19:33.077Z"
   },
   {
    "duration": 341,
    "start_time": "2021-09-26T19:04:59.845Z"
   },
   {
    "duration": 835,
    "start_time": "2021-09-26T19:05:07.618Z"
   },
   {
    "duration": 4855,
    "start_time": "2021-09-26T19:05:16.202Z"
   },
   {
    "duration": 32,
    "start_time": "2021-09-26T19:05:51.435Z"
   },
   {
    "duration": 17,
    "start_time": "2021-09-26T19:05:56.876Z"
   },
   {
    "duration": 20,
    "start_time": "2021-09-26T19:06:46.232Z"
   },
   {
    "duration": 125,
    "start_time": "2021-09-26T19:06:49.614Z"
   },
   {
    "duration": 3558,
    "start_time": "2021-09-26T19:06:53.094Z"
   },
   {
    "duration": 38,
    "start_time": "2021-09-26T19:06:56.655Z"
   },
   {
    "duration": 36,
    "start_time": "2021-09-26T19:07:14.865Z"
   },
   {
    "duration": 5,
    "start_time": "2021-09-26T19:20:45.352Z"
   },
   {
    "duration": 13,
    "start_time": "2021-09-26T19:21:34.437Z"
   },
   {
    "duration": 16,
    "start_time": "2021-09-26T19:30:00.236Z"
   },
   {
    "duration": 14,
    "start_time": "2021-09-26T19:41:00.410Z"
   },
   {
    "duration": 22,
    "start_time": "2021-09-26T19:43:23.933Z"
   },
   {
    "duration": 32,
    "start_time": "2021-09-26T20:51:27.655Z"
   },
   {
    "duration": 287,
    "start_time": "2021-09-26T20:51:43.580Z"
   },
   {
    "duration": 23,
    "start_time": "2021-09-26T20:51:55.398Z"
   },
   {
    "duration": 81,
    "start_time": "2021-09-26T20:54:10.855Z"
   },
   {
    "duration": 26,
    "start_time": "2021-09-26T20:54:21.439Z"
   },
   {
    "duration": 274,
    "start_time": "2021-09-26T20:56:10.681Z"
   },
   {
    "duration": 21,
    "start_time": "2021-09-26T20:56:18.436Z"
   },
   {
    "duration": 12,
    "start_time": "2021-09-26T20:56:31.483Z"
   },
   {
    "duration": 12,
    "start_time": "2021-09-26T20:56:52.677Z"
   },
   {
    "duration": 13,
    "start_time": "2021-09-26T20:57:10.107Z"
   },
   {
    "duration": 118,
    "start_time": "2021-09-26T21:03:45.111Z"
   },
   {
    "duration": 21,
    "start_time": "2021-09-26T21:04:14.518Z"
   },
   {
    "duration": 122,
    "start_time": "2021-09-26T21:04:26.619Z"
   },
   {
    "duration": 23,
    "start_time": "2021-09-26T21:04:37.360Z"
   },
   {
    "duration": 22,
    "start_time": "2021-09-26T21:05:24.609Z"
   },
   {
    "duration": 24,
    "start_time": "2021-09-26T21:05:50.461Z"
   },
   {
    "duration": 335,
    "start_time": "2021-09-26T21:09:50.528Z"
   },
   {
    "duration": 387,
    "start_time": "2021-09-26T21:10:12.492Z"
   },
   {
    "duration": 340,
    "start_time": "2021-09-26T21:10:38.478Z"
   },
   {
    "duration": 71,
    "start_time": "2021-09-26T21:15:07.500Z"
   },
   {
    "duration": 64,
    "start_time": "2021-09-26T21:15:17.704Z"
   },
   {
    "duration": 64,
    "start_time": "2021-09-26T21:15:29.294Z"
   },
   {
    "duration": 68,
    "start_time": "2021-09-26T21:15:46.089Z"
   },
   {
    "duration": 69,
    "start_time": "2021-09-26T21:17:52.698Z"
   },
   {
    "duration": 67,
    "start_time": "2021-09-26T23:06:45.390Z"
   },
   {
    "duration": 289,
    "start_time": "2021-09-26T23:10:28.847Z"
   },
   {
    "duration": 18,
    "start_time": "2021-09-26T23:10:43.021Z"
   },
   {
    "duration": 4631,
    "start_time": "2021-09-26T23:18:10.870Z"
   },
   {
    "duration": 322,
    "start_time": "2021-09-26T23:31:18.066Z"
   },
   {
    "duration": 5,
    "start_time": "2021-09-26T23:31:23.406Z"
   },
   {
    "duration": 15,
    "start_time": "2021-09-26T23:32:57.896Z"
   },
   {
    "duration": 18,
    "start_time": "2021-09-26T23:39:57.238Z"
   },
   {
    "duration": 18,
    "start_time": "2021-09-26T23:40:06.974Z"
   },
   {
    "duration": 17,
    "start_time": "2021-09-26T23:40:24.623Z"
   },
   {
    "duration": 15,
    "start_time": "2021-09-26T23:40:32.978Z"
   },
   {
    "duration": 13,
    "start_time": "2021-09-26T23:42:46.264Z"
   },
   {
    "duration": 12,
    "start_time": "2021-09-26T23:42:53.821Z"
   },
   {
    "duration": 18,
    "start_time": "2021-09-26T23:43:01.763Z"
   },
   {
    "duration": 10,
    "start_time": "2021-09-26T23:43:12.625Z"
   },
   {
    "duration": 17,
    "start_time": "2021-09-26T23:43:19.536Z"
   },
   {
    "duration": 17,
    "start_time": "2021-09-26T23:51:50.983Z"
   },
   {
    "duration": 10,
    "start_time": "2021-09-26T23:53:38.559Z"
   },
   {
    "duration": 18,
    "start_time": "2021-09-26T23:54:47.266Z"
   },
   {
    "duration": 289,
    "start_time": "2021-09-27T00:20:32.282Z"
   },
   {
    "duration": 29,
    "start_time": "2021-09-27T00:21:29.639Z"
   },
   {
    "duration": 64,
    "start_time": "2021-09-27T00:21:57.250Z"
   },
   {
    "duration": 11,
    "start_time": "2021-09-27T00:22:57.295Z"
   },
   {
    "duration": 5053,
    "start_time": "2021-09-27T00:38:46.738Z"
   },
   {
    "duration": 5404,
    "start_time": "2021-09-27T00:41:01.321Z"
   },
   {
    "duration": 4978,
    "start_time": "2021-09-27T00:41:50.040Z"
   },
   {
    "duration": 5009,
    "start_time": "2021-09-27T00:42:33.868Z"
   },
   {
    "duration": 5073,
    "start_time": "2021-09-27T00:43:32.136Z"
   },
   {
    "duration": 4882,
    "start_time": "2021-09-27T00:45:31.168Z"
   },
   {
    "duration": 4972,
    "start_time": "2021-09-27T00:46:22.554Z"
   },
   {
    "duration": 5031,
    "start_time": "2021-09-27T00:48:14.122Z"
   },
   {
    "duration": 642,
    "start_time": "2021-09-27T02:26:34.607Z"
   },
   {
    "duration": 48,
    "start_time": "2021-09-27T02:26:43.505Z"
   },
   {
    "duration": 15,
    "start_time": "2021-09-27T02:26:51.178Z"
   },
   {
    "duration": 66,
    "start_time": "2021-09-27T02:26:56.867Z"
   },
   {
    "duration": 3642,
    "start_time": "2021-09-27T02:27:03.555Z"
   },
   {
    "duration": 21,
    "start_time": "2021-09-27T02:27:09.802Z"
   },
   {
    "duration": 169,
    "start_time": "2021-09-27T02:34:13.928Z"
   },
   {
    "duration": 143,
    "start_time": "2021-09-27T02:34:27.299Z"
   },
   {
    "duration": 2649,
    "start_time": "2021-09-27T02:36:42.929Z"
   },
   {
    "duration": 3149,
    "start_time": "2021-09-27T02:39:05.734Z"
   },
   {
    "duration": 2706,
    "start_time": "2021-09-27T02:39:15.283Z"
   },
   {
    "duration": 5636,
    "start_time": "2021-09-27T03:14:00.104Z"
   },
   {
    "duration": 140,
    "start_time": "2021-09-27T03:45:41.712Z"
   },
   {
    "duration": 15168,
    "start_time": "2021-09-27T03:45:50.376Z"
   },
   {
    "duration": 6046,
    "start_time": "2021-09-27T03:47:06.287Z"
   },
   {
    "duration": 5688,
    "start_time": "2021-09-27T03:47:19.342Z"
   },
   {
    "duration": 5855,
    "start_time": "2021-09-27T03:48:04.601Z"
   },
   {
    "duration": 15737,
    "start_time": "2021-09-27T03:56:39.113Z"
   },
   {
    "duration": 5823,
    "start_time": "2021-09-27T03:58:19.563Z"
   },
   {
    "duration": 14945,
    "start_time": "2021-09-27T04:45:36.980Z"
   },
   {
    "duration": 5795,
    "start_time": "2021-09-27T04:46:07.756Z"
   },
   {
    "duration": 5665,
    "start_time": "2021-09-27T04:48:02.701Z"
   },
   {
    "duration": 126,
    "start_time": "2021-09-27T04:48:24.168Z"
   },
   {
    "duration": 112,
    "start_time": "2021-09-27T04:50:33.158Z"
   },
   {
    "duration": 129,
    "start_time": "2021-09-27T04:51:53.074Z"
   },
   {
    "duration": 5997,
    "start_time": "2021-09-27T04:52:09.867Z"
   },
   {
    "duration": 6152,
    "start_time": "2021-09-27T04:52:27.473Z"
   },
   {
    "duration": 490,
    "start_time": "2021-09-27T04:53:13.824Z"
   },
   {
    "duration": 5798,
    "start_time": "2021-09-27T04:58:24.745Z"
   },
   {
    "duration": 8042,
    "start_time": "2021-09-27T04:58:49.193Z"
   },
   {
    "duration": 5903,
    "start_time": "2021-09-27T04:59:22.346Z"
   },
   {
    "duration": 6036,
    "start_time": "2021-09-27T05:00:05.189Z"
   },
   {
    "duration": 5944,
    "start_time": "2021-09-27T05:01:29.721Z"
   },
   {
    "duration": 6642,
    "start_time": "2021-09-27T05:02:07.759Z"
   },
   {
    "duration": 5613,
    "start_time": "2021-09-27T05:03:23.020Z"
   },
   {
    "duration": 5754,
    "start_time": "2021-09-27T05:03:48.904Z"
   },
   {
    "duration": 71,
    "start_time": "2021-09-27T05:31:24.681Z"
   },
   {
    "duration": 68,
    "start_time": "2021-09-27T05:31:52.138Z"
   },
   {
    "duration": 52,
    "start_time": "2021-09-27T05:33:09.656Z"
   },
   {
    "duration": 52,
    "start_time": "2021-09-27T05:33:23.512Z"
   },
   {
    "duration": 61,
    "start_time": "2021-09-27T05:33:33.717Z"
   },
   {
    "duration": 55,
    "start_time": "2021-09-27T05:40:28.785Z"
   },
   {
    "duration": 54,
    "start_time": "2021-09-27T05:40:44.516Z"
   },
   {
    "duration": 54,
    "start_time": "2021-09-27T05:40:59.254Z"
   },
   {
    "duration": 62,
    "start_time": "2021-09-27T05:41:06.810Z"
   },
   {
    "duration": 54,
    "start_time": "2021-09-27T05:41:12.609Z"
   },
   {
    "duration": 14,
    "start_time": "2021-09-27T05:45:19.760Z"
   },
   {
    "duration": 101,
    "start_time": "2021-09-27T05:49:55.820Z"
   },
   {
    "duration": 5685,
    "start_time": "2021-09-27T05:51:23.144Z"
   },
   {
    "duration": 19,
    "start_time": "2021-09-27T06:14:44.894Z"
   },
   {
    "duration": 8,
    "start_time": "2021-09-27T06:57:18.397Z"
   },
   {
    "duration": 364,
    "start_time": "2021-09-27T06:57:47.035Z"
   },
   {
    "duration": 9,
    "start_time": "2021-09-27T06:57:59.986Z"
   },
   {
    "duration": 417,
    "start_time": "2021-09-27T06:58:28.139Z"
   },
   {
    "duration": 9,
    "start_time": "2021-09-27T06:58:40.130Z"
   },
   {
    "duration": 10,
    "start_time": "2021-09-27T06:58:53.210Z"
   },
   {
    "duration": 13,
    "start_time": "2021-09-27T06:59:03.101Z"
   },
   {
    "duration": 10452,
    "start_time": "2021-09-27T07:31:03.742Z"
   },
   {
    "duration": 9798,
    "start_time": "2021-09-27T07:31:47.616Z"
   },
   {
    "duration": 873,
    "start_time": "2021-09-27T07:33:51.259Z"
   },
   {
    "duration": 189,
    "start_time": "2021-09-27T07:34:02.828Z"
   },
   {
    "duration": 26,
    "start_time": "2021-09-27T07:35:24.507Z"
   },
   {
    "duration": 867,
    "start_time": "2021-09-28T02:05:10.741Z"
   },
   {
    "duration": 77,
    "start_time": "2021-09-28T02:05:14.507Z"
   },
   {
    "duration": 19,
    "start_time": "2021-09-28T02:05:17.494Z"
   },
   {
    "duration": 126,
    "start_time": "2021-09-28T02:05:21.196Z"
   },
   {
    "duration": 6988,
    "start_time": "2021-09-28T02:05:24.572Z"
   },
   {
    "duration": 35,
    "start_time": "2021-09-28T02:05:40.724Z"
   },
   {
    "duration": 19,
    "start_time": "2021-09-28T02:05:44.662Z"
   },
   {
    "duration": 13,
    "start_time": "2021-09-28T02:05:50.297Z"
   },
   {
    "duration": 12,
    "start_time": "2021-09-28T02:05:52.959Z"
   },
   {
    "duration": 13,
    "start_time": "2021-09-28T02:05:55.658Z"
   },
   {
    "duration": 872,
    "start_time": "2021-09-28T02:14:15.191Z"
   },
   {
    "duration": 21,
    "start_time": "2021-09-28T02:14:28.582Z"
   },
   {
    "duration": 23,
    "start_time": "2021-09-28T02:39:31.400Z"
   },
   {
    "duration": 364,
    "start_time": "2021-09-28T03:07:05.820Z"
   },
   {
    "duration": 28,
    "start_time": "2021-09-28T03:07:15.267Z"
   },
   {
    "duration": 25,
    "start_time": "2021-09-28T03:07:37.338Z"
   },
   {
    "duration": 25,
    "start_time": "2021-09-28T03:19:06.157Z"
   },
   {
    "duration": 34,
    "start_time": "2021-09-28T03:20:04.557Z"
   },
   {
    "duration": 5639,
    "start_time": "2021-09-28T03:31:34.177Z"
   },
   {
    "duration": 6250,
    "start_time": "2021-09-28T03:33:03.004Z"
   },
   {
    "duration": 37,
    "start_time": "2021-09-28T03:37:56.972Z"
   },
   {
    "duration": 376,
    "start_time": "2021-09-28T03:38:09.609Z"
   },
   {
    "duration": 373,
    "start_time": "2021-09-28T03:38:17.556Z"
   },
   {
    "duration": 32,
    "start_time": "2021-09-28T03:38:25.499Z"
   },
   {
    "duration": 41,
    "start_time": "2021-09-28T03:39:26.782Z"
   },
   {
    "duration": 37,
    "start_time": "2021-09-28T03:40:31.406Z"
   },
   {
    "duration": 40,
    "start_time": "2021-09-28T03:45:51.632Z"
   },
   {
    "duration": 392,
    "start_time": "2021-09-28T03:47:52.916Z"
   },
   {
    "duration": 47,
    "start_time": "2021-09-28T03:48:05.958Z"
   },
   {
    "duration": 42,
    "start_time": "2021-09-28T03:48:22.237Z"
   },
   {
    "duration": 37,
    "start_time": "2021-09-28T03:48:33.191Z"
   },
   {
    "duration": 42,
    "start_time": "2021-09-28T03:48:41.299Z"
   },
   {
    "duration": 41,
    "start_time": "2021-09-28T03:49:13.651Z"
   },
   {
    "duration": 42,
    "start_time": "2021-09-28T03:49:38.970Z"
   },
   {
    "duration": 2412,
    "start_time": "2021-09-28T03:49:50.677Z"
   },
   {
    "duration": 41,
    "start_time": "2021-09-28T03:51:41.705Z"
   },
   {
    "duration": 38,
    "start_time": "2021-09-28T03:51:58.443Z"
   },
   {
    "duration": 407,
    "start_time": "2021-09-28T03:53:13.371Z"
   },
   {
    "duration": 39,
    "start_time": "2021-09-28T03:53:26.602Z"
   },
   {
    "duration": 43,
    "start_time": "2021-09-28T03:56:10.665Z"
   },
   {
    "duration": 41,
    "start_time": "2021-09-28T03:56:40.045Z"
   },
   {
    "duration": 42,
    "start_time": "2021-09-28T03:58:25.881Z"
   },
   {
    "duration": 6606,
    "start_time": "2021-09-28T03:59:18.358Z"
   },
   {
    "duration": 41,
    "start_time": "2021-09-28T04:01:08.790Z"
   },
   {
    "duration": 389,
    "start_time": "2021-09-28T04:03:04.634Z"
   },
   {
    "duration": 40,
    "start_time": "2021-09-28T04:03:36.206Z"
   },
   {
    "duration": 7576,
    "start_time": "2021-09-28T04:08:17.889Z"
   },
   {
    "duration": 8889,
    "start_time": "2021-09-28T04:08:38.715Z"
   },
   {
    "duration": 39,
    "start_time": "2021-09-28T04:26:17.023Z"
   },
   {
    "duration": 372,
    "start_time": "2021-09-28T04:26:34.396Z"
   },
   {
    "duration": 7162,
    "start_time": "2021-09-28T04:26:47.564Z"
   },
   {
    "duration": 8584,
    "start_time": "2021-09-28T04:28:47.906Z"
   },
   {
    "duration": 40,
    "start_time": "2021-09-28T04:29:53.033Z"
   },
   {
    "duration": 29,
    "start_time": "2021-09-28T04:32:10.406Z"
   },
   {
    "duration": 27,
    "start_time": "2021-09-28T04:40:13.250Z"
   },
   {
    "duration": 105,
    "start_time": "2021-09-28T04:46:02.851Z"
   },
   {
    "duration": 94,
    "start_time": "2021-09-28T04:46:27.825Z"
   },
   {
    "duration": 92,
    "start_time": "2021-09-28T04:46:45.168Z"
   },
   {
    "duration": 25,
    "start_time": "2021-09-28T04:50:32.869Z"
   },
   {
    "duration": 27,
    "start_time": "2021-09-28T04:51:13.459Z"
   },
   {
    "duration": 39,
    "start_time": "2021-09-28T04:51:25.714Z"
   },
   {
    "duration": 28,
    "start_time": "2021-09-28T04:51:34.061Z"
   },
   {
    "duration": 92,
    "start_time": "2021-09-28T04:56:46.296Z"
   },
   {
    "duration": 85,
    "start_time": "2021-09-28T04:57:11.947Z"
   },
   {
    "duration": 86,
    "start_time": "2021-09-28T04:57:19.606Z"
   },
   {
    "duration": 19,
    "start_time": "2021-09-28T04:57:27.543Z"
   },
   {
    "duration": 123,
    "start_time": "2021-09-28T04:57:32.885Z"
   },
   {
    "duration": 7224,
    "start_time": "2021-09-28T04:57:42.060Z"
   },
   {
    "duration": 28,
    "start_time": "2021-09-28T04:57:56.609Z"
   },
   {
    "duration": 41,
    "start_time": "2021-09-28T04:58:02.590Z"
   },
   {
    "duration": 29,
    "start_time": "2021-09-28T04:58:12.673Z"
   },
   {
    "duration": 28,
    "start_time": "2021-09-28T04:58:20.065Z"
   },
   {
    "duration": 36,
    "start_time": "2021-09-28T04:58:58.793Z"
   },
   {
    "duration": 36,
    "start_time": "2021-09-28T04:59:15.103Z"
   },
   {
    "duration": 28,
    "start_time": "2021-09-28T05:03:12.835Z"
   },
   {
    "duration": 385,
    "start_time": "2021-09-28T05:57:40.822Z"
   },
   {
    "duration": 45,
    "start_time": "2021-09-28T05:58:34.847Z"
   },
   {
    "duration": 396,
    "start_time": "2021-09-28T05:58:54.590Z"
   },
   {
    "duration": 44,
    "start_time": "2021-09-28T05:59:04.107Z"
   },
   {
    "duration": 465,
    "start_time": "2021-09-28T05:59:15.269Z"
   },
   {
    "duration": 44,
    "start_time": "2021-09-28T05:59:49.370Z"
   },
   {
    "duration": 45,
    "start_time": "2021-09-28T06:00:26.230Z"
   },
   {
    "duration": 61,
    "start_time": "2021-09-28T06:00:40.057Z"
   },
   {
    "duration": 458,
    "start_time": "2021-09-28T06:00:54.091Z"
   },
   {
    "duration": 45,
    "start_time": "2021-09-28T06:01:33.481Z"
   },
   {
    "duration": 44,
    "start_time": "2021-09-28T06:03:05.046Z"
   },
   {
    "duration": 41,
    "start_time": "2021-09-28T06:03:50.807Z"
   },
   {
    "duration": 42,
    "start_time": "2021-09-28T06:06:21.143Z"
   },
   {
    "duration": 29,
    "start_time": "2021-09-28T06:07:04.625Z"
   },
   {
    "duration": 38,
    "start_time": "2021-09-28T06:26:11.318Z"
   },
   {
    "duration": 100,
    "start_time": "2021-09-28T06:28:02.215Z"
   },
   {
    "duration": 103,
    "start_time": "2021-09-28T06:32:04.205Z"
   },
   {
    "duration": 6028,
    "start_time": "2021-09-28T06:40:28.042Z"
   },
   {
    "duration": 2101,
    "start_time": "2021-09-28T06:41:36.458Z"
   },
   {
    "duration": 55,
    "start_time": "2021-09-28T06:43:28.031Z"
   },
   {
    "duration": 46,
    "start_time": "2021-09-28T06:44:14.728Z"
   },
   {
    "duration": 55,
    "start_time": "2021-09-28T06:44:27.043Z"
   },
   {
    "duration": 48,
    "start_time": "2021-09-28T06:45:03.342Z"
   },
   {
    "duration": 50,
    "start_time": "2021-09-28T06:45:36.722Z"
   },
   {
    "duration": 8407,
    "start_time": "2021-09-28T06:46:16.010Z"
   },
   {
    "duration": 32,
    "start_time": "2021-09-28T06:46:37.773Z"
   },
   {
    "duration": 35,
    "start_time": "2021-09-28T06:54:12.758Z"
   },
   {
    "duration": 7472,
    "start_time": "2021-09-28T07:06:12.240Z"
   },
   {
    "duration": 7231,
    "start_time": "2021-09-28T07:06:59.368Z"
   },
   {
    "duration": 28,
    "start_time": "2021-09-28T07:08:29.243Z"
   },
   {
    "duration": 7446,
    "start_time": "2021-09-28T07:08:53.892Z"
   },
   {
    "duration": 7308,
    "start_time": "2021-09-28T07:09:52.494Z"
   },
   {
    "duration": 28,
    "start_time": "2021-09-28T07:11:53.170Z"
   },
   {
    "duration": 827,
    "start_time": "2021-09-28T18:53:21.454Z"
   },
   {
    "duration": 85,
    "start_time": "2021-09-28T18:53:27.349Z"
   },
   {
    "duration": 20,
    "start_time": "2021-09-28T18:53:33.601Z"
   },
   {
    "duration": 126,
    "start_time": "2021-09-28T18:53:38.417Z"
   },
   {
    "duration": 7057,
    "start_time": "2021-09-28T18:53:45.938Z"
   },
   {
    "duration": 60,
    "start_time": "2021-09-28T18:53:59.445Z"
   },
   {
    "duration": 92,
    "start_time": "2021-09-28T18:54:06.413Z"
   },
   {
    "duration": 61,
    "start_time": "2021-09-28T18:57:32.401Z"
   },
   {
    "duration": 439,
    "start_time": "2021-09-28T18:58:03.562Z"
   },
   {
    "duration": 59,
    "start_time": "2021-09-28T19:00:19.398Z"
   },
   {
    "duration": 55,
    "start_time": "2021-09-28T19:01:09.140Z"
   },
   {
    "duration": 94,
    "start_time": "2021-09-28T20:37:30.950Z"
   },
   {
    "duration": 94,
    "start_time": "2021-09-28T20:37:36.850Z"
   },
   {
    "duration": 21,
    "start_time": "2021-09-28T20:37:42.725Z"
   },
   {
    "duration": 149,
    "start_time": "2021-09-28T20:37:47.881Z"
   },
   {
    "duration": 7451,
    "start_time": "2021-09-28T20:37:54.118Z"
   },
   {
    "duration": 56,
    "start_time": "2021-09-28T20:38:12.598Z"
   },
   {
    "duration": 319,
    "start_time": "2021-09-28T20:38:17.001Z"
   },
   {
    "duration": 99,
    "start_time": "2021-09-28T20:40:08.959Z"
   },
   {
    "duration": 64,
    "start_time": "2021-09-28T20:40:20.685Z"
   },
   {
    "duration": 67,
    "start_time": "2021-09-28T20:41:18.032Z"
   },
   {
    "duration": 38,
    "start_time": "2021-09-28T20:53:33.498Z"
   },
   {
    "duration": 305,
    "start_time": "2021-09-28T21:07:15.154Z"
   },
   {
    "duration": 33,
    "start_time": "2021-09-28T21:07:25.320Z"
   },
   {
    "duration": 31,
    "start_time": "2021-09-28T21:07:52.540Z"
   },
   {
    "duration": 259,
    "start_time": "2021-09-28T21:27:18.096Z"
   },
   {
    "duration": 323,
    "start_time": "2021-09-28T21:27:24.333Z"
   },
   {
    "duration": 25,
    "start_time": "2021-09-28T21:27:35.555Z"
   },
   {
    "duration": 28,
    "start_time": "2021-09-28T21:27:51.525Z"
   },
   {
    "duration": 33,
    "start_time": "2021-09-28T21:28:14.687Z"
   },
   {
    "duration": 59,
    "start_time": "2021-09-28T21:38:48.861Z"
   },
   {
    "duration": 70,
    "start_time": "2021-09-28T21:39:46.478Z"
   },
   {
    "duration": 50,
    "start_time": "2021-09-28T21:40:19.198Z"
   },
   {
    "duration": 63,
    "start_time": "2021-09-28T21:40:57.263Z"
   },
   {
    "duration": 261,
    "start_time": "2021-09-28T21:50:47.562Z"
   },
   {
    "duration": 28,
    "start_time": "2021-09-28T21:51:05.195Z"
   },
   {
    "duration": 31,
    "start_time": "2021-09-28T21:51:12.590Z"
   },
   {
    "duration": 99,
    "start_time": "2021-09-28T22:05:58.149Z"
   },
   {
    "duration": 5287,
    "start_time": "2021-09-28T22:06:06.907Z"
   },
   {
    "duration": 5503,
    "start_time": "2021-09-28T22:07:53.274Z"
   },
   {
    "duration": 27,
    "start_time": "2021-09-28T22:08:58.555Z"
   },
   {
    "duration": 33,
    "start_time": "2021-09-28T22:09:18.077Z"
   },
   {
    "duration": 7988,
    "start_time": "2021-09-28T22:09:52.250Z"
   },
   {
    "duration": 60,
    "start_time": "2021-09-28T22:10:37.616Z"
   },
   {
    "duration": 79,
    "start_time": "2021-09-28T22:11:03.081Z"
   },
   {
    "duration": 84,
    "start_time": "2021-09-28T22:11:11.661Z"
   },
   {
    "duration": 17,
    "start_time": "2021-09-28T22:11:18.376Z"
   },
   {
    "duration": 122,
    "start_time": "2021-09-28T22:11:23.801Z"
   },
   {
    "duration": 7213,
    "start_time": "2021-09-28T22:11:32.228Z"
   },
   {
    "duration": 56,
    "start_time": "2021-09-28T22:11:47.074Z"
   },
   {
    "duration": 38,
    "start_time": "2021-09-28T22:12:06.519Z"
   },
   {
    "duration": 56,
    "start_time": "2021-09-28T22:12:17.423Z"
   },
   {
    "duration": 51,
    "start_time": "2021-09-28T22:12:51.032Z"
   },
   {
    "duration": 326,
    "start_time": "2021-09-28T22:16:13.544Z"
   },
   {
    "duration": 54,
    "start_time": "2021-09-28T22:17:22.850Z"
   },
   {
    "duration": 55,
    "start_time": "2021-09-28T22:17:35.665Z"
   },
   {
    "duration": 56,
    "start_time": "2021-09-28T22:18:46.785Z"
   },
   {
    "duration": 52,
    "start_time": "2021-09-28T22:19:35.184Z"
   },
   {
    "duration": 7250,
    "start_time": "2021-09-28T22:20:02.862Z"
   },
   {
    "duration": 45,
    "start_time": "2021-09-28T22:20:35.352Z"
   },
   {
    "duration": 322,
    "start_time": "2021-09-28T22:21:27.715Z"
   },
   {
    "duration": 46,
    "start_time": "2021-09-28T22:21:44.264Z"
   },
   {
    "duration": 5246,
    "start_time": "2021-09-28T22:22:03.693Z"
   },
   {
    "duration": 40,
    "start_time": "2021-09-28T22:22:32.587Z"
   },
   {
    "duration": 43,
    "start_time": "2021-09-28T22:22:41.782Z"
   },
   {
    "duration": 42,
    "start_time": "2021-09-28T22:26:05.607Z"
   },
   {
    "duration": 295,
    "start_time": "2021-09-28T22:34:09.898Z"
   },
   {
    "duration": 47,
    "start_time": "2021-09-28T22:34:25.835Z"
   },
   {
    "duration": 43,
    "start_time": "2021-09-28T22:34:43.226Z"
   },
   {
    "duration": 30,
    "start_time": "2021-09-28T22:34:58.430Z"
   },
   {
    "duration": 58,
    "start_time": "2021-09-28T22:48:26.586Z"
   },
   {
    "duration": 62,
    "start_time": "2021-09-28T22:51:51.191Z"
   },
   {
    "duration": 86,
    "start_time": "2021-09-28T22:53:47.441Z"
   },
   {
    "duration": 81,
    "start_time": "2021-09-28T22:53:53.967Z"
   },
   {
    "duration": 17,
    "start_time": "2021-09-28T22:53:58.236Z"
   },
   {
    "duration": 128,
    "start_time": "2021-09-28T22:54:01.067Z"
   },
   {
    "duration": 7026,
    "start_time": "2021-09-28T22:54:04.314Z"
   },
   {
    "duration": 61,
    "start_time": "2021-09-28T22:54:15.177Z"
   },
   {
    "duration": 40,
    "start_time": "2021-09-28T22:54:18.562Z"
   },
   {
    "duration": 49,
    "start_time": "2021-09-28T22:54:19.546Z"
   },
   {
    "duration": 28,
    "start_time": "2021-09-28T22:54:22.009Z"
   },
   {
    "duration": 32,
    "start_time": "2021-09-28T22:54:22.696Z"
   },
   {
    "duration": 60,
    "start_time": "2021-09-28T22:54:25.159Z"
   },
   {
    "duration": 27,
    "start_time": "2021-09-28T22:55:17.631Z"
   },
   {
    "duration": 939,
    "start_time": "2021-09-29T01:41:22.064Z"
   },
   {
    "duration": 64,
    "start_time": "2021-09-29T01:41:29.900Z"
   },
   {
    "duration": 14,
    "start_time": "2021-09-29T01:41:35.728Z"
   },
   {
    "duration": 94,
    "start_time": "2021-09-29T01:41:39.786Z"
   },
   {
    "duration": 5886,
    "start_time": "2021-09-29T01:41:46.010Z"
   },
   {
    "duration": 60,
    "start_time": "2021-09-29T01:41:58.097Z"
   },
   {
    "duration": 114,
    "start_time": "2021-09-29T01:42:06.858Z"
   },
   {
    "duration": 38,
    "start_time": "2021-09-29T01:42:12.044Z"
   },
   {
    "duration": 22,
    "start_time": "2021-09-29T01:45:01.723Z"
   },
   {
    "duration": 21,
    "start_time": "2021-09-29T01:47:05.714Z"
   },
   {
    "duration": 42,
    "start_time": "2021-09-29T02:07:59.125Z"
   },
   {
    "duration": 72,
    "start_time": "2021-09-29T03:33:39.736Z"
   },
   {
    "duration": 54,
    "start_time": "2021-09-29T03:34:07.998Z"
   },
   {
    "duration": 14,
    "start_time": "2021-09-29T03:36:49.745Z"
   },
   {
    "duration": 99,
    "start_time": "2021-09-29T03:38:22.636Z"
   },
   {
    "duration": 54,
    "start_time": "2021-09-29T04:01:16.186Z"
   },
   {
    "duration": 41,
    "start_time": "2021-09-29T04:03:03.872Z"
   },
   {
    "duration": 52,
    "start_time": "2021-09-29T04:03:17.446Z"
   },
   {
    "duration": 77,
    "start_time": "2021-09-29T16:19:47.285Z"
   },
   {
    "duration": 58,
    "start_time": "2021-09-29T16:22:26.127Z"
   },
   {
    "duration": 415,
    "start_time": "2021-09-29T16:27:53.891Z"
   },
   {
    "duration": 214,
    "start_time": "2021-09-29T16:32:21.995Z"
   },
   {
    "duration": 644,
    "start_time": "2021-09-29T16:32:27.023Z"
   },
   {
    "duration": 52,
    "start_time": "2021-09-29T16:32:27.669Z"
   },
   {
    "duration": 12,
    "start_time": "2021-09-29T16:32:27.723Z"
   },
   {
    "duration": 99,
    "start_time": "2021-09-29T16:32:27.737Z"
   },
   {
    "duration": 5332,
    "start_time": "2021-09-29T16:32:27.837Z"
   },
   {
    "duration": 11,
    "start_time": "2021-09-29T16:32:33.171Z"
   },
   {
    "duration": 85,
    "start_time": "2021-09-29T16:32:33.199Z"
   },
   {
    "duration": 34,
    "start_time": "2021-09-29T16:32:33.286Z"
   },
   {
    "duration": 30,
    "start_time": "2021-09-29T16:32:33.322Z"
   },
   {
    "duration": 17,
    "start_time": "2021-09-29T16:32:33.354Z"
   },
   {
    "duration": 43,
    "start_time": "2021-09-29T16:32:33.373Z"
   },
   {
    "duration": 38,
    "start_time": "2021-09-29T16:32:33.418Z"
   },
   {
    "duration": 16,
    "start_time": "2021-09-29T16:32:33.457Z"
   },
   {
    "duration": 484,
    "start_time": "2021-09-29T16:39:40.004Z"
   },
   {
    "duration": 247,
    "start_time": "2021-09-29T16:40:01.204Z"
   },
   {
    "duration": 1388,
    "start_time": "2021-09-29T16:40:08.205Z"
   },
   {
    "duration": 14,
    "start_time": "2021-09-29T16:40:18.227Z"
   },
   {
    "duration": 18,
    "start_time": "2021-09-29T16:40:26.195Z"
   },
   {
    "duration": 63,
    "start_time": "2021-09-29T16:42:11.566Z"
   },
   {
    "duration": 240,
    "start_time": "2021-09-30T19:00:24.959Z"
   },
   {
    "duration": 618,
    "start_time": "2021-09-30T19:00:33.834Z"
   },
   {
    "duration": 20,
    "start_time": "2021-09-30T19:00:39.645Z"
   },
   {
    "duration": 12,
    "start_time": "2021-09-30T19:01:23.136Z"
   },
   {
    "duration": 33,
    "start_time": "2021-09-30T19:04:08.612Z"
   },
   {
    "duration": 211,
    "start_time": "2021-09-30T19:25:52.367Z"
   },
   {
    "duration": 7,
    "start_time": "2021-09-30T19:26:10.506Z"
   },
   {
    "duration": 5,
    "start_time": "2021-09-30T19:26:25.679Z"
   },
   {
    "duration": 4,
    "start_time": "2021-09-30T19:29:08.716Z"
   },
   {
    "duration": 6,
    "start_time": "2021-09-30T19:29:42.443Z"
   },
   {
    "duration": 15,
    "start_time": "2021-09-30T19:55:30.672Z"
   },
   {
    "duration": 8,
    "start_time": "2021-09-30T19:57:58.122Z"
   },
   {
    "duration": 8,
    "start_time": "2021-09-30T19:58:01.925Z"
   },
   {
    "duration": 8,
    "start_time": "2021-09-30T19:58:06.452Z"
   },
   {
    "duration": 33,
    "start_time": "2021-09-30T19:59:27.986Z"
   },
   {
    "duration": 9,
    "start_time": "2021-09-30T20:00:24.762Z"
   },
   {
    "duration": 9,
    "start_time": "2021-09-30T20:00:29.258Z"
   },
   {
    "duration": 7,
    "start_time": "2021-09-30T20:00:31.550Z"
   },
   {
    "duration": 41,
    "start_time": "2021-09-30T20:00:35.842Z"
   },
   {
    "duration": 52,
    "start_time": "2021-09-30T20:00:43.267Z"
   },
   {
    "duration": 44,
    "start_time": "2021-09-30T20:00:50.824Z"
   },
   {
    "duration": 17,
    "start_time": "2021-09-30T20:01:49.392Z"
   },
   {
    "duration": 23,
    "start_time": "2021-09-30T20:02:22.296Z"
   },
   {
    "duration": 25,
    "start_time": "2021-09-30T20:02:30.982Z"
   },
   {
    "duration": 14,
    "start_time": "2021-09-30T20:02:44.569Z"
   },
   {
    "duration": 13,
    "start_time": "2021-09-30T20:08:18.264Z"
   },
   {
    "duration": 20,
    "start_time": "2021-09-30T20:09:53.989Z"
   },
   {
    "duration": 22,
    "start_time": "2021-09-30T20:12:03.893Z"
   },
   {
    "duration": 182,
    "start_time": "2021-09-30T20:12:45.449Z"
   },
   {
    "duration": 185,
    "start_time": "2021-09-30T20:14:21.183Z"
   },
   {
    "duration": 238,
    "start_time": "2021-09-30T20:14:26.772Z"
   },
   {
    "duration": 189,
    "start_time": "2021-09-30T20:15:05.521Z"
   },
   {
    "duration": 333,
    "start_time": "2021-09-30T20:15:14.712Z"
   },
   {
    "duration": 207,
    "start_time": "2021-09-30T20:15:22.049Z"
   },
   {
    "duration": 203,
    "start_time": "2021-09-30T20:15:33.042Z"
   },
   {
    "duration": 270,
    "start_time": "2021-09-30T20:15:38.750Z"
   },
   {
    "duration": 202,
    "start_time": "2021-09-30T20:15:46.226Z"
   },
   {
    "duration": 53,
    "start_time": "2021-09-30T20:16:05.201Z"
   },
   {
    "duration": 33,
    "start_time": "2021-09-30T20:16:45.363Z"
   },
   {
    "duration": 19,
    "start_time": "2021-09-30T20:23:01.164Z"
   },
   {
    "duration": 26,
    "start_time": "2021-09-30T20:23:25.237Z"
   },
   {
    "duration": 22,
    "start_time": "2021-09-30T20:24:14.618Z"
   },
   {
    "duration": 22,
    "start_time": "2021-09-30T20:25:28.723Z"
   },
   {
    "duration": 38,
    "start_time": "2021-09-30T20:26:07.908Z"
   },
   {
    "duration": 186,
    "start_time": "2021-09-30T20:31:05.610Z"
   },
   {
    "duration": 207,
    "start_time": "2021-09-30T20:31:23.732Z"
   },
   {
    "duration": 36,
    "start_time": "2021-09-30T20:31:36.755Z"
   },
   {
    "duration": 59,
    "start_time": "2021-09-30T20:33:32.020Z"
   },
   {
    "duration": 29,
    "start_time": "2021-09-30T20:33:41.882Z"
   },
   {
    "duration": 389,
    "start_time": "2021-09-30T20:34:10.533Z"
   },
   {
    "duration": 224,
    "start_time": "2021-09-30T20:35:19.724Z"
   },
   {
    "duration": 187,
    "start_time": "2021-09-30T20:35:48.448Z"
   },
   {
    "duration": 177,
    "start_time": "2021-09-30T20:36:18.676Z"
   },
   {
    "duration": 20,
    "start_time": "2021-09-30T20:36:28.642Z"
   },
   {
    "duration": 24,
    "start_time": "2021-09-30T20:36:45.583Z"
   },
   {
    "duration": 19,
    "start_time": "2021-09-30T20:37:16.138Z"
   },
   {
    "duration": 18,
    "start_time": "2021-09-30T20:37:29.600Z"
   },
   {
    "duration": 20,
    "start_time": "2021-09-30T20:41:30.069Z"
   },
   {
    "duration": 23,
    "start_time": "2021-09-30T20:54:13.873Z"
   },
   {
    "duration": 25,
    "start_time": "2021-09-30T20:55:44.069Z"
   },
   {
    "duration": 23,
    "start_time": "2021-09-30T21:00:27.568Z"
   },
   {
    "duration": 31,
    "start_time": "2021-09-30T21:00:37.713Z"
   },
   {
    "duration": 2956,
    "start_time": "2021-09-30T21:16:03.312Z"
   },
   {
    "duration": 6796,
    "start_time": "2021-09-30T21:16:25.884Z"
   },
   {
    "duration": 7194,
    "start_time": "2021-09-30T21:17:01.196Z"
   },
   {
    "duration": 7252,
    "start_time": "2021-09-30T21:18:40.944Z"
   },
   {
    "duration": 91,
    "start_time": "2021-10-01T04:01:53.611Z"
   },
   {
    "duration": 117,
    "start_time": "2021-10-01T04:02:29.971Z"
   },
   {
    "duration": 92,
    "start_time": "2021-10-01T04:02:46.308Z"
   },
   {
    "duration": 1290,
    "start_time": "2021-10-01T04:02:59.084Z"
   },
   {
    "duration": 29,
    "start_time": "2021-10-01T04:03:00.376Z"
   },
   {
    "duration": 15,
    "start_time": "2021-10-01T04:03:01.384Z"
   },
   {
    "duration": 48,
    "start_time": "2021-10-01T04:03:02.266Z"
   },
   {
    "duration": 87,
    "start_time": "2021-10-01T04:03:04.431Z"
   },
   {
    "duration": 80,
    "start_time": "2021-10-01T04:03:13.671Z"
   },
   {
    "duration": 7885,
    "start_time": "2021-10-01T04:10:25.031Z"
   },
   {
    "duration": 7751,
    "start_time": "2021-10-01T04:10:54.656Z"
   },
   {
    "duration": 8334,
    "start_time": "2021-10-01T04:12:51.732Z"
   },
   {
    "duration": 7393,
    "start_time": "2021-10-01T04:13:19.188Z"
   },
   {
    "duration": 7636,
    "start_time": "2021-10-01T04:19:49.171Z"
   },
   {
    "duration": 7968,
    "start_time": "2021-10-01T04:24:08.092Z"
   },
   {
    "duration": 7512,
    "start_time": "2021-10-01T04:24:29.084Z"
   },
   {
    "duration": 348,
    "start_time": "2021-10-01T04:44:10.830Z"
   },
   {
    "duration": 17,
    "start_time": "2021-10-01T04:44:33.660Z"
   },
   {
    "duration": 732,
    "start_time": "2021-10-01T04:53:04.587Z"
   },
   {
    "duration": 7517,
    "start_time": "2021-10-01T05:16:36.453Z"
   },
   {
    "duration": 7824,
    "start_time": "2021-10-01T05:17:28.548Z"
   },
   {
    "duration": 8167,
    "start_time": "2021-10-01T05:17:54.604Z"
   },
   {
    "duration": 72,
    "start_time": "2021-10-01T05:18:14.344Z"
   },
   {
    "duration": 20,
    "start_time": "2021-10-01T05:18:15.232Z"
   },
   {
    "duration": 27,
    "start_time": "2021-10-01T05:18:20.278Z"
   },
   {
    "duration": 49,
    "start_time": "2021-10-01T05:18:23.465Z"
   },
   {
    "duration": 79,
    "start_time": "2021-10-01T05:18:31.094Z"
   },
   {
    "duration": 7,
    "start_time": "2021-10-01T05:18:36.696Z"
   },
   {
    "duration": 7,
    "start_time": "2021-10-01T05:18:37.641Z"
   },
   {
    "duration": 6,
    "start_time": "2021-10-01T05:18:42.744Z"
   },
   {
    "duration": 15,
    "start_time": "2021-10-01T05:18:43.452Z"
   },
   {
    "duration": 18,
    "start_time": "2021-10-01T05:18:49.387Z"
   },
   {
    "duration": 10,
    "start_time": "2021-10-01T05:18:54.367Z"
   },
   {
    "duration": 10,
    "start_time": "2021-10-01T05:18:54.934Z"
   },
   {
    "duration": 10,
    "start_time": "2021-10-01T05:18:55.337Z"
   },
   {
    "duration": 11,
    "start_time": "2021-10-01T05:18:55.801Z"
   },
   {
    "duration": 53,
    "start_time": "2021-10-01T05:18:56.466Z"
   },
   {
    "duration": 75,
    "start_time": "2021-10-01T05:18:57.122Z"
   },
   {
    "duration": 7720,
    "start_time": "2021-10-01T05:19:01.002Z"
   },
   {
    "duration": 7676,
    "start_time": "2021-10-01T05:23:38.069Z"
   },
   {
    "duration": 71,
    "start_time": "2021-10-01T05:34:33.265Z"
   },
   {
    "duration": 90,
    "start_time": "2021-10-01T05:34:44.016Z"
   },
   {
    "duration": 7469,
    "start_time": "2021-10-01T05:34:57.383Z"
   },
   {
    "duration": 128,
    "start_time": "2021-10-01T06:42:34.071Z"
   },
   {
    "duration": 284,
    "start_time": "2021-10-01T06:53:37.381Z"
   },
   {
    "duration": 81,
    "start_time": "2021-10-01T06:53:45.927Z"
   },
   {
    "duration": 72,
    "start_time": "2021-10-01T06:54:26.231Z"
   },
   {
    "duration": 20,
    "start_time": "2021-10-01T06:54:27.017Z"
   },
   {
    "duration": 142,
    "start_time": "2021-10-01T08:16:20.626Z"
   },
   {
    "duration": 105,
    "start_time": "2021-10-01T08:17:17.622Z"
   },
   {
    "duration": 824,
    "start_time": "2021-10-01T08:20:59.837Z"
   },
   {
    "duration": 30,
    "start_time": "2021-10-01T08:21:00.664Z"
   },
   {
    "duration": 17,
    "start_time": "2021-10-01T08:21:00.697Z"
   },
   {
    "duration": 75,
    "start_time": "2021-10-01T08:21:00.717Z"
   },
   {
    "duration": 89,
    "start_time": "2021-10-01T08:21:00.794Z"
   },
   {
    "duration": 8,
    "start_time": "2021-10-01T08:21:00.885Z"
   },
   {
    "duration": 14,
    "start_time": "2021-10-01T08:21:00.896Z"
   },
   {
    "duration": 20,
    "start_time": "2021-10-01T08:21:00.916Z"
   },
   {
    "duration": 20,
    "start_time": "2021-10-01T08:21:00.939Z"
   },
   {
    "duration": 37,
    "start_time": "2021-10-01T08:21:00.961Z"
   },
   {
    "duration": 10,
    "start_time": "2021-10-01T08:21:01.001Z"
   },
   {
    "duration": 14,
    "start_time": "2021-10-01T08:21:01.014Z"
   },
   {
    "duration": 21,
    "start_time": "2021-10-01T08:21:01.031Z"
   },
   {
    "duration": 37,
    "start_time": "2021-10-01T08:21:01.054Z"
   },
   {
    "duration": 55,
    "start_time": "2021-10-01T08:21:01.094Z"
   },
   {
    "duration": 85,
    "start_time": "2021-10-01T08:21:01.151Z"
   },
   {
    "duration": 7505,
    "start_time": "2021-10-01T08:21:01.239Z"
   },
   {
    "duration": 17,
    "start_time": "2021-10-01T08:21:08.746Z"
   },
   {
    "duration": 26,
    "start_time": "2021-10-01T08:21:08.782Z"
   },
   {
    "duration": 37,
    "start_time": "2021-10-01T08:21:08.810Z"
   },
   {
    "duration": 42,
    "start_time": "2021-10-01T08:21:08.849Z"
   },
   {
    "duration": 850,
    "start_time": "2021-10-01T08:21:08.893Z"
   },
   {
    "duration": 9016,
    "start_time": "2021-10-01T08:21:09.747Z"
   },
   {
    "duration": 80,
    "start_time": "2021-10-01T08:21:18.686Z"
   },
   {
    "duration": 81,
    "start_time": "2021-10-01T08:21:18.687Z"
   },
   {
    "duration": 80,
    "start_time": "2021-10-01T08:21:18.689Z"
   },
   {
    "duration": 81,
    "start_time": "2021-10-01T08:21:18.690Z"
   },
   {
    "duration": 80,
    "start_time": "2021-10-01T08:21:18.692Z"
   },
   {
    "duration": 11,
    "start_time": "2021-10-01T08:44:37.774Z"
   },
   {
    "duration": 23,
    "start_time": "2021-10-01T08:46:46.984Z"
   },
   {
    "duration": 32,
    "start_time": "2021-10-01T08:50:36.909Z"
   },
   {
    "duration": 27,
    "start_time": "2021-10-01T08:50:38.923Z"
   },
   {
    "duration": 32,
    "start_time": "2021-10-01T08:51:45.438Z"
   },
   {
    "duration": 56,
    "start_time": "2021-10-01T08:52:12.810Z"
   },
   {
    "duration": 459,
    "start_time": "2021-10-01T08:52:38.886Z"
   },
   {
    "duration": 107,
    "start_time": "2021-10-01T08:52:52.695Z"
   },
   {
    "duration": 55,
    "start_time": "2021-10-01T08:53:48.632Z"
   },
   {
    "duration": 28,
    "start_time": "2021-10-01T08:54:12.824Z"
   },
   {
    "duration": 23,
    "start_time": "2021-10-01T08:54:13.431Z"
   },
   {
    "duration": 28,
    "start_time": "2021-10-01T08:54:26.966Z"
   },
   {
    "duration": 1124,
    "start_time": "2021-10-01T08:54:51.367Z"
   },
   {
    "duration": 40,
    "start_time": "2021-10-01T08:54:52.495Z"
   },
   {
    "duration": 15,
    "start_time": "2021-10-01T08:54:52.538Z"
   },
   {
    "duration": 73,
    "start_time": "2021-10-01T08:54:52.556Z"
   },
   {
    "duration": 94,
    "start_time": "2021-10-01T08:54:52.632Z"
   },
   {
    "duration": 6,
    "start_time": "2021-10-01T08:54:52.728Z"
   },
   {
    "duration": 10,
    "start_time": "2021-10-01T08:54:52.737Z"
   },
   {
    "duration": 32,
    "start_time": "2021-10-01T08:54:52.752Z"
   },
   {
    "duration": 19,
    "start_time": "2021-10-01T08:54:52.788Z"
   },
   {
    "duration": 26,
    "start_time": "2021-10-01T08:54:52.810Z"
   },
   {
    "duration": 53,
    "start_time": "2021-10-01T08:54:52.839Z"
   },
   {
    "duration": 14,
    "start_time": "2021-10-01T08:54:52.894Z"
   },
   {
    "duration": 9,
    "start_time": "2021-10-01T08:54:52.911Z"
   },
   {
    "duration": 12,
    "start_time": "2021-10-01T08:54:52.923Z"
   },
   {
    "duration": 81,
    "start_time": "2021-10-01T08:54:52.938Z"
   },
   {
    "duration": 85,
    "start_time": "2021-10-01T08:54:53.021Z"
   },
   {
    "duration": 7360,
    "start_time": "2021-10-01T08:54:53.109Z"
   },
   {
    "duration": 17,
    "start_time": "2021-10-01T08:55:00.483Z"
   },
   {
    "duration": 31,
    "start_time": "2021-10-01T08:55:00.502Z"
   },
   {
    "duration": 47,
    "start_time": "2021-10-01T08:55:00.536Z"
   },
   {
    "duration": 29,
    "start_time": "2021-10-01T08:55:00.586Z"
   },
   {
    "duration": 890,
    "start_time": "2021-10-01T08:55:00.618Z"
   },
   {
    "duration": 23,
    "start_time": "2021-10-01T08:55:01.513Z"
   },
   {
    "duration": 9202,
    "start_time": "2021-10-01T08:55:01.539Z"
   },
   {
    "duration": 100,
    "start_time": "2021-10-01T08:55:10.644Z"
   },
   {
    "duration": 96,
    "start_time": "2021-10-01T08:55:10.649Z"
   },
   {
    "duration": 94,
    "start_time": "2021-10-01T08:55:10.653Z"
   },
   {
    "duration": 92,
    "start_time": "2021-10-01T08:55:10.656Z"
   },
   {
    "duration": 90,
    "start_time": "2021-10-01T08:55:10.659Z"
   },
   {
    "duration": 32,
    "start_time": "2021-10-01T08:55:24.192Z"
   },
   {
    "duration": 28,
    "start_time": "2021-10-01T08:55:25.626Z"
   },
   {
    "duration": 29,
    "start_time": "2021-10-01T08:55:38.650Z"
   },
   {
    "duration": 10,
    "start_time": "2021-10-01T08:57:22.602Z"
   },
   {
    "duration": 8,
    "start_time": "2021-10-01T09:02:51.850Z"
   },
   {
    "duration": 448,
    "start_time": "2021-10-01T09:03:00.138Z"
   },
   {
    "duration": 346,
    "start_time": "2021-10-01T09:03:05.690Z"
   },
   {
    "duration": 12,
    "start_time": "2021-10-01T09:03:34.234Z"
   },
   {
    "duration": 8,
    "start_time": "2021-10-01T09:03:43.338Z"
   },
   {
    "duration": 9,
    "start_time": "2021-10-01T09:03:50.402Z"
   },
   {
    "duration": 9,
    "start_time": "2021-10-01T09:04:05.195Z"
   },
   {
    "duration": 10,
    "start_time": "2021-10-01T09:04:07.333Z"
   },
   {
    "duration": 7,
    "start_time": "2021-10-01T09:05:17.804Z"
   },
   {
    "duration": 14,
    "start_time": "2021-10-01T09:05:34.508Z"
   },
   {
    "duration": 8,
    "start_time": "2021-10-01T09:05:51.470Z"
   },
   {
    "duration": 44,
    "start_time": "2021-10-01T09:06:00.580Z"
   },
   {
    "duration": 6,
    "start_time": "2021-10-01T09:10:29.658Z"
   },
   {
    "duration": 8,
    "start_time": "2021-10-01T09:10:34.249Z"
   },
   {
    "duration": 10,
    "start_time": "2021-10-01T09:10:49.040Z"
   },
   {
    "duration": 28,
    "start_time": "2021-10-01T09:11:49.633Z"
   },
   {
    "duration": 22,
    "start_time": "2021-10-01T09:11:53.597Z"
   },
   {
    "duration": 29,
    "start_time": "2021-10-01T09:12:00.354Z"
   },
   {
    "duration": 139,
    "start_time": "2021-10-01T09:13:13.371Z"
   },
   {
    "duration": 362,
    "start_time": "2021-10-01T09:16:50.415Z"
   },
   {
    "duration": 129,
    "start_time": "2021-10-01T09:17:13.458Z"
   },
   {
    "duration": 28,
    "start_time": "2021-10-01T09:17:25.927Z"
   },
   {
    "duration": 840,
    "start_time": "2021-10-01T09:17:39.649Z"
   },
   {
    "duration": 29,
    "start_time": "2021-10-01T09:17:40.491Z"
   },
   {
    "duration": 26,
    "start_time": "2021-10-01T09:17:40.523Z"
   },
   {
    "duration": 57,
    "start_time": "2021-10-01T09:17:40.553Z"
   },
   {
    "duration": 87,
    "start_time": "2021-10-01T09:17:40.613Z"
   },
   {
    "duration": 6,
    "start_time": "2021-10-01T09:17:40.703Z"
   },
   {
    "duration": 11,
    "start_time": "2021-10-01T09:17:40.711Z"
   },
   {
    "duration": 7,
    "start_time": "2021-10-01T09:17:40.726Z"
   },
   {
    "duration": 17,
    "start_time": "2021-10-01T09:17:40.735Z"
   },
   {
    "duration": 18,
    "start_time": "2021-10-01T09:17:40.781Z"
   },
   {
    "duration": 9,
    "start_time": "2021-10-01T09:17:40.802Z"
   },
   {
    "duration": 30,
    "start_time": "2021-10-01T09:17:40.813Z"
   },
   {
    "duration": 25,
    "start_time": "2021-10-01T09:17:40.845Z"
   },
   {
    "duration": 20,
    "start_time": "2021-10-01T09:17:40.872Z"
   },
   {
    "duration": 50,
    "start_time": "2021-10-01T09:17:40.894Z"
   },
   {
    "duration": 82,
    "start_time": "2021-10-01T09:17:40.947Z"
   },
   {
    "duration": 7963,
    "start_time": "2021-10-01T09:17:41.031Z"
   },
   {
    "duration": 7,
    "start_time": "2021-10-01T09:17:48.998Z"
   },
   {
    "duration": 22,
    "start_time": "2021-10-01T09:17:49.008Z"
   },
   {
    "duration": 54,
    "start_time": "2021-10-01T09:17:49.034Z"
   },
   {
    "duration": 39,
    "start_time": "2021-10-01T09:17:49.091Z"
   },
   {
    "duration": 65,
    "start_time": "2021-10-01T09:17:49.133Z"
   },
   {
    "duration": 947,
    "start_time": "2021-10-01T09:17:49.203Z"
   },
   {
    "duration": 30,
    "start_time": "2021-10-01T09:17:50.153Z"
   },
   {
    "duration": 8574,
    "start_time": "2021-10-01T09:17:50.186Z"
   },
   {
    "duration": 104,
    "start_time": "2021-10-01T09:17:58.659Z"
   },
   {
    "duration": 102,
    "start_time": "2021-10-01T09:17:58.662Z"
   },
   {
    "duration": 102,
    "start_time": "2021-10-01T09:17:58.664Z"
   },
   {
    "duration": 101,
    "start_time": "2021-10-01T09:17:58.666Z"
   },
   {
    "duration": 102,
    "start_time": "2021-10-01T09:17:58.667Z"
   },
   {
    "duration": 33,
    "start_time": "2021-10-01T09:18:01.021Z"
   },
   {
    "duration": 23,
    "start_time": "2021-10-01T09:18:01.244Z"
   },
   {
    "duration": 29,
    "start_time": "2021-10-01T09:18:01.795Z"
   },
   {
    "duration": 361,
    "start_time": "2021-10-01T09:18:02.516Z"
   },
   {
    "duration": 30,
    "start_time": "2021-10-01T09:18:03.412Z"
   },
   {
    "duration": 118,
    "start_time": "2021-10-01T09:20:28.288Z"
   },
   {
    "duration": 13,
    "start_time": "2021-10-01T09:22:52.701Z"
   },
   {
    "duration": 10,
    "start_time": "2021-10-01T09:23:39.538Z"
   },
   {
    "duration": 11,
    "start_time": "2021-10-01T09:23:50.580Z"
   },
   {
    "duration": 861,
    "start_time": "2021-10-01T09:23:56.477Z"
   },
   {
    "duration": 28,
    "start_time": "2021-10-01T09:23:57.341Z"
   },
   {
    "duration": 17,
    "start_time": "2021-10-01T09:23:57.373Z"
   },
   {
    "duration": 8,
    "start_time": "2021-10-01T09:23:57.392Z"
   },
   {
    "duration": 14,
    "start_time": "2021-10-01T09:23:57.402Z"
   },
   {
    "duration": 76,
    "start_time": "2021-10-01T09:23:57.418Z"
   },
   {
    "duration": 85,
    "start_time": "2021-10-01T09:23:57.497Z"
   },
   {
    "duration": 6,
    "start_time": "2021-10-01T09:23:57.586Z"
   },
   {
    "duration": 10,
    "start_time": "2021-10-01T09:23:57.595Z"
   },
   {
    "duration": 7,
    "start_time": "2021-10-01T09:23:57.608Z"
   },
   {
    "duration": 15,
    "start_time": "2021-10-01T09:23:57.618Z"
   },
   {
    "duration": 57,
    "start_time": "2021-10-01T09:23:57.636Z"
   },
   {
    "duration": 10,
    "start_time": "2021-10-01T09:23:57.695Z"
   },
   {
    "duration": 15,
    "start_time": "2021-10-01T09:23:57.708Z"
   },
   {
    "duration": 10,
    "start_time": "2021-10-01T09:23:57.726Z"
   },
   {
    "duration": 45,
    "start_time": "2021-10-01T09:23:57.738Z"
   },
   {
    "duration": 49,
    "start_time": "2021-10-01T09:23:57.785Z"
   },
   {
    "duration": 93,
    "start_time": "2021-10-01T09:23:57.836Z"
   },
   {
    "duration": 7420,
    "start_time": "2021-10-01T09:23:57.932Z"
   },
   {
    "duration": 5,
    "start_time": "2021-10-01T09:24:05.355Z"
   },
   {
    "duration": 32,
    "start_time": "2021-10-01T09:24:05.363Z"
   },
   {
    "duration": 17,
    "start_time": "2021-10-01T09:24:05.397Z"
   },
   {
    "duration": 27,
    "start_time": "2021-10-01T09:24:05.418Z"
   },
   {
    "duration": 30,
    "start_time": "2021-10-01T09:24:05.483Z"
   },
   {
    "duration": 899,
    "start_time": "2021-10-01T09:24:05.515Z"
   },
   {
    "duration": 24,
    "start_time": "2021-10-01T09:24:06.417Z"
   },
   {
    "duration": 8662,
    "start_time": "2021-10-01T09:24:06.443Z"
   },
   {
    "duration": 96,
    "start_time": "2021-10-01T09:24:15.012Z"
   },
   {
    "duration": 94,
    "start_time": "2021-10-01T09:24:15.015Z"
   },
   {
    "duration": 94,
    "start_time": "2021-10-01T09:24:15.017Z"
   },
   {
    "duration": 93,
    "start_time": "2021-10-01T09:24:15.019Z"
   },
   {
    "duration": 93,
    "start_time": "2021-10-01T09:24:15.021Z"
   },
   {
    "duration": 35,
    "start_time": "2021-10-01T09:27:10.732Z"
   },
   {
    "duration": 24,
    "start_time": "2021-10-01T09:27:11.437Z"
   },
   {
    "duration": 29,
    "start_time": "2021-10-01T09:27:13.093Z"
   },
   {
    "duration": 369,
    "start_time": "2021-10-01T09:27:15.164Z"
   },
   {
    "duration": 30,
    "start_time": "2021-10-01T09:27:18.419Z"
   },
   {
    "duration": 11,
    "start_time": "2021-10-01T09:28:05.900Z"
   },
   {
    "duration": 131,
    "start_time": "2021-10-01T09:28:42.215Z"
   },
   {
    "duration": 841,
    "start_time": "2021-10-01T09:28:51.747Z"
   },
   {
    "duration": 29,
    "start_time": "2021-10-01T09:28:52.594Z"
   },
   {
    "duration": 14,
    "start_time": "2021-10-01T09:28:52.626Z"
   },
   {
    "duration": 73,
    "start_time": "2021-10-01T09:28:52.642Z"
   },
   {
    "duration": 93,
    "start_time": "2021-10-01T09:28:52.717Z"
   },
   {
    "duration": 6,
    "start_time": "2021-10-01T09:28:52.813Z"
   },
   {
    "duration": 13,
    "start_time": "2021-10-01T09:28:52.821Z"
   },
   {
    "duration": 44,
    "start_time": "2021-10-01T09:28:52.838Z"
   },
   {
    "duration": 15,
    "start_time": "2021-10-01T09:28:52.885Z"
   },
   {
    "duration": 18,
    "start_time": "2021-10-01T09:28:52.902Z"
   },
   {
    "duration": 9,
    "start_time": "2021-10-01T09:28:52.922Z"
   },
   {
    "duration": 49,
    "start_time": "2021-10-01T09:28:52.934Z"
   },
   {
    "duration": 10,
    "start_time": "2021-10-01T09:28:52.986Z"
   },
   {
    "duration": 10,
    "start_time": "2021-10-01T09:28:52.998Z"
   },
   {
    "duration": 73,
    "start_time": "2021-10-01T09:28:53.011Z"
   },
   {
    "duration": 65,
    "start_time": "2021-10-01T09:28:53.087Z"
   },
   {
    "duration": 36,
    "start_time": "2021-10-01T09:28:53.155Z"
   },
   {
    "duration": 8434,
    "start_time": "2021-10-01T09:28:53.195Z"
   },
   {
    "duration": 8,
    "start_time": "2021-10-01T09:29:01.632Z"
   },
   {
    "duration": 40,
    "start_time": "2021-10-01T09:29:01.643Z"
   },
   {
    "duration": 17,
    "start_time": "2021-10-01T09:29:01.686Z"
   },
   {
    "duration": 30,
    "start_time": "2021-10-01T09:29:01.706Z"
   },
   {
    "duration": 64,
    "start_time": "2021-10-01T09:29:01.742Z"
   },
   {
    "duration": 918,
    "start_time": "2021-10-01T09:29:01.809Z"
   },
   {
    "duration": 34,
    "start_time": "2021-10-01T09:29:02.730Z"
   },
   {
    "duration": 8698,
    "start_time": "2021-10-01T09:29:02.784Z"
   },
   {
    "duration": 112,
    "start_time": "2021-10-01T09:29:11.373Z"
   },
   {
    "duration": 112,
    "start_time": "2021-10-01T09:29:11.376Z"
   },
   {
    "duration": 113,
    "start_time": "2021-10-01T09:29:11.377Z"
   },
   {
    "duration": 113,
    "start_time": "2021-10-01T09:29:11.379Z"
   },
   {
    "duration": 114,
    "start_time": "2021-10-01T09:29:11.380Z"
   },
   {
    "duration": 36,
    "start_time": "2021-10-01T09:29:31.336Z"
   },
   {
    "duration": 26,
    "start_time": "2021-10-01T09:29:32.080Z"
   },
   {
    "duration": 39,
    "start_time": "2021-10-01T09:29:33.760Z"
   },
   {
    "duration": 520,
    "start_time": "2021-10-01T09:29:34.512Z"
   },
   {
    "duration": 29,
    "start_time": "2021-10-01T09:29:37.072Z"
   },
   {
    "duration": 118,
    "start_time": "2021-10-01T09:30:30.722Z"
   },
   {
    "duration": 274,
    "start_time": "2021-10-01T21:07:18.995Z"
   },
   {
    "duration": 1242,
    "start_time": "2021-10-01T21:07:29.342Z"
   },
   {
    "duration": 19,
    "start_time": "2021-10-01T21:07:30.586Z"
   },
   {
    "duration": 19,
    "start_time": "2021-10-01T21:07:37.419Z"
   },
   {
    "duration": 35,
    "start_time": "2021-10-01T21:07:38.441Z"
   },
   {
    "duration": 105,
    "start_time": "2021-10-01T21:07:44.726Z"
   },
   {
    "duration": 6,
    "start_time": "2021-10-01T21:07:47.333Z"
   },
   {
    "duration": 6,
    "start_time": "2021-10-01T21:07:48.252Z"
   },
   {
    "duration": 5,
    "start_time": "2021-10-01T21:07:53.266Z"
   },
   {
    "duration": 12,
    "start_time": "2021-10-01T21:07:54.121Z"
   },
   {
    "duration": 22,
    "start_time": "2021-10-01T21:07:59.531Z"
   },
   {
    "duration": 12,
    "start_time": "2021-10-01T21:08:04.012Z"
   },
   {
    "duration": 11,
    "start_time": "2021-10-01T21:08:04.747Z"
   },
   {
    "duration": 10,
    "start_time": "2021-10-01T21:08:05.426Z"
   },
   {
    "duration": 12,
    "start_time": "2021-10-01T21:08:06.345Z"
   },
   {
    "duration": 52,
    "start_time": "2021-10-01T21:08:07.320Z"
   },
   {
    "duration": 52,
    "start_time": "2021-10-01T21:08:08.370Z"
   },
   {
    "duration": 11,
    "start_time": "2021-10-01T21:08:15.172Z"
   },
   {
    "duration": 5837,
    "start_time": "2021-10-01T21:08:19.752Z"
   },
   {
    "duration": 26,
    "start_time": "2021-10-01T21:08:32.778Z"
   },
   {
    "duration": 15,
    "start_time": "2021-10-01T21:08:47.849Z"
   },
   {
    "duration": 15,
    "start_time": "2021-10-01T21:08:48.489Z"
   },
   {
    "duration": 23,
    "start_time": "2021-10-01T21:09:02.141Z"
   },
   {
    "duration": 507,
    "start_time": "2021-10-01T21:09:20.713Z"
   },
   {
    "duration": 16,
    "start_time": "2021-10-01T21:09:21.393Z"
   },
   {
    "duration": 5979,
    "start_time": "2021-10-01T21:09:25.029Z"
   },
   {
    "duration": 253,
    "start_time": "2021-10-01T21:12:37.944Z"
   },
   {
    "duration": 25,
    "start_time": "2021-10-01T21:12:48.591Z"
   },
   {
    "duration": 285,
    "start_time": "2021-10-01T21:15:43.247Z"
   },
   {
    "duration": 4566,
    "start_time": "2021-10-01T21:15:55.722Z"
   },
   {
    "duration": 24,
    "start_time": "2021-10-01T21:16:24.388Z"
   },
   {
    "duration": 257,
    "start_time": "2021-10-01T21:17:17.907Z"
   },
   {
    "duration": 263,
    "start_time": "2021-10-01T21:17:33.463Z"
   },
   {
    "duration": 35,
    "start_time": "2021-10-01T21:17:58.993Z"
   },
   {
    "duration": 18,
    "start_time": "2021-10-01T21:18:44.829Z"
   },
   {
    "duration": 19,
    "start_time": "2021-10-01T21:18:49.619Z"
   },
   {
    "duration": 37,
    "start_time": "2021-10-01T21:19:25.579Z"
   },
   {
    "duration": 84,
    "start_time": "2021-10-01T21:37:35.091Z"
   },
   {
    "duration": 25,
    "start_time": "2021-10-01T21:38:37.477Z"
   },
   {
    "duration": 80,
    "start_time": "2021-10-01T21:57:37.949Z"
   },
   {
    "duration": 121,
    "start_time": "2021-10-01T21:58:45.581Z"
   }
  ],
  "kernelspec": {
   "display_name": "Python 3",
   "language": "python",
   "name": "python3"
  },
  "language_info": {
   "codemirror_mode": {
    "name": "ipython",
    "version": 3
   },
   "file_extension": ".py",
   "mimetype": "text/x-python",
   "name": "python",
   "nbconvert_exporter": "python",
   "pygments_lexer": "ipython3",
   "version": "3.8.8"
  },
  "toc": {
   "base_numbering": 1,
   "nav_menu": {},
   "number_sections": true,
   "sideBar": true,
   "skip_h1_title": true,
   "title_cell": "Table of Contents",
   "title_sidebar": "Contents",
   "toc_cell": false,
   "toc_position": {
    "height": "calc(100% - 180px)",
    "left": "10px",
    "top": "150px",
    "width": "165px"
   },
   "toc_section_display": true,
   "toc_window_display": true
  }
 },
 "nbformat": 4,
 "nbformat_minor": 2
}
