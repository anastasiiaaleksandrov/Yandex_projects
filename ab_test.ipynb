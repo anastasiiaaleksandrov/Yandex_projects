{
 "cells": [
  {
   "cell_type": "markdown",
   "metadata": {},
   "source": [
    "**Цель проекта** \n",
    "   - выявить наиболее приоритетную гипотезу по увеличению выручку, на основании которой будет проведен A/B-тест\n",
    "   - на основании результатов A/B-теста выяснить, приносит ли стратегия, предлагаемая выбранной гипотезой, увеличение выручки интернет-магазина"
   ]
  },
  {
   "cell_type": "markdown",
   "metadata": {},
   "source": [
    "# 1. Данные"
   ]
  },
  {
   "cell_type": "code",
   "execution_count": 19,
   "metadata": {},
   "outputs": [],
   "source": [
    "# импорт библиотек\n",
    "import pandas as pd\n",
    "import numpy as np\n",
    "import matplotlib.pyplot as plt\n",
    "import scipy.stats as stats\n",
    "import warnings"
   ]
  },
  {
   "cell_type": "code",
   "execution_count": 23,
   "metadata": {},
   "outputs": [
    {
     "data": {
      "text/html": [
       "<div>\n",
       "<style scoped>\n",
       "    .dataframe tbody tr th:only-of-type {\n",
       "        vertical-align: middle;\n",
       "    }\n",
       "\n",
       "    .dataframe tbody tr th {\n",
       "        vertical-align: top;\n",
       "    }\n",
       "\n",
       "    .dataframe thead th {\n",
       "        text-align: right;\n",
       "    }\n",
       "</style>\n",
       "<table border=\"1\" class=\"dataframe\">\n",
       "  <thead>\n",
       "    <tr style=\"text-align: right;\">\n",
       "      <th></th>\n",
       "      <th>Hypothesis</th>\n",
       "      <th>Reach</th>\n",
       "      <th>Impact</th>\n",
       "      <th>Confidence</th>\n",
       "      <th>Efforts</th>\n",
       "    </tr>\n",
       "  </thead>\n",
       "  <tbody>\n",
       "    <tr>\n",
       "      <th>0</th>\n",
       "      <td>Добавить два новых канала привлечения трафика, что позволит привлекать на 30% больше пользователей</td>\n",
       "      <td>3</td>\n",
       "      <td>10</td>\n",
       "      <td>8</td>\n",
       "      <td>6</td>\n",
       "    </tr>\n",
       "    <tr>\n",
       "      <th>1</th>\n",
       "      <td>Запустить собственную службу доставки, что сократит срок доставки заказов</td>\n",
       "      <td>2</td>\n",
       "      <td>5</td>\n",
       "      <td>4</td>\n",
       "      <td>10</td>\n",
       "    </tr>\n",
       "    <tr>\n",
       "      <th>2</th>\n",
       "      <td>Добавить блоки рекомендаций товаров на сайт интернет магазина, чтобы повысить конверсию и средний чек заказа</td>\n",
       "      <td>8</td>\n",
       "      <td>3</td>\n",
       "      <td>7</td>\n",
       "      <td>3</td>\n",
       "    </tr>\n",
       "    <tr>\n",
       "      <th>3</th>\n",
       "      <td>Изменить структура категорий, что увеличит конверсию, т.к. пользователи быстрее найдут нужный товар</td>\n",
       "      <td>8</td>\n",
       "      <td>3</td>\n",
       "      <td>3</td>\n",
       "      <td>8</td>\n",
       "    </tr>\n",
       "    <tr>\n",
       "      <th>4</th>\n",
       "      <td>Изменить цвет фона главной страницы, чтобы увеличить вовлеченность пользователей</td>\n",
       "      <td>3</td>\n",
       "      <td>1</td>\n",
       "      <td>1</td>\n",
       "      <td>1</td>\n",
       "    </tr>\n",
       "  </tbody>\n",
       "</table>\n",
       "</div>"
      ],
      "text/plain": [
       "                                                                                                     Hypothesis  \\\n",
       "0            Добавить два новых канала привлечения трафика, что позволит привлекать на 30% больше пользователей   \n",
       "1                                     Запустить собственную службу доставки, что сократит срок доставки заказов   \n",
       "2  Добавить блоки рекомендаций товаров на сайт интернет магазина, чтобы повысить конверсию и средний чек заказа   \n",
       "3           Изменить структура категорий, что увеличит конверсию, т.к. пользователи быстрее найдут нужный товар   \n",
       "4                              Изменить цвет фона главной страницы, чтобы увеличить вовлеченность пользователей   \n",
       "\n",
       "   Reach  Impact  Confidence  Efforts  \n",
       "0      3      10           8        6  \n",
       "1      2       5           4       10  \n",
       "2      8       3           7        3  \n",
       "3      8       3           3        8  \n",
       "4      3       1           1        1  "
      ]
     },
     "metadata": {},
     "output_type": "display_data"
    },
    {
     "name": "stdout",
     "output_type": "stream",
     "text": [
      "\u001b[1mОбщая информация\u001b[0m\n",
      "<class 'pandas.core.frame.DataFrame'>\n",
      "RangeIndex: 9 entries, 0 to 8\n",
      "Data columns (total 5 columns):\n",
      " #   Column      Non-Null Count  Dtype \n",
      "---  ------      --------------  ----- \n",
      " 0   Hypothesis  9 non-null      object\n",
      " 1   Reach       9 non-null      int64 \n",
      " 2   Impact      9 non-null      int64 \n",
      " 3   Confidence  9 non-null      int64 \n",
      " 4   Efforts     9 non-null      int64 \n",
      "dtypes: int64(4), object(1)\n",
      "memory usage: 488.0+ bytes\n"
     ]
    },
    {
     "data": {
      "text/plain": [
       "None"
      ]
     },
     "metadata": {},
     "output_type": "display_data"
    }
   ],
   "source": [
    "# датафрейм с гипотезами по увеличению выручки\n",
    "try:\n",
    "    hypothesis = pd.read_csv('C:\\\\Users\\\\User\\\\Downloads\\\\Yandex_projects\\\\hypothesis.csv', sep=';')\n",
    "    display(hypothesis.head())\n",
    "    print('\\033[1m' + 'Общая информация' + '\\033[0m')\n",
    "    display(hypothesis.info())\n",
    "except FileNotFoundError:\n",
    "    print(\"Файл не найден\")"
   ]
  },
  {
   "cell_type": "code",
   "execution_count": 24,
   "metadata": {},
   "outputs": [
    {
     "data": {
      "text/html": [
       "<div>\n",
       "<style scoped>\n",
       "    .dataframe tbody tr th:only-of-type {\n",
       "        vertical-align: middle;\n",
       "    }\n",
       "\n",
       "    .dataframe tbody tr th {\n",
       "        vertical-align: top;\n",
       "    }\n",
       "\n",
       "    .dataframe thead th {\n",
       "        text-align: right;\n",
       "    }\n",
       "</style>\n",
       "<table border=\"1\" class=\"dataframe\">\n",
       "  <thead>\n",
       "    <tr style=\"text-align: right;\">\n",
       "      <th></th>\n",
       "      <th>transactionId</th>\n",
       "      <th>visitorId</th>\n",
       "      <th>date</th>\n",
       "      <th>revenue</th>\n",
       "      <th>group</th>\n",
       "    </tr>\n",
       "  </thead>\n",
       "  <tbody>\n",
       "    <tr>\n",
       "      <th>0</th>\n",
       "      <td>3667963787</td>\n",
       "      <td>3312258926</td>\n",
       "      <td>2019-08-15</td>\n",
       "      <td>1650</td>\n",
       "      <td>B</td>\n",
       "    </tr>\n",
       "    <tr>\n",
       "      <th>1</th>\n",
       "      <td>2804400009</td>\n",
       "      <td>3642806036</td>\n",
       "      <td>2019-08-15</td>\n",
       "      <td>730</td>\n",
       "      <td>B</td>\n",
       "    </tr>\n",
       "    <tr>\n",
       "      <th>2</th>\n",
       "      <td>2961555356</td>\n",
       "      <td>4069496402</td>\n",
       "      <td>2019-08-15</td>\n",
       "      <td>400</td>\n",
       "      <td>A</td>\n",
       "    </tr>\n",
       "    <tr>\n",
       "      <th>3</th>\n",
       "      <td>3797467345</td>\n",
       "      <td>1196621759</td>\n",
       "      <td>2019-08-15</td>\n",
       "      <td>9759</td>\n",
       "      <td>B</td>\n",
       "    </tr>\n",
       "    <tr>\n",
       "      <th>4</th>\n",
       "      <td>2282983706</td>\n",
       "      <td>2322279887</td>\n",
       "      <td>2019-08-15</td>\n",
       "      <td>2308</td>\n",
       "      <td>B</td>\n",
       "    </tr>\n",
       "  </tbody>\n",
       "</table>\n",
       "</div>"
      ],
      "text/plain": [
       "   transactionId   visitorId        date  revenue group\n",
       "0     3667963787  3312258926  2019-08-15     1650     B\n",
       "1     2804400009  3642806036  2019-08-15      730     B\n",
       "2     2961555356  4069496402  2019-08-15      400     A\n",
       "3     3797467345  1196621759  2019-08-15     9759     B\n",
       "4     2282983706  2322279887  2019-08-15     2308     B"
      ]
     },
     "metadata": {},
     "output_type": "display_data"
    },
    {
     "name": "stdout",
     "output_type": "stream",
     "text": [
      "\u001b[1mОбщая информация\u001b[0m\n",
      "<class 'pandas.core.frame.DataFrame'>\n",
      "RangeIndex: 1197 entries, 0 to 1196\n",
      "Data columns (total 5 columns):\n",
      " #   Column         Non-Null Count  Dtype \n",
      "---  ------         --------------  ----- \n",
      " 0   transactionId  1197 non-null   int64 \n",
      " 1   visitorId      1197 non-null   int64 \n",
      " 2   date           1197 non-null   object\n",
      " 3   revenue        1197 non-null   int64 \n",
      " 4   group          1197 non-null   object\n",
      "dtypes: int64(3), object(2)\n",
      "memory usage: 46.9+ KB\n"
     ]
    },
    {
     "data": {
      "text/plain": [
       "None"
      ]
     },
     "metadata": {},
     "output_type": "display_data"
    }
   ],
   "source": [
    "# датафрейм с информацией о заказах\n",
    "try:\n",
    "    orders = pd.read_csv('C:\\\\Users\\\\User\\\\Downloads\\\\Yandex_projects\\\\orders.csv')\n",
    "    display(orders.head())\n",
    "    print('\\033[1m' + 'Общая информация' + '\\033[0m')\n",
    "    display(orders.info())\n",
    "except FileNotFoundError:\n",
    "    print(\"Файл не найден\")"
   ]
  },
  {
   "cell_type": "code",
   "execution_count": 25,
   "metadata": {},
   "outputs": [
    {
     "data": {
      "text/html": [
       "<div>\n",
       "<style scoped>\n",
       "    .dataframe tbody tr th:only-of-type {\n",
       "        vertical-align: middle;\n",
       "    }\n",
       "\n",
       "    .dataframe tbody tr th {\n",
       "        vertical-align: top;\n",
       "    }\n",
       "\n",
       "    .dataframe thead th {\n",
       "        text-align: right;\n",
       "    }\n",
       "</style>\n",
       "<table border=\"1\" class=\"dataframe\">\n",
       "  <thead>\n",
       "    <tr style=\"text-align: right;\">\n",
       "      <th></th>\n",
       "      <th>date</th>\n",
       "      <th>group</th>\n",
       "      <th>visitors</th>\n",
       "    </tr>\n",
       "  </thead>\n",
       "  <tbody>\n",
       "    <tr>\n",
       "      <th>0</th>\n",
       "      <td>2019-08-01</td>\n",
       "      <td>A</td>\n",
       "      <td>719</td>\n",
       "    </tr>\n",
       "    <tr>\n",
       "      <th>1</th>\n",
       "      <td>2019-08-02</td>\n",
       "      <td>A</td>\n",
       "      <td>619</td>\n",
       "    </tr>\n",
       "    <tr>\n",
       "      <th>2</th>\n",
       "      <td>2019-08-03</td>\n",
       "      <td>A</td>\n",
       "      <td>507</td>\n",
       "    </tr>\n",
       "    <tr>\n",
       "      <th>3</th>\n",
       "      <td>2019-08-04</td>\n",
       "      <td>A</td>\n",
       "      <td>717</td>\n",
       "    </tr>\n",
       "    <tr>\n",
       "      <th>4</th>\n",
       "      <td>2019-08-05</td>\n",
       "      <td>A</td>\n",
       "      <td>756</td>\n",
       "    </tr>\n",
       "  </tbody>\n",
       "</table>\n",
       "</div>"
      ],
      "text/plain": [
       "         date group  visitors\n",
       "0  2019-08-01     A       719\n",
       "1  2019-08-02     A       619\n",
       "2  2019-08-03     A       507\n",
       "3  2019-08-04     A       717\n",
       "4  2019-08-05     A       756"
      ]
     },
     "metadata": {},
     "output_type": "display_data"
    },
    {
     "name": "stdout",
     "output_type": "stream",
     "text": [
      "\u001b[1mОбщая информация\u001b[0m\n",
      "<class 'pandas.core.frame.DataFrame'>\n",
      "RangeIndex: 62 entries, 0 to 61\n",
      "Data columns (total 3 columns):\n",
      " #   Column    Non-Null Count  Dtype \n",
      "---  ------    --------------  ----- \n",
      " 0   date      62 non-null     object\n",
      " 1   group     62 non-null     object\n",
      " 2   visitors  62 non-null     int64 \n",
      "dtypes: int64(1), object(2)\n",
      "memory usage: 1.6+ KB\n"
     ]
    },
    {
     "data": {
      "text/plain": [
       "None"
      ]
     },
     "metadata": {},
     "output_type": "display_data"
    }
   ],
   "source": [
    "# датафрейм с информацией о количестве пользователей в указанную дату в указанной группе A/B-теста\n",
    "try:\n",
    "    visitors = pd.read_csv('C:\\\\Users\\\\User\\\\Downloads\\\\Yandex_projects\\\\visitors.csv')\n",
    "    display(visitors.head())\n",
    "    print('\\033[1m' + 'Общая информация' + '\\033[0m')\n",
    "    display(visitors.info())\n",
    "except FileNotFoundError:\n",
    "    print(\"Файл не найден\")"
   ]
  },
  {
   "cell_type": "markdown",
   "metadata": {},
   "source": [
    "# 2. Подготовка данных к анализу"
   ]
  },
  {
   "cell_type": "code",
   "execution_count": 26,
   "metadata": {},
   "outputs": [],
   "source": [
    "# функция для расчет количества пропусков и дубликатов в передавемом датафрейме\n",
    "def data_prep(data):\n",
    "    print('\\033[1m' + 'Количество пропусков:' + '\\033[0m') \n",
    "    print(data.isna().sum())\n",
    "    print()\n",
    "    print('\\033[1m' + 'Количество дубликатов:' + '\\033[0m' , data.duplicated().sum())\n",
    "    print()\n",
    "    print('\\033[1m' + 'Измененный датафрейм:' + '\\033[0m') \n",
    "    print(data.info())\n",
    "    return data"
   ]
  },
  {
   "cell_type": "code",
   "execution_count": 27,
   "metadata": {},
   "outputs": [
    {
     "name": "stdout",
     "output_type": "stream",
     "text": [
      "\u001b[1mКоличество пропусков:\u001b[0m\n",
      "hypothesis    0\n",
      "reach         0\n",
      "impact        0\n",
      "confidence    0\n",
      "efforts       0\n",
      "dtype: int64\n",
      "\n",
      "\u001b[1mКоличество дубликатов:\u001b[0m 0\n",
      "\n",
      "\u001b[1mИзмененный датафрейм:\u001b[0m\n",
      "<class 'pandas.core.frame.DataFrame'>\n",
      "RangeIndex: 9 entries, 0 to 8\n",
      "Data columns (total 5 columns):\n",
      " #   Column      Non-Null Count  Dtype \n",
      "---  ------      --------------  ----- \n",
      " 0   hypothesis  9 non-null      object\n",
      " 1   reach       9 non-null      int64 \n",
      " 2   impact      9 non-null      int64 \n",
      " 3   confidence  9 non-null      int64 \n",
      " 4   efforts     9 non-null      int64 \n",
      "dtypes: int64(4), object(1)\n",
      "memory usage: 488.0+ bytes\n",
      "None\n"
     ]
    },
    {
     "data": {
      "text/html": [
       "<div>\n",
       "<style scoped>\n",
       "    .dataframe tbody tr th:only-of-type {\n",
       "        vertical-align: middle;\n",
       "    }\n",
       "\n",
       "    .dataframe tbody tr th {\n",
       "        vertical-align: top;\n",
       "    }\n",
       "\n",
       "    .dataframe thead th {\n",
       "        text-align: right;\n",
       "    }\n",
       "</style>\n",
       "<table border=\"1\" class=\"dataframe\">\n",
       "  <thead>\n",
       "    <tr style=\"text-align: right;\">\n",
       "      <th></th>\n",
       "      <th>hypothesis</th>\n",
       "      <th>reach</th>\n",
       "      <th>impact</th>\n",
       "      <th>confidence</th>\n",
       "      <th>efforts</th>\n",
       "    </tr>\n",
       "  </thead>\n",
       "  <tbody>\n",
       "    <tr>\n",
       "      <th>0</th>\n",
       "      <td>Добавить два новых канала привлечения трафика, что позволит привлекать на 30% больше пользователей</td>\n",
       "      <td>3</td>\n",
       "      <td>10</td>\n",
       "      <td>8</td>\n",
       "      <td>6</td>\n",
       "    </tr>\n",
       "    <tr>\n",
       "      <th>1</th>\n",
       "      <td>Запустить собственную службу доставки, что сократит срок доставки заказов</td>\n",
       "      <td>2</td>\n",
       "      <td>5</td>\n",
       "      <td>4</td>\n",
       "      <td>10</td>\n",
       "    </tr>\n",
       "    <tr>\n",
       "      <th>2</th>\n",
       "      <td>Добавить блоки рекомендаций товаров на сайт интернет магазина, чтобы повысить конверсию и средний чек заказа</td>\n",
       "      <td>8</td>\n",
       "      <td>3</td>\n",
       "      <td>7</td>\n",
       "      <td>3</td>\n",
       "    </tr>\n",
       "    <tr>\n",
       "      <th>3</th>\n",
       "      <td>Изменить структура категорий, что увеличит конверсию, т.к. пользователи быстрее найдут нужный товар</td>\n",
       "      <td>8</td>\n",
       "      <td>3</td>\n",
       "      <td>3</td>\n",
       "      <td>8</td>\n",
       "    </tr>\n",
       "    <tr>\n",
       "      <th>4</th>\n",
       "      <td>Изменить цвет фона главной страницы, чтобы увеличить вовлеченность пользователей</td>\n",
       "      <td>3</td>\n",
       "      <td>1</td>\n",
       "      <td>1</td>\n",
       "      <td>1</td>\n",
       "    </tr>\n",
       "    <tr>\n",
       "      <th>5</th>\n",
       "      <td>Добавить страницу отзывов клиентов о магазине, что позволит увеличить количество заказов</td>\n",
       "      <td>3</td>\n",
       "      <td>2</td>\n",
       "      <td>2</td>\n",
       "      <td>3</td>\n",
       "    </tr>\n",
       "    <tr>\n",
       "      <th>6</th>\n",
       "      <td>Показать на главной странице баннеры с актуальными акциями и распродажами, чтобы увеличить конверсию</td>\n",
       "      <td>5</td>\n",
       "      <td>3</td>\n",
       "      <td>8</td>\n",
       "      <td>3</td>\n",
       "    </tr>\n",
       "    <tr>\n",
       "      <th>7</th>\n",
       "      <td>Добавить форму подписки на все основные страницы, чтобы собрать базу клиентов для email-рассылок</td>\n",
       "      <td>10</td>\n",
       "      <td>7</td>\n",
       "      <td>8</td>\n",
       "      <td>5</td>\n",
       "    </tr>\n",
       "    <tr>\n",
       "      <th>8</th>\n",
       "      <td>Запустить акцию, дающую скидку на товар в день рождения</td>\n",
       "      <td>1</td>\n",
       "      <td>9</td>\n",
       "      <td>9</td>\n",
       "      <td>5</td>\n",
       "    </tr>\n",
       "  </tbody>\n",
       "</table>\n",
       "</div>"
      ],
      "text/plain": [
       "                                                                                                     hypothesis  \\\n",
       "0            Добавить два новых канала привлечения трафика, что позволит привлекать на 30% больше пользователей   \n",
       "1                                     Запустить собственную службу доставки, что сократит срок доставки заказов   \n",
       "2  Добавить блоки рекомендаций товаров на сайт интернет магазина, чтобы повысить конверсию и средний чек заказа   \n",
       "3           Изменить структура категорий, что увеличит конверсию, т.к. пользователи быстрее найдут нужный товар   \n",
       "4                              Изменить цвет фона главной страницы, чтобы увеличить вовлеченность пользователей   \n",
       "5                      Добавить страницу отзывов клиентов о магазине, что позволит увеличить количество заказов   \n",
       "6          Показать на главной странице баннеры с актуальными акциями и распродажами, чтобы увеличить конверсию   \n",
       "7              Добавить форму подписки на все основные страницы, чтобы собрать базу клиентов для email-рассылок   \n",
       "8                                                       Запустить акцию, дающую скидку на товар в день рождения   \n",
       "\n",
       "   reach  impact  confidence  efforts  \n",
       "0      3      10           8        6  \n",
       "1      2       5           4       10  \n",
       "2      8       3           7        3  \n",
       "3      8       3           3        8  \n",
       "4      3       1           1        1  \n",
       "5      3       2           2        3  \n",
       "6      5       3           8        3  \n",
       "7     10       7           8        5  \n",
       "8      1       9           9        5  "
      ]
     },
     "execution_count": 27,
     "metadata": {},
     "output_type": "execute_result"
    }
   ],
   "source": [
    "hypothesis.columns = ['hypothesis', 'reach', 'impact', 'confidence', 'efforts'] # переименование столбцов датафрейма hypothesis\n",
    "data_prep(hypothesis) # вызов функции data_prep к датафрейму hypothesis"
   ]
  },
  {
   "cell_type": "code",
   "execution_count": 28,
   "metadata": {},
   "outputs": [
    {
     "name": "stdout",
     "output_type": "stream",
     "text": [
      "\u001b[1mКоличество пропусков:\u001b[0m\n",
      "transaction_id    0\n",
      "visitor_id        0\n",
      "date              0\n",
      "revenue           0\n",
      "group             0\n",
      "dtype: int64\n",
      "\n",
      "\u001b[1mКоличество дубликатов:\u001b[0m 0\n",
      "\n",
      "\u001b[1mИзмененный датафрейм:\u001b[0m\n",
      "<class 'pandas.core.frame.DataFrame'>\n",
      "RangeIndex: 5 entries, 0 to 4\n",
      "Data columns (total 5 columns):\n",
      " #   Column          Non-Null Count  Dtype         \n",
      "---  ------          --------------  -----         \n",
      " 0   transaction_id  5 non-null      int64         \n",
      " 1   visitor_id      5 non-null      int64         \n",
      " 2   date            5 non-null      datetime64[ns]\n",
      " 3   revenue         5 non-null      int64         \n",
      " 4   group           5 non-null      object        \n",
      "dtypes: datetime64[ns](1), int64(3), object(1)\n",
      "memory usage: 328.0+ bytes\n",
      "None\n"
     ]
    },
    {
     "data": {
      "text/html": [
       "<div>\n",
       "<style scoped>\n",
       "    .dataframe tbody tr th:only-of-type {\n",
       "        vertical-align: middle;\n",
       "    }\n",
       "\n",
       "    .dataframe tbody tr th {\n",
       "        vertical-align: top;\n",
       "    }\n",
       "\n",
       "    .dataframe thead th {\n",
       "        text-align: right;\n",
       "    }\n",
       "</style>\n",
       "<table border=\"1\" class=\"dataframe\">\n",
       "  <thead>\n",
       "    <tr style=\"text-align: right;\">\n",
       "      <th></th>\n",
       "      <th>transaction_id</th>\n",
       "      <th>visitor_id</th>\n",
       "      <th>date</th>\n",
       "      <th>revenue</th>\n",
       "      <th>group</th>\n",
       "    </tr>\n",
       "  </thead>\n",
       "  <tbody>\n",
       "    <tr>\n",
       "      <th>0</th>\n",
       "      <td>3667963787</td>\n",
       "      <td>3312258926</td>\n",
       "      <td>2019-08-15</td>\n",
       "      <td>1650</td>\n",
       "      <td>B</td>\n",
       "    </tr>\n",
       "    <tr>\n",
       "      <th>1</th>\n",
       "      <td>2804400009</td>\n",
       "      <td>3642806036</td>\n",
       "      <td>2019-08-15</td>\n",
       "      <td>730</td>\n",
       "      <td>B</td>\n",
       "    </tr>\n",
       "    <tr>\n",
       "      <th>2</th>\n",
       "      <td>2961555356</td>\n",
       "      <td>4069496402</td>\n",
       "      <td>2019-08-15</td>\n",
       "      <td>400</td>\n",
       "      <td>A</td>\n",
       "    </tr>\n",
       "    <tr>\n",
       "      <th>3</th>\n",
       "      <td>3797467345</td>\n",
       "      <td>1196621759</td>\n",
       "      <td>2019-08-15</td>\n",
       "      <td>9759</td>\n",
       "      <td>B</td>\n",
       "    </tr>\n",
       "    <tr>\n",
       "      <th>4</th>\n",
       "      <td>2282983706</td>\n",
       "      <td>2322279887</td>\n",
       "      <td>2019-08-15</td>\n",
       "      <td>2308</td>\n",
       "      <td>B</td>\n",
       "    </tr>\n",
       "  </tbody>\n",
       "</table>\n",
       "</div>"
      ],
      "text/plain": [
       "   transaction_id  visitor_id       date  revenue group\n",
       "0      3667963787  3312258926 2019-08-15     1650     B\n",
       "1      2804400009  3642806036 2019-08-15      730     B\n",
       "2      2961555356  4069496402 2019-08-15      400     A\n",
       "3      3797467345  1196621759 2019-08-15     9759     B\n",
       "4      2282983706  2322279887 2019-08-15     2308     B"
      ]
     },
     "execution_count": 28,
     "metadata": {},
     "output_type": "execute_result"
    }
   ],
   "source": [
    "orders.columns = ['transaction_id', 'visitor_id', 'date', 'revenue', 'group']\n",
    "orders['date'] = pd.to_datetime(orders['date'])\n",
    "data_prep(orders.head())"
   ]
  },
  {
   "cell_type": "code",
   "execution_count": 29,
   "metadata": {},
   "outputs": [
    {
     "name": "stdout",
     "output_type": "stream",
     "text": [
      "\u001b[1mКоличество пропусков:\u001b[0m\n",
      "date        0\n",
      "group       0\n",
      "visitors    0\n",
      "dtype: int64\n",
      "\n",
      "\u001b[1mКоличество дубликатов:\u001b[0m 0\n",
      "\n",
      "\u001b[1mИзмененный датафрейм:\u001b[0m\n",
      "<class 'pandas.core.frame.DataFrame'>\n",
      "RangeIndex: 5 entries, 0 to 4\n",
      "Data columns (total 3 columns):\n",
      " #   Column    Non-Null Count  Dtype         \n",
      "---  ------    --------------  -----         \n",
      " 0   date      5 non-null      datetime64[ns]\n",
      " 1   group     5 non-null      object        \n",
      " 2   visitors  5 non-null      int64         \n",
      "dtypes: datetime64[ns](1), int64(1), object(1)\n",
      "memory usage: 248.0+ bytes\n",
      "None\n"
     ]
    },
    {
     "data": {
      "text/html": [
       "<div>\n",
       "<style scoped>\n",
       "    .dataframe tbody tr th:only-of-type {\n",
       "        vertical-align: middle;\n",
       "    }\n",
       "\n",
       "    .dataframe tbody tr th {\n",
       "        vertical-align: top;\n",
       "    }\n",
       "\n",
       "    .dataframe thead th {\n",
       "        text-align: right;\n",
       "    }\n",
       "</style>\n",
       "<table border=\"1\" class=\"dataframe\">\n",
       "  <thead>\n",
       "    <tr style=\"text-align: right;\">\n",
       "      <th></th>\n",
       "      <th>date</th>\n",
       "      <th>group</th>\n",
       "      <th>visitors</th>\n",
       "    </tr>\n",
       "  </thead>\n",
       "  <tbody>\n",
       "    <tr>\n",
       "      <th>0</th>\n",
       "      <td>2019-08-01</td>\n",
       "      <td>A</td>\n",
       "      <td>719</td>\n",
       "    </tr>\n",
       "    <tr>\n",
       "      <th>1</th>\n",
       "      <td>2019-08-02</td>\n",
       "      <td>A</td>\n",
       "      <td>619</td>\n",
       "    </tr>\n",
       "    <tr>\n",
       "      <th>2</th>\n",
       "      <td>2019-08-03</td>\n",
       "      <td>A</td>\n",
       "      <td>507</td>\n",
       "    </tr>\n",
       "    <tr>\n",
       "      <th>3</th>\n",
       "      <td>2019-08-04</td>\n",
       "      <td>A</td>\n",
       "      <td>717</td>\n",
       "    </tr>\n",
       "    <tr>\n",
       "      <th>4</th>\n",
       "      <td>2019-08-05</td>\n",
       "      <td>A</td>\n",
       "      <td>756</td>\n",
       "    </tr>\n",
       "  </tbody>\n",
       "</table>\n",
       "</div>"
      ],
      "text/plain": [
       "        date group  visitors\n",
       "0 2019-08-01     A       719\n",
       "1 2019-08-02     A       619\n",
       "2 2019-08-03     A       507\n",
       "3 2019-08-04     A       717\n",
       "4 2019-08-05     A       756"
      ]
     },
     "execution_count": 29,
     "metadata": {},
     "output_type": "execute_result"
    }
   ],
   "source": [
    "visitors['date'] = pd.to_datetime(visitors['date'])\n",
    "data_prep(visitors.head())"
   ]
  },
  {
   "cell_type": "markdown",
   "metadata": {},
   "source": [
    "Столбцы датафремов hypothesis (первая буква названия была заменена с заглавной на строчную) и orders (слова в названии были разделены нижним подчеркиванием) были переименованы. \n",
    "\n",
    "В датафреймах orders и visitors столбцы с информацией о дате, 'date', были переведены из строкового типа в формат даты.\n",
    "\n",
    "Ни в одном из датафремов hypothesis, orders и visits не было обнаружено пропусков и дубликатов."
   ]
  },
  {
   "cell_type": "code",
   "execution_count": 30,
   "metadata": {},
   "outputs": [
    {
     "name": "stdout",
     "output_type": "stream",
     "text": [
      "[4069496402, 199603092, 3803269165, 2378935119, 237748145, 4256040402, 2038680547, 2378935119, 1738359350, 2458001652, 199603092, 3891541246, 2378935119, 4256040402, 2716752286, 3656415546, 2686716486, 2954449915, 2038680547, 2927087541, 3234906277, 4256040402, 457167155, 2579882178, 3957174400, 1648269707, 2780786433, 818047933, 2044997962, 1959144690, 2038680547, 3202540741, 1333886533, 351125977, 2458001652, 3951559397, 393266494, 3984495233, 2780786433, 2038680547, 4256040402, 237748145, 2038680547, 3891541246, 2458001652, 4120364173, 4266935830, 1230306981, 1230306981, 1294878855, 1614305549, 3984495233, 8300375, 237748145, 2458001652, 477780734, 1230306981, 1614305549, 1668030113, 3717692402, 199603092, 3766097110, 3941795274, 471551937, 1316129916, 1801183820, 4256040402, 1602967004, 2587333274, 2600415354, 232979603, 1294878855, 4256040402, 2378935119, 3972127743, 1404934699, 2458001652, 4256040402, 276558944, 237748145, 3062433592, 199603092, 2654030115, 3963646447, 4186807279, 2712142231, 2949041841, 963407295, 1614305549]\n",
      "89\n"
     ]
    }
   ],
   "source": [
    "# получение id пользователей, которые вошли и в группу А, и в группу В\n",
    "group_a = orders.query('group == \"A\"') # пользователи, вошедшие в группу А\n",
    "group_b = orders.query('group == \"B\"') # пользователи, вошедшие в группу В\n",
    "a_id = group_a['visitor_id'].to_list() # список id пользователей из группы А\n",
    "b_id = group_b['visitor_id'].to_list() # список id пользователей из группы В\n",
    "ab_id = [] # список, в который будут добавляться пользователи, вошедшие в обе группы\n",
    "for i in a_id: # для каждого id в группе А\n",
    "    if i in b_id: # если пользователь также находится в группе В\n",
    "        ab_id.append(i) # добавить его в список пользователей, вошедших в обе группы\n",
    "print(ab_id)\n",
    "print(len(ab_id))"
   ]
  },
  {
   "cell_type": "code",
   "execution_count": 31,
   "metadata": {},
   "outputs": [
    {
     "data": {
      "text/html": [
       "<div>\n",
       "<style scoped>\n",
       "    .dataframe tbody tr th:only-of-type {\n",
       "        vertical-align: middle;\n",
       "    }\n",
       "\n",
       "    .dataframe tbody tr th {\n",
       "        vertical-align: top;\n",
       "    }\n",
       "\n",
       "    .dataframe thead th {\n",
       "        text-align: right;\n",
       "    }\n",
       "</style>\n",
       "<table border=\"1\" class=\"dataframe\">\n",
       "  <thead>\n",
       "    <tr style=\"text-align: right;\">\n",
       "      <th></th>\n",
       "      <th>transaction_id</th>\n",
       "      <th>visitor_id</th>\n",
       "      <th>date</th>\n",
       "      <th>revenue</th>\n",
       "      <th>group</th>\n",
       "    </tr>\n",
       "  </thead>\n",
       "  <tbody>\n",
       "    <tr>\n",
       "      <th>0</th>\n",
       "      <td>3667963787</td>\n",
       "      <td>3312258926</td>\n",
       "      <td>2019-08-15</td>\n",
       "      <td>1650</td>\n",
       "      <td>B</td>\n",
       "    </tr>\n",
       "    <tr>\n",
       "      <th>1</th>\n",
       "      <td>2804400009</td>\n",
       "      <td>3642806036</td>\n",
       "      <td>2019-08-15</td>\n",
       "      <td>730</td>\n",
       "      <td>B</td>\n",
       "    </tr>\n",
       "    <tr>\n",
       "      <th>3</th>\n",
       "      <td>3797467345</td>\n",
       "      <td>1196621759</td>\n",
       "      <td>2019-08-15</td>\n",
       "      <td>9759</td>\n",
       "      <td>B</td>\n",
       "    </tr>\n",
       "    <tr>\n",
       "      <th>4</th>\n",
       "      <td>2282983706</td>\n",
       "      <td>2322279887</td>\n",
       "      <td>2019-08-15</td>\n",
       "      <td>2308</td>\n",
       "      <td>B</td>\n",
       "    </tr>\n",
       "    <tr>\n",
       "      <th>5</th>\n",
       "      <td>182168103</td>\n",
       "      <td>935554773</td>\n",
       "      <td>2019-08-15</td>\n",
       "      <td>2210</td>\n",
       "      <td>B</td>\n",
       "    </tr>\n",
       "    <tr>\n",
       "      <th>...</th>\n",
       "      <td>...</td>\n",
       "      <td>...</td>\n",
       "      <td>...</td>\n",
       "      <td>...</td>\n",
       "      <td>...</td>\n",
       "    </tr>\n",
       "    <tr>\n",
       "      <th>1191</th>\n",
       "      <td>3592955527</td>\n",
       "      <td>608641596</td>\n",
       "      <td>2019-08-14</td>\n",
       "      <td>16490</td>\n",
       "      <td>B</td>\n",
       "    </tr>\n",
       "    <tr>\n",
       "      <th>1192</th>\n",
       "      <td>2662137336</td>\n",
       "      <td>3733762160</td>\n",
       "      <td>2019-08-14</td>\n",
       "      <td>6490</td>\n",
       "      <td>B</td>\n",
       "    </tr>\n",
       "    <tr>\n",
       "      <th>1193</th>\n",
       "      <td>2203539145</td>\n",
       "      <td>370388673</td>\n",
       "      <td>2019-08-14</td>\n",
       "      <td>3190</td>\n",
       "      <td>A</td>\n",
       "    </tr>\n",
       "    <tr>\n",
       "      <th>1194</th>\n",
       "      <td>1807773912</td>\n",
       "      <td>573423106</td>\n",
       "      <td>2019-08-14</td>\n",
       "      <td>10550</td>\n",
       "      <td>A</td>\n",
       "    </tr>\n",
       "    <tr>\n",
       "      <th>1196</th>\n",
       "      <td>3936777065</td>\n",
       "      <td>2108080724</td>\n",
       "      <td>2019-08-15</td>\n",
       "      <td>202740</td>\n",
       "      <td>B</td>\n",
       "    </tr>\n",
       "  </tbody>\n",
       "</table>\n",
       "<p>1016 rows × 5 columns</p>\n",
       "</div>"
      ],
      "text/plain": [
       "      transaction_id  visitor_id       date  revenue group\n",
       "0         3667963787  3312258926 2019-08-15     1650     B\n",
       "1         2804400009  3642806036 2019-08-15      730     B\n",
       "3         3797467345  1196621759 2019-08-15     9759     B\n",
       "4         2282983706  2322279887 2019-08-15     2308     B\n",
       "5          182168103   935554773 2019-08-15     2210     B\n",
       "...              ...         ...        ...      ...   ...\n",
       "1191      3592955527   608641596 2019-08-14    16490     B\n",
       "1192      2662137336  3733762160 2019-08-14     6490     B\n",
       "1193      2203539145   370388673 2019-08-14     3190     A\n",
       "1194      1807773912   573423106 2019-08-14    10550     A\n",
       "1196      3936777065  2108080724 2019-08-15   202740     B\n",
       "\n",
       "[1016 rows x 5 columns]"
      ]
     },
     "execution_count": 31,
     "metadata": {},
     "output_type": "execute_result"
    }
   ],
   "source": [
    "# удаление пользователей, вошедших в обе группы из списка orders\n",
    "orders = orders.query('visitor_id not in @ab_id')\n",
    "orders"
   ]
  },
  {
   "cell_type": "markdown",
   "metadata": {},
   "source": [
    "# 3. Приоритизация гипотез"
   ]
  },
  {
   "cell_type": "markdown",
   "metadata": {},
   "source": [
    "Сначала гипотезы будут приоритизированы с помощью фреймворка ICE, где \n",
    "\n",
    "$$ICE = \\frac{Impact * Confidence}{Efforts}$$"
   ]
  },
  {
   "cell_type": "code",
   "execution_count": 32,
   "metadata": {},
   "outputs": [
    {
     "data": {
      "text/html": [
       "<div>\n",
       "<style scoped>\n",
       "    .dataframe tbody tr th:only-of-type {\n",
       "        vertical-align: middle;\n",
       "    }\n",
       "\n",
       "    .dataframe tbody tr th {\n",
       "        vertical-align: top;\n",
       "    }\n",
       "\n",
       "    .dataframe thead th {\n",
       "        text-align: right;\n",
       "    }\n",
       "</style>\n",
       "<table border=\"1\" class=\"dataframe\">\n",
       "  <thead>\n",
       "    <tr style=\"text-align: right;\">\n",
       "      <th></th>\n",
       "      <th>hypothesis</th>\n",
       "      <th>reach</th>\n",
       "      <th>impact</th>\n",
       "      <th>confidence</th>\n",
       "      <th>efforts</th>\n",
       "      <th>ice</th>\n",
       "    </tr>\n",
       "  </thead>\n",
       "  <tbody>\n",
       "    <tr>\n",
       "      <th>0</th>\n",
       "      <td>Запустить акцию, дающую скидку на товар в день рождения</td>\n",
       "      <td>1</td>\n",
       "      <td>9</td>\n",
       "      <td>9</td>\n",
       "      <td>5</td>\n",
       "      <td>16</td>\n",
       "    </tr>\n",
       "    <tr>\n",
       "      <th>1</th>\n",
       "      <td>Добавить два новых канала привлечения трафика, что позволит привлекать на 30% больше пользователей</td>\n",
       "      <td>3</td>\n",
       "      <td>10</td>\n",
       "      <td>8</td>\n",
       "      <td>6</td>\n",
       "      <td>13</td>\n",
       "    </tr>\n",
       "    <tr>\n",
       "      <th>2</th>\n",
       "      <td>Добавить форму подписки на все основные страницы, чтобы собрать базу клиентов для email-рассылок</td>\n",
       "      <td>10</td>\n",
       "      <td>7</td>\n",
       "      <td>8</td>\n",
       "      <td>5</td>\n",
       "      <td>11</td>\n",
       "    </tr>\n",
       "    <tr>\n",
       "      <th>3</th>\n",
       "      <td>Показать на главной странице баннеры с актуальными акциями и распродажами, чтобы увеличить конверсию</td>\n",
       "      <td>5</td>\n",
       "      <td>3</td>\n",
       "      <td>8</td>\n",
       "      <td>3</td>\n",
       "      <td>8</td>\n",
       "    </tr>\n",
       "    <tr>\n",
       "      <th>4</th>\n",
       "      <td>Добавить блоки рекомендаций товаров на сайт интернет магазина, чтобы повысить конверсию и средний чек заказа</td>\n",
       "      <td>8</td>\n",
       "      <td>3</td>\n",
       "      <td>7</td>\n",
       "      <td>3</td>\n",
       "      <td>7</td>\n",
       "    </tr>\n",
       "    <tr>\n",
       "      <th>5</th>\n",
       "      <td>Запустить собственную службу доставки, что сократит срок доставки заказов</td>\n",
       "      <td>2</td>\n",
       "      <td>5</td>\n",
       "      <td>4</td>\n",
       "      <td>10</td>\n",
       "      <td>2</td>\n",
       "    </tr>\n",
       "    <tr>\n",
       "      <th>6</th>\n",
       "      <td>Изменить структура категорий, что увеличит конверсию, т.к. пользователи быстрее найдут нужный товар</td>\n",
       "      <td>8</td>\n",
       "      <td>3</td>\n",
       "      <td>3</td>\n",
       "      <td>8</td>\n",
       "      <td>1</td>\n",
       "    </tr>\n",
       "    <tr>\n",
       "      <th>7</th>\n",
       "      <td>Изменить цвет фона главной страницы, чтобы увеличить вовлеченность пользователей</td>\n",
       "      <td>3</td>\n",
       "      <td>1</td>\n",
       "      <td>1</td>\n",
       "      <td>1</td>\n",
       "      <td>1</td>\n",
       "    </tr>\n",
       "    <tr>\n",
       "      <th>8</th>\n",
       "      <td>Добавить страницу отзывов клиентов о магазине, что позволит увеличить количество заказов</td>\n",
       "      <td>3</td>\n",
       "      <td>2</td>\n",
       "      <td>2</td>\n",
       "      <td>3</td>\n",
       "      <td>1</td>\n",
       "    </tr>\n",
       "  </tbody>\n",
       "</table>\n",
       "</div>"
      ],
      "text/plain": [
       "                                                                                                     hypothesis  \\\n",
       "0                                                       Запустить акцию, дающую скидку на товар в день рождения   \n",
       "1            Добавить два новых канала привлечения трафика, что позволит привлекать на 30% больше пользователей   \n",
       "2              Добавить форму подписки на все основные страницы, чтобы собрать базу клиентов для email-рассылок   \n",
       "3          Показать на главной странице баннеры с актуальными акциями и распродажами, чтобы увеличить конверсию   \n",
       "4  Добавить блоки рекомендаций товаров на сайт интернет магазина, чтобы повысить конверсию и средний чек заказа   \n",
       "5                                     Запустить собственную службу доставки, что сократит срок доставки заказов   \n",
       "6           Изменить структура категорий, что увеличит конверсию, т.к. пользователи быстрее найдут нужный товар   \n",
       "7                              Изменить цвет фона главной страницы, чтобы увеличить вовлеченность пользователей   \n",
       "8                      Добавить страницу отзывов клиентов о магазине, что позволит увеличить количество заказов   \n",
       "\n",
       "   reach  impact  confidence  efforts  ice  \n",
       "0      1       9           9        5   16  \n",
       "1      3      10           8        6   13  \n",
       "2     10       7           8        5   11  \n",
       "3      5       3           8        3    8  \n",
       "4      8       3           7        3    7  \n",
       "5      2       5           4       10    2  \n",
       "6      8       3           3        8    1  \n",
       "7      3       1           1        1    1  \n",
       "8      3       2           2        3    1  "
      ]
     },
     "execution_count": 32,
     "metadata": {},
     "output_type": "execute_result"
    }
   ],
   "source": [
    "# приоритизация гипотез с помощаью фреймворка ICE\n",
    "hypothesis['ice'] = (hypothesis['impact'] * hypothesis['confidence'] / hypothesis['efforts'])\\\n",
    "                    .astype('int') # расчет индека ice и приведение его значений к типу int\n",
    "arg = max([len(i) for i in hypothesis['hypothesis']]) + 1 # максимальная длина содержимого ячейки столбца 'hypothesis'\n",
    "pd.set_option('display.max_colwidth', arg) # отображаемая ширина столбца 'hypothesis' равна длине самой динной ячейки в этом столбце\n",
    "hypothesis.sort_values(by='ice', ascending=False).reset_index().drop(columns='index')"
   ]
  },
  {
   "cell_type": "markdown",
   "metadata": {},
   "source": [
    "На основе фреймворка ICE можно судить о том, что самыми приоритетными гипотезами являются:\n",
    "   - \"Запустить акцию, дающую скидку на товар в день рождения\"\n",
    "   - \"Добавить два новых канала привлечения трафика, что позволит привлекать на 30% больше пользователей\"\n",
    "   - \"Добавить форму подписки на все основные страницы, чтобы собрать базу клиентов для email-рассылок\""
   ]
  },
  {
   "cell_type": "markdown",
   "metadata": {},
   "source": [
    "Затем гипотезы будут приоритизированы с помощью фреймворка RICE, где\n",
    "\n",
    "$$RICE = \\frac{Rearch * Impact * Confidence}{Efforts}$$"
   ]
  },
  {
   "cell_type": "code",
   "execution_count": 33,
   "metadata": {},
   "outputs": [
    {
     "data": {
      "text/html": [
       "<div>\n",
       "<style scoped>\n",
       "    .dataframe tbody tr th:only-of-type {\n",
       "        vertical-align: middle;\n",
       "    }\n",
       "\n",
       "    .dataframe tbody tr th {\n",
       "        vertical-align: top;\n",
       "    }\n",
       "\n",
       "    .dataframe thead th {\n",
       "        text-align: right;\n",
       "    }\n",
       "</style>\n",
       "<table border=\"1\" class=\"dataframe\">\n",
       "  <thead>\n",
       "    <tr style=\"text-align: right;\">\n",
       "      <th></th>\n",
       "      <th>hypothesis</th>\n",
       "      <th>reach</th>\n",
       "      <th>impact</th>\n",
       "      <th>confidence</th>\n",
       "      <th>efforts</th>\n",
       "      <th>ice</th>\n",
       "      <th>rice</th>\n",
       "    </tr>\n",
       "  </thead>\n",
       "  <tbody>\n",
       "    <tr>\n",
       "      <th>0</th>\n",
       "      <td>Добавить форму подписки на все основные страницы, чтобы собрать базу клиентов для email-рассылок</td>\n",
       "      <td>10</td>\n",
       "      <td>7</td>\n",
       "      <td>8</td>\n",
       "      <td>5</td>\n",
       "      <td>11</td>\n",
       "      <td>112</td>\n",
       "    </tr>\n",
       "    <tr>\n",
       "      <th>1</th>\n",
       "      <td>Добавить блоки рекомендаций товаров на сайт интернет магазина, чтобы повысить конверсию и средний чек заказа</td>\n",
       "      <td>8</td>\n",
       "      <td>3</td>\n",
       "      <td>7</td>\n",
       "      <td>3</td>\n",
       "      <td>7</td>\n",
       "      <td>56</td>\n",
       "    </tr>\n",
       "    <tr>\n",
       "      <th>2</th>\n",
       "      <td>Добавить два новых канала привлечения трафика, что позволит привлекать на 30% больше пользователей</td>\n",
       "      <td>3</td>\n",
       "      <td>10</td>\n",
       "      <td>8</td>\n",
       "      <td>6</td>\n",
       "      <td>13</td>\n",
       "      <td>40</td>\n",
       "    </tr>\n",
       "    <tr>\n",
       "      <th>3</th>\n",
       "      <td>Показать на главной странице баннеры с актуальными акциями и распродажами, чтобы увеличить конверсию</td>\n",
       "      <td>5</td>\n",
       "      <td>3</td>\n",
       "      <td>8</td>\n",
       "      <td>3</td>\n",
       "      <td>8</td>\n",
       "      <td>40</td>\n",
       "    </tr>\n",
       "    <tr>\n",
       "      <th>4</th>\n",
       "      <td>Запустить акцию, дающую скидку на товар в день рождения</td>\n",
       "      <td>1</td>\n",
       "      <td>9</td>\n",
       "      <td>9</td>\n",
       "      <td>5</td>\n",
       "      <td>16</td>\n",
       "      <td>16</td>\n",
       "    </tr>\n",
       "    <tr>\n",
       "      <th>5</th>\n",
       "      <td>Изменить структура категорий, что увеличит конверсию, т.к. пользователи быстрее найдут нужный товар</td>\n",
       "      <td>8</td>\n",
       "      <td>3</td>\n",
       "      <td>3</td>\n",
       "      <td>8</td>\n",
       "      <td>1</td>\n",
       "      <td>9</td>\n",
       "    </tr>\n",
       "    <tr>\n",
       "      <th>6</th>\n",
       "      <td>Запустить собственную службу доставки, что сократит срок доставки заказов</td>\n",
       "      <td>2</td>\n",
       "      <td>5</td>\n",
       "      <td>4</td>\n",
       "      <td>10</td>\n",
       "      <td>2</td>\n",
       "      <td>4</td>\n",
       "    </tr>\n",
       "    <tr>\n",
       "      <th>7</th>\n",
       "      <td>Добавить страницу отзывов клиентов о магазине, что позволит увеличить количество заказов</td>\n",
       "      <td>3</td>\n",
       "      <td>2</td>\n",
       "      <td>2</td>\n",
       "      <td>3</td>\n",
       "      <td>1</td>\n",
       "      <td>4</td>\n",
       "    </tr>\n",
       "    <tr>\n",
       "      <th>8</th>\n",
       "      <td>Изменить цвет фона главной страницы, чтобы увеличить вовлеченность пользователей</td>\n",
       "      <td>3</td>\n",
       "      <td>1</td>\n",
       "      <td>1</td>\n",
       "      <td>1</td>\n",
       "      <td>1</td>\n",
       "      <td>3</td>\n",
       "    </tr>\n",
       "  </tbody>\n",
       "</table>\n",
       "</div>"
      ],
      "text/plain": [
       "                                                                                                     hypothesis  \\\n",
       "0              Добавить форму подписки на все основные страницы, чтобы собрать базу клиентов для email-рассылок   \n",
       "1  Добавить блоки рекомендаций товаров на сайт интернет магазина, чтобы повысить конверсию и средний чек заказа   \n",
       "2            Добавить два новых канала привлечения трафика, что позволит привлекать на 30% больше пользователей   \n",
       "3          Показать на главной странице баннеры с актуальными акциями и распродажами, чтобы увеличить конверсию   \n",
       "4                                                       Запустить акцию, дающую скидку на товар в день рождения   \n",
       "5           Изменить структура категорий, что увеличит конверсию, т.к. пользователи быстрее найдут нужный товар   \n",
       "6                                     Запустить собственную службу доставки, что сократит срок доставки заказов   \n",
       "7                      Добавить страницу отзывов клиентов о магазине, что позволит увеличить количество заказов   \n",
       "8                              Изменить цвет фона главной страницы, чтобы увеличить вовлеченность пользователей   \n",
       "\n",
       "   reach  impact  confidence  efforts  ice  rice  \n",
       "0     10       7           8        5   11   112  \n",
       "1      8       3           7        3    7    56  \n",
       "2      3      10           8        6   13    40  \n",
       "3      5       3           8        3    8    40  \n",
       "4      1       9           9        5   16    16  \n",
       "5      8       3           3        8    1     9  \n",
       "6      2       5           4       10    2     4  \n",
       "7      3       2           2        3    1     4  \n",
       "8      3       1           1        1    1     3  "
      ]
     },
     "execution_count": 33,
     "metadata": {},
     "output_type": "execute_result"
    }
   ],
   "source": [
    "# приоритизация гипотез с помощаью фреймворка RICE\n",
    "hypothesis['rice'] = (hypothesis['reach'] * hypothesis['impact'] * hypothesis['confidence'] / hypothesis['efforts'])\\\n",
    "                     .astype('int') # расчет индека rice и приведение его значений к типу int\n",
    "pd.set_option('display.max_colwidth', arg)\n",
    "hypothesis.sort_values(by=['rice', 'ice'], ascending=False).reset_index().drop(columns='index')"
   ]
  },
  {
   "cell_type": "markdown",
   "metadata": {},
   "source": [
    "На основе фреймворка RICE можно судить о том, что самыми приоритетными гипотезами являются:\n",
    "   - \"Добавить форму подписки на все основные страницы, чтобы собрать базу клиентов для email-рассылок\"\n",
    "   - \"Добавить блоки рекомендаций товаров на сайт интернет магазина, чтобы повысить конверсию и средний чек заказа\"\n",
    "   - \"Добавить два новых канала привлечения трафика, что позволит привлекать на 30% больше пользователей\""
   ]
  },
  {
   "cell_type": "markdown",
   "metadata": {},
   "source": [
    "Приоритет гипотез различается в зависимости от того, расчитывался ли ICE или RICE. Так произошло потому, что RICE в отличие от ICE учитывает количество пользователей, которое затронет предлагаемое изменение. Следовательно, даже гипотезы с высоким ICE могут иметь небольшой охват пользователей, из-за чего их RICE будет невысоким.\n",
    "\n",
    "Однако, независимо от того, расчитывался ли ICE или RICE, в топ-3 самых приоритетных гипотез входят добавление формы подписки на все основные страницы, чтобы собрать базу клиентов для email-рассылок и добавление двух новых каналов привлечения трафика, что позволит привлекать на 30% больше пользователей.\n",
    "\n",
    "Так как гипотеза о \"Добавить форму подписки на все основные страницы, чтобы собрать базу клиентов для email-рассылок\" является гипотезой с набольшим охватом пользователей, а также она имеет достаточно высокий ICE, то данная гипотеза будет протестирована в А/В-тесте."
   ]
  },
  {
   "cell_type": "markdown",
   "metadata": {},
   "source": [
    "# 4. Анализ А/В-теста"
   ]
  },
  {
   "cell_type": "markdown",
   "metadata": {},
   "source": [
    "### График кумулятивной выручки по группам"
   ]
  },
  {
   "cell_type": "code",
   "execution_count": 34,
   "metadata": {},
   "outputs": [
    {
     "data": {
      "text/html": [
       "<div>\n",
       "<style scoped>\n",
       "    .dataframe tbody tr th:only-of-type {\n",
       "        vertical-align: middle;\n",
       "    }\n",
       "\n",
       "    .dataframe tbody tr th {\n",
       "        vertical-align: top;\n",
       "    }\n",
       "\n",
       "    .dataframe thead th {\n",
       "        text-align: right;\n",
       "    }\n",
       "</style>\n",
       "<table border=\"1\" class=\"dataframe\">\n",
       "  <thead>\n",
       "    <tr style=\"text-align: right;\">\n",
       "      <th></th>\n",
       "      <th>date</th>\n",
       "      <th>group</th>\n",
       "    </tr>\n",
       "  </thead>\n",
       "  <tbody>\n",
       "    <tr>\n",
       "      <th>0</th>\n",
       "      <td>2019-08-15</td>\n",
       "      <td>B</td>\n",
       "    </tr>\n",
       "    <tr>\n",
       "      <th>7</th>\n",
       "      <td>2019-08-15</td>\n",
       "      <td>A</td>\n",
       "    </tr>\n",
       "    <tr>\n",
       "      <th>45</th>\n",
       "      <td>2019-08-16</td>\n",
       "      <td>A</td>\n",
       "    </tr>\n",
       "    <tr>\n",
       "      <th>47</th>\n",
       "      <td>2019-08-16</td>\n",
       "      <td>B</td>\n",
       "    </tr>\n",
       "    <tr>\n",
       "      <th>55</th>\n",
       "      <td>2019-08-01</td>\n",
       "      <td>A</td>\n",
       "    </tr>\n",
       "  </tbody>\n",
       "</table>\n",
       "</div>"
      ],
      "text/plain": [
       "         date group\n",
       "0  2019-08-15     B\n",
       "7  2019-08-15     A\n",
       "45 2019-08-16     A\n",
       "47 2019-08-16     B\n",
       "55 2019-08-01     A"
      ]
     },
     "execution_count": 34,
     "metadata": {},
     "output_type": "execute_result"
    }
   ],
   "source": [
    "# уникальные значения пар и групп тестов\n",
    "dates_groups = orders[['date','group']].drop_duplicates()\n",
    "dates_groups.head()"
   ]
  },
  {
   "cell_type": "code",
   "execution_count": 35,
   "metadata": {},
   "outputs": [
    {
     "data": {
      "text/html": [
       "<div>\n",
       "<style scoped>\n",
       "    .dataframe tbody tr th:only-of-type {\n",
       "        vertical-align: middle;\n",
       "    }\n",
       "\n",
       "    .dataframe tbody tr th {\n",
       "        vertical-align: top;\n",
       "    }\n",
       "\n",
       "    .dataframe thead th {\n",
       "        text-align: right;\n",
       "    }\n",
       "</style>\n",
       "<table border=\"1\" class=\"dataframe\">\n",
       "  <thead>\n",
       "    <tr style=\"text-align: right;\">\n",
       "      <th></th>\n",
       "      <th>date</th>\n",
       "      <th>group</th>\n",
       "      <th>orders</th>\n",
       "      <th>buyers</th>\n",
       "      <th>revenue</th>\n",
       "    </tr>\n",
       "  </thead>\n",
       "  <tbody>\n",
       "    <tr>\n",
       "      <th>55</th>\n",
       "      <td>2019-08-01</td>\n",
       "      <td>A</td>\n",
       "      <td>23</td>\n",
       "      <td>19</td>\n",
       "      <td>142779</td>\n",
       "    </tr>\n",
       "    <tr>\n",
       "      <th>66</th>\n",
       "      <td>2019-08-01</td>\n",
       "      <td>B</td>\n",
       "      <td>17</td>\n",
       "      <td>17</td>\n",
       "      <td>59758</td>\n",
       "    </tr>\n",
       "    <tr>\n",
       "      <th>175</th>\n",
       "      <td>2019-08-02</td>\n",
       "      <td>A</td>\n",
       "      <td>42</td>\n",
       "      <td>36</td>\n",
       "      <td>234381</td>\n",
       "    </tr>\n",
       "    <tr>\n",
       "      <th>173</th>\n",
       "      <td>2019-08-02</td>\n",
       "      <td>B</td>\n",
       "      <td>40</td>\n",
       "      <td>39</td>\n",
       "      <td>221801</td>\n",
       "    </tr>\n",
       "    <tr>\n",
       "      <th>291</th>\n",
       "      <td>2019-08-03</td>\n",
       "      <td>A</td>\n",
       "      <td>66</td>\n",
       "      <td>60</td>\n",
       "      <td>346854</td>\n",
       "    </tr>\n",
       "  </tbody>\n",
       "</table>\n",
       "</div>"
      ],
      "text/plain": [
       "          date group  orders  buyers  revenue\n",
       "55  2019-08-01     A      23      19   142779\n",
       "66  2019-08-01     B      17      17    59758\n",
       "175 2019-08-02     A      42      36   234381\n",
       "173 2019-08-02     B      40      39   221801\n",
       "291 2019-08-03     A      66      60   346854"
      ]
     },
     "execution_count": 35,
     "metadata": {},
     "output_type": "execute_result"
    }
   ],
   "source": [
    "# агрегированные кумулятивные данные по дням о заказах:\n",
    "# для каждой группы считается сумма заказов, количества покупателей и выручки с начала теста по дату, указанную в столбце 'date'\n",
    "orders_aggregated = dates_groups.apply(\n",
    "    lambda x: orders[np.logical_and(orders['date']<=x['date'], orders['group']==x['group'])]\\\n",
    "    .agg({'date':'max', 'group':'max', 'transaction_id':'nunique', 'visitor_id':'nunique', 'revenue':'sum'}), axis=1)\\\n",
    "    .sort_values(by=['date', 'group'])\\\n",
    "    .rename(columns={'transaction_id':'orders', 'visitor_id':'buyers'})\n",
    "orders_aggregated.head()"
   ]
  },
  {
   "cell_type": "code",
   "execution_count": 36,
   "metadata": {},
   "outputs": [
    {
     "data": {
      "text/html": [
       "<div>\n",
       "<style scoped>\n",
       "    .dataframe tbody tr th:only-of-type {\n",
       "        vertical-align: middle;\n",
       "    }\n",
       "\n",
       "    .dataframe tbody tr th {\n",
       "        vertical-align: top;\n",
       "    }\n",
       "\n",
       "    .dataframe thead th {\n",
       "        text-align: right;\n",
       "    }\n",
       "</style>\n",
       "<table border=\"1\" class=\"dataframe\">\n",
       "  <thead>\n",
       "    <tr style=\"text-align: right;\">\n",
       "      <th></th>\n",
       "      <th>date</th>\n",
       "      <th>group</th>\n",
       "      <th>visitors</th>\n",
       "    </tr>\n",
       "  </thead>\n",
       "  <tbody>\n",
       "    <tr>\n",
       "      <th>55</th>\n",
       "      <td>2019-08-01</td>\n",
       "      <td>A</td>\n",
       "      <td>719</td>\n",
       "    </tr>\n",
       "    <tr>\n",
       "      <th>66</th>\n",
       "      <td>2019-08-01</td>\n",
       "      <td>B</td>\n",
       "      <td>713</td>\n",
       "    </tr>\n",
       "    <tr>\n",
       "      <th>175</th>\n",
       "      <td>2019-08-02</td>\n",
       "      <td>A</td>\n",
       "      <td>1338</td>\n",
       "    </tr>\n",
       "    <tr>\n",
       "      <th>173</th>\n",
       "      <td>2019-08-02</td>\n",
       "      <td>B</td>\n",
       "      <td>1294</td>\n",
       "    </tr>\n",
       "    <tr>\n",
       "      <th>291</th>\n",
       "      <td>2019-08-03</td>\n",
       "      <td>A</td>\n",
       "      <td>1845</td>\n",
       "    </tr>\n",
       "  </tbody>\n",
       "</table>\n",
       "</div>"
      ],
      "text/plain": [
       "          date group  visitors\n",
       "55  2019-08-01     A       719\n",
       "66  2019-08-01     B       713\n",
       "175 2019-08-02     A      1338\n",
       "173 2019-08-02     B      1294\n",
       "291 2019-08-03     A      1845"
      ]
     },
     "execution_count": 36,
     "metadata": {},
     "output_type": "execute_result"
    }
   ],
   "source": [
    "# агрегированные кумулятивные данные по дням о посетителях\n",
    "# для каждой группы теста считается сумма посетителей с начала теста по дату, указанную в столбце 'date'\n",
    "visitors_aggregated = dates_groups.apply(\n",
    "    lambda x: visitors[np.logical_and(visitors['date'] <= x['date'], visitors['group'] == x['group'])]\\\n",
    "    .agg({'date':'max', 'group':'max', 'visitors':'sum'}), axis=1)\\\n",
    "    .sort_values(by=['date','group'])\n",
    "visitors_aggregated.head()"
   ]
  },
  {
   "cell_type": "code",
   "execution_count": 37,
   "metadata": {},
   "outputs": [
    {
     "data": {
      "text/html": [
       "<div>\n",
       "<style scoped>\n",
       "    .dataframe tbody tr th:only-of-type {\n",
       "        vertical-align: middle;\n",
       "    }\n",
       "\n",
       "    .dataframe tbody tr th {\n",
       "        vertical-align: top;\n",
       "    }\n",
       "\n",
       "    .dataframe thead th {\n",
       "        text-align: right;\n",
       "    }\n",
       "</style>\n",
       "<table border=\"1\" class=\"dataframe\">\n",
       "  <thead>\n",
       "    <tr style=\"text-align: right;\">\n",
       "      <th></th>\n",
       "      <th>date</th>\n",
       "      <th>group</th>\n",
       "      <th>orders</th>\n",
       "      <th>buyers</th>\n",
       "      <th>revenue</th>\n",
       "      <th>visitors</th>\n",
       "    </tr>\n",
       "  </thead>\n",
       "  <tbody>\n",
       "    <tr>\n",
       "      <th>0</th>\n",
       "      <td>2019-08-01</td>\n",
       "      <td>A</td>\n",
       "      <td>23</td>\n",
       "      <td>19</td>\n",
       "      <td>142779</td>\n",
       "      <td>719</td>\n",
       "    </tr>\n",
       "    <tr>\n",
       "      <th>1</th>\n",
       "      <td>2019-08-01</td>\n",
       "      <td>B</td>\n",
       "      <td>17</td>\n",
       "      <td>17</td>\n",
       "      <td>59758</td>\n",
       "      <td>713</td>\n",
       "    </tr>\n",
       "    <tr>\n",
       "      <th>2</th>\n",
       "      <td>2019-08-02</td>\n",
       "      <td>A</td>\n",
       "      <td>42</td>\n",
       "      <td>36</td>\n",
       "      <td>234381</td>\n",
       "      <td>1338</td>\n",
       "    </tr>\n",
       "    <tr>\n",
       "      <th>3</th>\n",
       "      <td>2019-08-02</td>\n",
       "      <td>B</td>\n",
       "      <td>40</td>\n",
       "      <td>39</td>\n",
       "      <td>221801</td>\n",
       "      <td>1294</td>\n",
       "    </tr>\n",
       "    <tr>\n",
       "      <th>4</th>\n",
       "      <td>2019-08-03</td>\n",
       "      <td>A</td>\n",
       "      <td>66</td>\n",
       "      <td>60</td>\n",
       "      <td>346854</td>\n",
       "      <td>1845</td>\n",
       "    </tr>\n",
       "  </tbody>\n",
       "</table>\n",
       "</div>"
      ],
      "text/plain": [
       "        date group  orders  buyers  revenue  visitors\n",
       "0 2019-08-01     A      23      19   142779       719\n",
       "1 2019-08-01     B      17      17    59758       713\n",
       "2 2019-08-02     A      42      36   234381      1338\n",
       "3 2019-08-02     B      40      39   221801      1294\n",
       "4 2019-08-03     A      66      60   346854      1845"
      ]
     },
     "execution_count": 37,
     "metadata": {},
     "output_type": "execute_result"
    }
   ],
   "source": [
    "# таблица, объединяющая агрегированные кумулятивные данные о посетителях и о заказах\n",
    "cumulative_data = orders_aggregated.merge(visitors_aggregated, left_on=['date','group'], right_on=['date','group'])\n",
    "cumulative_data.head()"
   ]
  },
  {
   "cell_type": "code",
   "execution_count": 38,
   "metadata": {},
   "outputs": [],
   "source": [
    "# кумулятивные данные по датам о выручке и количеству заказов для пользователей из группы А\n",
    "cumulative_revenue_a = cumulative_data[cumulative_data['group'] == 'A'][['date', 'revenue', 'orders']]\n",
    "# кумулятивные данные по датам о выручке и количеству заказов для пользователей из группы В\n",
    "cumulative_revenue_b = cumulative_data[cumulative_data['group'] == 'B'][['date', 'revenue', 'orders']]"
   ]
  },
  {
   "cell_type": "code",
   "execution_count": 39,
   "metadata": {},
   "outputs": [
    {
     "data": {
      "image/png": "[encoded data removed]",
      "text/plain": [
       "<Figure size 432x288 with 1 Axes>"
      ]
     },
     "metadata": {
      "needs_background": "light"
     },
     "output_type": "display_data"
    }
   ],
   "source": [
    "warnings.filterwarnings(\"ignore\")\n",
    "# график изменения кумулятивной выручки в группе А\n",
    "plt.plot(cumulative_revenue_a['date'], cumulative_revenue_a['revenue']/10**6, label='A')\n",
    "# график изменения кумулятивной выручки в группе В\n",
    "plt.plot(cumulative_revenue_b['date'], cumulative_revenue_b['revenue']/10**6, label='B')\n",
    "plt.xticks(rotation=45) # поворот подписей оси х на 45 градусов\n",
    "plt.legend() # показ легенды\n",
    "plt.ylabel('Кумулятивная выручка, млн руб') # подпись оси у\n",
    "plt.title('Изменение кумулятивной выручки по группам') # название графика\n",
    "plt.tight_layout() # подбор ширины диаграммы так, чтобы подписи не пересекались"
   ]
  },
  {
   "cell_type": "markdown",
   "metadata": {},
   "source": [
    "**Вывод**\n",
    "\n",
    "Группа В стабильно имеет более высокую кумулятивную выручку по сравнению с группой А, начиная с 13 августа. Однако, в то время как график на группы А растет приактически равномерно, график для группы В показывает резкий скачок выручки примерно в полтора раза (с примерно 2.5 до 4 млн руб) в период с 18 по 19 августа. Причиной этого скачка может служить либо всплеск числа заказов в этот период, либо о появлении аномально дорогих заказов."
   ]
  },
  {
   "cell_type": "markdown",
   "metadata": {},
   "source": [
    "### График кумулятивного среднего чека по группам"
   ]
  },
  {
   "cell_type": "code",
   "execution_count": 40,
   "metadata": {},
   "outputs": [
    {
     "data": {
      "text/plain": [
       "Text(0.5, 1.0, 'Изменение кумулятивного среднего чека по группам')"
      ]
     },
     "execution_count": 40,
     "metadata": {},
     "output_type": "execute_result"
    },
    {
     "data": {
      "image/png": "[encoded data removed]",
      "text/plain": [
       "<Figure size 432x288 with 1 Axes>"
      ]
     },
     "metadata": {
      "needs_background": "light"
     },
     "output_type": "display_data"
    }
   ],
   "source": [
    "# график изменения кумулятивного среднего чека в группе А\n",
    "plt.plot(cumulative_revenue_a['date'], cumulative_revenue_a['revenue']/cumulative_revenue_a['orders'], label='A')\n",
    "# график изменения кумулятивного среднего чека в группе В\n",
    "plt.plot(cumulative_revenue_b['date'], cumulative_revenue_b['revenue']/cumulative_revenue_b['orders'], label='B')\n",
    "plt.legend()\n",
    "plt.xticks(rotation=45)\n",
    "plt.ylabel('Кумулятивный средний чек, руб')\n",
    "plt.title('Изменение кумулятивного среднего чека по группам')"
   ]
  },
  {
   "cell_type": "markdown",
   "metadata": {},
   "source": [
    "**Вывод**\n",
    "\n",
    "На графике изменения кумулятивного среднего чека по группам виден резкий скачок среднего чека в сторону увеличения в примерно 1.5 раза (с 7 до 10 тысяч рублей) для группы В 18 августа. После скачка размер среднего чека у группы В начал постепенно снижаться и в конце теста снизился примерно на 10% по сравнению со своим максимальным значением, достигнув 9 тысяч рублей. Такой скачок может быть обусловлен совершением очень крупного заказа 18 августа.\n",
    "\n",
    "В группе А также отмечаются несколько скачков среднего чека вверх в период с 5 по 12 августа, то есть в начале теста, затем средней чек в этой группе установился на уровне примерно в 7 тысяч рублей.\n",
    "\n",
    "Возможно, что из-за всплекса на графике, для группы В потребуется больше данных, чтобы эта группа согла прийти к значениям реального среднего чека и установиться его уровне."
   ]
  },
  {
   "cell_type": "markdown",
   "metadata": {},
   "source": [
    "### График относительного изменения кумулятивного среднего чека группы В к группе А"
   ]
  },
  {
   "cell_type": "code",
   "execution_count": 41,
   "metadata": {},
   "outputs": [
    {
     "data": {
      "text/html": [
       "<div>\n",
       "<style scoped>\n",
       "    .dataframe tbody tr th:only-of-type {\n",
       "        vertical-align: middle;\n",
       "    }\n",
       "\n",
       "    .dataframe tbody tr th {\n",
       "        vertical-align: top;\n",
       "    }\n",
       "\n",
       "    .dataframe thead th {\n",
       "        text-align: right;\n",
       "    }\n",
       "</style>\n",
       "<table border=\"1\" class=\"dataframe\">\n",
       "  <thead>\n",
       "    <tr style=\"text-align: right;\">\n",
       "      <th></th>\n",
       "      <th>date</th>\n",
       "      <th>revenue_a</th>\n",
       "      <th>orders_a</th>\n",
       "      <th>revenue_b</th>\n",
       "      <th>orders_b</th>\n",
       "    </tr>\n",
       "  </thead>\n",
       "  <tbody>\n",
       "    <tr>\n",
       "      <th>0</th>\n",
       "      <td>2019-08-01</td>\n",
       "      <td>142779</td>\n",
       "      <td>23</td>\n",
       "      <td>59758</td>\n",
       "      <td>17</td>\n",
       "    </tr>\n",
       "    <tr>\n",
       "      <th>1</th>\n",
       "      <td>2019-08-02</td>\n",
       "      <td>234381</td>\n",
       "      <td>42</td>\n",
       "      <td>221801</td>\n",
       "      <td>40</td>\n",
       "    </tr>\n",
       "    <tr>\n",
       "      <th>2</th>\n",
       "      <td>2019-08-03</td>\n",
       "      <td>346854</td>\n",
       "      <td>66</td>\n",
       "      <td>288850</td>\n",
       "      <td>54</td>\n",
       "    </tr>\n",
       "    <tr>\n",
       "      <th>3</th>\n",
       "      <td>2019-08-04</td>\n",
       "      <td>388030</td>\n",
       "      <td>77</td>\n",
       "      <td>385740</td>\n",
       "      <td>68</td>\n",
       "    </tr>\n",
       "    <tr>\n",
       "      <th>4</th>\n",
       "      <td>2019-08-05</td>\n",
       "      <td>474413</td>\n",
       "      <td>99</td>\n",
       "      <td>475648</td>\n",
       "      <td>89</td>\n",
       "    </tr>\n",
       "  </tbody>\n",
       "</table>\n",
       "</div>"
      ],
      "text/plain": [
       "        date  revenue_a  orders_a  revenue_b  orders_b\n",
       "0 2019-08-01     142779        23      59758        17\n",
       "1 2019-08-02     234381        42     221801        40\n",
       "2 2019-08-03     346854        66     288850        54\n",
       "3 2019-08-04     388030        77     385740        68\n",
       "4 2019-08-05     474413        99     475648        89"
      ]
     },
     "execution_count": 41,
     "metadata": {},
     "output_type": "execute_result"
    }
   ],
   "source": [
    "# датафрейм с выручкой и количеством заказов по группе А, объединенный с датафреймом с выручкой и группой заказов в группе В\n",
    "merged_cumulative_revenue = cumulative_revenue_a.merge(cumulative_revenue_b,\n",
    "                                                       left_on='date', \n",
    "                                                       right_on='date', \n",
    "                                                       how='left', \n",
    "                                                       suffixes=['_a', '_b'])\n",
    "merged_cumulative_revenue.head()"
   ]
  },
  {
   "cell_type": "code",
   "execution_count": 42,
   "metadata": {
    "scrolled": true
   },
   "outputs": [
    {
     "data": {
      "text/plain": [
       "Text(0.5, 1.0, 'Относительное изменение кумулятивного среднего чека в группе В к группе А')"
      ]
     },
     "execution_count": 42,
     "metadata": {},
     "output_type": "execute_result"
    },
    {
     "data": {
      "image/png": "[encoded data removed]",
      "text/plain": [
       "<Figure size 432x288 with 1 Axes>"
      ]
     },
     "metadata": {
      "needs_background": "light"
     },
     "output_type": "display_data"
    }
   ],
   "source": [
    "# график отношения средних чеков в группе В к группе А\n",
    "plt.plot(merged_cumulative_revenue['date'],\n",
    "         (merged_cumulative_revenue['revenue_b']/merged_cumulative_revenue['orders_b'])/(merged_cumulative_revenue['revenue_a']/merged_cumulative_revenue['orders_a']) - 1,\n",
    "        label='Средний чек В/ Средний чек А')\n",
    "# добавление горизонтальной пунктирной линии на уровне нуля, обозначающей отсутствие разницы между группами А и В\n",
    "plt.axhline(y=0, linestyle='--', color='grey')\n",
    "plt.xticks(rotation=45)\n",
    "plt.ylabel('Относительный прирост кумулятивного\\n среднего чека в группе В к группе А')\n",
    "plt.legend()\n",
    "plt.title('Относительное изменение кумулятивного среднего чека в группе В к группе А')"
   ]
  },
  {
   "cell_type": "markdown",
   "metadata": {},
   "source": [
    "**Вывод**\n",
    "\n",
    "Кумулятивный средний чек для группы В стал выше аналогичного показателя для группы А уже на второй день с начала теста и рос рост по отношению к кумулятивному среднему чеку для группы А до 8 августа (рост показателя с -0.2 до 0.35). Затем показатель падал с 8 по 13 августа, упав до значения приблизительно в -0.13. С 13 августа отношение кумулятивного среднего чека в группе В к группе А начало расти, и с 15 августа кумулятивной средний чек группы В стал стабильно выше аналогичного показателя для группы А. На конец теста отношение кумулятивного среднего чека в группе В к группе А составляет 0.25, то есть кумулятивный средний чек в группе В на 25% аналогичного показателя в группе А.\n",
    "\n",
    "Как и на предыдущих графиках, в период с 18 на 19 августа виден резкий скачок величины кумулятивного среднего чека в группе В (скачок показателя от примерно 0.02 до 0.5, то есть в 25 раз), который может быть обусловлен аномально большим заказом, сделанным в этот день.\n",
    "\n",
    "График также показывает то, что начиная с 19 августа отношение кумулятивного среднего чека в группе В начинает уменьшаться по отношение к аналогичному показателю в группе А."
   ]
  },
  {
   "cell_type": "markdown",
   "metadata": {},
   "source": [
    "### График кумулятивной конверсии по группам"
   ]
  },
  {
   "cell_type": "code",
   "execution_count": 43,
   "metadata": {},
   "outputs": [],
   "source": [
    "# добавление столбца с расчетом конверсии в датафрейм cumulative_data\n",
    "cumulative_data['conversion'] = cumulative_data['orders']/cumulative_data['visitors']\n",
    "# датафрейм с данными о конверсии для группы А\n",
    "cumulative_data_a = cumulative_data[cumulative_data['group'] == 'A']\n",
    "# датафрейм с данными о конверсии для группы В\n",
    "cumulative_data_b = cumulative_data[cumulative_data['group'] == 'B']"
   ]
  },
  {
   "cell_type": "code",
   "execution_count": 44,
   "metadata": {},
   "outputs": [
    {
     "data": {
      "text/plain": [
       "Text(0.5, 1.0, 'Изменение кумулятивной конверсии по группам')"
      ]
     },
     "execution_count": 44,
     "metadata": {},
     "output_type": "execute_result"
    },
    {
     "data": {
      "image/png": "[encoded data removed]",
      "text/plain": [
       "<Figure size 432x288 with 1 Axes>"
      ]
     },
     "metadata": {
      "needs_background": "light"
     },
     "output_type": "display_data"
    }
   ],
   "source": [
    "# построение графика кумулятивной конваерсии по группам\n",
    "plt.plot(cumulative_data_a['date'], cumulative_data_a['conversion'], label='A')\n",
    "plt.plot(cumulative_data_b['date'], cumulative_data_b['conversion'], label='B')\n",
    "plt.xticks(rotation=45)\n",
    "plt.legend()\n",
    "plt.ylabel('Кумулятивная конверсия')\n",
    "plt.title('Изменение кумулятивной конверсии по группам')"
   ]
  },
  {
   "cell_type": "markdown",
   "metadata": {},
   "source": [
    "**Вывод**\n",
    "\n",
    "На графике изменения кумулятивной конверсии по группам видно, что в группе А кумулятивная конверсия претерпела скачок в начале теста (показатель вырос с 0.0295 до примерно 0.0347), после которого следовало падение конверсии до ее уровня чуть выше того, что был в первый день теста и стала равной примерно 0.032. Затем кумулятивная  конверсия продолжила расти, и к концу теста установилась в диапазоне от 0.029 до 0.031.\n",
    "\n",
    "Кумулятивная конверсия группы В также претерпела резкий скачок с последующим падением в начале теста (рост показателя с 0.033 до 0.037). Затем показатель начал расти, достигнув пикового значения 0.036 11 августа. После этой даты кумулятивная конверсия несколько снизилась, установившись к концу теста в диапазоне от 0.033 до 0.034.\n",
    "\n",
    "В целом, к концу теста кумулятивная конверсия группы В стабильно выше кумулятивной конверсии группы А."
   ]
  },
  {
   "cell_type": "markdown",
   "metadata": {},
   "source": [
    "### График относительного изменения кумулятивной конверсии группы В к группе А"
   ]
  },
  {
   "cell_type": "code",
   "execution_count": 45,
   "metadata": {},
   "outputs": [
    {
     "data": {
      "text/html": [
       "<div>\n",
       "<style scoped>\n",
       "    .dataframe tbody tr th:only-of-type {\n",
       "        vertical-align: middle;\n",
       "    }\n",
       "\n",
       "    .dataframe tbody tr th {\n",
       "        vertical-align: top;\n",
       "    }\n",
       "\n",
       "    .dataframe thead th {\n",
       "        text-align: right;\n",
       "    }\n",
       "</style>\n",
       "<table border=\"1\" class=\"dataframe\">\n",
       "  <thead>\n",
       "    <tr style=\"text-align: right;\">\n",
       "      <th></th>\n",
       "      <th>date</th>\n",
       "      <th>conversion_a</th>\n",
       "      <th>conversion_b</th>\n",
       "    </tr>\n",
       "  </thead>\n",
       "  <tbody>\n",
       "    <tr>\n",
       "      <th>0</th>\n",
       "      <td>2019-08-01</td>\n",
       "      <td>0.031989</td>\n",
       "      <td>0.023843</td>\n",
       "    </tr>\n",
       "    <tr>\n",
       "      <th>1</th>\n",
       "      <td>2019-08-02</td>\n",
       "      <td>0.031390</td>\n",
       "      <td>0.030912</td>\n",
       "    </tr>\n",
       "    <tr>\n",
       "      <th>2</th>\n",
       "      <td>2019-08-03</td>\n",
       "      <td>0.035772</td>\n",
       "      <td>0.029950</td>\n",
       "    </tr>\n",
       "    <tr>\n",
       "      <th>3</th>\n",
       "      <td>2019-08-04</td>\n",
       "      <td>0.030055</td>\n",
       "      <td>0.026428</td>\n",
       "    </tr>\n",
       "    <tr>\n",
       "      <th>4</th>\n",
       "      <td>2019-08-05</td>\n",
       "      <td>0.029837</td>\n",
       "      <td>0.027134</td>\n",
       "    </tr>\n",
       "  </tbody>\n",
       "</table>\n",
       "</div>"
      ],
      "text/plain": [
       "        date  conversion_a  conversion_b\n",
       "0 2019-08-01      0.031989      0.023843\n",
       "1 2019-08-02      0.031390      0.030912\n",
       "2 2019-08-03      0.035772      0.029950\n",
       "3 2019-08-04      0.030055      0.026428\n",
       "4 2019-08-05      0.029837      0.027134"
      ]
     },
     "execution_count": 45,
     "metadata": {},
     "output_type": "execute_result"
    }
   ],
   "source": [
    "# датафрейм с конверсиями для групп А и В, объединенный по дате\n",
    "merged_cumulative_conversion = cumulative_data_a[['date', 'conversion']].merge(cumulative_data_b[['date', 'conversion']],\n",
    "                                                                            how='left', \n",
    "                                                                            on='date', \n",
    "                                                                            suffixes=['_a','_b'])\n",
    "merged_cumulative_conversion.head()"
   ]
  },
  {
   "cell_type": "code",
   "execution_count": 46,
   "metadata": {},
   "outputs": [
    {
     "data": {
      "text/plain": [
       "Text(0.5, 1.0, 'График относительного изменения кумулятивной конверсии группы В к группе А')"
      ]
     },
     "execution_count": 46,
     "metadata": {},
     "output_type": "execute_result"
    },
    {
     "data": {
      "image/png": "[encoded data removed]",
      "text/plain": [
       "<Figure size 432x288 with 1 Axes>"
      ]
     },
     "metadata": {
      "needs_background": "light"
     },
     "output_type": "display_data"
    }
   ],
   "source": [
    "# график относительного изменения кумулятивной конверсии группы В к группе А\n",
    "plt.plot(merged_cumulative_conversion['date'],\n",
    "         merged_cumulative_conversion['conversion_b']/merged_cumulative_conversion['conversion_a'] - 1,\n",
    "        label='Конверсия группы В/Конверсия группы A')\n",
    "plt.axhline(y=0, color='grey', linestyle='--')\n",
    "plt.legend()\n",
    "plt.xticks(rotation=45)\n",
    "plt.ylabel('Относительный прирост конверсии\\n группы B относительно группы A')\n",
    "plt.title('График относительного изменения кумулятивной конверсии группы В к группе А')"
   ]
  },
  {
   "cell_type": "markdown",
   "metadata": {},
   "source": [
    "**Вывод**\n",
    "\n",
    "В начале эксперимента, 2 августа, отношение кумулятивных конверсий резко растет вверх, достигая значения 0.05, затем опускается до значений ниже, чем -0.05, 3 августа. После чего показатель начинает резко расти, достигая максимального значения в 0.20 15 августа. После 15 августа отношение кумулятивной конверсии в группе В к группе А начинает снижаться, установившись к концу эксперимента в диапазоне от 0.10 до 0.15.\n",
    "\n",
    "В целом, график относительного изменения кумулятивной конверсии группы В к группе А показывает, что начиная с 6 августа кумулятивная конверсия группы В стабильно выше аналогичного показателя для группы А, а также то, что отношение конверсий к концу эксперимента устанавливается в диапазоне от 0.10 до 0.15. То есть кумулятивная конверсия В у конце теста на 10-15% кумулятивной конверсии группы А."
   ]
  },
  {
   "cell_type": "markdown",
   "metadata": {},
   "source": [
    "### График количества заказов по пользователям"
   ]
  },
  {
   "cell_type": "code",
   "execution_count": 47,
   "metadata": {},
   "outputs": [
    {
     "data": {
      "text/html": [
       "<div>\n",
       "<style scoped>\n",
       "    .dataframe tbody tr th:only-of-type {\n",
       "        vertical-align: middle;\n",
       "    }\n",
       "\n",
       "    .dataframe tbody tr th {\n",
       "        vertical-align: top;\n",
       "    }\n",
       "\n",
       "    .dataframe thead th {\n",
       "        text-align: right;\n",
       "    }\n",
       "</style>\n",
       "<table border=\"1\" class=\"dataframe\">\n",
       "  <thead>\n",
       "    <tr style=\"text-align: right;\">\n",
       "      <th></th>\n",
       "      <th>visitor_id</th>\n",
       "      <th>transaction_count</th>\n",
       "      <th>revenue</th>\n",
       "    </tr>\n",
       "  </thead>\n",
       "  <tbody>\n",
       "    <tr>\n",
       "      <th>0</th>\n",
       "      <td>5114589</td>\n",
       "      <td>1</td>\n",
       "      <td>570</td>\n",
       "    </tr>\n",
       "    <tr>\n",
       "      <th>1</th>\n",
       "      <td>6958315</td>\n",
       "      <td>1</td>\n",
       "      <td>1490</td>\n",
       "    </tr>\n",
       "    <tr>\n",
       "      <th>2</th>\n",
       "      <td>11685486</td>\n",
       "      <td>1</td>\n",
       "      <td>6201</td>\n",
       "    </tr>\n",
       "    <tr>\n",
       "      <th>3</th>\n",
       "      <td>39475350</td>\n",
       "      <td>1</td>\n",
       "      <td>3990</td>\n",
       "    </tr>\n",
       "    <tr>\n",
       "      <th>4</th>\n",
       "      <td>47206413</td>\n",
       "      <td>1</td>\n",
       "      <td>730</td>\n",
       "    </tr>\n",
       "  </tbody>\n",
       "</table>\n",
       "</div>"
      ],
      "text/plain": [
       "   visitor_id  transaction_count  revenue\n",
       "0     5114589                  1      570\n",
       "1     6958315                  1     1490\n",
       "2    11685486                  1     6201\n",
       "3    39475350                  1     3990\n",
       "4    47206413                  1      730"
      ]
     },
     "execution_count": 47,
     "metadata": {},
     "output_type": "execute_result"
    }
   ],
   "source": [
    "# датафрейм orders с информацией о заказах, сгруппированный по id пользователя,\n",
    "# где для каждого пользователя расчитана сумма заказов и суммарная выручка\n",
    "orders_by_user = orders.groupby('visitor_id', as_index=False)\\\n",
    "                .agg({'transaction_id':'nunique', 'revenue':'sum'})\\\n",
    "                .rename(columns={'transaction_id':'transaction_count'})\n",
    "orders_by_user.head()"
   ]
  },
  {
   "cell_type": "code",
   "execution_count": 48,
   "metadata": {},
   "outputs": [
    {
     "data": {
      "text/plain": [
       "Text(0.5, 1.0, 'Количество заказов на одного пользователя')"
      ]
     },
     "execution_count": 48,
     "metadata": {},
     "output_type": "execute_result"
    },
    {
     "data": {
      "image/png": "[encoded data removed]",
      "text/plain": [
       "<Figure size 432x288 with 1 Axes>"
      ]
     },
     "metadata": {
      "needs_background": "light"
     },
     "output_type": "display_data"
    }
   ],
   "source": [
    "x_values = pd.Series(range(0, len(orders_by_user))) # подписи для оси х, отображающие id пользователя\n",
    "plt.scatter(x_values, orders_by_user['transaction_count']) # диаграмма рассеивания, показывающая количество заказов на одного пользователя\n",
    "plt.xlabel('id пользователя')\n",
    "plt.ylabel('Количество заказов на\\n одного пользователя')\n",
    "plt.title('Количество заказов на одного пользователя')"
   ]
  },
  {
   "cell_type": "markdown",
   "metadata": {},
   "source": [
    "**Вывод**\n",
    "\n",
    "На диаграмме количества заказов на одного пользователя видно, что в основном пользователя делают по одному заказу. Также иногда встречаются пользователи, которые делают по 2 заказа. Совсем редко пользователи делают 3 заказа. "
   ]
  },
  {
   "cell_type": "markdown",
   "metadata": {},
   "source": [
    "### Определение 95-ого и 99-ого перцентиля количества заказов на пользователя"
   ]
  },
  {
   "cell_type": "code",
   "execution_count": 49,
   "metadata": {},
   "outputs": [
    {
     "name": "stdout",
     "output_type": "stream",
     "text": [
      "[1. 2.]\n"
     ]
    }
   ],
   "source": [
    "print(np.percentile(orders_by_user['transaction_count'], [95, 99]))"
   ]
  },
  {
   "cell_type": "markdown",
   "metadata": {},
   "source": [
    "**Вывод**\n",
    "\n",
    "Не более 5% пользователей оформляли более 1 заказа и не более 1% процента пользователей оформляли более 2 заказов. \n",
    "\n",
    "За границу аномально высокого количества заказов будет взять 95-й перцентиль, и, соотвественно, количество заказов больше 1 будет считаться выбросом."
   ]
  },
  {
   "cell_type": "markdown",
   "metadata": {},
   "source": [
    "### График стоимостей заказов"
   ]
  },
  {
   "cell_type": "code",
   "execution_count": 50,
   "metadata": {},
   "outputs": [
    {
     "data": {
      "text/plain": [
       "Text(0.5, 1.0, 'Выручка, полученная с одного заказа')"
      ]
     },
     "execution_count": 50,
     "metadata": {},
     "output_type": "execute_result"
    },
    {
     "data": {
      "image/png": "[encoded data removed]",
      "text/plain": [
       "<Figure size 432x288 with 1 Axes>"
      ]
     },
     "metadata": {
      "needs_background": "light"
     },
     "output_type": "display_data"
    }
   ],
   "source": [
    "x_values = pd.Series(range(0, len(orders)))\n",
    "plt.scatter(x_values, orders['revenue']/10**3)\n",
    "plt.xlabel('id пользователя')\n",
    "plt.ylabel('Стоимость заказа, тыс')\n",
    "plt.title('Выручка, полученная с одного заказа')"
   ]
  },
  {
   "cell_type": "markdown",
   "metadata": {},
   "source": [
    "**Вывод**\n",
    "\n",
    "Стоимость одного заказа для большинства пользователей меньше 50 тысяч. Однако, есть и очень крупные заказы: примерно на 200 тысяч и на более чем 1.2 млн. "
   ]
  },
  {
   "cell_type": "markdown",
   "metadata": {},
   "source": [
    "### 95-й и 99-й перцентили стоимости заказов"
   ]
  },
  {
   "cell_type": "code",
   "execution_count": 51,
   "metadata": {},
   "outputs": [
    {
     "name": "stdout",
     "output_type": "stream",
     "text": [
      "[26785. 53904.]\n"
     ]
    }
   ],
   "source": [
    "print(np.percentile(orders['revenue'], [95, 99]))"
   ]
  },
  {
   "cell_type": "markdown",
   "metadata": {},
   "source": [
    "**Вывод**\n",
    "\n",
    "Не более 5% делает заказы на сумму большую 26785 тысяч, не более 1% пользователей делает заказы на сумму большую 53904 рублей.\n",
    "\n",
    "Стоимость заказа в 26785 рублей (95-й перцентиль) будет считаться границой аномально высокой стоимости заказа. Заказы дороже этой стоимости будут считать выбросами."
   ]
  },
  {
   "cell_type": "markdown",
   "metadata": {},
   "source": [
    "### Статистическая значимость различий в конверсии между группами по «сырым» данным"
   ]
  },
  {
   "cell_type": "code",
   "execution_count": 52,
   "metadata": {
    "scrolled": true
   },
   "outputs": [],
   "source": [
    "# количество посетителей из группы А по каждой дате\n",
    "visitors_per_date_a = visitors.query('group == \"A\"')[['date', 'visitors']]\n",
    "# количество посетителей из группы В по каждой дате\n",
    "visitors_per_date_b = visitors.query('group == \"B\"')[['date', 'visitors']]"
   ]
  },
  {
   "cell_type": "code",
   "execution_count": 53,
   "metadata": {},
   "outputs": [
    {
     "data": {
      "text/html": [
       "<div>\n",
       "<style scoped>\n",
       "    .dataframe tbody tr th:only-of-type {\n",
       "        vertical-align: middle;\n",
       "    }\n",
       "\n",
       "    .dataframe tbody tr th {\n",
       "        vertical-align: top;\n",
       "    }\n",
       "\n",
       "    .dataframe thead th {\n",
       "        text-align: right;\n",
       "    }\n",
       "</style>\n",
       "<table border=\"1\" class=\"dataframe\">\n",
       "  <thead>\n",
       "    <tr style=\"text-align: right;\">\n",
       "      <th></th>\n",
       "      <th>visitor_id</th>\n",
       "      <th>orders</th>\n",
       "    </tr>\n",
       "  </thead>\n",
       "  <tbody>\n",
       "    <tr>\n",
       "      <th>0</th>\n",
       "      <td>11685486</td>\n",
       "      <td>1</td>\n",
       "    </tr>\n",
       "    <tr>\n",
       "      <th>1</th>\n",
       "      <td>54447517</td>\n",
       "      <td>1</td>\n",
       "    </tr>\n",
       "    <tr>\n",
       "      <th>2</th>\n",
       "      <td>66685450</td>\n",
       "      <td>1</td>\n",
       "    </tr>\n",
       "    <tr>\n",
       "      <th>3</th>\n",
       "      <td>78758296</td>\n",
       "      <td>1</td>\n",
       "    </tr>\n",
       "    <tr>\n",
       "      <th>4</th>\n",
       "      <td>85103373</td>\n",
       "      <td>1</td>\n",
       "    </tr>\n",
       "  </tbody>\n",
       "</table>\n",
       "</div>"
      ],
      "text/plain": [
       "   visitor_id  orders\n",
       "0    11685486       1\n",
       "1    54447517       1\n",
       "2    66685450       1\n",
       "3    78758296       1\n",
       "4    85103373       1"
      ]
     },
     "metadata": {},
     "output_type": "display_data"
    },
    {
     "data": {
      "text/html": [
       "<div>\n",
       "<style scoped>\n",
       "    .dataframe tbody tr th:only-of-type {\n",
       "        vertical-align: middle;\n",
       "    }\n",
       "\n",
       "    .dataframe tbody tr th {\n",
       "        vertical-align: top;\n",
       "    }\n",
       "\n",
       "    .dataframe thead th {\n",
       "        text-align: right;\n",
       "    }\n",
       "</style>\n",
       "<table border=\"1\" class=\"dataframe\">\n",
       "  <thead>\n",
       "    <tr style=\"text-align: right;\">\n",
       "      <th></th>\n",
       "      <th>visitor_id</th>\n",
       "      <th>orders</th>\n",
       "    </tr>\n",
       "  </thead>\n",
       "  <tbody>\n",
       "    <tr>\n",
       "      <th>0</th>\n",
       "      <td>5114589</td>\n",
       "      <td>1</td>\n",
       "    </tr>\n",
       "    <tr>\n",
       "      <th>1</th>\n",
       "      <td>6958315</td>\n",
       "      <td>1</td>\n",
       "    </tr>\n",
       "    <tr>\n",
       "      <th>2</th>\n",
       "      <td>39475350</td>\n",
       "      <td>1</td>\n",
       "    </tr>\n",
       "    <tr>\n",
       "      <th>3</th>\n",
       "      <td>47206413</td>\n",
       "      <td>1</td>\n",
       "    </tr>\n",
       "    <tr>\n",
       "      <th>4</th>\n",
       "      <td>48147722</td>\n",
       "      <td>1</td>\n",
       "    </tr>\n",
       "  </tbody>\n",
       "</table>\n",
       "</div>"
      ],
      "text/plain": [
       "   visitor_id  orders\n",
       "0     5114589       1\n",
       "1     6958315       1\n",
       "2    39475350       1\n",
       "3    47206413       1\n",
       "4    48147722       1"
      ]
     },
     "execution_count": 53,
     "metadata": {},
     "output_type": "execute_result"
    }
   ],
   "source": [
    "# создание датафреймов orders_by_users_a и orders_by_users_b c информацией о количестве заказов каждого пользователя,\n",
    "# в группах А и В, соотвественно\n",
    "orders_by_users_a = (\n",
    "    orders[orders['group'] == 'A']\n",
    "    .groupby('visitor_id', as_index=False)\n",
    "    .agg({'transaction_id': pd.Series.nunique})\n",
    ")\n",
    "orders_by_users_a.columns = ['visitor_id', 'orders']\n",
    "\n",
    "orders_by_users_b = (\n",
    "    orders[orders['group'] == 'B']\n",
    "    .groupby('visitor_id', as_index=False)\n",
    "    .agg({'transaction_id': pd.Series.nunique})\n",
    ")\n",
    "orders_by_users_b.columns = ['visitor_id', 'orders']\n",
    "\n",
    "display(orders_by_users_a.head())\n",
    "orders_by_users_b.head()"
   ]
  },
  {
   "cell_type": "code",
   "execution_count": 54,
   "metadata": {},
   "outputs": [
    {
     "data": {
      "text/plain": [
       "0    1\n",
       "1    1\n",
       "2    1\n",
       "3    1\n",
       "4    1\n",
       "Name: orders, dtype: int64"
      ]
     },
     "execution_count": 54,
     "metadata": {},
     "output_type": "execute_result"
    }
   ],
   "source": [
    "# выборка для группы А с числом заказов каждого пользователя, где id пользователей, сделавших хотя бы один заказ, сопоставляется\n",
    "# количество заказов, а id пользователей, не сделавших ни одного заказа, сопоставляется 0\n",
    "sample_a = pd.concat(\n",
    "    [\n",
    "        orders_by_users_a['orders'],\n",
    "        pd.Series(\n",
    "            0,\n",
    "            index=np.arange(\n",
    "                visitors_per_date_a['visitors'].sum() - len(orders_by_users_a['orders'])\n",
    "            ),\n",
    "            name='orders',\n",
    "        ),\n",
    "    ],\n",
    "    axis=0,\n",
    ")\n",
    "sample_a.head()"
   ]
  },
  {
   "cell_type": "code",
   "execution_count": 55,
   "metadata": {},
   "outputs": [
    {
     "data": {
      "text/plain": [
       "0    18291\n",
       "1      427\n",
       "2       13\n",
       "3        5\n",
       "Name: orders, dtype: int64"
      ]
     },
     "execution_count": 55,
     "metadata": {},
     "output_type": "execute_result"
    }
   ],
   "source": [
    "sample_a.value_counts()"
   ]
  },
  {
   "cell_type": "code",
   "execution_count": 56,
   "metadata": {},
   "outputs": [
    {
     "data": {
      "text/plain": [
       "0    1\n",
       "1    1\n",
       "2    1\n",
       "3    1\n",
       "4    1\n",
       "Name: orders, dtype: int64"
      ]
     },
     "execution_count": 56,
     "metadata": {},
     "output_type": "execute_result"
    }
   ],
   "source": [
    "# выборка для группы В с числом заказов каждого пользователя, где id пользователей, сделавших хотя бы один заказ, сопоставляется\n",
    "# количество заказов, а id пользователей, не сделавших ни одного заказа, сопоставляется 0\n",
    "sample_b = pd.concat(\n",
    "    [\n",
    "        orders_by_users_b['orders'],\n",
    "        pd.Series(\n",
    "            0,\n",
    "            index=np.arange(\n",
    "                visitors_per_date_b['visitors'].sum() - len(orders_by_users_b['orders'])\n",
    "            ),\n",
    "            name='orders',\n",
    "        ),\n",
    "    ],\n",
    "    axis=0,\n",
    ")\n",
    "sample_b.head()"
   ]
  },
  {
   "cell_type": "code",
   "execution_count": 57,
   "metadata": {},
   "outputs": [
    {
     "data": {
      "text/plain": [
       "0    18388\n",
       "1      510\n",
       "2       16\n",
       "3        2\n",
       "Name: orders, dtype: int64"
      ]
     },
     "execution_count": 57,
     "metadata": {},
     "output_type": "execute_result"
    }
   ],
   "source": [
    "sample_b.value_counts()"
   ]
  },
  {
   "cell_type": "markdown",
   "metadata": {},
   "source": [
    "Для оценки статистической значимости в различии конверсий между группам А и В по данным без удаления выбросов будет проведен тест Манна-Уитни, так как значения в выборках распределены не нормально.\n",
    "\n",
    "Н0: Конверсии в выборках А и В равны\n",
    "\n",
    "Н1: Конверсии в выборках А и В не равны\n",
    "\n",
    "За уровень статистической значимости будет взято значение 0.05."
   ]
  },
  {
   "cell_type": "markdown",
   "metadata": {},
   "source": [
    "<a class=\"anchor\" id=\"11-bullet\">"
   ]
  },
  {
   "cell_type": "code",
   "execution_count": 58,
   "metadata": {},
   "outputs": [
    {
     "name": "stdout",
     "output_type": "stream",
     "text": [
      "\u001b[1mp-value:\u001b[0m 0.006\n",
      "\u001b[1mОтносительный прирост конверсии группы В к группе А:\u001b[0m 0.160\n"
     ]
    }
   ],
   "source": [
    "# определение статистической значимости различий конверсий между группами А и В \n",
    "print('\\033[1m' + \"p-value:\" + '\\033[0m' + \" {0:.3f}\".format(stats.mannwhitneyu(sample_a, sample_b)[1]))\n",
    "\n",
    "# определение относительного прироста конверсии в группе В относительно группы А\n",
    "print('\\033[1m' + \"Относительный прирост конверсии группы В к группе А:\" + '\\033[0m' + \" {0:.3f}\"\\\n",
    "      .format(sample_b.mean()/sample_a.mean() - 1))"
   ]
  },
  {
   "cell_type": "markdown",
   "metadata": {},
   "source": [
    "**Вывод**\n",
    "\n",
    "р-value равен 0.006, что меньше уровня статистической значимости, равного 0.05. На основании этого нулевую гипотезу можно отвергнуть и принять альтернативную гипотезу о том, что в выборках А и В, в которых не удалены выбросы, конверсии неодинаковы. Также, исходя из расчета относительного прироста конверсии группы В к группе А, можно сказать, что группа В имеет на 16.0% более высокую конверсию по сравнению с группой А."
   ]
  },
  {
   "cell_type": "markdown",
   "metadata": {},
   "source": [
    "### Статистическая значимость различий в среднем чеке заказа между группами по «сырым» данным"
   ]
  },
  {
   "cell_type": "markdown",
   "metadata": {},
   "source": [
    "Для определения статистической значимости различий средних чеков в группах А и В будет также использован тест Манна-Уитни.\n",
    "\n",
    "Н0: Средние чеки в группах А и В равны\n",
    "\n",
    "Н1: Средние чеки в группах А и В не равны\n",
    "\n",
    "За уровень статистической значимости будет взято значение 0.05."
   ]
  },
  {
   "cell_type": "code",
   "execution_count": 59,
   "metadata": {},
   "outputs": [
    {
     "name": "stdout",
     "output_type": "stream",
     "text": [
      "\u001b[1mp-value:\u001b[0m 0.415\n",
      "\u001b[1mОтносительный прирост конверсии группы В к группе А:\u001b[0m 0.287\n"
     ]
    }
   ],
   "source": [
    "# тест Манна-Уитни для определения статистической значимости различий в среднем чеке между группами А и В по неочищенным от \n",
    "# выбросов данных\n",
    "print('\\033[1m' + \"p-value:\" + '\\033[0m' + \" {0:.3f}\".format(\n",
    "                        stats.mannwhitneyu(\n",
    "                            orders[orders['group'] == \"A\"]['revenue'],\n",
    "                            orders[orders['group'] == \"B\"]['revenue']\n",
    "                        )[1]\n",
    "                )\n",
    "     )\n",
    "\n",
    "# относительное различие среднего чека в группе В к группе А\n",
    "print('\\033[1m' + \"Относительный прирост конверсии группы В к группе А:\" + '\\033[0m' + \" {0:.3f}\"\\\n",
    "      .format(orders[orders['group'] == \"B\"]['revenue'].mean()/orders[orders['group'] == \"A\"]['revenue'].mean() - 1))"
   ]
  },
  {
   "cell_type": "markdown",
   "metadata": {},
   "source": [
    "**Вывод**\n",
    "\n",
    "p-value равен 0.415, что значительно больше 0.05, поэтому нулевая гипотеза о равенстве средних чеков в выборках А и В не отвергается, несмотря на то, что относительное различие среднего чека в группе В к группе А составляет 28.7%."
   ]
  },
  {
   "cell_type": "markdown",
   "metadata": {},
   "source": [
    "### Статистическая значимость различий в конверсии между группами по «очищенным» данным"
   ]
  },
  {
   "cell_type": "code",
   "execution_count": 60,
   "metadata": {},
   "outputs": [
    {
     "data": {
      "text/html": [
       "<div>\n",
       "<style scoped>\n",
       "    .dataframe tbody tr th:only-of-type {\n",
       "        vertical-align: middle;\n",
       "    }\n",
       "\n",
       "    .dataframe tbody tr th {\n",
       "        vertical-align: top;\n",
       "    }\n",
       "\n",
       "    .dataframe thead th {\n",
       "        text-align: right;\n",
       "    }\n",
       "</style>\n",
       "<table border=\"1\" class=\"dataframe\">\n",
       "  <thead>\n",
       "    <tr style=\"text-align: right;\">\n",
       "      <th></th>\n",
       "      <th>visitor_id</th>\n",
       "      <th>revenue</th>\n",
       "      <th>group</th>\n",
       "    </tr>\n",
       "  </thead>\n",
       "  <tbody>\n",
       "    <tr>\n",
       "      <th>73</th>\n",
       "      <td>2947100995</td>\n",
       "      <td>29499</td>\n",
       "      <td>A</td>\n",
       "    </tr>\n",
       "    <tr>\n",
       "      <th>77</th>\n",
       "      <td>787824685</td>\n",
       "      <td>32350</td>\n",
       "      <td>A</td>\n",
       "    </tr>\n",
       "    <tr>\n",
       "      <th>78</th>\n",
       "      <td>3288820196</td>\n",
       "      <td>40740</td>\n",
       "      <td>B</td>\n",
       "    </tr>\n",
       "    <tr>\n",
       "      <th>131</th>\n",
       "      <td>2254586615</td>\n",
       "      <td>53904</td>\n",
       "      <td>A</td>\n",
       "    </tr>\n",
       "    <tr>\n",
       "      <th>137</th>\n",
       "      <td>1211585711</td>\n",
       "      <td>28490</td>\n",
       "      <td>A</td>\n",
       "    </tr>\n",
       "    <tr>\n",
       "      <th>173</th>\n",
       "      <td>2953427180</td>\n",
       "      <td>38160</td>\n",
       "      <td>B</td>\n",
       "    </tr>\n",
       "    <tr>\n",
       "      <th>208</th>\n",
       "      <td>3118156181</td>\n",
       "      <td>30649</td>\n",
       "      <td>B</td>\n",
       "    </tr>\n",
       "    <tr>\n",
       "      <th>273</th>\n",
       "      <td>2278620397</td>\n",
       "      <td>33970</td>\n",
       "      <td>B</td>\n",
       "    </tr>\n",
       "    <tr>\n",
       "      <th>287</th>\n",
       "      <td>2254456485</td>\n",
       "      <td>53904</td>\n",
       "      <td>A</td>\n",
       "    </tr>\n",
       "    <tr>\n",
       "      <th>339</th>\n",
       "      <td>834731816</td>\n",
       "      <td>41450</td>\n",
       "      <td>B</td>\n",
       "    </tr>\n",
       "    <tr>\n",
       "      <th>420</th>\n",
       "      <td>1606766439</td>\n",
       "      <td>37550</td>\n",
       "      <td>B</td>\n",
       "    </tr>\n",
       "    <tr>\n",
       "      <th>421</th>\n",
       "      <td>1357170471</td>\n",
       "      <td>31680</td>\n",
       "      <td>A</td>\n",
       "    </tr>\n",
       "    <tr>\n",
       "      <th>425</th>\n",
       "      <td>1920142716</td>\n",
       "      <td>1294500</td>\n",
       "      <td>B</td>\n",
       "    </tr>\n",
       "    <tr>\n",
       "      <th>481</th>\n",
       "      <td>3177790019</td>\n",
       "      <td>30649</td>\n",
       "      <td>B</td>\n",
       "    </tr>\n",
       "    <tr>\n",
       "      <th>527</th>\n",
       "      <td>2837914161</td>\n",
       "      <td>33405</td>\n",
       "      <td>B</td>\n",
       "    </tr>\n",
       "    <tr>\n",
       "      <th>530</th>\n",
       "      <td>2912540959</td>\n",
       "      <td>43990</td>\n",
       "      <td>A</td>\n",
       "    </tr>\n",
       "    <tr>\n",
       "      <th>549</th>\n",
       "      <td>1367935136</td>\n",
       "      <td>35485</td>\n",
       "      <td>A</td>\n",
       "    </tr>\n",
       "    <tr>\n",
       "      <th>551</th>\n",
       "      <td>1010866419</td>\n",
       "      <td>27490</td>\n",
       "      <td>B</td>\n",
       "    </tr>\n",
       "    <tr>\n",
       "      <th>562</th>\n",
       "      <td>1452540367</td>\n",
       "      <td>33050</td>\n",
       "      <td>A</td>\n",
       "    </tr>\n",
       "    <tr>\n",
       "      <th>563</th>\n",
       "      <td>935349363</td>\n",
       "      <td>35485</td>\n",
       "      <td>B</td>\n",
       "    </tr>\n",
       "    <tr>\n",
       "      <th>568</th>\n",
       "      <td>113298937</td>\n",
       "      <td>27600</td>\n",
       "      <td>B</td>\n",
       "    </tr>\n",
       "    <tr>\n",
       "      <th>570</th>\n",
       "      <td>2247666522</td>\n",
       "      <td>31350</td>\n",
       "      <td>B</td>\n",
       "    </tr>\n",
       "    <tr>\n",
       "      <th>613</th>\n",
       "      <td>3931967268</td>\n",
       "      <td>53904</td>\n",
       "      <td>B</td>\n",
       "    </tr>\n",
       "    <tr>\n",
       "      <th>648</th>\n",
       "      <td>382846391</td>\n",
       "      <td>43690</td>\n",
       "      <td>A</td>\n",
       "    </tr>\n",
       "    <tr>\n",
       "      <th>654</th>\n",
       "      <td>816783716</td>\n",
       "      <td>34550</td>\n",
       "      <td>B</td>\n",
       "    </tr>\n",
       "    <tr>\n",
       "      <th>684</th>\n",
       "      <td>358944393</td>\n",
       "      <td>42740</td>\n",
       "      <td>A</td>\n",
       "    </tr>\n",
       "    <tr>\n",
       "      <th>709</th>\n",
       "      <td>950626008</td>\n",
       "      <td>45880</td>\n",
       "      <td>A</td>\n",
       "    </tr>\n",
       "    <tr>\n",
       "      <th>723</th>\n",
       "      <td>4009017467</td>\n",
       "      <td>28350</td>\n",
       "      <td>B</td>\n",
       "    </tr>\n",
       "    <tr>\n",
       "      <th>728</th>\n",
       "      <td>3357398384</td>\n",
       "      <td>29499</td>\n",
       "      <td>B</td>\n",
       "    </tr>\n",
       "    <tr>\n",
       "      <th>743</th>\n",
       "      <td>4133034833</td>\n",
       "      <td>67990</td>\n",
       "      <td>A</td>\n",
       "    </tr>\n",
       "    <tr>\n",
       "      <th>744</th>\n",
       "      <td>888512513</td>\n",
       "      <td>86620</td>\n",
       "      <td>B</td>\n",
       "    </tr>\n",
       "    <tr>\n",
       "      <th>746</th>\n",
       "      <td>3321013705</td>\n",
       "      <td>49495</td>\n",
       "      <td>A</td>\n",
       "    </tr>\n",
       "    <tr>\n",
       "      <th>751</th>\n",
       "      <td>689129267</td>\n",
       "      <td>37150</td>\n",
       "      <td>B</td>\n",
       "    </tr>\n",
       "    <tr>\n",
       "      <th>755</th>\n",
       "      <td>2279926127</td>\n",
       "      <td>45780</td>\n",
       "      <td>B</td>\n",
       "    </tr>\n",
       "    <tr>\n",
       "      <th>867</th>\n",
       "      <td>3372131337</td>\n",
       "      <td>35890</td>\n",
       "      <td>B</td>\n",
       "    </tr>\n",
       "    <tr>\n",
       "      <th>890</th>\n",
       "      <td>2853587382</td>\n",
       "      <td>30649</td>\n",
       "      <td>B</td>\n",
       "    </tr>\n",
       "    <tr>\n",
       "      <th>925</th>\n",
       "      <td>2840985286</td>\n",
       "      <td>34990</td>\n",
       "      <td>A</td>\n",
       "    </tr>\n",
       "    <tr>\n",
       "      <th>928</th>\n",
       "      <td>204675465</td>\n",
       "      <td>33050</td>\n",
       "      <td>B</td>\n",
       "    </tr>\n",
       "    <tr>\n",
       "      <th>940</th>\n",
       "      <td>4003628586</td>\n",
       "      <td>58550</td>\n",
       "      <td>B</td>\n",
       "    </tr>\n",
       "    <tr>\n",
       "      <th>949</th>\n",
       "      <td>887908475</td>\n",
       "      <td>60450</td>\n",
       "      <td>A</td>\n",
       "    </tr>\n",
       "    <tr>\n",
       "      <th>960</th>\n",
       "      <td>2999642019</td>\n",
       "      <td>28750</td>\n",
       "      <td>B</td>\n",
       "    </tr>\n",
       "    <tr>\n",
       "      <th>1006</th>\n",
       "      <td>2261934787</td>\n",
       "      <td>52900</td>\n",
       "      <td>A</td>\n",
       "    </tr>\n",
       "    <tr>\n",
       "      <th>1038</th>\n",
       "      <td>1605520752</td>\n",
       "      <td>27985</td>\n",
       "      <td>B</td>\n",
       "    </tr>\n",
       "    <tr>\n",
       "      <th>1087</th>\n",
       "      <td>3590655705</td>\n",
       "      <td>39500</td>\n",
       "      <td>B</td>\n",
       "    </tr>\n",
       "    <tr>\n",
       "      <th>1099</th>\n",
       "      <td>148427295</td>\n",
       "      <td>65710</td>\n",
       "      <td>A</td>\n",
       "    </tr>\n",
       "    <tr>\n",
       "      <th>1103</th>\n",
       "      <td>1164614297</td>\n",
       "      <td>66350</td>\n",
       "      <td>A</td>\n",
       "    </tr>\n",
       "    <tr>\n",
       "      <th>1121</th>\n",
       "      <td>1604853044</td>\n",
       "      <td>28060</td>\n",
       "      <td>A</td>\n",
       "    </tr>\n",
       "    <tr>\n",
       "      <th>1136</th>\n",
       "      <td>1307669133</td>\n",
       "      <td>92550</td>\n",
       "      <td>A</td>\n",
       "    </tr>\n",
       "    <tr>\n",
       "      <th>1137</th>\n",
       "      <td>759473111</td>\n",
       "      <td>52480</td>\n",
       "      <td>A</td>\n",
       "    </tr>\n",
       "    <tr>\n",
       "      <th>1142</th>\n",
       "      <td>2606908679</td>\n",
       "      <td>52900</td>\n",
       "      <td>B</td>\n",
       "    </tr>\n",
       "    <tr>\n",
       "      <th>1196</th>\n",
       "      <td>2108080724</td>\n",
       "      <td>202740</td>\n",
       "      <td>B</td>\n",
       "    </tr>\n",
       "  </tbody>\n",
       "</table>\n",
       "</div>"
      ],
      "text/plain": [
       "      visitor_id  revenue group\n",
       "73    2947100995    29499     A\n",
       "77     787824685    32350     A\n",
       "78    3288820196    40740     B\n",
       "131   2254586615    53904     A\n",
       "137   1211585711    28490     A\n",
       "173   2953427180    38160     B\n",
       "208   3118156181    30649     B\n",
       "273   2278620397    33970     B\n",
       "287   2254456485    53904     A\n",
       "339    834731816    41450     B\n",
       "420   1606766439    37550     B\n",
       "421   1357170471    31680     A\n",
       "425   1920142716  1294500     B\n",
       "481   3177790019    30649     B\n",
       "527   2837914161    33405     B\n",
       "530   2912540959    43990     A\n",
       "549   1367935136    35485     A\n",
       "551   1010866419    27490     B\n",
       "562   1452540367    33050     A\n",
       "563    935349363    35485     B\n",
       "568    113298937    27600     B\n",
       "570   2247666522    31350     B\n",
       "613   3931967268    53904     B\n",
       "648    382846391    43690     A\n",
       "654    816783716    34550     B\n",
       "684    358944393    42740     A\n",
       "709    950626008    45880     A\n",
       "723   4009017467    28350     B\n",
       "728   3357398384    29499     B\n",
       "743   4133034833    67990     A\n",
       "744    888512513    86620     B\n",
       "746   3321013705    49495     A\n",
       "751    689129267    37150     B\n",
       "755   2279926127    45780     B\n",
       "867   3372131337    35890     B\n",
       "890   2853587382    30649     B\n",
       "925   2840985286    34990     A\n",
       "928    204675465    33050     B\n",
       "940   4003628586    58550     B\n",
       "949    887908475    60450     A\n",
       "960   2999642019    28750     B\n",
       "1006  2261934787    52900     A\n",
       "1038  1605520752    27985     B\n",
       "1087  3590655705    39500     B\n",
       "1099   148427295    65710     A\n",
       "1103  1164614297    66350     A\n",
       "1121  1604853044    28060     A\n",
       "1136  1307669133    92550     A\n",
       "1137   759473111    52480     A\n",
       "1142  2606908679    52900     B\n",
       "1196  2108080724   202740     B"
      ]
     },
     "metadata": {},
     "output_type": "display_data"
    },
    {
     "name": "stdout",
     "output_type": "stream",
     "text": [
      "\u001b[1mКоличество пользователей с аномально высокой суммой заказа: \u001b[0m51\n"
     ]
    }
   ],
   "source": [
    "# пользователи с аномально высокой суммой заказа\n",
    "abnormal_revenue = orders.query('revenue > 26785')[['visitor_id', 'revenue', 'group']]\n",
    "display(abnormal_revenue)\n",
    "print('\\033[1m' + 'Количество пользователей с аномально высокой суммой заказа: '+ '\\033[0m' + str(len(abnormal_revenue)))"
   ]
  },
  {
   "cell_type": "code",
   "execution_count": 61,
   "metadata": {},
   "outputs": [
    {
     "data": {
      "text/html": [
       "<div>\n",
       "<style scoped>\n",
       "    .dataframe tbody tr th:only-of-type {\n",
       "        vertical-align: middle;\n",
       "    }\n",
       "\n",
       "    .dataframe tbody tr th {\n",
       "        vertical-align: top;\n",
       "    }\n",
       "\n",
       "    .dataframe thead th {\n",
       "        text-align: right;\n",
       "    }\n",
       "</style>\n",
       "<table border=\"1\" class=\"dataframe\">\n",
       "  <thead>\n",
       "    <tr style=\"text-align: right;\">\n",
       "      <th></th>\n",
       "      <th>visitor_id</th>\n",
       "      <th>orders</th>\n",
       "    </tr>\n",
       "  </thead>\n",
       "  <tbody>\n",
       "    <tr>\n",
       "      <th>36</th>\n",
       "      <td>366673373</td>\n",
       "      <td>2</td>\n",
       "    </tr>\n",
       "    <tr>\n",
       "      <th>58</th>\n",
       "      <td>611059232</td>\n",
       "      <td>3</td>\n",
       "    </tr>\n",
       "    <tr>\n",
       "      <th>64</th>\n",
       "      <td>678354126</td>\n",
       "      <td>2</td>\n",
       "    </tr>\n",
       "    <tr>\n",
       "      <th>72</th>\n",
       "      <td>759473111</td>\n",
       "      <td>2</td>\n",
       "    </tr>\n",
       "    <tr>\n",
       "      <th>171</th>\n",
       "      <td>1617417821</td>\n",
       "      <td>2</td>\n",
       "    </tr>\n",
       "    <tr>\n",
       "      <th>180</th>\n",
       "      <td>1772171838</td>\n",
       "      <td>2</td>\n",
       "    </tr>\n",
       "    <tr>\n",
       "      <th>211</th>\n",
       "      <td>2108163459</td>\n",
       "      <td>3</td>\n",
       "    </tr>\n",
       "    <tr>\n",
       "      <th>227</th>\n",
       "      <td>2232111114</td>\n",
       "      <td>2</td>\n",
       "    </tr>\n",
       "    <tr>\n",
       "      <th>239</th>\n",
       "      <td>2306096143</td>\n",
       "      <td>2</td>\n",
       "    </tr>\n",
       "    <tr>\n",
       "      <th>279</th>\n",
       "      <td>2706377257</td>\n",
       "      <td>2</td>\n",
       "    </tr>\n",
       "    <tr>\n",
       "      <th>282</th>\n",
       "      <td>2733145037</td>\n",
       "      <td>2</td>\n",
       "    </tr>\n",
       "    <tr>\n",
       "      <th>286</th>\n",
       "      <td>2744017357</td>\n",
       "      <td>2</td>\n",
       "    </tr>\n",
       "    <tr>\n",
       "      <th>302</th>\n",
       "      <td>2892265953</td>\n",
       "      <td>2</td>\n",
       "    </tr>\n",
       "    <tr>\n",
       "      <th>310</th>\n",
       "      <td>2988190573</td>\n",
       "      <td>3</td>\n",
       "    </tr>\n",
       "    <tr>\n",
       "      <th>374</th>\n",
       "      <td>3469608676</td>\n",
       "      <td>2</td>\n",
       "    </tr>\n",
       "    <tr>\n",
       "      <th>409</th>\n",
       "      <td>3908431265</td>\n",
       "      <td>3</td>\n",
       "    </tr>\n",
       "    <tr>\n",
       "      <th>416</th>\n",
       "      <td>3967698036</td>\n",
       "      <td>3</td>\n",
       "    </tr>\n",
       "    <tr>\n",
       "      <th>430</th>\n",
       "      <td>4109358064</td>\n",
       "      <td>2</td>\n",
       "    </tr>\n",
       "  </tbody>\n",
       "</table>\n",
       "</div>"
      ],
      "text/plain": [
       "     visitor_id  orders\n",
       "36    366673373       2\n",
       "58    611059232       3\n",
       "64    678354126       2\n",
       "72    759473111       2\n",
       "171  1617417821       2\n",
       "180  1772171838       2\n",
       "211  2108163459       3\n",
       "227  2232111114       2\n",
       "239  2306096143       2\n",
       "279  2706377257       2\n",
       "282  2733145037       2\n",
       "286  2744017357       2\n",
       "302  2892265953       2\n",
       "310  2988190573       3\n",
       "374  3469608676       2\n",
       "409  3908431265       3\n",
       "416  3967698036       3\n",
       "430  4109358064       2"
      ]
     },
     "metadata": {},
     "output_type": "display_data"
    },
    {
     "name": "stdout",
     "output_type": "stream",
     "text": [
      "\u001b[1mКоличество пользователей с аномально высоким количеством заказов в группе А: \u001b[0m18\n"
     ]
    }
   ],
   "source": [
    "# пользователи с аномально высоким количеством заказов в группе А\n",
    "abnormal_orders_count_a = orders_by_users_a.query('orders > 1')\n",
    "display(abnormal_orders_count_a)\n",
    "print('\\033[1m' + \"Количество пользователей с аномально высоким количеством заказов в группе А: \" + '\\033[0m' + str(len(abnormal_orders_count_a)))"
   ]
  },
  {
   "cell_type": "code",
   "execution_count": 62,
   "metadata": {},
   "outputs": [
    {
     "data": {
      "text/html": [
       "<div>\n",
       "<style scoped>\n",
       "    .dataframe tbody tr th:only-of-type {\n",
       "        vertical-align: middle;\n",
       "    }\n",
       "\n",
       "    .dataframe tbody tr th {\n",
       "        vertical-align: top;\n",
       "    }\n",
       "\n",
       "    .dataframe thead th {\n",
       "        text-align: right;\n",
       "    }\n",
       "</style>\n",
       "<table border=\"1\" class=\"dataframe\">\n",
       "  <thead>\n",
       "    <tr style=\"text-align: right;\">\n",
       "      <th></th>\n",
       "      <th>visitor_id</th>\n",
       "      <th>orders</th>\n",
       "    </tr>\n",
       "  </thead>\n",
       "  <tbody>\n",
       "    <tr>\n",
       "      <th>33</th>\n",
       "      <td>249864742</td>\n",
       "      <td>3</td>\n",
       "    </tr>\n",
       "    <tr>\n",
       "      <th>51</th>\n",
       "      <td>406208401</td>\n",
       "      <td>2</td>\n",
       "    </tr>\n",
       "    <tr>\n",
       "      <th>67</th>\n",
       "      <td>522292794</td>\n",
       "      <td>2</td>\n",
       "    </tr>\n",
       "    <tr>\n",
       "      <th>176</th>\n",
       "      <td>1404560065</td>\n",
       "      <td>2</td>\n",
       "    </tr>\n",
       "    <tr>\n",
       "      <th>208</th>\n",
       "      <td>1637811943</td>\n",
       "      <td>2</td>\n",
       "    </tr>\n",
       "    <tr>\n",
       "      <th>250</th>\n",
       "      <td>1985475298</td>\n",
       "      <td>2</td>\n",
       "    </tr>\n",
       "    <tr>\n",
       "      <th>256</th>\n",
       "      <td>2025197455</td>\n",
       "      <td>2</td>\n",
       "    </tr>\n",
       "    <tr>\n",
       "      <th>265</th>\n",
       "      <td>2096506107</td>\n",
       "      <td>2</td>\n",
       "    </tr>\n",
       "    <tr>\n",
       "      <th>296</th>\n",
       "      <td>2366521417</td>\n",
       "      <td>2</td>\n",
       "    </tr>\n",
       "    <tr>\n",
       "      <th>303</th>\n",
       "      <td>2397843657</td>\n",
       "      <td>2</td>\n",
       "    </tr>\n",
       "    <tr>\n",
       "      <th>347</th>\n",
       "      <td>2742574263</td>\n",
       "      <td>3</td>\n",
       "    </tr>\n",
       "    <tr>\n",
       "      <th>388</th>\n",
       "      <td>3077396270</td>\n",
       "      <td>2</td>\n",
       "    </tr>\n",
       "    <tr>\n",
       "      <th>418</th>\n",
       "      <td>3332057097</td>\n",
       "      <td>2</td>\n",
       "    </tr>\n",
       "    <tr>\n",
       "      <th>421</th>\n",
       "      <td>3362039251</td>\n",
       "      <td>2</td>\n",
       "    </tr>\n",
       "    <tr>\n",
       "      <th>425</th>\n",
       "      <td>3379260072</td>\n",
       "      <td>2</td>\n",
       "    </tr>\n",
       "    <tr>\n",
       "      <th>486</th>\n",
       "      <td>3935952912</td>\n",
       "      <td>2</td>\n",
       "    </tr>\n",
       "    <tr>\n",
       "      <th>489</th>\n",
       "      <td>3941503500</td>\n",
       "      <td>2</td>\n",
       "    </tr>\n",
       "    <tr>\n",
       "      <th>507</th>\n",
       "      <td>4134830387</td>\n",
       "      <td>2</td>\n",
       "    </tr>\n",
       "  </tbody>\n",
       "</table>\n",
       "</div>"
      ],
      "text/plain": [
       "     visitor_id  orders\n",
       "33    249864742       3\n",
       "51    406208401       2\n",
       "67    522292794       2\n",
       "176  1404560065       2\n",
       "208  1637811943       2\n",
       "250  1985475298       2\n",
       "256  2025197455       2\n",
       "265  2096506107       2\n",
       "296  2366521417       2\n",
       "303  2397843657       2\n",
       "347  2742574263       3\n",
       "388  3077396270       2\n",
       "418  3332057097       2\n",
       "421  3362039251       2\n",
       "425  3379260072       2\n",
       "486  3935952912       2\n",
       "489  3941503500       2\n",
       "507  4134830387       2"
      ]
     },
     "metadata": {},
     "output_type": "display_data"
    },
    {
     "name": "stdout",
     "output_type": "stream",
     "text": [
      "\u001b[1mКоличество пользователей с аномально высоким количеством заказов в группе B: \u001b[0m18\n"
     ]
    }
   ],
   "source": [
    "# пользователи с аномально высоким количеством заказов в группе В\n",
    "abnormal_orders_count_b = orders_by_users_b.query('orders > 1')\n",
    "display(abnormal_orders_count_b)\n",
    "print('\\033[1m' + \"Количество пользователей с аномально высоким количеством заказов в группе B: \"+ '\\033[0m' + str(len(abnormal_orders_count_b)))"
   ]
  },
  {
   "cell_type": "code",
   "execution_count": 63,
   "metadata": {},
   "outputs": [
    {
     "data": {
      "text/plain": [
       "568      113298937\n",
       "1099     148427295\n",
       "928      204675465\n",
       "33       249864742\n",
       "684      358944393\n",
       "           ...    \n",
       "940     4003628586\n",
       "723     4009017467\n",
       "430     4109358064\n",
       "743     4133034833\n",
       "507     4134830387\n",
       "Name: visitor_id, Length: 86, dtype: int64"
      ]
     },
     "metadata": {},
     "output_type": "display_data"
    },
    {
     "name": "stdout",
     "output_type": "stream",
     "text": [
      "\u001b[1mКоличество пользователей с аномальной стоимость и/или количеством заказов: \u001b[0m86\n"
     ]
    }
   ],
   "source": [
    "# список id пользователей с аномальными заказами\n",
    "abnormal_users = pd.concat([abnormal_revenue['visitor_id'], \n",
    "                            abnormal_orders_count_a['visitor_id'], \n",
    "                            abnormal_orders_count_b['visitor_id']],\n",
    "                          axis=0)\\\n",
    "                    .drop_duplicates()\\\n",
    "                    .sort_values()\n",
    "display(abnormal_users)\n",
    "print('\\033[1m' + \"Количество пользователей с аномальной стоимость и/или количеством заказов: \" +'\\033[0m'+ str(len(abnormal_users)))"
   ]
  },
  {
   "cell_type": "code",
   "execution_count": 64,
   "metadata": {},
   "outputs": [
    {
     "data": {
      "text/plain": [
       "1    406\n",
       "Name: orders, dtype: int64"
      ]
     },
     "execution_count": 64,
     "metadata": {},
     "output_type": "execute_result"
    }
   ],
   "source": [
    "filtered_a = orders_by_users_a[\n",
    "    np.logical_not(orders_by_users_a['visitor_id'].isin(abnormal_users))\n",
    "]['orders']\n",
    "filtered_a.value_counts()"
   ]
  },
  {
   "cell_type": "code",
   "execution_count": 65,
   "metadata": {},
   "outputs": [
    {
     "name": "stdout",
     "output_type": "stream",
     "text": [
      "\u001b[1mРезультат фильтрации: \u001b[0m\n",
      "0    18291\n",
      "1      406\n",
      "Name: orders, dtype: int64\n"
     ]
    },
    {
     "data": {
      "text/plain": [
       "0    18388\n",
       "1      481\n",
       "Name: orders, dtype: int64"
      ]
     },
     "execution_count": 65,
     "metadata": {},
     "output_type": "execute_result"
    }
   ],
   "source": [
    "# удаление аномальных пользователей из выборок по группам А и В, подготовленным для проведения теста Манна-Уитни:\n",
    "# объединяются данные пользователей, сделавших не более двух заказов, с данными пользователей, которые не сделали заказов\n",
    "sample_a_filtered = pd.concat(\n",
    "    [\n",
    "        orders_by_users_a[\n",
    "            np.logical_not(orders_by_users_a['visitor_id'].isin(abnormal_users))\n",
    "        ]['orders'],\n",
    "        pd.Series(\n",
    "            0,\n",
    "            index=np.arange(\n",
    "                visitors_per_date_a['visitors'].sum() - len(orders_by_users_a['orders'])\n",
    "            ),\n",
    "            name='orders',\n",
    "        ),\n",
    "    ],\n",
    "    axis=0,\n",
    ")\n",
    "\n",
    "sample_b_filtered = pd.concat(\n",
    "    [\n",
    "        orders_by_users_b[\n",
    "            np.logical_not(orders_by_users_b['visitor_id'].isin(abnormal_users))\n",
    "        ]['orders'],\n",
    "        pd.Series(\n",
    "            0,\n",
    "            index=np.arange(\n",
    "                visitors_per_date_b['visitors'].sum() - len(orders_by_users_b['orders'])\n",
    "            ),\n",
    "            name='orders',\n",
    "        ),\n",
    "    ],\n",
    "    axis=0,\n",
    ")\n",
    "warnings.filterwarnings(\"ignore\")\n",
    "print('\\033[1m' + 'Результат фильтрации: ' + '\\033[0m')\n",
    "print(sample_a_filtered.value_counts())\n",
    "sample_b_filtered.value_counts()"
   ]
  },
  {
   "cell_type": "markdown",
   "metadata": {},
   "source": [
    "Для очищенных от выбросов групп А и В будет проведен тест Манна-Уитни для определения статистически значимых различий в конверсии между группами по данным, очищенным от выбросов.\n",
    "\n",
    "Н0: Конверсии в группах А и В равны\n",
    "\n",
    "Н1: Конверсии в группах А и В не равны\n",
    "\n",
    "За уровень статистической значимости будет взято значение 0.05."
   ]
  },
  {
   "cell_type": "code",
   "execution_count": 66,
   "metadata": {},
   "outputs": [
    {
     "name": "stdout",
     "output_type": "stream",
     "text": [
      "\u001b[1mp-value: \u001b[0m0.008\n",
      "\u001b[1mОтносительный прирост конверсии группы В к группе А:\u001b[0m 0.174\n"
     ]
    }
   ],
   "source": [
    "print('\\033[1m' + 'p-value: ' + '\\033[0m' + '{0:.3f}'.format(stats.mannwhitneyu(sample_a_filtered, sample_b_filtered)[1]))\n",
    "print('\\033[1m' + 'Относительный прирост конверсии группы В к группе А:'+ '\\033[0m' + ' {0:.3f}'\\\n",
    "      .format(sample_b_filtered.mean()/sample_a_filtered.mean()-1))"
   ]
  },
  {
   "cell_type": "markdown",
   "metadata": {},
   "source": [
    "**Вывод**\n",
    "\n",
    "Для очищенных от выбросов выборок p-value равно 0.008, что значительно меньше уровня значимости, равного 0.05. Следовательно, нулевая гипотеза о равенстве конверсий в группах А и В отвергается и принимается альтернативная гипотеза о том, что конверсии в группах А и В не равны. \n",
    "\n",
    "Прирост конверсии в группе В на 17.4% выше по сравнению с группой А, и это различие является статистически значимым."
   ]
  },
  {
   "cell_type": "code",
   "execution_count": 67,
   "metadata": {},
   "outputs": [],
   "source": [
    "# КОД РЕВЬЮВЕРА\n",
    "aov_a = orders[np.logical_and(\n",
    "                    orders['group'] == \"A\",\n",
    "                    np.logical_not(orders['visitor_id'].isin(abnormal_users)),)]\\\n",
    "    .sort_values(by='date')\\\n",
    "    .groupby('date', as_index=False)\\\n",
    "    .agg({'visitor_id': 'count', 'revenue': 'sum'})\\\n",
    "    .assign(cum_orders=lambda row: row['visitor_id'].cumsum(),\n",
    "           cum_revenue=lambda row: row['revenue'].cumsum(),\n",
    "           cum_aov=lambda row: row['revenue'].cumsum() / row['visitor_id'].cumsum())\n",
    "\n",
    "aov_b = orders[np.logical_and(\n",
    "                    orders['group'] == \"B\",\n",
    "                    np.logical_not(orders['visitor_id'].isin(abnormal_users)),)]\\\n",
    "    .sort_values(by='date')\\\n",
    "    .groupby('date', as_index=False)\\\n",
    "    .agg({'visitor_id': 'count', 'revenue': 'sum'})\\\n",
    "    .assign(cum_orders=lambda row: row['visitor_id'].cumsum(),\n",
    "           cum_revenue=lambda row: row['revenue'].cumsum(),\n",
    "           cum_aov=lambda row: row['revenue'].cumsum() / row['visitor_id'].cumsum())"
   ]
  },
  {
   "cell_type": "code",
   "execution_count": 68,
   "metadata": {},
   "outputs": [
    {
     "data": {
      "image/png": "[encoded data removed]",
      "text/plain": [
       "<Figure size 864x648 with 2 Axes>"
      ]
     },
     "metadata": {
      "needs_background": "light"
     },
     "output_type": "display_data"
    }
   ],
   "source": [
    "# КОД РЕВЬЮВЕРА\n",
    "fig, axes = plt.subplots(nrows=2, figsize=(12, 9))\n",
    "plt.subplots_adjust(hspace=0.3)\n",
    "\n",
    "# на первой оси строим кум. средние чеки по группам\n",
    "ax = axes[0]\n",
    "ax.plot(aov_a['date'], aov_a['cum_aov'], marker='o', ms=5, label='group A')\n",
    "ax.plot(aov_b['date'], aov_b['cum_aov'], marker='o', ms=5, label='group B')\n",
    "ax.legend()\n",
    "ax.set_title(\"Кумулятивный AOV\")\n",
    "ax.grid(color='grey', alpha=0.5, lw=0.5)\n",
    "\n",
    "# на второй оси относительное изменение\n",
    "ax = axes[1]\n",
    "ax.plot(aov_a['date'], (aov_b['cum_aov'] - aov_a['cum_aov']) / aov_a['cum_aov'], marker='o', ms=5)\n",
    "ax.set_title(\"Относительное изменение AOV\")\n",
    "ax.grid(color='grey', alpha=0.5, lw=0.5)"
   ]
  },
  {
   "cell_type": "markdown",
   "metadata": {},
   "source": [
    "Без аномалий относительное изменение и сами чеки выглядят вполне установивишимися, по крайней мере изменение относительного графика не превышает +-5% за последние 2 недели и уменьшается\n",
    "<hr style=\"border: 2px solid green;\" />"
   ]
  },
  {
   "cell_type": "code",
   "execution_count": 69,
   "metadata": {},
   "outputs": [
    {
     "data": {
      "text/plain": [
       "(0    18291\n",
       " 1      406\n",
       " Name: orders, dtype: int64,\n",
       " 0    18388\n",
       " 1      481\n",
       " Name: orders, dtype: int64)"
      ]
     },
     "execution_count": 69,
     "metadata": {},
     "output_type": "execute_result"
    }
   ],
   "source": [
    "# КОД РЕВЬЮВЕРА\n",
    "# фильтрованные данные\n",
    "sample_a_filtered.value_counts(), sample_b_filtered.value_counts()"
   ]
  },
  {
   "cell_type": "code",
   "execution_count": 70,
   "metadata": {},
   "outputs": [
    {
     "data": {
      "text/plain": [
       "(0    18291\n",
       " 1      427\n",
       " 2       13\n",
       " 3        5\n",
       " Name: orders, dtype: int64,\n",
       " 0    18388\n",
       " 1      510\n",
       " 2       16\n",
       " 3        2\n",
       " Name: orders, dtype: int64)"
      ]
     },
     "execution_count": 70,
     "metadata": {},
     "output_type": "execute_result"
    }
   ],
   "source": [
    "# КОД РЕВЬЮВЕРА\n",
    "# исходные данные\n",
    "sample_a.value_counts(), sample_b.value_counts()"
   ]
  },
  {
   "cell_type": "markdown",
   "metadata": {},
   "source": [
    "### Статистическая значимость различий в среднем чеке заказа между группами по «очищенным» данным"
   ]
  },
  {
   "cell_type": "markdown",
   "metadata": {},
   "source": [
    "Тест Манна-Уитни будет также использован для определения статистически значимых разлчий между группами А и В по данным, очищенным от выбросов. \n",
    "\n",
    "Н0: Стоимости чеков в группах А и В равны\n",
    "\n",
    "Н1: Стоимости чеков в группах А и В не равны\n",
    "\n",
    "За уровень статистической значимости будет взято значение 0.05."
   ]
  },
  {
   "cell_type": "code",
   "execution_count": 71,
   "metadata": {},
   "outputs": [
    {
     "name": "stdout",
     "output_type": "stream",
     "text": [
      "\u001b[1mp-value: \u001b[0m0.364\n",
      "\u001b[1mОтносительный прирост конверсии группы В к группе А:\u001b[0m 0.035\n"
     ]
    }
   ],
   "source": [
    "# тест Манна-Уитни для определения статистической значимости различий в среднем чеке заказа между группами А и В по \n",
    "# данным, очищенным от выбросов\n",
    "print(\n",
    "    '\\033[1m' + 'p-value: ' + '\\033[0m' + '{0:.3f}'.format(\n",
    "        stats.mannwhitneyu(\n",
    "            orders[\n",
    "                np.logical_and(\n",
    "                    orders['group'] == \"A\",\n",
    "                    np.logical_not(orders['visitor_id'].isin(abnormal_users)),\n",
    "                )\n",
    "            ]['revenue'],\n",
    "            orders[\n",
    "                np.logical_and(\n",
    "                    orders['group'] == 'B',\n",
    "                    np.logical_not(orders['visitor_id'].isin(abnormal_users)),\n",
    "                )\n",
    "            ]['revenue']\n",
    "        )[1]\n",
    "    )\n",
    "\n",
    ")\n",
    "\n",
    "# определение отношения среднего чека в группе В к группе А по данным, очищенным от выбросов\n",
    "print(\n",
    "    '\\033[1m' + 'Относительный прирост конверсии группы В к группе А:'+ '\\033[0m' + ' {0:.3f}'.format(\n",
    "            orders[\n",
    "                np.logical_and(\n",
    "                    orders['group'] == \"A\",\n",
    "                    np.logical_not(orders['visitor_id'].isin(abnormal_users)),\n",
    "                )\n",
    "            ]['revenue'].mean()/\n",
    "            orders[\n",
    "                np.logical_and(\n",
    "                    orders['group'] == 'B',\n",
    "                    np.logical_not(orders['visitor_id'].isin(abnormal_users)),\n",
    "                )\n",
    "            ]['revenue'].mean()\n",
    "        - 1\n",
    "    )\n",
    "\n",
    ")"
   ]
  },
  {
   "cell_type": "markdown",
   "metadata": {},
   "source": [
    "**Вывод**\n",
    "\n",
    "Для групп, очищенных от выбросов, p-value равно 0.364, что значительно выше уровня статистической значимости, равного 0.05. Следовательно, нулевая гипотеза о равенстве средних чеков в группах А и В не отвергается. \n",
    "\n",
    "Средний чек группы В выше среднего чека А на 3.5%, однако, это различие не является статистически значимым."
   ]
  },
  {
   "cell_type": "markdown",
   "metadata": {},
   "source": [
    "### Вывод по результатам A/B-теста"
   ]
  },
  {
   "cell_type": "markdown",
   "metadata": {},
   "source": [
    "На основании результатов A/B-теста можно сказать, что графики изменения кумулятивного среднего чека по группам и абсолютного и относительного изменения кумулятивной конверсии по группам еще не стабилизировались.\n",
    "\n",
    "По неочищенным от выбросов данным для групп А и В присутствует статистическая значимость различий в конверсиях групп А и В (p-value = 0.006; средняя конверсия в группе В больше чем в группе А на 16.0%) и отсутствует статистическая значимость в различиях среднего чека в группах А и В (p-value = 0.415; однако, средний чек в группе В больше чем в группе А на 28.7%). \n",
    "\n",
    "Затем данные были очищены от выбросов. Выбросами считались пользователи, которые сделали более одного заказа, а также те, у кого стоимость заказа превышала 26785 рублей. По очищенным от выбросов данным удалось выявить статистически значимые различия в конверсии (p-value = 0.008; средняя конверсия группы В больше средней коверсии группы А на 17.4%), но статистически значимых различий в средних чеках между группами А и В выявить не удалось (p=value = 0.364; средний чек в группе В выше среднего чека в группе А на 3.5%). \n",
    "\n",
    "Так как метрики изменения кумулятивного среднего чека и кумулятивной конверсии еще не стабилизировались, то тест стоит продолжить до того момента, пока эти метрики не стабилируют свой уровень."
   ]
  }
 ],
 "metadata": {
  "ExecuteTimeLog": [
   {
    "duration": 626,
    "start_time": "2022-02-08T06:19:24.214Z"
   },
   {
    "duration": 16,
    "start_time": "2022-02-08T06:19:52.359Z"
   },
   {
    "duration": 26,
    "start_time": "2022-02-08T06:20:03.350Z"
   },
   {
    "duration": 16,
    "start_time": "2022-02-08T06:21:41.602Z"
   },
   {
    "duration": 20,
    "start_time": "2022-02-08T06:21:53.491Z"
   },
   {
    "duration": 35,
    "start_time": "2022-02-08T06:22:52.249Z"
   },
   {
    "duration": 28,
    "start_time": "2022-02-08T06:23:54.750Z"
   },
   {
    "duration": 18,
    "start_time": "2022-02-08T06:24:12.962Z"
   },
   {
    "duration": 6,
    "start_time": "2022-02-08T06:30:35.637Z"
   },
   {
    "duration": 7,
    "start_time": "2022-02-08T06:30:50.586Z"
   },
   {
    "duration": 6,
    "start_time": "2022-02-08T06:31:05.865Z"
   },
   {
    "duration": 8,
    "start_time": "2022-02-08T06:31:57.761Z"
   },
   {
    "duration": 6,
    "start_time": "2022-02-08T06:32:50.684Z"
   },
   {
    "duration": 6,
    "start_time": "2022-02-08T06:33:45.453Z"
   },
   {
    "duration": 26,
    "start_time": "2022-02-08T06:34:02.606Z"
   },
   {
    "duration": 40,
    "start_time": "2022-02-08T06:34:16.734Z"
   },
   {
    "duration": 36,
    "start_time": "2022-02-08T06:34:53.061Z"
   },
   {
    "duration": 20,
    "start_time": "2022-02-08T06:35:03.697Z"
   },
   {
    "duration": 13,
    "start_time": "2022-02-08T06:35:55.531Z"
   },
   {
    "duration": 15,
    "start_time": "2022-02-08T06:36:36.701Z"
   },
   {
    "duration": 18,
    "start_time": "2022-02-08T06:37:51.666Z"
   },
   {
    "duration": 64,
    "start_time": "2022-02-08T06:39:09.571Z"
   },
   {
    "duration": 19,
    "start_time": "2022-02-08T06:39:15.649Z"
   },
   {
    "duration": 19,
    "start_time": "2022-02-08T06:39:38.488Z"
   },
   {
    "duration": 15,
    "start_time": "2022-02-08T06:40:40.078Z"
   },
   {
    "duration": 23,
    "start_time": "2022-02-08T06:41:21.680Z"
   },
   {
    "duration": 39,
    "start_time": "2022-02-08T06:41:33.531Z"
   },
   {
    "duration": 278,
    "start_time": "2022-02-08T06:41:46.098Z"
   },
   {
    "duration": 22,
    "start_time": "2022-02-08T06:41:51.550Z"
   },
   {
    "duration": 23,
    "start_time": "2022-02-08T06:43:37.838Z"
   },
   {
    "duration": 39,
    "start_time": "2022-02-08T06:43:47.693Z"
   },
   {
    "duration": 22,
    "start_time": "2022-02-08T06:43:53.265Z"
   },
   {
    "duration": 16,
    "start_time": "2022-02-08T06:54:14.174Z"
   },
   {
    "duration": 3,
    "start_time": "2022-02-08T06:58:36.876Z"
   },
   {
    "duration": 14,
    "start_time": "2022-02-08T06:58:39.545Z"
   },
   {
    "duration": 20,
    "start_time": "2022-02-08T06:58:54.541Z"
   },
   {
    "duration": 17,
    "start_time": "2022-02-08T06:59:19.633Z"
   },
   {
    "duration": 3,
    "start_time": "2022-02-08T07:17:44.496Z"
   },
   {
    "duration": 4,
    "start_time": "2022-02-08T07:18:38.515Z"
   },
   {
    "duration": 5453,
    "start_time": "2022-02-08T07:18:49.541Z"
   },
   {
    "duration": 4620,
    "start_time": "2022-02-08T07:19:39.661Z"
   },
   {
    "duration": 4,
    "start_time": "2022-02-08T07:21:29.328Z"
   },
   {
    "duration": 13,
    "start_time": "2022-02-08T07:22:51.683Z"
   },
   {
    "duration": 12,
    "start_time": "2022-02-08T07:23:09.781Z"
   },
   {
    "duration": 187,
    "start_time": "2022-02-08T07:23:19.627Z"
   },
   {
    "duration": 201,
    "start_time": "2022-02-08T07:23:32.502Z"
   },
   {
    "duration": 11,
    "start_time": "2022-02-08T07:23:41.258Z"
   },
   {
    "duration": 69,
    "start_time": "2022-02-08T07:26:04.147Z"
   },
   {
    "duration": 4,
    "start_time": "2022-02-08T07:26:10.275Z"
   },
   {
    "duration": 5,
    "start_time": "2022-02-08T07:26:19.834Z"
   },
   {
    "duration": 4,
    "start_time": "2022-02-08T07:26:25.078Z"
   },
   {
    "duration": 10,
    "start_time": "2022-02-08T07:26:40.535Z"
   },
   {
    "duration": 190,
    "start_time": "2022-02-08T07:28:41.952Z"
   },
   {
    "duration": 204,
    "start_time": "2022-02-08T07:28:51.856Z"
   },
   {
    "duration": 6,
    "start_time": "2022-02-08T07:28:59.724Z"
   },
   {
    "duration": 11,
    "start_time": "2022-02-08T07:29:11.440Z"
   },
   {
    "duration": 11,
    "start_time": "2022-02-08T07:29:31.524Z"
   },
   {
    "duration": 12,
    "start_time": "2022-02-08T07:29:42.311Z"
   },
   {
    "duration": 12,
    "start_time": "2022-02-08T07:29:59.064Z"
   },
   {
    "duration": 193,
    "start_time": "2022-02-08T07:31:11.955Z"
   },
   {
    "duration": 13,
    "start_time": "2022-02-08T07:31:19.222Z"
   },
   {
    "duration": 12,
    "start_time": "2022-02-08T07:31:36.749Z"
   },
   {
    "duration": 5,
    "start_time": "2022-02-08T07:32:20.433Z"
   },
   {
    "duration": 4,
    "start_time": "2022-02-08T07:32:49.492Z"
   },
   {
    "duration": 3,
    "start_time": "2022-02-08T07:33:31.434Z"
   },
   {
    "duration": 4,
    "start_time": "2022-02-08T07:33:37.937Z"
   },
   {
    "duration": 5,
    "start_time": "2022-02-08T07:33:55.579Z"
   },
   {
    "duration": 14,
    "start_time": "2022-02-08T07:34:13.284Z"
   },
   {
    "duration": 13,
    "start_time": "2022-02-08T07:34:42.338Z"
   },
   {
    "duration": 13,
    "start_time": "2022-02-08T07:34:45.634Z"
   },
   {
    "duration": 15,
    "start_time": "2022-02-08T07:37:36.810Z"
   },
   {
    "duration": 3,
    "start_time": "2022-02-08T07:40:37.337Z"
   },
   {
    "duration": 796,
    "start_time": "2022-02-09T05:45:54.331Z"
   },
   {
    "duration": 40,
    "start_time": "2022-02-09T05:45:56.083Z"
   },
   {
    "duration": 37,
    "start_time": "2022-02-09T05:45:57.318Z"
   },
   {
    "duration": 25,
    "start_time": "2022-02-09T05:45:58.371Z"
   },
   {
    "duration": 4,
    "start_time": "2022-02-09T05:46:00.566Z"
   },
   {
    "duration": 23,
    "start_time": "2022-02-09T05:46:01.617Z"
   },
   {
    "duration": 30,
    "start_time": "2022-02-09T05:46:02.418Z"
   },
   {
    "duration": 28,
    "start_time": "2022-02-09T05:46:03.664Z"
   },
   {
    "duration": 25,
    "start_time": "2022-02-09T05:46:06.445Z"
   },
   {
    "duration": 20,
    "start_time": "2022-02-09T05:46:08.521Z"
   },
   {
    "duration": 14,
    "start_time": "2022-02-09T06:37:14.311Z"
   },
   {
    "duration": 18,
    "start_time": "2022-02-09T06:37:28.637Z"
   },
   {
    "duration": 16,
    "start_time": "2022-02-09T06:38:25.817Z"
   },
   {
    "duration": 17,
    "start_time": "2022-02-09T06:45:18.512Z"
   },
   {
    "duration": 3,
    "start_time": "2022-02-09T06:45:56.296Z"
   },
   {
    "duration": 3649,
    "start_time": "2022-02-09T06:54:02.259Z"
   },
   {
    "duration": 3668,
    "start_time": "2022-02-09T06:54:20.510Z"
   },
   {
    "duration": 642,
    "start_time": "2022-02-09T18:58:11.425Z"
   },
   {
    "duration": 32,
    "start_time": "2022-02-09T18:58:14.917Z"
   },
   {
    "duration": 35,
    "start_time": "2022-02-09T18:58:15.921Z"
   },
   {
    "duration": 23,
    "start_time": "2022-02-09T18:58:16.720Z"
   },
   {
    "duration": 5,
    "start_time": "2022-02-09T18:58:18.787Z"
   },
   {
    "duration": 17,
    "start_time": "2022-02-09T18:58:19.796Z"
   },
   {
    "duration": 22,
    "start_time": "2022-02-09T18:58:20.841Z"
   },
   {
    "duration": 23,
    "start_time": "2022-02-09T18:58:21.903Z"
   },
   {
    "duration": 20,
    "start_time": "2022-02-09T18:58:24.687Z"
   },
   {
    "duration": 16,
    "start_time": "2022-02-09T18:58:26.187Z"
   },
   {
    "duration": 14,
    "start_time": "2022-02-09T18:58:30.092Z"
   },
   {
    "duration": 3534,
    "start_time": "2022-02-09T18:58:32.101Z"
   },
   {
    "duration": 3561,
    "start_time": "2022-02-09T19:00:47.295Z"
   },
   {
    "duration": 204,
    "start_time": "2022-02-09T19:07:43.040Z"
   },
   {
    "duration": 221,
    "start_time": "2022-02-09T19:12:17.314Z"
   },
   {
    "duration": 87,
    "start_time": "2022-02-09T19:15:00.850Z"
   },
   {
    "duration": 82,
    "start_time": "2022-02-09T19:30:37.637Z"
   },
   {
    "duration": 173,
    "start_time": "2022-02-09T19:30:44.318Z"
   },
   {
    "duration": 201,
    "start_time": "2022-02-09T19:31:59.580Z"
   },
   {
    "duration": 80,
    "start_time": "2022-02-09T19:36:46.386Z"
   },
   {
    "duration": 81,
    "start_time": "2022-02-09T19:36:53.676Z"
   },
   {
    "duration": 344,
    "start_time": "2022-02-09T19:37:00.533Z"
   },
   {
    "duration": 277,
    "start_time": "2022-02-09T19:37:45.628Z"
   },
   {
    "duration": 250,
    "start_time": "2022-02-09T19:42:53.778Z"
   },
   {
    "duration": 3,
    "start_time": "2022-02-09T19:44:08.703Z"
   },
   {
    "duration": 26,
    "start_time": "2022-02-09T19:44:10.046Z"
   },
   {
    "duration": 31,
    "start_time": "2022-02-09T19:44:11.254Z"
   },
   {
    "duration": 22,
    "start_time": "2022-02-09T19:44:12.253Z"
   },
   {
    "duration": 4,
    "start_time": "2022-02-09T19:44:22.345Z"
   },
   {
    "duration": 17,
    "start_time": "2022-02-09T19:44:23.427Z"
   },
   {
    "duration": 25,
    "start_time": "2022-02-09T19:44:27.904Z"
   },
   {
    "duration": 20,
    "start_time": "2022-02-09T19:44:28.863Z"
   },
   {
    "duration": 17,
    "start_time": "2022-02-09T19:44:31.929Z"
   },
   {
    "duration": 15,
    "start_time": "2022-02-09T19:44:33.224Z"
   },
   {
    "duration": 17,
    "start_time": "2022-02-09T19:44:36.465Z"
   },
   {
    "duration": 216,
    "start_time": "2022-02-09T19:44:37.602Z"
   },
   {
    "duration": 177,
    "start_time": "2022-02-09T19:44:38.990Z"
   },
   {
    "duration": 18,
    "start_time": "2022-02-09T19:44:40.556Z"
   },
   {
    "duration": 20,
    "start_time": "2022-02-09T19:45:40.342Z"
   },
   {
    "duration": 18,
    "start_time": "2022-02-09T19:46:06.923Z"
   },
   {
    "duration": 15,
    "start_time": "2022-02-09T19:49:12.693Z"
   },
   {
    "duration": 14,
    "start_time": "2022-02-09T19:49:35.134Z"
   },
   {
    "duration": 15,
    "start_time": "2022-02-09T19:49:57.966Z"
   },
   {
    "duration": 247,
    "start_time": "2022-02-09T19:50:57.596Z"
   },
   {
    "duration": 218,
    "start_time": "2022-02-09T19:53:01.068Z"
   },
   {
    "duration": 178,
    "start_time": "2022-02-09T19:53:22.612Z"
   },
   {
    "duration": 245,
    "start_time": "2022-02-09T19:53:28.620Z"
   },
   {
    "duration": 21,
    "start_time": "2022-02-09T19:53:38.448Z"
   },
   {
    "duration": 253,
    "start_time": "2022-02-09T19:53:43.504Z"
   },
   {
    "duration": 262,
    "start_time": "2022-02-09T19:54:02.535Z"
   },
   {
    "duration": 190,
    "start_time": "2022-02-09T19:54:03.858Z"
   },
   {
    "duration": 20,
    "start_time": "2022-02-09T19:54:05.057Z"
   },
   {
    "duration": 282,
    "start_time": "2022-02-09T19:54:07.190Z"
   },
   {
    "duration": 13,
    "start_time": "2022-02-09T19:54:14.225Z"
   },
   {
    "duration": 8,
    "start_time": "2022-02-09T19:56:22.785Z"
   },
   {
    "duration": 218,
    "start_time": "2022-02-09T19:58:19.513Z"
   },
   {
    "duration": 195,
    "start_time": "2022-02-09T20:00:39.080Z"
   },
   {
    "duration": 309,
    "start_time": "2022-02-09T20:09:33.951Z"
   },
   {
    "duration": 534,
    "start_time": "2022-02-09T20:10:17.543Z"
   },
   {
    "duration": 524,
    "start_time": "2022-02-09T20:12:56.498Z"
   },
   {
    "duration": 301,
    "start_time": "2022-02-09T20:16:23.919Z"
   },
   {
    "duration": 591,
    "start_time": "2022-02-09T20:16:53.731Z"
   },
   {
    "duration": 331,
    "start_time": "2022-02-09T20:19:03.723Z"
   },
   {
    "duration": 360,
    "start_time": "2022-02-09T20:19:39.538Z"
   },
   {
    "duration": 374,
    "start_time": "2022-02-09T20:20:00.227Z"
   },
   {
    "duration": 388,
    "start_time": "2022-02-09T20:21:31.024Z"
   },
   {
    "duration": 374,
    "start_time": "2022-02-09T20:22:09.418Z"
   },
   {
    "duration": 346,
    "start_time": "2022-02-09T20:23:29.599Z"
   },
   {
    "duration": 247,
    "start_time": "2022-02-09T20:24:43.374Z"
   },
   {
    "duration": 435,
    "start_time": "2022-02-09T20:25:00.048Z"
   },
   {
    "duration": 362,
    "start_time": "2022-02-09T20:25:39.106Z"
   },
   {
    "duration": 410,
    "start_time": "2022-02-09T20:25:50.948Z"
   },
   {
    "duration": 373,
    "start_time": "2022-02-09T20:26:10.884Z"
   },
   {
    "duration": 406,
    "start_time": "2022-02-09T20:29:12.622Z"
   },
   {
    "duration": 370,
    "start_time": "2022-02-09T20:29:44.963Z"
   },
   {
    "duration": 217,
    "start_time": "2022-02-09T21:05:37.975Z"
   },
   {
    "duration": 174,
    "start_time": "2022-02-09T21:05:41.141Z"
   },
   {
    "duration": 18,
    "start_time": "2022-02-09T21:05:45.451Z"
   },
   {
    "duration": 8,
    "start_time": "2022-02-09T21:05:57.541Z"
   },
   {
    "duration": 348,
    "start_time": "2022-02-09T21:05:59.612Z"
   },
   {
    "duration": 207,
    "start_time": "2022-02-09T21:06:08.309Z"
   },
   {
    "duration": 177,
    "start_time": "2022-02-09T21:06:28.487Z"
   },
   {
    "duration": 207,
    "start_time": "2022-02-09T21:06:38.792Z"
   },
   {
    "duration": 203,
    "start_time": "2022-02-09T21:06:55.558Z"
   },
   {
    "duration": 295,
    "start_time": "2022-02-09T21:08:02.520Z"
   },
   {
    "duration": 411,
    "start_time": "2022-02-09T21:08:21.457Z"
   },
   {
    "duration": 465,
    "start_time": "2022-02-09T21:10:57.493Z"
   },
   {
    "duration": 229,
    "start_time": "2022-02-09T21:11:46.352Z"
   },
   {
    "duration": 11,
    "start_time": "2022-02-09T21:27:49.004Z"
   },
   {
    "duration": 14,
    "start_time": "2022-02-09T21:28:25.625Z"
   },
   {
    "duration": 15,
    "start_time": "2022-02-09T21:29:40.041Z"
   },
   {
    "duration": 17,
    "start_time": "2022-02-09T21:30:05.913Z"
   },
   {
    "duration": 15,
    "start_time": "2022-02-09T21:30:21.087Z"
   },
   {
    "duration": 5930,
    "start_time": "2022-02-09T21:35:35.993Z"
   },
   {
    "duration": 5966,
    "start_time": "2022-02-09T21:36:48.384Z"
   },
   {
    "duration": 16,
    "start_time": "2022-02-09T21:37:21.263Z"
   },
   {
    "duration": 198,
    "start_time": "2022-02-09T21:37:23.452Z"
   },
   {
    "duration": 193,
    "start_time": "2022-02-09T21:37:57.105Z"
   },
   {
    "duration": 467,
    "start_time": "2022-02-09T21:40:37.631Z"
   },
   {
    "duration": 325,
    "start_time": "2022-02-09T21:40:55.123Z"
   },
   {
    "duration": 353,
    "start_time": "2022-02-09T21:41:25.001Z"
   },
   {
    "duration": 309,
    "start_time": "2022-02-09T21:42:17.138Z"
   },
   {
    "duration": 303,
    "start_time": "2022-02-09T21:42:29.955Z"
   },
   {
    "duration": 444,
    "start_time": "2022-02-09T21:44:03.301Z"
   },
   {
    "duration": 428,
    "start_time": "2022-02-09T21:44:15.426Z"
   },
   {
    "duration": 370,
    "start_time": "2022-02-09T21:44:23.888Z"
   },
   {
    "duration": 230,
    "start_time": "2022-02-09T21:45:53.521Z"
   },
   {
    "duration": 366,
    "start_time": "2022-02-09T21:46:33.413Z"
   },
   {
    "duration": 374,
    "start_time": "2022-02-09T21:46:41.625Z"
   },
   {
    "duration": 352,
    "start_time": "2022-02-09T21:51:04.029Z"
   },
   {
    "duration": 4,
    "start_time": "2022-02-09T21:55:24.940Z"
   },
   {
    "duration": 7,
    "start_time": "2022-02-09T21:58:20.426Z"
   },
   {
    "duration": 244,
    "start_time": "2022-02-09T22:00:15.965Z"
   },
   {
    "duration": 202,
    "start_time": "2022-02-09T22:00:32.520Z"
   },
   {
    "duration": 233,
    "start_time": "2022-02-09T22:01:44.315Z"
   },
   {
    "duration": 240,
    "start_time": "2022-02-09T22:01:54.867Z"
   },
   {
    "duration": 160,
    "start_time": "2022-02-09T23:22:43.749Z"
   },
   {
    "duration": 528,
    "start_time": "2022-02-09T23:22:57.837Z"
   },
   {
    "duration": 456,
    "start_time": "2022-02-09T23:23:52.999Z"
   },
   {
    "duration": 403,
    "start_time": "2022-02-09T23:24:17.750Z"
   },
   {
    "duration": 3,
    "start_time": "2022-02-09T23:24:56.786Z"
   },
   {
    "duration": 22,
    "start_time": "2022-02-09T23:24:58.018Z"
   },
   {
    "duration": 32,
    "start_time": "2022-02-09T23:24:59.279Z"
   },
   {
    "duration": 21,
    "start_time": "2022-02-09T23:25:00.379Z"
   },
   {
    "duration": 4,
    "start_time": "2022-02-09T23:25:03.148Z"
   },
   {
    "duration": 17,
    "start_time": "2022-02-09T23:25:04.416Z"
   },
   {
    "duration": 24,
    "start_time": "2022-02-09T23:25:05.644Z"
   },
   {
    "duration": 19,
    "start_time": "2022-02-09T23:25:06.893Z"
   },
   {
    "duration": 15,
    "start_time": "2022-02-09T23:25:10.370Z"
   },
   {
    "duration": 16,
    "start_time": "2022-02-09T23:25:12.375Z"
   },
   {
    "duration": 14,
    "start_time": "2022-02-09T23:25:15.543Z"
   },
   {
    "duration": 215,
    "start_time": "2022-02-09T23:25:16.723Z"
   },
   {
    "duration": 160,
    "start_time": "2022-02-09T23:25:18.050Z"
   },
   {
    "duration": 17,
    "start_time": "2022-02-09T23:25:19.356Z"
   },
   {
    "duration": 9,
    "start_time": "2022-02-09T23:25:21.859Z"
   },
   {
    "duration": 346,
    "start_time": "2022-02-09T23:25:23.092Z"
   },
   {
    "duration": 215,
    "start_time": "2022-02-09T23:25:31.460Z"
   },
   {
    "duration": 16,
    "start_time": "2022-02-09T23:25:35.330Z"
   },
   {
    "duration": 362,
    "start_time": "2022-02-09T23:25:36.875Z"
   },
   {
    "duration": 8,
    "start_time": "2022-02-09T23:25:40.940Z"
   },
   {
    "duration": 234,
    "start_time": "2022-02-09T23:25:42.405Z"
   },
   {
    "duration": 467,
    "start_time": "2022-02-09T23:25:46.175Z"
   },
   {
    "duration": 15,
    "start_time": "2022-02-09T23:26:09.851Z"
   },
   {
    "duration": 13,
    "start_time": "2022-02-09T23:26:23.107Z"
   },
   {
    "duration": 12,
    "start_time": "2022-02-09T23:28:44.073Z"
   },
   {
    "duration": 17,
    "start_time": "2022-02-09T23:28:53.973Z"
   },
   {
    "duration": 22,
    "start_time": "2022-02-09T23:29:22.331Z"
   },
   {
    "duration": 22,
    "start_time": "2022-02-09T23:29:43.686Z"
   },
   {
    "duration": 22,
    "start_time": "2022-02-09T23:30:06.310Z"
   },
   {
    "duration": 22,
    "start_time": "2022-02-09T23:30:25.774Z"
   },
   {
    "duration": 17,
    "start_time": "2022-02-09T23:31:31.773Z"
   },
   {
    "duration": 246,
    "start_time": "2022-02-09T23:32:01.598Z"
   },
   {
    "duration": 79,
    "start_time": "2022-02-09T23:32:14.199Z"
   },
   {
    "duration": 17,
    "start_time": "2022-02-09T23:32:27.379Z"
   },
   {
    "duration": 15,
    "start_time": "2022-02-09T23:36:34.615Z"
   },
   {
    "duration": 377,
    "start_time": "2022-02-09T23:36:57.905Z"
   },
   {
    "duration": 7,
    "start_time": "2022-02-09T23:37:04.514Z"
   },
   {
    "duration": 244,
    "start_time": "2022-02-09T23:37:06.412Z"
   },
   {
    "duration": 18,
    "start_time": "2022-02-09T23:37:18.842Z"
   },
   {
    "duration": 16,
    "start_time": "2022-02-09T23:38:20.253Z"
   },
   {
    "duration": 193,
    "start_time": "2022-02-09T23:39:04.670Z"
   },
   {
    "duration": 178,
    "start_time": "2022-02-09T23:41:27.452Z"
   },
   {
    "duration": 315,
    "start_time": "2022-02-09T23:43:34.428Z"
   },
   {
    "duration": 348,
    "start_time": "2022-02-09T23:43:52.976Z"
   },
   {
    "duration": 331,
    "start_time": "2022-02-09T23:44:47.957Z"
   },
   {
    "duration": 483,
    "start_time": "2022-02-09T23:45:24.588Z"
   },
   {
    "duration": 328,
    "start_time": "2022-02-09T23:47:24.529Z"
   },
   {
    "duration": 5855,
    "start_time": "2022-02-09T23:48:42.472Z"
   },
   {
    "duration": 3,
    "start_time": "2022-02-09T23:49:04.175Z"
   },
   {
    "duration": 23,
    "start_time": "2022-02-09T23:49:05.601Z"
   },
   {
    "duration": 34,
    "start_time": "2022-02-09T23:49:06.960Z"
   },
   {
    "duration": 21,
    "start_time": "2022-02-09T23:49:08.199Z"
   },
   {
    "duration": 4,
    "start_time": "2022-02-09T23:49:10.758Z"
   },
   {
    "duration": 18,
    "start_time": "2022-02-09T23:49:12.066Z"
   },
   {
    "duration": 24,
    "start_time": "2022-02-09T23:49:13.169Z"
   },
   {
    "duration": 20,
    "start_time": "2022-02-09T23:49:14.395Z"
   },
   {
    "duration": 16,
    "start_time": "2022-02-09T23:49:17.130Z"
   },
   {
    "duration": 15,
    "start_time": "2022-02-09T23:49:18.437Z"
   },
   {
    "duration": 14,
    "start_time": "2022-02-09T23:49:21.755Z"
   },
   {
    "duration": 217,
    "start_time": "2022-02-09T23:49:22.692Z"
   },
   {
    "duration": 179,
    "start_time": "2022-02-09T23:49:23.409Z"
   },
   {
    "duration": 19,
    "start_time": "2022-02-09T23:49:24.693Z"
   },
   {
    "duration": 9,
    "start_time": "2022-02-09T23:49:26.405Z"
   },
   {
    "duration": 366,
    "start_time": "2022-02-09T23:49:27.364Z"
   },
   {
    "duration": 231,
    "start_time": "2022-02-09T23:49:30.621Z"
   },
   {
    "duration": 17,
    "start_time": "2022-02-09T23:49:33.690Z"
   },
   {
    "duration": 346,
    "start_time": "2022-02-09T23:49:38.737Z"
   },
   {
    "duration": 455,
    "start_time": "2022-02-09T23:49:56.273Z"
   },
   {
    "duration": 8,
    "start_time": "2022-02-09T23:50:07.294Z"
   },
   {
    "duration": 263,
    "start_time": "2022-02-09T23:50:08.674Z"
   },
   {
    "duration": 18,
    "start_time": "2022-02-09T23:50:14.248Z"
   },
   {
    "duration": 335,
    "start_time": "2022-02-09T23:50:16.372Z"
   },
   {
    "duration": 355,
    "start_time": "2022-02-09T23:50:52.521Z"
   },
   {
    "duration": 388,
    "start_time": "2022-02-09T23:51:06.696Z"
   },
   {
    "duration": 3,
    "start_time": "2022-02-10T00:09:18.406Z"
   },
   {
    "duration": 21,
    "start_time": "2022-02-10T00:09:19.431Z"
   },
   {
    "duration": 32,
    "start_time": "2022-02-10T00:09:20.422Z"
   },
   {
    "duration": 21,
    "start_time": "2022-02-10T00:09:23.569Z"
   },
   {
    "duration": 4,
    "start_time": "2022-02-10T00:09:25.001Z"
   },
   {
    "duration": 18,
    "start_time": "2022-02-10T00:09:26.059Z"
   },
   {
    "duration": 23,
    "start_time": "2022-02-10T00:09:27.303Z"
   },
   {
    "duration": 20,
    "start_time": "2022-02-10T00:09:28.454Z"
   },
   {
    "duration": 17,
    "start_time": "2022-02-10T00:09:31.075Z"
   },
   {
    "duration": 18,
    "start_time": "2022-02-10T00:09:32.245Z"
   },
   {
    "duration": 14,
    "start_time": "2022-02-10T00:09:34.468Z"
   },
   {
    "duration": 210,
    "start_time": "2022-02-10T00:09:35.524Z"
   },
   {
    "duration": 171,
    "start_time": "2022-02-10T00:09:36.767Z"
   },
   {
    "duration": 19,
    "start_time": "2022-02-10T00:09:38.015Z"
   },
   {
    "duration": 9,
    "start_time": "2022-02-10T00:09:40.114Z"
   },
   {
    "duration": 358,
    "start_time": "2022-02-10T00:09:41.505Z"
   },
   {
    "duration": 252,
    "start_time": "2022-02-10T00:09:45.011Z"
   },
   {
    "duration": 16,
    "start_time": "2022-02-10T00:09:48.767Z"
   },
   {
    "duration": 348,
    "start_time": "2022-02-10T00:09:50.450Z"
   },
   {
    "duration": 8,
    "start_time": "2022-02-10T00:09:54.239Z"
   },
   {
    "duration": 234,
    "start_time": "2022-02-10T00:09:55.220Z"
   },
   {
    "duration": 17,
    "start_time": "2022-02-10T00:09:58.540Z"
   },
   {
    "duration": 362,
    "start_time": "2022-02-10T00:09:59.921Z"
   },
   {
    "duration": 14,
    "start_time": "2022-02-10T00:20:16.164Z"
   },
   {
    "duration": 14,
    "start_time": "2022-02-10T00:20:28.861Z"
   },
   {
    "duration": 14,
    "start_time": "2022-02-10T00:20:35.586Z"
   },
   {
    "duration": 14,
    "start_time": "2022-02-10T00:20:52.114Z"
   },
   {
    "duration": 756,
    "start_time": "2022-02-10T00:21:12.969Z"
   },
   {
    "duration": 212,
    "start_time": "2022-02-10T00:21:32.149Z"
   },
   {
    "duration": 233,
    "start_time": "2022-02-10T00:21:50.680Z"
   },
   {
    "duration": 318,
    "start_time": "2022-02-10T00:24:33.778Z"
   },
   {
    "duration": 284,
    "start_time": "2022-02-10T00:26:12.643Z"
   },
   {
    "duration": 15,
    "start_time": "2022-02-10T00:28:04.916Z"
   },
   {
    "duration": 13,
    "start_time": "2022-02-10T00:29:08.967Z"
   },
   {
    "duration": 12,
    "start_time": "2022-02-10T00:29:33.003Z"
   },
   {
    "duration": 12,
    "start_time": "2022-02-10T00:30:07.045Z"
   },
   {
    "duration": 8,
    "start_time": "2022-02-10T00:30:18.120Z"
   },
   {
    "duration": 15,
    "start_time": "2022-02-10T00:30:57.900Z"
   },
   {
    "duration": 14,
    "start_time": "2022-02-10T00:31:08.343Z"
   },
   {
    "duration": 14,
    "start_time": "2022-02-10T00:31:17.914Z"
   },
   {
    "duration": 15,
    "start_time": "2022-02-10T00:31:27.580Z"
   },
   {
    "duration": 14,
    "start_time": "2022-02-10T00:31:36.333Z"
   },
   {
    "duration": 8,
    "start_time": "2022-02-10T00:44:45.801Z"
   },
   {
    "duration": 14,
    "start_time": "2022-02-10T00:44:52.112Z"
   },
   {
    "duration": 288,
    "start_time": "2022-02-10T00:45:17.767Z"
   },
   {
    "duration": 309,
    "start_time": "2022-02-10T00:52:23.012Z"
   },
   {
    "duration": 305,
    "start_time": "2022-02-10T00:52:39.242Z"
   },
   {
    "duration": 314,
    "start_time": "2022-02-10T00:53:56.880Z"
   },
   {
    "duration": 257,
    "start_time": "2022-02-10T01:07:25.025Z"
   },
   {
    "duration": 292,
    "start_time": "2022-02-10T01:07:38.964Z"
   },
   {
    "duration": 5,
    "start_time": "2022-02-10T01:07:54.475Z"
   },
   {
    "duration": 307,
    "start_time": "2022-02-10T01:17:04.904Z"
   },
   {
    "duration": 321,
    "start_time": "2022-02-10T01:20:07.871Z"
   },
   {
    "duration": 302,
    "start_time": "2022-02-10T01:20:58.573Z"
   },
   {
    "duration": 295,
    "start_time": "2022-02-10T01:24:07.159Z"
   },
   {
    "duration": 315,
    "start_time": "2022-02-10T01:24:46.768Z"
   },
   {
    "duration": 4,
    "start_time": "2022-02-10T01:29:25.235Z"
   },
   {
    "duration": 454,
    "start_time": "2022-02-10T01:37:11.413Z"
   },
   {
    "duration": 14,
    "start_time": "2022-02-10T01:58:35.112Z"
   },
   {
    "duration": 986,
    "start_time": "2022-02-10T04:04:46.402Z"
   },
   {
    "duration": 23,
    "start_time": "2022-02-10T04:04:48.628Z"
   },
   {
    "duration": 29,
    "start_time": "2022-02-10T04:04:49.607Z"
   },
   {
    "duration": 18,
    "start_time": "2022-02-10T04:04:50.602Z"
   },
   {
    "duration": 3,
    "start_time": "2022-02-10T04:04:53.197Z"
   },
   {
    "duration": 14,
    "start_time": "2022-02-10T04:04:54.769Z"
   },
   {
    "duration": 20,
    "start_time": "2022-02-10T04:04:55.889Z"
   },
   {
    "duration": 16,
    "start_time": "2022-02-10T04:04:56.900Z"
   },
   {
    "duration": 14,
    "start_time": "2022-02-10T04:04:59.420Z"
   },
   {
    "duration": 15,
    "start_time": "2022-02-10T04:05:00.366Z"
   },
   {
    "duration": 12,
    "start_time": "2022-02-10T04:05:05.614Z"
   },
   {
    "duration": 176,
    "start_time": "2022-02-10T04:05:06.516Z"
   },
   {
    "duration": 158,
    "start_time": "2022-02-10T04:05:07.343Z"
   },
   {
    "duration": 15,
    "start_time": "2022-02-10T04:05:08.065Z"
   },
   {
    "duration": 7,
    "start_time": "2022-02-10T04:05:08.813Z"
   },
   {
    "duration": 385,
    "start_time": "2022-02-10T04:05:09.797Z"
   },
   {
    "duration": 196,
    "start_time": "2022-02-10T04:05:15.714Z"
   },
   {
    "duration": 13,
    "start_time": "2022-02-10T04:05:18.721Z"
   },
   {
    "duration": 333,
    "start_time": "2022-02-10T04:05:20.183Z"
   },
   {
    "duration": 18,
    "start_time": "2022-02-10T04:05:24.123Z"
   },
   {
    "duration": 212,
    "start_time": "2022-02-10T04:05:24.912Z"
   },
   {
    "duration": 15,
    "start_time": "2022-02-10T04:05:33.281Z"
   },
   {
    "duration": 339,
    "start_time": "2022-02-10T04:05:34.042Z"
   },
   {
    "duration": 13,
    "start_time": "2022-02-10T04:05:37.134Z"
   },
   {
    "duration": 307,
    "start_time": "2022-02-10T04:05:38.046Z"
   },
   {
    "duration": 5,
    "start_time": "2022-02-10T04:05:41.040Z"
   },
   {
    "duration": 279,
    "start_time": "2022-02-10T04:05:43.286Z"
   },
   {
    "duration": 4,
    "start_time": "2022-02-10T04:05:46.881Z"
   },
   {
    "duration": 13,
    "start_time": "2022-02-10T04:05:50.295Z"
   },
   {
    "duration": 4,
    "start_time": "2022-02-10T04:06:02.291Z"
   },
   {
    "duration": 7,
    "start_time": "2022-02-10T04:09:51.399Z"
   },
   {
    "duration": 12,
    "start_time": "2022-02-10T04:11:11.386Z"
   },
   {
    "duration": 56,
    "start_time": "2022-02-10T04:59:16.300Z"
   },
   {
    "duration": 13,
    "start_time": "2022-02-10T04:59:28.920Z"
   },
   {
    "duration": 19,
    "start_time": "2022-02-10T05:00:08.672Z"
   },
   {
    "duration": 15,
    "start_time": "2022-02-10T05:09:19.494Z"
   },
   {
    "duration": 14,
    "start_time": "2022-02-10T05:09:44.550Z"
   },
   {
    "duration": 13,
    "start_time": "2022-02-10T05:09:59.673Z"
   },
   {
    "duration": 1393,
    "start_time": "2022-02-10T19:37:53.885Z"
   },
   {
    "duration": 43,
    "start_time": "2022-02-10T19:37:55.280Z"
   },
   {
    "duration": 42,
    "start_time": "2022-02-10T19:37:55.884Z"
   },
   {
    "duration": 27,
    "start_time": "2022-02-10T19:37:57.060Z"
   },
   {
    "duration": 6,
    "start_time": "2022-02-10T19:38:00.820Z"
   },
   {
    "duration": 32,
    "start_time": "2022-02-10T19:38:01.912Z"
   },
   {
    "duration": 34,
    "start_time": "2022-02-10T19:38:03.096Z"
   },
   {
    "duration": 26,
    "start_time": "2022-02-10T19:38:04.346Z"
   },
   {
    "duration": 32,
    "start_time": "2022-02-10T19:38:07.066Z"
   },
   {
    "duration": 22,
    "start_time": "2022-02-10T19:38:09.382Z"
   },
   {
    "duration": 20,
    "start_time": "2022-02-10T19:38:13.574Z"
   },
   {
    "duration": 319,
    "start_time": "2022-02-10T19:38:14.394Z"
   },
   {
    "duration": 333,
    "start_time": "2022-02-10T19:38:15.149Z"
   },
   {
    "duration": 30,
    "start_time": "2022-02-10T19:38:16.745Z"
   },
   {
    "duration": 10,
    "start_time": "2022-02-10T19:38:17.727Z"
   },
   {
    "duration": 735,
    "start_time": "2022-02-10T19:38:18.591Z"
   },
   {
    "duration": 388,
    "start_time": "2022-02-10T19:38:24.481Z"
   },
   {
    "duration": 22,
    "start_time": "2022-02-10T19:38:28.258Z"
   },
   {
    "duration": 488,
    "start_time": "2022-02-10T19:38:29.493Z"
   },
   {
    "duration": 9,
    "start_time": "2022-02-10T19:38:32.716Z"
   },
   {
    "duration": 351,
    "start_time": "2022-02-10T19:38:33.436Z"
   },
   {
    "duration": 22,
    "start_time": "2022-02-10T19:38:36.747Z"
   },
   {
    "duration": 498,
    "start_time": "2022-02-10T19:38:37.980Z"
   },
   {
    "duration": 20,
    "start_time": "2022-02-10T19:38:40.409Z"
   },
   {
    "duration": 392,
    "start_time": "2022-02-10T19:38:41.343Z"
   },
   {
    "duration": 7,
    "start_time": "2022-02-10T19:38:43.726Z"
   },
   {
    "duration": 405,
    "start_time": "2022-02-10T19:38:45.760Z"
   },
   {
    "duration": 6,
    "start_time": "2022-02-10T19:38:52.994Z"
   },
   {
    "duration": 4,
    "start_time": "2022-02-10T19:39:43.523Z"
   },
   {
    "duration": 27,
    "start_time": "2022-02-10T19:39:45.300Z"
   },
   {
    "duration": 37,
    "start_time": "2022-02-10T19:39:46.184Z"
   },
   {
    "duration": 25,
    "start_time": "2022-02-10T19:39:47.496Z"
   },
   {
    "duration": 5,
    "start_time": "2022-02-10T19:39:49.907Z"
   },
   {
    "duration": 23,
    "start_time": "2022-02-10T19:39:51.111Z"
   },
   {
    "duration": 33,
    "start_time": "2022-02-10T19:39:52.490Z"
   },
   {
    "duration": 27,
    "start_time": "2022-02-10T19:39:53.815Z"
   },
   {
    "duration": 30,
    "start_time": "2022-02-10T19:39:57.520Z"
   },
   {
    "duration": 21,
    "start_time": "2022-02-10T19:39:58.863Z"
   },
   {
    "duration": 23,
    "start_time": "2022-02-10T19:40:02.693Z"
   },
   {
    "duration": 322,
    "start_time": "2022-02-10T19:40:23.343Z"
   },
   {
    "duration": 357,
    "start_time": "2022-02-10T19:40:24.032Z"
   },
   {
    "duration": 24,
    "start_time": "2022-02-10T19:40:26.256Z"
   },
   {
    "duration": 11,
    "start_time": "2022-02-10T19:40:27.189Z"
   },
   {
    "duration": 605,
    "start_time": "2022-02-10T19:40:28.084Z"
   },
   {
    "duration": 324,
    "start_time": "2022-02-10T19:40:32.071Z"
   },
   {
    "duration": 21,
    "start_time": "2022-02-10T19:40:35.287Z"
   },
   {
    "duration": 519,
    "start_time": "2022-02-10T19:40:36.304Z"
   },
   {
    "duration": 10,
    "start_time": "2022-02-10T19:40:45.947Z"
   },
   {
    "duration": 352,
    "start_time": "2022-02-10T19:40:46.825Z"
   },
   {
    "duration": 22,
    "start_time": "2022-02-10T19:40:52.437Z"
   },
   {
    "duration": 527,
    "start_time": "2022-02-10T19:40:53.369Z"
   },
   {
    "duration": 26,
    "start_time": "2022-02-10T19:40:55.837Z"
   },
   {
    "duration": 540,
    "start_time": "2022-02-10T19:40:56.892Z"
   },
   {
    "duration": 8,
    "start_time": "2022-02-10T19:40:59.389Z"
   },
   {
    "duration": 577,
    "start_time": "2022-02-10T19:41:02.582Z"
   },
   {
    "duration": 7,
    "start_time": "2022-02-10T19:41:05.726Z"
   },
   {
    "duration": 35,
    "start_time": "2022-02-10T20:02:47.952Z"
   },
   {
    "duration": 17,
    "start_time": "2022-02-10T20:02:49.221Z"
   },
   {
    "duration": 26,
    "start_time": "2022-02-10T20:08:32.273Z"
   },
   {
    "duration": 474,
    "start_time": "2022-02-10T20:24:35.503Z"
   },
   {
    "duration": 12,
    "start_time": "2022-02-10T20:25:52.790Z"
   },
   {
    "duration": 10,
    "start_time": "2022-02-10T20:27:45.379Z"
   },
   {
    "duration": 11,
    "start_time": "2022-02-10T20:28:00.966Z"
   },
   {
    "duration": 13,
    "start_time": "2022-02-10T20:28:11.240Z"
   },
   {
    "duration": 12,
    "start_time": "2022-02-10T20:28:22.207Z"
   },
   {
    "duration": 10,
    "start_time": "2022-02-10T20:28:30.984Z"
   },
   {
    "duration": 10,
    "start_time": "2022-02-10T20:29:39.281Z"
   },
   {
    "duration": 12,
    "start_time": "2022-02-10T20:29:51.105Z"
   },
   {
    "duration": 12,
    "start_time": "2022-02-10T20:32:46.050Z"
   },
   {
    "duration": 12,
    "start_time": "2022-02-10T20:34:11.233Z"
   },
   {
    "duration": 10,
    "start_time": "2022-02-10T20:35:42.038Z"
   },
   {
    "duration": 298,
    "start_time": "2022-02-10T22:10:53.033Z"
   },
   {
    "duration": 12,
    "start_time": "2022-02-10T22:11:14.410Z"
   },
   {
    "duration": 11,
    "start_time": "2022-02-10T22:15:26.557Z"
   },
   {
    "duration": 18,
    "start_time": "2022-02-10T22:33:14.152Z"
   },
   {
    "duration": 16,
    "start_time": "2022-02-10T22:35:01.316Z"
   },
   {
    "duration": 15,
    "start_time": "2022-02-10T22:35:17.261Z"
   },
   {
    "duration": 11,
    "start_time": "2022-02-10T22:35:58.978Z"
   },
   {
    "duration": 12,
    "start_time": "2022-02-10T22:36:38.123Z"
   },
   {
    "duration": 11,
    "start_time": "2022-02-10T22:37:09.698Z"
   },
   {
    "duration": 295,
    "start_time": "2022-02-10T22:38:12.417Z"
   },
   {
    "duration": 13,
    "start_time": "2022-02-10T22:38:35.936Z"
   },
   {
    "duration": 320,
    "start_time": "2022-02-10T22:38:39.975Z"
   },
   {
    "duration": 9,
    "start_time": "2022-02-10T22:38:56.353Z"
   },
   {
    "duration": 14,
    "start_time": "2022-02-10T22:39:12.095Z"
   },
   {
    "duration": 303,
    "start_time": "2022-02-10T22:39:29.633Z"
   },
   {
    "duration": 7,
    "start_time": "2022-02-10T22:48:11.514Z"
   },
   {
    "duration": 14,
    "start_time": "2022-02-10T22:48:26.894Z"
   },
   {
    "duration": 8,
    "start_time": "2022-02-10T22:48:59.277Z"
   },
   {
    "duration": 7,
    "start_time": "2022-02-10T22:49:23.170Z"
   },
   {
    "duration": 6,
    "start_time": "2022-02-10T22:53:39.493Z"
   },
   {
    "duration": 8,
    "start_time": "2022-02-10T22:53:45.967Z"
   },
   {
    "duration": 8,
    "start_time": "2022-02-10T22:57:47.654Z"
   },
   {
    "duration": 16,
    "start_time": "2022-02-10T22:57:53.061Z"
   },
   {
    "duration": 10,
    "start_time": "2022-02-10T22:58:02.490Z"
   },
   {
    "duration": 9,
    "start_time": "2022-02-10T22:58:39.581Z"
   },
   {
    "duration": 9,
    "start_time": "2022-02-10T22:58:55.474Z"
   },
   {
    "duration": 14,
    "start_time": "2022-02-10T22:59:02.429Z"
   },
   {
    "duration": 10,
    "start_time": "2022-02-10T22:59:09.246Z"
   },
   {
    "duration": 9,
    "start_time": "2022-02-10T22:59:28.416Z"
   },
   {
    "duration": 110,
    "start_time": "2022-02-10T22:59:43.909Z"
   },
   {
    "duration": 10,
    "start_time": "2022-02-10T22:59:50.724Z"
   },
   {
    "duration": 6981,
    "start_time": "2022-02-10T23:15:36.999Z"
   },
   {
    "duration": 12,
    "start_time": "2022-02-10T23:17:00.060Z"
   },
   {
    "duration": 13,
    "start_time": "2022-02-10T23:17:20.702Z"
   },
   {
    "duration": 17,
    "start_time": "2022-02-10T23:17:35.704Z"
   },
   {
    "duration": 18,
    "start_time": "2022-02-10T23:17:42.682Z"
   },
   {
    "duration": 9,
    "start_time": "2022-02-10T23:18:48.793Z"
   },
   {
    "duration": 10,
    "start_time": "2022-02-10T23:20:50.945Z"
   },
   {
    "duration": 14,
    "start_time": "2022-02-10T23:41:10.204Z"
   },
   {
    "duration": 13,
    "start_time": "2022-02-10T23:41:42.872Z"
   },
   {
    "duration": 21,
    "start_time": "2022-02-10T23:43:31.286Z"
   },
   {
    "duration": 1121,
    "start_time": "2022-02-11T01:40:18.397Z"
   },
   {
    "duration": 25,
    "start_time": "2022-02-11T01:40:19.585Z"
   },
   {
    "duration": 30,
    "start_time": "2022-02-11T01:40:20.581Z"
   },
   {
    "duration": 19,
    "start_time": "2022-02-11T01:40:21.328Z"
   },
   {
    "duration": 4,
    "start_time": "2022-02-11T01:40:23.086Z"
   },
   {
    "duration": 15,
    "start_time": "2022-02-11T01:40:23.785Z"
   },
   {
    "duration": 23,
    "start_time": "2022-02-11T01:40:24.532Z"
   },
   {
    "duration": 20,
    "start_time": "2022-02-11T01:40:25.224Z"
   },
   {
    "duration": 20,
    "start_time": "2022-02-11T01:40:27.057Z"
   },
   {
    "duration": 14,
    "start_time": "2022-02-11T01:40:27.976Z"
   },
   {
    "duration": 14,
    "start_time": "2022-02-11T01:40:30.331Z"
   },
   {
    "duration": 192,
    "start_time": "2022-02-11T01:40:30.890Z"
   },
   {
    "duration": 169,
    "start_time": "2022-02-11T01:40:31.412Z"
   },
   {
    "duration": 18,
    "start_time": "2022-02-11T01:40:31.891Z"
   },
   {
    "duration": 7,
    "start_time": "2022-02-11T01:40:32.452Z"
   },
   {
    "duration": 353,
    "start_time": "2022-02-11T01:40:32.986Z"
   },
   {
    "duration": 213,
    "start_time": "2022-02-11T01:40:35.034Z"
   },
   {
    "duration": 13,
    "start_time": "2022-02-11T01:40:37.673Z"
   },
   {
    "duration": 382,
    "start_time": "2022-02-11T01:40:38.299Z"
   },
   {
    "duration": 6,
    "start_time": "2022-02-11T01:40:40.190Z"
   },
   {
    "duration": 223,
    "start_time": "2022-02-11T01:40:40.787Z"
   },
   {
    "duration": 16,
    "start_time": "2022-02-11T01:40:43.051Z"
   },
   {
    "duration": 354,
    "start_time": "2022-02-11T01:40:43.736Z"
   },
   {
    "duration": 14,
    "start_time": "2022-02-11T01:40:45.447Z"
   },
   {
    "duration": 296,
    "start_time": "2022-02-11T01:40:45.978Z"
   },
   {
    "duration": 5,
    "start_time": "2022-02-11T01:40:47.989Z"
   },
   {
    "duration": 321,
    "start_time": "2022-02-11T01:40:49.797Z"
   },
   {
    "duration": 4,
    "start_time": "2022-02-11T01:40:53.614Z"
   },
   {
    "duration": 30,
    "start_time": "2022-02-11T01:40:55.655Z"
   },
   {
    "duration": 18,
    "start_time": "2022-02-11T01:40:56.648Z"
   },
   {
    "duration": 7,
    "start_time": "2022-02-11T01:40:57.928Z"
   },
   {
    "duration": 8,
    "start_time": "2022-02-11T01:40:58.120Z"
   },
   {
    "duration": 9,
    "start_time": "2022-02-11T01:41:00.291Z"
   },
   {
    "duration": 7,
    "start_time": "2022-02-11T01:41:03.271Z"
   },
   {
    "duration": 10,
    "start_time": "2022-02-11T01:41:08.482Z"
   },
   {
    "duration": 8,
    "start_time": "2022-02-11T01:41:09.166Z"
   },
   {
    "duration": 8,
    "start_time": "2022-02-11T01:41:09.795Z"
   },
   {
    "duration": 7,
    "start_time": "2022-02-11T01:41:10.698Z"
   },
   {
    "duration": 9,
    "start_time": "2022-02-11T01:41:11.578Z"
   },
   {
    "duration": 11,
    "start_time": "2022-02-11T01:41:13.317Z"
   },
   {
    "duration": 9,
    "start_time": "2022-02-11T01:41:20.698Z"
   },
   {
    "duration": 15,
    "start_time": "2022-02-11T01:41:23.951Z"
   },
   {
    "duration": 16,
    "start_time": "2022-02-11T01:46:48.784Z"
   },
   {
    "duration": 16,
    "start_time": "2022-02-11T01:46:57.225Z"
   },
   {
    "duration": 7,
    "start_time": "2022-02-11T01:47:03.611Z"
   },
   {
    "duration": 6,
    "start_time": "2022-02-11T01:52:21.360Z"
   },
   {
    "duration": 8,
    "start_time": "2022-02-11T01:57:55.113Z"
   },
   {
    "duration": 7,
    "start_time": "2022-02-11T02:02:42.634Z"
   },
   {
    "duration": 11,
    "start_time": "2022-02-11T02:11:08.483Z"
   },
   {
    "duration": 12,
    "start_time": "2022-02-11T02:20:12.329Z"
   },
   {
    "duration": 10,
    "start_time": "2022-02-11T02:20:22.996Z"
   },
   {
    "duration": 10,
    "start_time": "2022-02-11T02:20:28.460Z"
   },
   {
    "duration": 9,
    "start_time": "2022-02-11T02:20:35.383Z"
   },
   {
    "duration": 7,
    "start_time": "2022-02-11T02:20:47.693Z"
   },
   {
    "duration": 8,
    "start_time": "2022-02-11T02:20:57.286Z"
   },
   {
    "duration": 10,
    "start_time": "2022-02-11T02:25:34.480Z"
   },
   {
    "duration": 8,
    "start_time": "2022-02-11T02:30:32.585Z"
   },
   {
    "duration": 10,
    "start_time": "2022-02-11T03:18:49.952Z"
   },
   {
    "duration": 363,
    "start_time": "2022-02-11T03:19:46.311Z"
   },
   {
    "duration": 8,
    "start_time": "2022-02-11T03:20:06.659Z"
   },
   {
    "duration": 11,
    "start_time": "2022-02-11T03:20:33.169Z"
   },
   {
    "duration": 10,
    "start_time": "2022-02-11T03:21:09.238Z"
   },
   {
    "duration": 9,
    "start_time": "2022-02-11T03:21:29.958Z"
   },
   {
    "duration": 9,
    "start_time": "2022-02-11T03:21:57.284Z"
   },
   {
    "duration": 7,
    "start_time": "2022-02-11T03:24:50.723Z"
   },
   {
    "duration": 15,
    "start_time": "2022-02-11T05:16:02.997Z"
   },
   {
    "duration": 14,
    "start_time": "2022-02-11T05:16:11.350Z"
   },
   {
    "duration": 15,
    "start_time": "2022-02-11T05:16:20.168Z"
   },
   {
    "duration": 15,
    "start_time": "2022-02-11T05:16:25.474Z"
   },
   {
    "duration": 3,
    "start_time": "2022-02-11T05:22:35.575Z"
   },
   {
    "duration": 16,
    "start_time": "2022-02-11T05:23:20.735Z"
   },
   {
    "duration": 14,
    "start_time": "2022-02-11T05:23:31.730Z"
   },
   {
    "duration": 382,
    "start_time": "2022-02-11T05:24:14.676Z"
   },
   {
    "duration": 341,
    "start_time": "2022-02-11T05:26:11.199Z"
   },
   {
    "duration": 283,
    "start_time": "2022-02-11T05:27:04.465Z"
   },
   {
    "duration": 13,
    "start_time": "2022-02-11T05:39:41.172Z"
   },
   {
    "duration": 12,
    "start_time": "2022-02-11T05:40:56.887Z"
   },
   {
    "duration": 16,
    "start_time": "2022-02-11T05:44:30.519Z"
   },
   {
    "duration": 18,
    "start_time": "2022-02-11T05:45:04.871Z"
   },
   {
    "duration": 21,
    "start_time": "2022-02-11T05:45:13.492Z"
   },
   {
    "duration": 278,
    "start_time": "2022-02-11T05:52:41.103Z"
   },
   {
    "duration": 275,
    "start_time": "2022-02-11T05:52:47.216Z"
   },
   {
    "duration": 255,
    "start_time": "2022-02-11T05:53:08.683Z"
   },
   {
    "duration": 12,
    "start_time": "2022-02-11T05:53:18.396Z"
   },
   {
    "duration": 11,
    "start_time": "2022-02-11T05:53:34.878Z"
   },
   {
    "duration": 10,
    "start_time": "2022-02-11T05:54:32.608Z"
   },
   {
    "duration": 9,
    "start_time": "2022-02-11T05:54:50.039Z"
   },
   {
    "duration": 9,
    "start_time": "2022-02-11T05:55:59.477Z"
   },
   {
    "duration": 13,
    "start_time": "2022-02-11T05:56:18.040Z"
   },
   {
    "duration": 14,
    "start_time": "2022-02-11T05:56:53.603Z"
   },
   {
    "duration": 9,
    "start_time": "2022-02-11T05:57:01.231Z"
   },
   {
    "duration": 17,
    "start_time": "2022-02-11T06:01:35.154Z"
   },
   {
    "duration": 15,
    "start_time": "2022-02-11T06:33:21.526Z"
   },
   {
    "duration": 1356,
    "start_time": "2022-02-13T05:52:11.245Z"
   },
   {
    "duration": 35,
    "start_time": "2022-02-13T05:52:17.487Z"
   },
   {
    "duration": 36,
    "start_time": "2022-02-13T05:52:21.180Z"
   },
   {
    "duration": 26,
    "start_time": "2022-02-13T05:52:22.415Z"
   },
   {
    "duration": 5,
    "start_time": "2022-02-13T05:52:27.057Z"
   },
   {
    "duration": 22,
    "start_time": "2022-02-13T05:52:31.000Z"
   },
   {
    "duration": 26,
    "start_time": "2022-02-13T05:52:32.294Z"
   },
   {
    "duration": 21,
    "start_time": "2022-02-13T05:52:33.586Z"
   },
   {
    "duration": 27,
    "start_time": "2022-02-13T05:52:48.675Z"
   },
   {
    "duration": 24,
    "start_time": "2022-02-13T05:53:11.924Z"
   },
   {
    "duration": 4,
    "start_time": "2022-02-13T06:04:46.238Z"
   },
   {
    "duration": 28,
    "start_time": "2022-02-13T06:04:47.660Z"
   },
   {
    "duration": 37,
    "start_time": "2022-02-13T06:04:48.618Z"
   },
   {
    "duration": 26,
    "start_time": "2022-02-13T06:04:50.108Z"
   },
   {
    "duration": 5,
    "start_time": "2022-02-13T06:04:52.316Z"
   },
   {
    "duration": 21,
    "start_time": "2022-02-13T06:04:53.454Z"
   },
   {
    "duration": 25,
    "start_time": "2022-02-13T06:04:54.734Z"
   },
   {
    "duration": 21,
    "start_time": "2022-02-13T06:04:55.870Z"
   },
   {
    "duration": 21,
    "start_time": "2022-02-13T06:04:58.904Z"
   },
   {
    "duration": 23,
    "start_time": "2022-02-13T06:05:03.423Z"
   },
   {
    "duration": 20,
    "start_time": "2022-02-13T06:05:09.585Z"
   },
   {
    "duration": 302,
    "start_time": "2022-02-13T06:05:11.426Z"
   },
   {
    "duration": 282,
    "start_time": "2022-02-13T06:05:13.684Z"
   },
   {
    "duration": 14,
    "start_time": "2022-02-13T06:05:23.044Z"
   },
   {
    "duration": 322,
    "start_time": "2022-02-13T06:05:28.750Z"
   },
   {
    "duration": 273,
    "start_time": "2022-02-13T06:05:34.448Z"
   },
   {
    "duration": 20,
    "start_time": "2022-02-13T06:05:41.705Z"
   },
   {
    "duration": 11,
    "start_time": "2022-02-13T06:05:44.920Z"
   },
   {
    "duration": 495,
    "start_time": "2022-02-13T06:05:47.325Z"
   },
   {
    "duration": 503,
    "start_time": "2022-02-13T06:06:00.656Z"
   },
   {
    "duration": 314,
    "start_time": "2022-02-13T06:10:55.492Z"
   },
   {
    "duration": 20,
    "start_time": "2022-02-13T06:12:41.520Z"
   },
   {
    "duration": 19,
    "start_time": "2022-02-13T06:12:51.218Z"
   },
   {
    "duration": 452,
    "start_time": "2022-02-13T06:12:53.902Z"
   },
   {
    "duration": 18,
    "start_time": "2022-02-13T06:18:06.441Z"
   },
   {
    "duration": 461,
    "start_time": "2022-02-13T06:18:07.463Z"
   },
   {
    "duration": 9,
    "start_time": "2022-02-13T06:18:43.637Z"
   },
   {
    "duration": 334,
    "start_time": "2022-02-13T06:19:08.823Z"
   },
   {
    "duration": 22,
    "start_time": "2022-02-13T06:20:15.931Z"
   },
   {
    "duration": 447,
    "start_time": "2022-02-13T06:20:20.378Z"
   },
   {
    "duration": 25,
    "start_time": "2022-02-13T06:21:56.855Z"
   },
   {
    "duration": 423,
    "start_time": "2022-02-13T06:22:00.255Z"
   },
   {
    "duration": 7,
    "start_time": "2022-02-13T06:22:52.309Z"
   },
   {
    "duration": 655,
    "start_time": "2022-02-13T06:23:31.740Z"
   },
   {
    "duration": 6,
    "start_time": "2022-02-13T06:23:50.105Z"
   },
   {
    "duration": 22,
    "start_time": "2022-02-13T06:24:25.100Z"
   },
   {
    "duration": 17,
    "start_time": "2022-02-13T06:24:32.392Z"
   },
   {
    "duration": 29,
    "start_time": "2022-02-13T06:24:38.629Z"
   },
   {
    "duration": 13,
    "start_time": "2022-02-13T06:24:42.218Z"
   },
   {
    "duration": 9,
    "start_time": "2022-02-13T06:24:45.144Z"
   },
   {
    "duration": 11,
    "start_time": "2022-02-13T06:24:58.780Z"
   },
   {
    "duration": 15,
    "start_time": "2022-02-13T06:36:23.275Z"
   },
   {
    "duration": 15,
    "start_time": "2022-02-13T06:37:07.725Z"
   },
   {
    "duration": 15,
    "start_time": "2022-02-13T06:37:11.280Z"
   },
   {
    "duration": 13,
    "start_time": "2022-02-13T06:37:13.869Z"
   },
   {
    "duration": 11,
    "start_time": "2022-02-13T06:37:14.936Z"
   },
   {
    "duration": 13,
    "start_time": "2022-02-13T06:37:16.073Z"
   },
   {
    "duration": 10,
    "start_time": "2022-02-13T06:37:23.722Z"
   },
   {
    "duration": 29,
    "start_time": "2022-02-13T06:38:24.022Z"
   },
   {
    "duration": 1475,
    "start_time": "2022-02-14T07:38:30.338Z"
   },
   {
    "duration": 40,
    "start_time": "2022-02-14T07:38:31.815Z"
   },
   {
    "duration": 54,
    "start_time": "2022-02-14T07:38:31.860Z"
   },
   {
    "duration": 30,
    "start_time": "2022-02-14T07:38:31.916Z"
   },
   {
    "duration": 4,
    "start_time": "2022-02-14T07:38:31.949Z"
   },
   {
    "duration": 21,
    "start_time": "2022-02-14T07:38:31.959Z"
   },
   {
    "duration": 25,
    "start_time": "2022-02-14T07:38:31.983Z"
   },
   {
    "duration": 55,
    "start_time": "2022-02-14T07:38:32.011Z"
   },
   {
    "duration": 21,
    "start_time": "2022-02-14T07:38:32.069Z"
   },
   {
    "duration": 21,
    "start_time": "2022-02-14T07:38:32.093Z"
   },
   {
    "duration": 51,
    "start_time": "2022-02-14T07:38:32.117Z"
   },
   {
    "duration": 346,
    "start_time": "2022-02-14T07:38:32.171Z"
   },
   {
    "duration": 303,
    "start_time": "2022-02-14T07:38:32.520Z"
   },
   {
    "duration": 33,
    "start_time": "2022-02-14T07:38:32.826Z"
   },
   {
    "duration": 10,
    "start_time": "2022-02-14T07:38:32.862Z"
   },
   {
    "duration": 491,
    "start_time": "2022-02-14T07:38:32.875Z"
   },
   {
    "duration": 360,
    "start_time": "2022-02-14T07:38:33.368Z"
   },
   {
    "duration": 32,
    "start_time": "2022-02-14T07:38:33.731Z"
   },
   {
    "duration": 478,
    "start_time": "2022-02-14T07:38:33.766Z"
   },
   {
    "duration": 18,
    "start_time": "2022-02-14T07:38:34.246Z"
   },
   {
    "duration": 348,
    "start_time": "2022-02-14T07:38:34.266Z"
   },
   {
    "duration": 19,
    "start_time": "2022-02-14T07:38:34.616Z"
   },
   {
    "duration": 492,
    "start_time": "2022-02-14T07:38:34.640Z"
   },
   {
    "duration": 25,
    "start_time": "2022-02-14T07:38:35.135Z"
   },
   {
    "duration": 385,
    "start_time": "2022-02-14T07:38:35.163Z"
   },
   {
    "duration": 11,
    "start_time": "2022-02-14T07:38:35.551Z"
   },
   {
    "duration": 423,
    "start_time": "2022-02-14T07:38:35.565Z"
   },
   {
    "duration": 6,
    "start_time": "2022-02-14T07:38:35.991Z"
   },
   {
    "duration": 12,
    "start_time": "2022-02-14T07:38:36.000Z"
   },
   {
    "duration": 64,
    "start_time": "2022-02-14T07:38:36.015Z"
   },
   {
    "duration": 12,
    "start_time": "2022-02-14T07:38:36.082Z"
   },
   {
    "duration": 12,
    "start_time": "2022-02-14T07:38:36.097Z"
   },
   {
    "duration": 53,
    "start_time": "2022-02-14T07:38:36.112Z"
   },
   {
    "duration": 14,
    "start_time": "2022-02-14T07:38:36.167Z"
   },
   {
    "duration": 14,
    "start_time": "2022-02-14T07:38:36.184Z"
   },
   {
    "duration": 13,
    "start_time": "2022-02-14T07:38:36.201Z"
   },
   {
    "duration": 13,
    "start_time": "2022-02-14T07:38:36.260Z"
   },
   {
    "duration": 13,
    "start_time": "2022-02-14T07:38:36.275Z"
   },
   {
    "duration": 12,
    "start_time": "2022-02-14T07:38:36.291Z"
   },
   {
    "duration": 14,
    "start_time": "2022-02-14T07:38:36.305Z"
   },
   {
    "duration": 54,
    "start_time": "2022-02-14T07:38:36.321Z"
   },
   {
    "duration": 5,
    "start_time": "2022-02-14T08:03:50.604Z"
   },
   {
    "duration": 9,
    "start_time": "2022-02-14T08:15:38.620Z"
   },
   {
    "duration": 6,
    "start_time": "2022-02-14T08:15:57.010Z"
   },
   {
    "duration": 6,
    "start_time": "2022-02-14T08:16:03.920Z"
   },
   {
    "duration": 6,
    "start_time": "2022-02-14T08:16:15.032Z"
   },
   {
    "duration": 7,
    "start_time": "2022-02-14T08:16:29.096Z"
   },
   {
    "duration": 12,
    "start_time": "2022-02-14T08:17:03.730Z"
   },
   {
    "duration": 9,
    "start_time": "2022-02-14T08:17:13.070Z"
   },
   {
    "duration": 10,
    "start_time": "2022-02-14T08:17:25.926Z"
   },
   {
    "duration": 10,
    "start_time": "2022-02-14T08:17:57.504Z"
   },
   {
    "duration": 1204,
    "start_time": "2022-02-15T06:30:29.268Z"
   },
   {
    "duration": 27,
    "start_time": "2022-02-15T06:30:30.474Z"
   },
   {
    "duration": 46,
    "start_time": "2022-02-15T06:30:33.179Z"
   },
   {
    "duration": 23,
    "start_time": "2022-02-15T06:30:34.473Z"
   },
   {
    "duration": 3,
    "start_time": "2022-02-15T06:30:43.163Z"
   },
   {
    "duration": 14,
    "start_time": "2022-02-15T06:30:44.613Z"
   },
   {
    "duration": 3,
    "start_time": "2022-02-15T06:31:58.149Z"
   },
   {
    "duration": 16,
    "start_time": "2022-02-15T06:33:48.721Z"
   },
   {
    "duration": 15,
    "start_time": "2022-02-15T06:33:49.792Z"
   },
   {
    "duration": 298,
    "start_time": "2022-02-15T06:40:28.804Z"
   },
   {
    "duration": 7,
    "start_time": "2022-02-15T06:40:42.595Z"
   },
   {
    "duration": 8,
    "start_time": "2022-02-15T06:40:50.265Z"
   },
   {
    "duration": 13,
    "start_time": "2022-02-15T06:41:38.957Z"
   },
   {
    "duration": 14,
    "start_time": "2022-02-15T06:41:40.893Z"
   },
   {
    "duration": 9,
    "start_time": "2022-02-15T06:42:35.304Z"
   },
   {
    "duration": 169,
    "start_time": "2022-02-15T06:42:36.309Z"
   },
   {
    "duration": 137,
    "start_time": "2022-02-15T06:42:38.480Z"
   },
   {
    "duration": 11,
    "start_time": "2022-02-15T06:42:40.534Z"
   },
   {
    "duration": 7,
    "start_time": "2022-02-15T06:42:44.598Z"
   },
   {
    "duration": 358,
    "start_time": "2022-02-15T06:42:45.864Z"
   },
   {
    "duration": 175,
    "start_time": "2022-02-15T06:42:50.231Z"
   },
   {
    "duration": 11,
    "start_time": "2022-02-15T06:43:28.539Z"
   },
   {
    "duration": 309,
    "start_time": "2022-02-15T06:43:29.358Z"
   },
   {
    "duration": 6,
    "start_time": "2022-02-15T06:43:33.058Z"
   },
   {
    "duration": 194,
    "start_time": "2022-02-15T06:43:34.117Z"
   },
   {
    "duration": 12,
    "start_time": "2022-02-15T06:43:37.244Z"
   },
   {
    "duration": 345,
    "start_time": "2022-02-15T06:43:38.209Z"
   },
   {
    "duration": 11,
    "start_time": "2022-02-15T06:43:41.699Z"
   },
   {
    "duration": 253,
    "start_time": "2022-02-15T06:43:46.676Z"
   },
   {
    "duration": 4,
    "start_time": "2022-02-15T06:43:49.621Z"
   },
   {
    "duration": 259,
    "start_time": "2022-02-15T06:43:51.980Z"
   },
   {
    "duration": 4,
    "start_time": "2022-02-15T06:43:56.105Z"
   },
   {
    "duration": 12,
    "start_time": "2022-02-15T06:44:01.795Z"
   },
   {
    "duration": 17,
    "start_time": "2022-02-15T06:44:02.968Z"
   },
   {
    "duration": 6,
    "start_time": "2022-02-15T06:44:07.136Z"
   },
   {
    "duration": 6,
    "start_time": "2022-02-15T06:44:08.123Z"
   },
   {
    "duration": 8,
    "start_time": "2022-02-15T06:44:16.440Z"
   },
   {
    "duration": 10,
    "start_time": "2022-02-15T06:44:22.013Z"
   },
   {
    "duration": 9,
    "start_time": "2022-02-15T06:44:24.974Z"
   },
   {
    "duration": 8,
    "start_time": "2022-02-15T06:44:25.900Z"
   },
   {
    "duration": 8,
    "start_time": "2022-02-15T06:44:26.541Z"
   },
   {
    "duration": 7,
    "start_time": "2022-02-15T06:44:27.212Z"
   },
   {
    "duration": 9,
    "start_time": "2022-02-15T06:44:28.081Z"
   },
   {
    "duration": 6,
    "start_time": "2022-02-15T06:44:30.070Z"
   },
   {
    "duration": 7,
    "start_time": "2022-02-15T06:48:19.131Z"
   },
   {
    "duration": 6,
    "start_time": "2022-02-15T06:48:20.201Z"
   },
   {
    "duration": 12,
    "start_time": "2022-02-15T06:54:06.563Z"
   },
   {
    "duration": 9,
    "start_time": "2022-02-15T06:54:37.909Z"
   },
   {
    "duration": 9,
    "start_time": "2022-02-15T06:54:52.505Z"
   },
   {
    "duration": 5358,
    "start_time": "2022-02-15T07:00:32.782Z"
   },
   {
    "duration": 5,
    "start_time": "2022-02-15T07:01:26.327Z"
   },
   {
    "duration": 6,
    "start_time": "2022-02-15T07:01:46.604Z"
   },
   {
    "duration": 12,
    "start_time": "2022-02-15T07:11:33.187Z"
   },
   {
    "duration": 12,
    "start_time": "2022-02-15T07:12:18.366Z"
   },
   {
    "duration": 13,
    "start_time": "2022-02-15T07:12:29.069Z"
   },
   {
    "duration": 104,
    "start_time": "2022-02-15T07:13:52.267Z"
   },
   {
    "duration": 7,
    "start_time": "2022-02-15T07:13:56.925Z"
   },
   {
    "duration": 6,
    "start_time": "2022-02-15T07:13:57.607Z"
   },
   {
    "duration": 7,
    "start_time": "2022-02-15T07:14:01.627Z"
   },
   {
    "duration": 5,
    "start_time": "2022-02-15T07:14:02.297Z"
   },
   {
    "duration": 14,
    "start_time": "2022-02-15T07:14:21.146Z"
   },
   {
    "duration": 13,
    "start_time": "2022-02-15T07:14:49.843Z"
   },
   {
    "duration": 327,
    "start_time": "2022-02-15T07:25:34.121Z"
   },
   {
    "duration": 7,
    "start_time": "2022-02-15T07:26:16.276Z"
   },
   {
    "duration": 8,
    "start_time": "2022-02-15T07:27:21.585Z"
   },
   {
    "duration": 13,
    "start_time": "2022-02-15T07:27:44.875Z"
   },
   {
    "duration": 16,
    "start_time": "2022-02-15T07:28:22.652Z"
   },
   {
    "duration": 16,
    "start_time": "2022-02-15T07:28:43.900Z"
   },
   {
    "duration": 13,
    "start_time": "2022-02-15T07:29:00.378Z"
   },
   {
    "duration": 18,
    "start_time": "2022-02-15T07:29:16.038Z"
   },
   {
    "duration": 14,
    "start_time": "2022-02-15T07:29:54.017Z"
   },
   {
    "duration": 16,
    "start_time": "2022-02-15T07:30:06.119Z"
   },
   {
    "duration": 15,
    "start_time": "2022-02-15T07:30:21.722Z"
   },
   {
    "duration": 17,
    "start_time": "2022-02-15T07:30:38.776Z"
   },
   {
    "duration": 13,
    "start_time": "2022-02-15T07:31:09.330Z"
   },
   {
    "duration": 12,
    "start_time": "2022-02-15T07:31:49.358Z"
   },
   {
    "duration": 321,
    "start_time": "2022-02-15T07:34:33.265Z"
   },
   {
    "duration": 7,
    "start_time": "2022-02-15T07:34:45.279Z"
   },
   {
    "duration": 23,
    "start_time": "2022-02-15T07:38:06.487Z"
   },
   {
    "duration": 10,
    "start_time": "2022-02-15T07:42:58.738Z"
   },
   {
    "duration": 7,
    "start_time": "2022-02-15T07:43:14.627Z"
   },
   {
    "duration": 12,
    "start_time": "2022-02-15T07:47:22.245Z"
   },
   {
    "duration": 13,
    "start_time": "2022-02-15T07:48:41.847Z"
   },
   {
    "duration": 12,
    "start_time": "2022-02-15T07:49:23.460Z"
   },
   {
    "duration": 13,
    "start_time": "2022-02-15T07:49:39.698Z"
   },
   {
    "duration": 8,
    "start_time": "2022-02-15T07:50:28.675Z"
   },
   {
    "duration": 3,
    "start_time": "2022-02-15T08:06:45.478Z"
   },
   {
    "duration": 40,
    "start_time": "2022-02-15T08:06:46.286Z"
   },
   {
    "duration": 46,
    "start_time": "2022-02-15T08:06:47.956Z"
   },
   {
    "duration": 23,
    "start_time": "2022-02-15T08:06:48.623Z"
   },
   {
    "duration": 3,
    "start_time": "2022-02-15T08:06:49.704Z"
   },
   {
    "duration": 14,
    "start_time": "2022-02-15T08:06:50.255Z"
   },
   {
    "duration": 3,
    "start_time": "2022-02-15T08:06:51.197Z"
   },
   {
    "duration": 18,
    "start_time": "2022-02-15T08:06:52.390Z"
   },
   {
    "duration": 13,
    "start_time": "2022-02-15T08:06:52.905Z"
   },
   {
    "duration": 8,
    "start_time": "2022-02-15T08:06:54.698Z"
   },
   {
    "duration": 13,
    "start_time": "2022-02-15T08:06:55.861Z"
   },
   {
    "duration": 341,
    "start_time": "2022-02-15T08:08:45.199Z"
   },
   {
    "duration": 8,
    "start_time": "2022-02-15T08:09:40.736Z"
   },
   {
    "duration": 7,
    "start_time": "2022-02-15T08:09:50.513Z"
   },
   {
    "duration": 9,
    "start_time": "2022-02-15T08:10:21.071Z"
   },
   {
    "duration": 10,
    "start_time": "2022-02-15T08:10:43.552Z"
   },
   {
    "duration": 918,
    "start_time": "2022-02-15T19:18:27.082Z"
   },
   {
    "duration": 23,
    "start_time": "2022-02-15T19:18:28.001Z"
   },
   {
    "duration": 51,
    "start_time": "2022-02-15T19:18:30.184Z"
   },
   {
    "duration": 19,
    "start_time": "2022-02-15T19:18:31.252Z"
   },
   {
    "duration": 3,
    "start_time": "2022-02-15T19:18:33.226Z"
   },
   {
    "duration": 14,
    "start_time": "2022-02-15T19:18:34.220Z"
   },
   {
    "duration": 3,
    "start_time": "2022-02-15T19:18:36.281Z"
   },
   {
    "duration": 17,
    "start_time": "2022-02-15T19:18:38.949Z"
   },
   {
    "duration": 16,
    "start_time": "2022-02-15T19:18:39.903Z"
   },
   {
    "duration": 9,
    "start_time": "2022-02-15T19:18:41.917Z"
   },
   {
    "duration": 14,
    "start_time": "2022-02-15T19:18:43.176Z"
   },
   {
    "duration": 15,
    "start_time": "2022-02-15T19:18:44.998Z"
   },
   {
    "duration": 13,
    "start_time": "2022-02-15T19:18:48.796Z"
   },
   {
    "duration": 185,
    "start_time": "2022-02-15T19:18:49.373Z"
   },
   {
    "duration": 148,
    "start_time": "2022-02-15T19:18:49.965Z"
   },
   {
    "duration": 12,
    "start_time": "2022-02-15T19:18:50.681Z"
   },
   {
    "duration": 7,
    "start_time": "2022-02-15T19:18:51.353Z"
   },
   {
    "duration": 340,
    "start_time": "2022-02-15T19:18:52.005Z"
   },
   {
    "duration": 207,
    "start_time": "2022-02-15T19:18:54.728Z"
   },
   {
    "duration": 12,
    "start_time": "2022-02-15T19:18:57.602Z"
   },
   {
    "duration": 291,
    "start_time": "2022-02-15T19:18:58.473Z"
   },
   {
    "duration": 5,
    "start_time": "2022-02-15T19:19:00.875Z"
   },
   {
    "duration": 215,
    "start_time": "2022-02-15T19:19:01.529Z"
   },
   {
    "duration": 13,
    "start_time": "2022-02-15T19:19:03.857Z"
   },
   {
    "duration": 348,
    "start_time": "2022-02-15T19:19:04.914Z"
   },
   {
    "duration": 12,
    "start_time": "2022-02-15T19:19:08.614Z"
   },
   {
    "duration": 282,
    "start_time": "2022-02-15T19:19:09.553Z"
   },
   {
    "duration": 4,
    "start_time": "2022-02-15T19:19:11.519Z"
   },
   {
    "duration": 296,
    "start_time": "2022-02-15T19:19:13.310Z"
   },
   {
    "duration": 5,
    "start_time": "2022-02-15T19:19:16.012Z"
   },
   {
    "duration": 8,
    "start_time": "2022-02-15T19:19:18.625Z"
   },
   {
    "duration": 118,
    "start_time": "2022-02-15T19:19:19.613Z"
   },
   {
    "duration": 6,
    "start_time": "2022-02-15T19:20:18.078Z"
   },
   {
    "duration": 6,
    "start_time": "2022-02-15T19:20:19.054Z"
   },
   {
    "duration": 6,
    "start_time": "2022-02-15T19:20:20.368Z"
   },
   {
    "duration": 7,
    "start_time": "2022-02-15T19:20:23.165Z"
   },
   {
    "duration": 10,
    "start_time": "2022-02-15T19:20:27.731Z"
   },
   {
    "duration": 11,
    "start_time": "2022-02-15T19:20:34.858Z"
   },
   {
    "duration": 14,
    "start_time": "2022-02-15T19:20:39.774Z"
   },
   {
    "duration": 8,
    "start_time": "2022-02-15T19:20:44.789Z"
   },
   {
    "duration": 9,
    "start_time": "2022-02-15T19:20:45.394Z"
   },
   {
    "duration": 8,
    "start_time": "2022-02-15T19:20:46.493Z"
   },
   {
    "duration": 7,
    "start_time": "2022-02-15T19:20:50.199Z"
   },
   {
    "duration": 7,
    "start_time": "2022-02-15T19:20:51.226Z"
   },
   {
    "duration": 11,
    "start_time": "2022-02-15T19:22:33.980Z"
   },
   {
    "duration": 8,
    "start_time": "2022-02-15T19:23:21.848Z"
   },
   {
    "duration": 295,
    "start_time": "2022-02-15T19:25:26.137Z"
   },
   {
    "duration": 8,
    "start_time": "2022-02-15T19:25:54.893Z"
   },
   {
    "duration": 11,
    "start_time": "2022-02-15T19:29:12.127Z"
   },
   {
    "duration": 2,
    "start_time": "2022-02-15T20:22:23.295Z"
   },
   {
    "duration": 20,
    "start_time": "2022-02-15T20:22:24.167Z"
   },
   {
    "duration": 30,
    "start_time": "2022-02-15T20:22:25.971Z"
   },
   {
    "duration": 20,
    "start_time": "2022-02-15T20:22:27.018Z"
   },
   {
    "duration": 3,
    "start_time": "2022-02-15T20:22:28.417Z"
   },
   {
    "duration": 15,
    "start_time": "2022-02-15T20:22:29.098Z"
   },
   {
    "duration": 3,
    "start_time": "2022-02-15T20:22:30.370Z"
   },
   {
    "duration": 16,
    "start_time": "2022-02-15T20:22:31.631Z"
   },
   {
    "duration": 13,
    "start_time": "2022-02-15T20:22:32.395Z"
   },
   {
    "duration": 8,
    "start_time": "2022-02-15T20:22:34.674Z"
   },
   {
    "duration": 14,
    "start_time": "2022-02-15T20:22:35.947Z"
   },
   {
    "duration": 15,
    "start_time": "2022-02-15T20:22:37.952Z"
   },
   {
    "duration": 11,
    "start_time": "2022-02-15T20:22:43.209Z"
   },
   {
    "duration": 182,
    "start_time": "2022-02-15T20:22:43.781Z"
   },
   {
    "duration": 150,
    "start_time": "2022-02-15T20:22:44.379Z"
   },
   {
    "duration": 12,
    "start_time": "2022-02-15T20:22:44.938Z"
   },
   {
    "duration": 7,
    "start_time": "2022-02-15T20:22:45.531Z"
   },
   {
    "duration": 363,
    "start_time": "2022-02-15T20:22:46.141Z"
   },
   {
    "duration": 253,
    "start_time": "2022-02-15T20:22:48.490Z"
   },
   {
    "duration": 12,
    "start_time": "2022-02-15T20:22:59.051Z"
   },
   {
    "duration": 325,
    "start_time": "2022-02-15T20:23:00.152Z"
   },
   {
    "duration": 6,
    "start_time": "2022-02-15T20:23:04.396Z"
   },
   {
    "duration": 204,
    "start_time": "2022-02-15T20:23:05.452Z"
   },
   {
    "duration": 14,
    "start_time": "2022-02-15T20:23:08.604Z"
   },
   {
    "duration": 322,
    "start_time": "2022-02-15T20:23:09.372Z"
   },
   {
    "duration": 11,
    "start_time": "2022-02-15T20:23:13.296Z"
   },
   {
    "duration": 321,
    "start_time": "2022-02-15T20:23:14.223Z"
   },
   {
    "duration": 4,
    "start_time": "2022-02-15T20:23:16.939Z"
   },
   {
    "duration": 254,
    "start_time": "2022-02-15T20:23:19.576Z"
   },
   {
    "duration": 4,
    "start_time": "2022-02-15T20:23:24.553Z"
   },
   {
    "duration": 8,
    "start_time": "2022-02-15T20:23:27.275Z"
   },
   {
    "duration": 166,
    "start_time": "2022-02-15T20:23:27.993Z"
   },
   {
    "duration": 6,
    "start_time": "2022-02-15T20:23:29.966Z"
   },
   {
    "duration": 6,
    "start_time": "2022-02-15T20:23:32.994Z"
   },
   {
    "duration": 7,
    "start_time": "2022-02-15T20:23:34.050Z"
   },
   {
    "duration": 5,
    "start_time": "2022-02-15T20:23:35.249Z"
   },
   {
    "duration": 9,
    "start_time": "2022-02-15T20:23:38.872Z"
   },
   {
    "duration": 11,
    "start_time": "2022-02-15T20:23:42.544Z"
   },
   {
    "duration": 15,
    "start_time": "2022-02-15T20:23:44.781Z"
   },
   {
    "duration": 198,
    "start_time": "2022-02-15T20:23:46.028Z"
   },
   {
    "duration": 7,
    "start_time": "2022-02-15T20:26:31.718Z"
   },
   {
    "duration": 185,
    "start_time": "2022-02-15T20:26:48.343Z"
   },
   {
    "duration": 8,
    "start_time": "2022-02-15T20:27:06.267Z"
   },
   {
    "duration": 7,
    "start_time": "2022-02-15T20:27:50.883Z"
   },
   {
    "duration": 206,
    "start_time": "2022-02-15T20:29:18.194Z"
   },
   {
    "duration": 313,
    "start_time": "2022-02-15T20:30:05.191Z"
   },
   {
    "duration": 7,
    "start_time": "2022-02-15T20:31:24.080Z"
   },
   {
    "duration": 13,
    "start_time": "2022-02-15T20:32:37.779Z"
   },
   {
    "duration": 4,
    "start_time": "2022-02-15T20:39:53.847Z"
   },
   {
    "duration": 7,
    "start_time": "2022-02-15T20:44:33.544Z"
   },
   {
    "duration": 13,
    "start_time": "2022-02-15T20:44:46.604Z"
   },
   {
    "duration": 3,
    "start_time": "2022-02-15T20:44:57.946Z"
   },
   {
    "duration": 25,
    "start_time": "2022-02-15T20:44:58.986Z"
   },
   {
    "duration": 31,
    "start_time": "2022-02-15T20:45:01.298Z"
   },
   {
    "duration": 19,
    "start_time": "2022-02-15T20:45:02.426Z"
   },
   {
    "duration": 3,
    "start_time": "2022-02-15T20:45:04.690Z"
   },
   {
    "duration": 14,
    "start_time": "2022-02-15T20:45:05.621Z"
   },
   {
    "duration": 3,
    "start_time": "2022-02-15T20:45:07.572Z"
   },
   {
    "duration": 17,
    "start_time": "2022-02-15T20:45:08.863Z"
   },
   {
    "duration": 13,
    "start_time": "2022-02-15T20:45:09.951Z"
   },
   {
    "duration": 14,
    "start_time": "2022-02-15T20:45:12.625Z"
   },
   {
    "duration": 4,
    "start_time": "2022-02-15T20:45:17.783Z"
   },
   {
    "duration": 6,
    "start_time": "2022-02-15T20:45:18.499Z"
   },
   {
    "duration": 6,
    "start_time": "2022-02-15T20:48:04.346Z"
   },
   {
    "duration": 3,
    "start_time": "2022-02-15T20:48:14.283Z"
   },
   {
    "duration": 19,
    "start_time": "2022-02-15T20:48:15.151Z"
   },
   {
    "duration": 31,
    "start_time": "2022-02-15T20:48:17.088Z"
   },
   {
    "duration": 19,
    "start_time": "2022-02-15T20:48:18.095Z"
   },
   {
    "duration": 4,
    "start_time": "2022-02-15T20:48:20.017Z"
   },
   {
    "duration": 16,
    "start_time": "2022-02-15T20:48:20.800Z"
   },
   {
    "duration": 3,
    "start_time": "2022-02-15T20:48:22.351Z"
   },
   {
    "duration": 16,
    "start_time": "2022-02-15T20:48:23.659Z"
   },
   {
    "duration": 14,
    "start_time": "2022-02-15T20:48:24.592Z"
   },
   {
    "duration": 14,
    "start_time": "2022-02-15T20:48:26.954Z"
   },
   {
    "duration": 4,
    "start_time": "2022-02-15T20:48:28.033Z"
   },
   {
    "duration": 7,
    "start_time": "2022-02-15T20:48:29.342Z"
   },
   {
    "duration": 2,
    "start_time": "2022-02-15T20:49:11.348Z"
   },
   {
    "duration": 20,
    "start_time": "2022-02-15T20:49:12.203Z"
   },
   {
    "duration": 31,
    "start_time": "2022-02-15T20:49:15.846Z"
   },
   {
    "duration": 20,
    "start_time": "2022-02-15T20:49:16.876Z"
   },
   {
    "duration": 3,
    "start_time": "2022-02-15T20:49:19.019Z"
   },
   {
    "duration": 16,
    "start_time": "2022-02-15T20:49:20.069Z"
   },
   {
    "duration": 3,
    "start_time": "2022-02-15T20:49:22.495Z"
   },
   {
    "duration": 17,
    "start_time": "2022-02-15T20:49:24.138Z"
   },
   {
    "duration": 15,
    "start_time": "2022-02-15T20:49:25.133Z"
   },
   {
    "duration": 15,
    "start_time": "2022-02-15T20:49:28.014Z"
   },
   {
    "duration": 4,
    "start_time": "2022-02-15T20:49:29.037Z"
   },
   {
    "duration": 7,
    "start_time": "2022-02-15T20:49:34.551Z"
   },
   {
    "duration": 8,
    "start_time": "2022-02-15T21:00:39.323Z"
   },
   {
    "duration": 7,
    "start_time": "2022-02-15T21:00:57.037Z"
   },
   {
    "duration": 8,
    "start_time": "2022-02-15T21:00:58.409Z"
   },
   {
    "duration": 3,
    "start_time": "2022-02-15T21:01:07.358Z"
   },
   {
    "duration": 21,
    "start_time": "2022-02-15T21:01:08.438Z"
   },
   {
    "duration": 30,
    "start_time": "2022-02-15T21:01:10.382Z"
   },
   {
    "duration": 19,
    "start_time": "2022-02-15T21:01:11.518Z"
   },
   {
    "duration": 3,
    "start_time": "2022-02-15T21:01:13.008Z"
   },
   {
    "duration": 15,
    "start_time": "2022-02-15T21:01:13.669Z"
   },
   {
    "duration": 3,
    "start_time": "2022-02-15T21:01:15.542Z"
   },
   {
    "duration": 17,
    "start_time": "2022-02-15T21:01:16.839Z"
   },
   {
    "duration": 16,
    "start_time": "2022-02-15T21:01:18.105Z"
   },
   {
    "duration": 14,
    "start_time": "2022-02-15T21:01:20.488Z"
   },
   {
    "duration": 4,
    "start_time": "2022-02-15T21:01:24.333Z"
   },
   {
    "duration": 7,
    "start_time": "2022-02-15T21:01:25.296Z"
   },
   {
    "duration": 15,
    "start_time": "2022-02-15T21:01:27.391Z"
   },
   {
    "duration": 11,
    "start_time": "2022-02-15T21:02:11.404Z"
   },
   {
    "duration": 14,
    "start_time": "2022-02-15T21:02:38.411Z"
   },
   {
    "duration": 16,
    "start_time": "2022-02-15T21:04:17.358Z"
   },
   {
    "duration": 3,
    "start_time": "2022-02-15T21:05:15.766Z"
   },
   {
    "duration": 19,
    "start_time": "2022-02-15T21:05:16.759Z"
   },
   {
    "duration": 30,
    "start_time": "2022-02-15T21:05:18.893Z"
   },
   {
    "duration": 19,
    "start_time": "2022-02-15T21:05:19.901Z"
   },
   {
    "duration": 3,
    "start_time": "2022-02-15T21:05:21.848Z"
   },
   {
    "duration": 14,
    "start_time": "2022-02-15T21:05:22.839Z"
   },
   {
    "duration": 3,
    "start_time": "2022-02-15T21:05:24.967Z"
   },
   {
    "duration": 17,
    "start_time": "2022-02-15T21:05:26.944Z"
   },
   {
    "duration": 16,
    "start_time": "2022-02-15T21:05:27.952Z"
   },
   {
    "duration": 15,
    "start_time": "2022-02-15T21:05:30.077Z"
   },
   {
    "duration": 4,
    "start_time": "2022-02-15T21:05:31.296Z"
   },
   {
    "duration": 7,
    "start_time": "2022-02-15T21:05:33.449Z"
   },
   {
    "duration": 14,
    "start_time": "2022-02-15T21:05:48.036Z"
   },
   {
    "duration": 14,
    "start_time": "2022-02-15T21:05:50.149Z"
   },
   {
    "duration": 10,
    "start_time": "2022-02-15T21:05:55.111Z"
   },
   {
    "duration": 186,
    "start_time": "2022-02-15T21:05:55.879Z"
   },
   {
    "duration": 147,
    "start_time": "2022-02-15T21:05:56.538Z"
   },
   {
    "duration": 12,
    "start_time": "2022-02-15T21:05:57.340Z"
   },
   {
    "duration": 9,
    "start_time": "2022-02-15T21:05:58.106Z"
   },
   {
    "duration": 346,
    "start_time": "2022-02-15T21:05:58.871Z"
   },
   {
    "duration": 205,
    "start_time": "2022-02-15T21:06:01.127Z"
   },
   {
    "duration": 11,
    "start_time": "2022-02-15T21:06:03.422Z"
   },
   {
    "duration": 270,
    "start_time": "2022-02-15T21:06:04.185Z"
   },
   {
    "duration": 6,
    "start_time": "2022-02-15T21:06:06.284Z"
   },
   {
    "duration": 196,
    "start_time": "2022-02-15T21:06:07.040Z"
   },
   {
    "duration": 13,
    "start_time": "2022-02-15T21:06:09.950Z"
   },
   {
    "duration": 322,
    "start_time": "2022-02-15T21:06:10.743Z"
   },
   {
    "duration": 11,
    "start_time": "2022-02-15T21:06:13.889Z"
   },
   {
    "duration": 455,
    "start_time": "2022-02-15T21:06:14.634Z"
   },
   {
    "duration": 4,
    "start_time": "2022-02-15T21:06:16.960Z"
   },
   {
    "duration": 268,
    "start_time": "2022-02-15T21:06:24.794Z"
   },
   {
    "duration": 4,
    "start_time": "2022-02-15T21:06:27.461Z"
   },
   {
    "duration": 9,
    "start_time": "2022-02-15T21:06:30.420Z"
   },
   {
    "duration": 108,
    "start_time": "2022-02-15T21:06:31.318Z"
   },
   {
    "duration": 7,
    "start_time": "2022-02-15T21:06:32.406Z"
   },
   {
    "duration": 5,
    "start_time": "2022-02-15T21:06:33.149Z"
   },
   {
    "duration": 7,
    "start_time": "2022-02-15T21:08:37.872Z"
   },
   {
    "duration": 5,
    "start_time": "2022-02-15T21:08:40.679Z"
   },
   {
    "duration": 8,
    "start_time": "2022-02-15T21:08:51.133Z"
   },
   {
    "duration": 10,
    "start_time": "2022-02-15T21:08:59.075Z"
   },
   {
    "duration": 13,
    "start_time": "2022-02-15T21:09:06.301Z"
   },
   {
    "duration": 8,
    "start_time": "2022-02-15T21:09:07.767Z"
   },
   {
    "duration": 8,
    "start_time": "2022-02-15T21:09:08.437Z"
   },
   {
    "duration": 8,
    "start_time": "2022-02-15T21:09:10.106Z"
   },
   {
    "duration": 7,
    "start_time": "2022-02-15T21:09:11.533Z"
   },
   {
    "duration": 7,
    "start_time": "2022-02-15T21:09:18.299Z"
   },
   {
    "duration": 13,
    "start_time": "2022-02-15T21:09:25.808Z"
   },
   {
    "duration": 1052,
    "start_time": "2022-02-16T00:58:00.051Z"
   },
   {
    "duration": 66,
    "start_time": "2022-02-16T00:58:01.104Z"
   },
   {
    "duration": 71,
    "start_time": "2022-02-16T00:58:02.978Z"
   },
   {
    "duration": 48,
    "start_time": "2022-02-16T00:58:03.942Z"
   },
   {
    "duration": 3,
    "start_time": "2022-02-16T00:58:05.418Z"
   },
   {
    "duration": 14,
    "start_time": "2022-02-16T00:58:06.159Z"
   },
   {
    "duration": 3,
    "start_time": "2022-02-16T00:58:07.922Z"
   },
   {
    "duration": 16,
    "start_time": "2022-02-16T00:58:10.195Z"
   },
   {
    "duration": 13,
    "start_time": "2022-02-16T00:58:11.056Z"
   },
   {
    "duration": 16,
    "start_time": "2022-02-16T01:04:46.654Z"
   },
   {
    "duration": 5,
    "start_time": "2022-02-16T01:04:49.037Z"
   },
   {
    "duration": 13,
    "start_time": "2022-02-16T01:04:58.084Z"
   },
   {
    "duration": 14,
    "start_time": "2022-02-16T01:05:10.189Z"
   },
   {
    "duration": 14,
    "start_time": "2022-02-16T01:05:12.207Z"
   },
   {
    "duration": 10,
    "start_time": "2022-02-16T01:05:19.357Z"
   },
   {
    "duration": 174,
    "start_time": "2022-02-16T01:05:21.018Z"
   },
   {
    "duration": 146,
    "start_time": "2022-02-16T01:05:21.990Z"
   },
   {
    "duration": 11,
    "start_time": "2022-02-16T01:05:24.290Z"
   },
   {
    "duration": 6,
    "start_time": "2022-02-16T01:05:25.879Z"
   },
   {
    "duration": 319,
    "start_time": "2022-02-16T01:05:26.885Z"
   },
   {
    "duration": 186,
    "start_time": "2022-02-16T01:05:30.697Z"
   },
   {
    "duration": 12,
    "start_time": "2022-02-16T01:05:33.826Z"
   },
   {
    "duration": 292,
    "start_time": "2022-02-16T01:05:34.555Z"
   },
   {
    "duration": 6,
    "start_time": "2022-02-16T01:05:36.995Z"
   },
   {
    "duration": 179,
    "start_time": "2022-02-16T01:05:37.746Z"
   },
   {
    "duration": 13,
    "start_time": "2022-02-16T01:05:41.109Z"
   },
   {
    "duration": 295,
    "start_time": "2022-02-16T01:05:42.197Z"
   },
   {
    "duration": 11,
    "start_time": "2022-02-16T01:05:45.594Z"
   },
   {
    "duration": 270,
    "start_time": "2022-02-16T01:05:46.452Z"
   },
   {
    "duration": 293,
    "start_time": "2022-02-16T01:11:07.016Z"
   },
   {
    "duration": 4,
    "start_time": "2022-02-16T01:12:42.442Z"
   },
   {
    "duration": 8,
    "start_time": "2022-02-16T01:22:51.813Z"
   },
   {
    "duration": 114,
    "start_time": "2022-02-16T01:22:52.730Z"
   },
   {
    "duration": 6,
    "start_time": "2022-02-16T01:22:54.091Z"
   },
   {
    "duration": 6,
    "start_time": "2022-02-16T01:22:55.477Z"
   },
   {
    "duration": 6,
    "start_time": "2022-02-16T01:22:56.734Z"
   },
   {
    "duration": 6,
    "start_time": "2022-02-16T01:22:59.917Z"
   },
   {
    "duration": 8,
    "start_time": "2022-02-16T01:23:03.470Z"
   },
   {
    "duration": 9,
    "start_time": "2022-02-16T01:23:08.470Z"
   },
   {
    "duration": 12,
    "start_time": "2022-02-16T01:23:20.264Z"
   },
   {
    "duration": 9,
    "start_time": "2022-02-16T01:23:30.996Z"
   },
   {
    "duration": 10,
    "start_time": "2022-02-16T01:23:38.632Z"
   },
   {
    "duration": 7,
    "start_time": "2022-02-16T01:23:43.166Z"
   },
   {
    "duration": 6,
    "start_time": "2022-02-16T01:23:47.988Z"
   },
   {
    "duration": 13,
    "start_time": "2022-02-16T01:24:23.100Z"
   },
   {
    "duration": 12,
    "start_time": "2022-02-16T01:25:28.598Z"
   },
   {
    "duration": 12,
    "start_time": "2022-02-16T01:25:45.619Z"
   },
   {
    "duration": 7,
    "start_time": "2022-02-16T01:26:13.143Z"
   },
   {
    "duration": 1566,
    "start_time": "2022-02-16T03:36:07.090Z"
   },
   {
    "duration": 51,
    "start_time": "2022-02-16T03:36:08.896Z"
   },
   {
    "duration": 85,
    "start_time": "2022-02-16T03:36:11.008Z"
   },
   {
    "duration": 31,
    "start_time": "2022-02-16T03:36:12.081Z"
   },
   {
    "duration": 5,
    "start_time": "2022-02-16T03:36:14.175Z"
   },
   {
    "duration": 23,
    "start_time": "2022-02-16T03:36:15.236Z"
   },
   {
    "duration": 5,
    "start_time": "2022-02-16T03:36:17.730Z"
   },
   {
    "duration": 27,
    "start_time": "2022-02-16T03:36:19.596Z"
   },
   {
    "duration": 23,
    "start_time": "2022-02-16T03:36:20.589Z"
   },
   {
    "duration": 25,
    "start_time": "2022-02-16T03:36:25.454Z"
   },
   {
    "duration": 21,
    "start_time": "2022-02-16T03:36:26.766Z"
   },
   {
    "duration": 22,
    "start_time": "2022-02-16T03:36:31.250Z"
   },
   {
    "duration": 23,
    "start_time": "2022-02-16T03:36:35.335Z"
   },
   {
    "duration": 20,
    "start_time": "2022-02-16T03:36:41.471Z"
   },
   {
    "duration": 322,
    "start_time": "2022-02-16T03:36:42.424Z"
   },
   {
    "duration": 270,
    "start_time": "2022-02-16T03:36:43.527Z"
   },
   {
    "duration": 18,
    "start_time": "2022-02-16T03:36:44.336Z"
   },
   {
    "duration": 11,
    "start_time": "2022-02-16T03:36:45.130Z"
   },
   {
    "duration": 505,
    "start_time": "2022-02-16T03:36:45.896Z"
   },
   {
    "duration": 329,
    "start_time": "2022-02-16T03:36:48.872Z"
   },
   {
    "duration": 26,
    "start_time": "2022-02-16T03:36:51.560Z"
   },
   {
    "duration": 466,
    "start_time": "2022-02-16T03:36:52.264Z"
   },
   {
    "duration": 9,
    "start_time": "2022-02-16T03:36:55.077Z"
   },
   {
    "duration": 324,
    "start_time": "2022-02-16T03:36:55.978Z"
   },
   {
    "duration": 20,
    "start_time": "2022-02-16T03:36:58.689Z"
   },
   {
    "duration": 484,
    "start_time": "2022-02-16T03:36:59.490Z"
   },
   {
    "duration": 17,
    "start_time": "2022-02-16T03:37:02.788Z"
   },
   {
    "duration": 434,
    "start_time": "2022-02-16T03:37:03.778Z"
   },
   {
    "duration": 7,
    "start_time": "2022-02-16T03:37:06.547Z"
   },
   {
    "duration": 435,
    "start_time": "2022-02-16T03:37:09.780Z"
   },
   {
    "duration": 5,
    "start_time": "2022-02-16T03:37:13.635Z"
   },
   {
    "duration": 12,
    "start_time": "2022-02-16T03:37:29.318Z"
   },
   {
    "duration": 189,
    "start_time": "2022-02-16T03:37:30.425Z"
   },
   {
    "duration": 10,
    "start_time": "2022-02-16T03:37:31.750Z"
   },
   {
    "duration": 8,
    "start_time": "2022-02-16T03:37:32.735Z"
   },
   {
    "duration": 10,
    "start_time": "2022-02-16T03:37:36.153Z"
   },
   {
    "duration": 8,
    "start_time": "2022-02-16T03:37:37.366Z"
   },
   {
    "duration": 11,
    "start_time": "2022-02-16T03:37:51.035Z"
   },
   {
    "duration": 14,
    "start_time": "2022-02-16T03:38:05.582Z"
   },
   {
    "duration": 28,
    "start_time": "2022-02-16T03:38:08.296Z"
   },
   {
    "duration": 13,
    "start_time": "2022-02-16T03:38:09.288Z"
   },
   {
    "duration": 13,
    "start_time": "2022-02-16T03:38:15.234Z"
   },
   {
    "duration": 11,
    "start_time": "2022-02-16T03:38:16.281Z"
   },
   {
    "duration": 10,
    "start_time": "2022-02-16T03:38:17.207Z"
   },
   {
    "duration": 27,
    "start_time": "2022-02-16T03:38:18.220Z"
   },
   {
    "duration": 20,
    "start_time": "2022-02-16T03:38:55.475Z"
   },
   {
    "duration": 11,
    "start_time": "2022-02-16T03:39:02.819Z"
   },
   {
    "duration": 20,
    "start_time": "2022-02-16T03:39:33.274Z"
   },
   {
    "duration": 5,
    "start_time": "2022-02-16T05:55:47.412Z"
   },
   {
    "duration": 1591,
    "start_time": "2022-02-16T05:55:51.430Z"
   },
   {
    "duration": 4,
    "start_time": "2022-02-16T05:56:12.735Z"
   },
   {
    "duration": 44,
    "start_time": "2022-02-16T05:56:13.567Z"
   },
   {
    "duration": 56,
    "start_time": "2022-02-16T05:56:15.691Z"
   },
   {
    "duration": 31,
    "start_time": "2022-02-16T05:56:16.794Z"
   },
   {
    "duration": 4,
    "start_time": "2022-02-16T05:56:19.009Z"
   },
   {
    "duration": 22,
    "start_time": "2022-02-16T05:56:19.913Z"
   },
   {
    "duration": 4,
    "start_time": "2022-02-16T05:57:18.956Z"
   },
   {
    "duration": 43,
    "start_time": "2022-02-16T05:57:19.817Z"
   },
   {
    "duration": 54,
    "start_time": "2022-02-16T05:57:21.733Z"
   },
   {
    "duration": 30,
    "start_time": "2022-02-16T05:57:22.635Z"
   },
   {
    "duration": 5,
    "start_time": "2022-02-16T05:57:24.439Z"
   },
   {
    "duration": 23,
    "start_time": "2022-02-16T05:57:25.382Z"
   },
   {
    "duration": 4,
    "start_time": "2022-02-16T05:57:47.652Z"
   },
   {
    "duration": 26,
    "start_time": "2022-02-16T05:57:50.582Z"
   },
   {
    "duration": 23,
    "start_time": "2022-02-16T05:57:52.146Z"
   },
   {
    "duration": 21,
    "start_time": "2022-02-16T05:58:03.922Z"
   },
   {
    "duration": 23,
    "start_time": "2022-02-16T05:58:05.036Z"
   },
   {
    "duration": 21,
    "start_time": "2022-02-16T05:58:09.846Z"
   },
   {
    "duration": 24,
    "start_time": "2022-02-16T05:58:17.888Z"
   },
   {
    "duration": 16,
    "start_time": "2022-02-16T05:58:26.931Z"
   },
   {
    "duration": 318,
    "start_time": "2022-02-16T05:58:27.858Z"
   },
   {
    "duration": 266,
    "start_time": "2022-02-16T05:58:29.157Z"
   },
   {
    "duration": 18,
    "start_time": "2022-02-16T05:58:30.958Z"
   },
   {
    "duration": 10,
    "start_time": "2022-02-16T05:58:32.057Z"
   },
   {
    "duration": 475,
    "start_time": "2022-02-16T05:58:35.433Z"
   },
   {
    "duration": 396,
    "start_time": "2022-02-16T05:58:38.502Z"
   },
   {
    "duration": 17,
    "start_time": "2022-02-16T05:58:43.366Z"
   },
   {
    "duration": 430,
    "start_time": "2022-02-16T05:58:45.234Z"
   },
   {
    "duration": 11,
    "start_time": "2022-02-16T05:58:48.349Z"
   },
   {
    "duration": 338,
    "start_time": "2022-02-16T05:58:49.013Z"
   },
   {
    "duration": 20,
    "start_time": "2022-02-16T05:58:51.711Z"
   },
   {
    "duration": 529,
    "start_time": "2022-02-16T05:58:52.654Z"
   },
   {
    "duration": 18,
    "start_time": "2022-02-16T05:58:56.473Z"
   },
   {
    "duration": 406,
    "start_time": "2022-02-16T05:58:57.541Z"
   },
   {
    "duration": 6,
    "start_time": "2022-02-16T05:59:00.982Z"
   },
   {
    "duration": 380,
    "start_time": "2022-02-16T05:59:06.834Z"
   },
   {
    "duration": 7,
    "start_time": "2022-02-16T05:59:10.819Z"
   },
   {
    "duration": 12,
    "start_time": "2022-02-16T05:59:18.375Z"
   },
   {
    "duration": 231,
    "start_time": "2022-02-16T05:59:19.345Z"
   },
   {
    "duration": 9,
    "start_time": "2022-02-16T05:59:23.153Z"
   },
   {
    "duration": 9,
    "start_time": "2022-02-16T05:59:23.794Z"
   },
   {
    "duration": 9,
    "start_time": "2022-02-16T05:59:25.244Z"
   },
   {
    "duration": 10,
    "start_time": "2022-02-16T05:59:28.153Z"
   },
   {
    "duration": 12,
    "start_time": "2022-02-16T05:59:59.992Z"
   },
   {
    "duration": 9,
    "start_time": "2022-02-16T06:00:23.507Z"
   },
   {
    "duration": 10,
    "start_time": "2022-02-16T06:00:59.578Z"
   },
   {
    "duration": 18,
    "start_time": "2022-02-16T06:01:10.560Z"
   },
   {
    "duration": 15,
    "start_time": "2022-02-16T06:01:35.168Z"
   },
   {
    "duration": 9,
    "start_time": "2022-02-16T06:02:08.312Z"
   },
   {
    "duration": 14,
    "start_time": "2022-02-16T06:02:12.160Z"
   },
   {
    "duration": 403,
    "start_time": "2022-02-16T06:02:58.602Z"
   },
   {
    "duration": 20,
    "start_time": "2022-02-16T06:03:14.060Z"
   },
   {
    "duration": 14,
    "start_time": "2022-02-16T06:03:44.565Z"
   },
   {
    "duration": 13,
    "start_time": "2022-02-16T06:04:28.202Z"
   },
   {
    "duration": 13,
    "start_time": "2022-02-16T06:04:49.966Z"
   },
   {
    "duration": 22,
    "start_time": "2022-02-16T06:05:18.709Z"
   },
   {
    "duration": 10,
    "start_time": "2022-02-16T06:05:52.980Z"
   },
   {
    "duration": 9,
    "start_time": "2022-02-16T06:07:35.855Z"
   },
   {
    "duration": 22,
    "start_time": "2022-02-16T06:08:27.648Z"
   },
   {
    "duration": 32,
    "start_time": "2022-02-16T06:19:05.465Z"
   },
   {
    "duration": 56,
    "start_time": "2022-02-16T06:19:23.062Z"
   },
   {
    "duration": 33,
    "start_time": "2022-02-16T06:19:33.238Z"
   },
   {
    "duration": 1149,
    "start_time": "2022-02-17T03:12:14.540Z"
   },
   {
    "duration": 41,
    "start_time": "2022-02-17T03:12:15.691Z"
   },
   {
    "duration": 62,
    "start_time": "2022-02-17T03:12:15.735Z"
   },
   {
    "duration": 26,
    "start_time": "2022-02-17T03:12:15.799Z"
   },
   {
    "duration": 4,
    "start_time": "2022-02-17T03:12:15.826Z"
   },
   {
    "duration": 19,
    "start_time": "2022-02-17T03:12:15.832Z"
   },
   {
    "duration": 17,
    "start_time": "2022-02-17T03:12:15.853Z"
   },
   {
    "duration": 25,
    "start_time": "2022-02-17T03:12:15.872Z"
   },
   {
    "duration": 16,
    "start_time": "2022-02-17T03:12:15.899Z"
   },
   {
    "duration": 20,
    "start_time": "2022-02-17T03:12:15.917Z"
   },
   {
    "duration": 42,
    "start_time": "2022-02-17T03:12:15.939Z"
   },
   {
    "duration": 21,
    "start_time": "2022-02-17T03:12:15.983Z"
   },
   {
    "duration": 24,
    "start_time": "2022-02-17T03:12:16.006Z"
   },
   {
    "duration": 12,
    "start_time": "2022-02-17T03:12:16.032Z"
   },
   {
    "duration": 218,
    "start_time": "2022-02-17T03:12:16.070Z"
   },
   {
    "duration": 180,
    "start_time": "2022-02-17T03:12:16.289Z"
   },
   {
    "duration": 13,
    "start_time": "2022-02-17T03:12:16.470Z"
   },
   {
    "duration": 8,
    "start_time": "2022-02-17T03:12:16.485Z"
   },
   {
    "duration": 434,
    "start_time": "2022-02-17T03:12:16.495Z"
   },
   {
    "duration": 267,
    "start_time": "2022-02-17T03:12:16.930Z"
   },
   {
    "duration": 13,
    "start_time": "2022-02-17T03:12:17.199Z"
   },
   {
    "duration": 355,
    "start_time": "2022-02-17T03:12:17.214Z"
   },
   {
    "duration": 7,
    "start_time": "2022-02-17T03:12:17.572Z"
   },
   {
    "duration": 275,
    "start_time": "2022-02-17T03:12:17.581Z"
   },
   {
    "duration": 17,
    "start_time": "2022-02-17T03:12:17.858Z"
   },
   {
    "duration": 380,
    "start_time": "2022-02-17T03:12:17.877Z"
   },
   {
    "duration": 15,
    "start_time": "2022-02-17T03:12:18.259Z"
   },
   {
    "duration": 359,
    "start_time": "2022-02-17T03:12:18.276Z"
   },
   {
    "duration": 4,
    "start_time": "2022-02-17T03:12:18.637Z"
   },
   {
    "duration": 360,
    "start_time": "2022-02-17T03:12:18.643Z"
   },
   {
    "duration": 4,
    "start_time": "2022-02-17T03:12:19.005Z"
   },
   {
    "duration": 11,
    "start_time": "2022-02-17T03:12:19.010Z"
   },
   {
    "duration": 186,
    "start_time": "2022-02-17T03:12:19.023Z"
   },
   {
    "duration": 8,
    "start_time": "2022-02-17T03:12:19.212Z"
   },
   {
    "duration": 15,
    "start_time": "2022-02-17T03:12:19.222Z"
   },
   {
    "duration": 13,
    "start_time": "2022-02-17T03:12:19.240Z"
   },
   {
    "duration": 8,
    "start_time": "2022-02-17T03:12:19.270Z"
   },
   {
    "duration": 11,
    "start_time": "2022-02-17T03:12:19.280Z"
   },
   {
    "duration": 13,
    "start_time": "2022-02-17T03:12:19.294Z"
   },
   {
    "duration": 16,
    "start_time": "2022-02-17T03:12:19.310Z"
   },
   {
    "duration": 52,
    "start_time": "2022-02-17T03:12:19.328Z"
   },
   {
    "duration": 20,
    "start_time": "2022-02-17T03:12:19.382Z"
   },
   {
    "duration": 14,
    "start_time": "2022-02-17T03:12:19.404Z"
   },
   {
    "duration": 11,
    "start_time": "2022-02-17T03:12:19.420Z"
   },
   {
    "duration": 46,
    "start_time": "2022-02-17T03:12:19.433Z"
   },
   {
    "duration": 10,
    "start_time": "2022-02-17T03:12:19.481Z"
   },
   {
    "duration": 9,
    "start_time": "2022-02-17T03:12:19.494Z"
   },
   {
    "duration": 8,
    "start_time": "2022-02-17T03:12:19.505Z"
   },
   {
    "duration": 59,
    "start_time": "2022-02-17T03:12:19.515Z"
   },
   {
    "duration": 18,
    "start_time": "2022-02-17T03:33:52.448Z"
   },
   {
    "duration": 16,
    "start_time": "2022-02-17T03:34:18.250Z"
   },
   {
    "duration": 437,
    "start_time": "2022-02-17T03:35:24.430Z"
   },
   {
    "duration": 18,
    "start_time": "2022-02-17T03:35:27.294Z"
   },
   {
    "duration": 1806,
    "start_time": "2022-02-17T03:35:47.806Z"
   },
   {
    "duration": 22,
    "start_time": "2022-02-17T03:36:29.598Z"
   },
   {
    "duration": 92,
    "start_time": "2022-02-17T03:37:05.227Z"
   },
   {
    "duration": 24,
    "start_time": "2022-02-17T03:37:12.276Z"
   },
   {
    "duration": 25,
    "start_time": "2022-02-17T03:37:55.725Z"
   },
   {
    "duration": 249,
    "start_time": "2022-02-17T03:39:20.623Z"
   },
   {
    "duration": 259,
    "start_time": "2022-02-17T03:39:30.007Z"
   },
   {
    "duration": 342,
    "start_time": "2022-02-17T03:39:34.050Z"
   },
   {
    "duration": 431,
    "start_time": "2022-02-17T03:41:23.977Z"
   },
   {
    "duration": 436,
    "start_time": "2022-02-17T03:41:30.093Z"
   },
   {
    "duration": 448,
    "start_time": "2022-02-17T03:41:47.131Z"
   },
   {
    "duration": 423,
    "start_time": "2022-02-17T03:41:54.149Z"
   },
   {
    "duration": 426,
    "start_time": "2022-02-17T03:41:58.576Z"
   },
   {
    "duration": 484,
    "start_time": "2022-02-17T03:42:04.821Z"
   },
   {
    "duration": 493,
    "start_time": "2022-02-17T03:42:27.288Z"
   }
  ],
  "kernelspec": {
   "display_name": "Python 3",
   "language": "python",
   "name": "python3"
  },
  "language_info": {
   "codemirror_mode": {
    "name": "ipython",
    "version": 3
   },
   "file_extension": ".py",
   "mimetype": "text/x-python",
   "name": "python",
   "nbconvert_exporter": "python",
   "pygments_lexer": "ipython3",
   "version": "3.8.8"
  },
  "toc": {
   "base_numbering": 1,
   "nav_menu": {},
   "number_sections": true,
   "sideBar": true,
   "skip_h1_title": true,
   "title_cell": "Table of Contents",
   "title_sidebar": "Contents",
   "toc_cell": false,
   "toc_position": {},
   "toc_section_display": true,
   "toc_window_display": false
  }
 },
 "nbformat": 4,
 "nbformat_minor": 2
}
